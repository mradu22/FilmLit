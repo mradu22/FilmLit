{
 "cells": [
  {
   "cell_type": "code",
   "execution_count": 30,
   "metadata": {},
   "outputs": [],
   "source": [
    "import csv\n",
    "import os\n",
    "import string\n",
    " \n",
    "filePath = \"./\"\n",
    "dirList = os.listdir(filePath)\n",
    " \n",
    "for filename in dirList:\n",
    "        timestamps = [\"timestamp\"] #the complete timestamp of each subtitle\n",
    "        timeStarts = [\"start time\"] #when each subtitle appears on screen\n",
    "        timeEnds = [\"end time\"] #when each subtitle is removed from the screen\n",
    "        subtitleIndices = [\"index\"]\n",
    "        utterances = [\"utterance\"]\n",
    "        extension = str(os.path.splitext(filename)[1])\n",
    "        root = str(os.path.splitext(filename)[0])\n",
    "        if extension != \".srt\": #skip files other than subtitle files\n",
    "                continue\n",
    "        currentFile = open(filename)\n",
    "        prevLineWasUtt = False #was the most recent line looked at an utterance?\n",
    "        for line in currentFile: #populate the lists that will be put in the csv\n",
    "                line = line.strip() #get rid of whitespace characters on end of line\n",
    "                if line.find(\"-\") == 0: #prevents Excel from viewing entry as formula\n",
    "                        line = \"\\'\" + line\n",
    "                if line.isdigit():\n",
    "                        subtitleIndices.append(line)\n",
    "                elif \"-->\" in line:\n",
    "                        timestamps.append(line)\n",
    "                        timeStarts.append(line[:8])\n",
    "                        timeEnds.append(line[17:25])\n",
    "                elif len(line) > 1:\n",
    "                        if prevLineWasUtt:\n",
    "                                utterances[len(utterances)-1] = utterances[len(utterances)-1] + \" \" + line\n",
    "                        else:\n",
    "                                utterances.append(line)\n",
    "                        prevLineWasUtt = True\n",
    "                        continue\n",
    "                prevLineWasUtt = False         \n",
    "        #put all the lists in a csv file with the same name as the subtitle file\n",
    "        csvWriter = csv.writer(open(root + \".csv\",'w'), dialect = 'excel')\n",
    "        csvWriter.writerows([subtitleIndices, timestamps, timeStarts, timeEnds, utterances])"
   ]
  },
  {
   "cell_type": "code",
   "execution_count": 10,
   "metadata": {},
   "outputs": [],
   "source": []
  }
 ],
 "metadata": {
  "kernelspec": {
   "display_name": "Python 3",
   "language": "python",
   "name": "python3"
  },
  "language_info": {
   "codemirror_mode": {
    "name": "ipython",
    "version": 3
   },
   "file_extension": ".py",
   "mimetype": "text/x-python",
   "name": "python",
   "nbconvert_exporter": "python",
   "pygments_lexer": "ipython3",
   "version": "3.6.2"
  }
 },
 "nbformat": 4,
 "nbformat_minor": 2
}
