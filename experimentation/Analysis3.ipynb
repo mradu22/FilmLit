{
 "cells": [
  {
   "cell_type": "code",
   "execution_count": null,
   "metadata": {
    "collapsed": true
   },
   "outputs": [],
   "source": [
    "import omdb\n",
    "import pandas as pd\n",
    "import urllib.request, urllib.parse, urllib.error\n",
    "import json\n",
    "import csv\n",
    "import time\n",
    "import os\n",
    "import itertools\n",
    "import numpy as np\n",
    "import pandas as pd\n",
    "import matplotlib.pyplot as plt\n",
    "from matplotlib import style\n",
    "style.use('ggplot')\n",
    "from sklearn import datasets, linear_model\n",
    "from scipy import special, optimize\n",
    "import numpy as np\n",
    "from scipy.optimize import curve_fit\n",
    "\n",
    "lrom=['0120338','0099653','0100405','1000774']\n",
    "lact=['1300854','1074638','0468569','2488496','2975590']\n",
    "lhor=['0070047','0298130','0816711','0289765']\n",
    "lfam=['2294629','2293640','2277860','3469046','0110357']\n",
    "ldra=['0120338','2322441','0109830','0398808','0119643']\n",
    "\n",
    "roms=pd.read_hdf('RomDB.h5', 'key')\n",
    "acts=pd.read_hdf('ActDB.h5', 'key')\n",
    "dras=pd.read_hdf('DraDB.h5', 'key')\n",
    "hors=pd.read_hdf('HorDB.h5', 'key')\n",
    "fams=pd.read_hdf('FamDB.h5', 'key')\n",
    "\n",
    "\n",
    "movdb=pd.read_hdf('movbaseA.h5', 'imdb_id')\n",
    "movdb=movdb.reset_index()\n",
    "\n"
   ]
  },
  {
   "cell_type": "code",
   "execution_count": 12,
   "metadata": {
    "collapsed": true
   },
   "outputs": [],
   "source": [
    "test={'1300854':acts['1300854'],'1074638':acts['1074638'],'0468569':acts['0468569'],'2488496':acts['2488496']}\n",
    "acts=pd.Panel(test)"
   ]
  },
  {
   "cell_type": "code",
   "execution_count": 13,
   "metadata": {
    "collapsed": true
   },
   "outputs": [],
   "source": [
    "roms.dropna(axis=1, inplace=True)\n",
    "acts.dropna(axis=1, inplace=True)\n",
    "dras.dropna(axis=1, inplace=True)\n",
    "fams.dropna(axis=1, inplace=True)\n",
    "hors.dropna(axis=1, inplace=True)\n"
   ]
  },
  {
   "cell_type": "code",
   "execution_count": 77,
   "metadata": {
    "collapsed": true
   },
   "outputs": [],
   "source": [
    "from collections import Counter\n",
    "from nltk.tokenize import RegexpTokenizer\n",
    "tokenizer = RegexpTokenizer(r'\\w+')\n",
    "\n",
    "from stop_words import get_stop_words\n",
    "en_stop = get_stop_words('en')\n",
    "\n",
    "from nltk.stem.porter import PorterStemmer\n",
    "p_stemmer = PorterStemmer()\n",
    "\n",
    "# list for tokenized documents in loop\n",
    "texts = []\n",
    "\n",
    "# loop through document list\n",
    "for ii in range(len(lrom)):\n",
    "    \n",
    "    # clean and tokenize document string\n",
    "    whole_movie_str = \" \".join(acts[lact[ii]]['Line'].values)\n",
    "    raw = whole_movie_str.lower()\n",
    "\n",
    "    tokens = tokenizer.tokenize(raw)\n",
    "\n",
    "    # remove stop words from tokens\n",
    "    stopped_tokens = [i for i in tokens if not i in en_stop]\n",
    "    \n",
    "    # stem tokens\n",
    "    stemmed_tokens = [p_stemmer.stem(i) for i in stopped_tokens]\n",
    "\n",
    "    stemmed_tokens = list(filter(lambda x: len(x) > 5,stemmed_tokens))\n",
    "    \n",
    "    # add tokens to list\n",
    "    texts.append(stemmed_tokens)\n",
    "\n",
    "ACTt=list(itertools.chain.from_iterable(texts))\n",
    "counterACT = collections.Counter(ACTt)\n",
    "    \n",
    "from gensim import corpora, models\n",
    "# turn our tokenized documents into a id <-> term dictionary\n",
    "dictionary = corpora.Dictionary(texts)\n",
    "# convert tokenized documents into a document-term matrix\n",
    "corpus = [dictionary.doc2bow(text) for text in texts]\n",
    "\n",
    "# generate LDA model\n",
    "ldamodel = models.ldamodel.LdaModel(corpus, num_topics=4, id2word = dictionary, passes=20)\n",
    "#print(ldamodel.print_topics(num_topics=4, num_words=4))\n",
    "\n"
   ]
  },
  {
   "cell_type": "code",
   "execution_count": 79,
   "metadata": {
    "collapsed": true
   },
   "outputs": [],
   "source": [
    "from collections import Counter\n",
    "from nltk.tokenize import RegexpTokenizer\n",
    "tokenizer = RegexpTokenizer(r'\\w+')\n",
    "\n",
    "from stop_words import get_stop_words\n",
    "en_stop = get_stop_words('en')\n",
    "\n",
    "from nltk.stem.porter import PorterStemmer\n",
    "p_stemmer = PorterStemmer()\n",
    "\n",
    "# list for tokenized documents in loop\n",
    "texts = []\n",
    "\n",
    "# loop through document list\n",
    "for ii in range(len(ldra)):\n",
    "    \n",
    "    # clean and tokenize document string\n",
    "    whole_movie_str = \" \".join(dras[ldra[ii]]['Line'].values)\n",
    "    raw = whole_movie_str.lower()\n",
    "\n",
    "    tokens = tokenizer.tokenize(raw)\n",
    "\n",
    "    # remove stop words from tokens\n",
    "    stopped_tokens = [i for i in tokens if not i in en_stop]\n",
    "    \n",
    "    # stem tokens\n",
    "    stemmed_tokens = [p_stemmer.stem(i) for i in stopped_tokens]\n",
    "\n",
    "    stemmed_tokens = list(filter(lambda x: len(x) > 5,stemmed_tokens))\n",
    "    \n",
    "    # add tokens to list\n",
    "    texts.append(stemmed_tokens)\n",
    "DRAt=list(itertools.chain.from_iterable(texts))\n",
    "counterDRA = collections.Counter(DRAt)\n",
    "\n",
    "from gensim import corpora, models\n",
    "# turn our tokenized documents into a id <-> term dictionary\n",
    "dictionary = corpora.Dictionary(texts)\n",
    "# convert tokenized documents into a document-term matrix\n",
    "corpus = [dictionary.doc2bow(text) for text in texts]\n",
    "\n",
    "# generate LDA model\n",
    "ldamodel = models.ldamodel.LdaModel(corpus, num_topics=4, id2word = dictionary, passes=20)\n",
    "#print(ldamodel.print_topics(num_topics=4, num_words=4))\n",
    "\n",
    "\n"
   ]
  },
  {
   "cell_type": "code",
   "execution_count": 81,
   "metadata": {
    "collapsed": true
   },
   "outputs": [],
   "source": [
    "from collections import Counter\n",
    "from nltk.tokenize import RegexpTokenizer\n",
    "tokenizer = RegexpTokenizer(r'\\w+')\n",
    "\n",
    "from stop_words import get_stop_words\n",
    "en_stop = get_stop_words('en')\n",
    "\n",
    "from nltk.stem.porter import PorterStemmer\n",
    "p_stemmer = PorterStemmer()\n",
    "\n",
    "# list for tokenized documents in loop\n",
    "texts = []\n",
    "\n",
    "# loop through document list\n",
    "for ii in range(len(lhor)):\n",
    "    \n",
    "    # clean and tokenize document string\n",
    "    whole_movie_str = \" \".join(hors[lhor[ii]]['Line'].values)\n",
    "    raw = whole_movie_str.lower()\n",
    "\n",
    "    tokens = tokenizer.tokenize(raw)\n",
    "\n",
    "    # remove stop words from tokens\n",
    "    stopped_tokens = [i for i in tokens if not i in en_stop]\n",
    "    \n",
    "    # stem tokens\n",
    "    stemmed_tokens = [p_stemmer.stem(i) for i in stopped_tokens]\n",
    "\n",
    "    stemmed_tokens = list(filter(lambda x: len(x) > 5,stemmed_tokens))\n",
    "    \n",
    "    # add tokens to list\n",
    "    texts.append(stemmed_tokens)\n",
    "HORt=list(itertools.chain.from_iterable(texts))\n",
    "counterHOR = collections.Counter(HORt)\n",
    "\n",
    "from gensim import corpora, models\n",
    "# turn our tokenized documents into a id <-> term dictionary\n",
    "dictionary = corpora.Dictionary(texts)\n",
    "# convert tokenized documents into a document-term matrix\n",
    "corpus = [dictionary.doc2bow(text) for text in texts]\n",
    "\n",
    "# generate LDA model\n",
    "ldamodel = models.ldamodel.LdaModel(corpus, num_topics=4, id2word = dictionary, passes=20)\n",
    "#print(ldamodel.print_topics(num_topics=4, num_words=4))\n",
    "\n",
    "\n"
   ]
  },
  {
   "cell_type": "code",
   "execution_count": 83,
   "metadata": {
    "collapsed": true
   },
   "outputs": [],
   "source": [
    "from collections import Counter\n",
    "from nltk.tokenize import RegexpTokenizer\n",
    "tokenizer = RegexpTokenizer(r'\\w+')\n",
    "\n",
    "from stop_words import get_stop_words\n",
    "en_stop = get_stop_words('en')\n",
    "\n",
    "from nltk.stem.porter import PorterStemmer\n",
    "p_stemmer = PorterStemmer()\n",
    "\n",
    "# list for tokenized documents in loop\n",
    "texts = []\n",
    "\n",
    "# loop through document list\n",
    "for ii in range(len(lrom)):\n",
    "    \n",
    "    # clean and tokenize document string\n",
    "    whole_movie_str = \" \".join(roms[lrom[ii]]['Line'].values)\n",
    "    raw = whole_movie_str.lower()\n",
    "\n",
    "    tokens = tokenizer.tokenize(raw)\n",
    "\n",
    "    # remove stop words from tokens\n",
    "    stopped_tokens = [i for i in tokens if not i in en_stop]\n",
    "    \n",
    "    # stem tokens\n",
    "    stemmed_tokens = [p_stemmer.stem(i) for i in stopped_tokens]\n",
    "\n",
    "    stemmed_tokens = list(filter(lambda x: len(x) > 5,stemmed_tokens))\n",
    "    \n",
    "    # add tokens to list\n",
    "    texts.append(stemmed_tokens)\n",
    "ROMt=list(itertools.chain.from_iterable(texts))\n",
    "counterROM = collections.Counter(ROMt)\n",
    "\n",
    "from gensim import corpora, models\n",
    "# turn our tokenized documents into a id <-> term dictionary\n",
    "dictionary = corpora.Dictionary(texts)\n",
    "# convert tokenized documents into a document-term matrix\n",
    "corpus = [dictionary.doc2bow(text) for text in texts]\n",
    "\n",
    "# generate LDA model\n",
    "ldamodel = models.ldamodel.LdaModel(corpus, num_topics=4, id2word = dictionary, passes=20)\n",
    "#print(ldamodel.print_topics(num_topics=4, num_words=4))\n",
    "\n",
    "\n"
   ]
  },
  {
   "cell_type": "code",
   "execution_count": 85,
   "metadata": {
    "collapsed": true
   },
   "outputs": [],
   "source": [
    "from collections import Counter\n",
    "from nltk.tokenize import RegexpTokenizer\n",
    "tokenizer = RegexpTokenizer(r'\\w+')\n",
    "\n",
    "from stop_words import get_stop_words\n",
    "en_stop = get_stop_words('en')\n",
    "\n",
    "from nltk.stem.porter import PorterStemmer\n",
    "p_stemmer = PorterStemmer()\n",
    "\n",
    "# list for tokenized documents in loop\n",
    "texts = []\n",
    "\n",
    "# loop through document list\n",
    "for ii in range(len(lfam)):\n",
    "    \n",
    "    # clean and tokenize document string\n",
    "    whole_movie_str = \" \".join(fams[lfam[ii]]['Line'].values)\n",
    "    raw = whole_movie_str.lower()\n",
    "\n",
    "    tokens = tokenizer.tokenize(raw)\n",
    "\n",
    "    # remove stop words from tokens\n",
    "    stopped_tokens = [i for i in tokens if not i in en_stop]\n",
    "    \n",
    "    # stem tokens\n",
    "    stemmed_tokens = [p_stemmer.stem(i) for i in stopped_tokens]\n",
    "\n",
    "    stemmed_tokens = list(filter(lambda x: len(x) > 5,stemmed_tokens))\n",
    "    \n",
    "    # add tokens to list\n",
    "    texts.append(stemmed_tokens)\n",
    "\n",
    "FAMt=list(itertools.chain.from_iterable(texts))\n",
    "counterFAM = collections.Counter(FAMt)\n",
    "\n",
    "from gensim import corpora, models\n",
    "# turn our tokenized documents into a id <-> term dictionary\n",
    "dictionary = corpora.Dictionary(texts)\n",
    "# convert tokenized documents into a document-term matrix\n",
    "corpus = [dictionary.doc2bow(text) for text in texts]\n",
    "\n",
    "# generate LDA model\n",
    "ldamodel = models.ldamodel.LdaModel(corpus, num_topics=4, id2word = dictionary, passes=20)\n",
    "#print(ldamodel.print_topics(num_topics=4, num_words=4))\n",
    "\n",
    "\n"
   ]
  },
  {
   "cell_type": "code",
   "execution_count": 156,
   "metadata": {},
   "outputs": [
    {
     "data": {
      "image/png": "[encoded data removed]",
      "text/plain": [
       "<matplotlib.figure.Figure at 0xdf339e3a20>"
      ]
     },
     "metadata": {},
     "output_type": "display_data"
    },
    {
     "data": {
      "image/png": "[encoded data removed]",
      "text/plain": [
       "<matplotlib.figure.Figure at 0xdf3362ce80>"
      ]
     },
     "metadata": {},
     "output_type": "display_data"
    },
    {
     "data": {
      "image/png": "[encoded data removed]",
      "text/plain": [
       "<matplotlib.figure.Figure at 0xdf33a062b0>"
      ]
     },
     "metadata": {},
     "output_type": "display_data"
    },
    {
     "data": {
      "image/png": "[encoded data removed]",
      "text/plain": [
       "<matplotlib.figure.Figure at 0xdf362f31d0>"
      ]
     },
     "metadata": {},
     "output_type": "display_data"
    },
    {
     "data": {
      "image/png": "[encoded data removed]",
      "text/plain": [
       "<matplotlib.figure.Figure at 0xdf363d4f60>"
      ]
     },
     "metadata": {},
     "output_type": "display_data"
    }
   ],
   "source": [
    "import numpy as np\n",
    "import matplotlib.pyplot as plt\n",
    "\n",
    "\n",
    "data = [('Action', int(wcomplex[1])/len(lact)), ('Drama', int(wcomplex[2])/len(ldra)),\n",
    "        ('Romance', int(wcomplex[3])/len(lrom)), ('Horror', int(wcomplex[0])/len(lhor)),('Family',int(wcomplex[4])/len(lfam))]\n",
    "names, values = zip(*data)  \n",
    "# names = [x[0] for x in data]  # These two lines are equivalent to the the zip-command.\n",
    "# values = [x[1] for x in data] # These two lines are equivalent to the the zip-command.\n",
    "\n",
    "ind = np.arange(len(data))  # the x locations for the groups\n",
    "width = 0.35       # the width of the bars\n",
    "\n",
    "fig, ax = plt.subplots()\n",
    "rects1 = ax.bar(ind, values, width, color='r')\n",
    "\n",
    "# add some text for labels, title and axes ticks\n",
    "ax.set_ylabel('Avg # of Complex Words/Movie')\n",
    "ax.set_xticks(ind+width/2.)\n",
    "ax.set_xticklabels(names)\n",
    "\n",
    "def autolabel(rects):\n",
    "    for rect in rects:\n",
    "        height = rect.get_height()\n",
    "        ax.text(rect.get_x() + rect.get_width()/2., 1.05*height,\n",
    "                '%d' % int(height),\n",
    "                ha='center', va='bottom')\n",
    "\n",
    "autolabel(rects1)\n",
    "plt.show()"
   ]
  },
  {
   "cell_type": "code",
   "execution_count": 111,
   "metadata": {},
   "outputs": [
    {
     "name": "stdout",
     "output_type": "stream",
     "text": [
      "[('harvey', 43), ('someth', 38), ('happen', 34), ('batman', 34), ('realli', 32), ('resist', 26), ('mandarin', 26), ('alright', 24), ('presid', 24), ('friend', 24)]\n",
      "[('forrest', 64), ('someth', 51), ('realli', 47), ('shrimp', 32), ('school', 30), ('around', 29), ('thought', 27), ('everyth', 26), ('question', 26), ('dinner', 25)]\n",
      "[('realli', 103), ('someth', 74), ('edward', 71), ('happen', 56), ('believ', 54), ('vivian', 43), ('everyth', 41), ('pretti', 36), ('listen', 34), ('thought', 33)]\n",
      "[('someth', 44), ('father', 39), ('rachel', 37), ('realli', 36), ('lecter', 34), ('better', 28), ('understand', 28), ('doctor', 27), ('mother', 25), ('happen', 25)]\n",
      "[('ingonyama', 16), ('california', 11), ('understand', 10), ('everybodi', 9), ('enamabala', 9), ('cleveland', 8), ('sigourney', 7), ('supervillain', 5), ('balthazar', 4), ('freedonia', 4)]\n"
     ]
    }
   ],
   "source": [
    "num=10\n",
    "print(counterACT.most_common(num))\n",
    "print(counterDRA.most_common(num))\n",
    "print(counterROM.most_common(num))\n",
    "print(counterHOR.most_common(num))\n",
    "print(counterFAM.most_common(num))"
   ]
  },
  {
   "cell_type": "code",
   "execution_count": 131,
   "metadata": {
    "collapsed": true
   },
   "outputs": [],
   "source": [
    "wcomplex=np.zeros(5)\n",
    "i=0\n",
    "for item in HORt:\n",
    "    if len(item)>8:\n",
    "        i=i+1\n",
    "wcomplex[0]=i\n",
    "\n",
    "i=0\n",
    "for item in ACTt:\n",
    "    if len(item)>8:\n",
    "        i=i+1\n",
    "wcomplex[1]=i\n",
    "\n",
    "i=0\n",
    "for item in DRAt:\n",
    "    if len(item)>8:\n",
    "        i=i+1\n",
    "wcomplex[2]=i\n",
    "\n",
    "i=0\n",
    "for item in ROMt:\n",
    "    if len(item)>8:\n",
    "        i=i+1\n",
    "wcomplex[3]=i\n",
    "\n",
    "i=0\n",
    "for item in FAMt:\n",
    "    if len(item)>8:\n",
    "        i=i+1\n",
    "wcomplex[4]=i"
   ]
  },
  {
   "cell_type": "code",
   "execution_count": 133,
   "metadata": {},
   "outputs": [
    {
     "data": {
      "text/plain": [
       "254.0"
      ]
     },
     "execution_count": 133,
     "metadata": {},
     "output_type": "execute_result"
    }
   ],
   "source": []
  },
  {
   "cell_type": "code",
   "execution_count": 137,
   "metadata": {},
   "outputs": [
    {
     "data": {
      "text/plain": [
       "array([ 254.,  304.,  342.,  391.,  225.])"
      ]
     },
     "execution_count": 137,
     "metadata": {},
     "output_type": "execute_result"
    }
   ],
   "source": [
    "wcomplex"
   ]
  },
  {
   "cell_type": "code",
   "execution_count": null,
   "metadata": {
    "collapsed": true
   },
   "outputs": [],
   "source": []
  }
 ],
 "metadata": {
  "kernelspec": {
   "display_name": "Python 3",
   "language": "python",
   "name": "python3"
  },
  "language_info": {
   "codemirror_mode": {
    "name": "ipython",
    "version": 3
   },
   "file_extension": ".py",
   "mimetype": "text/x-python",
   "name": "python",
   "nbconvert_exporter": "python",
   "pygments_lexer": "ipython3",
   "version": "3.6.2"
  }
 },
 "nbformat": 4,
 "nbformat_minor": 2
}
