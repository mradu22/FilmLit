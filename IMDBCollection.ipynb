{
 "cells": [
  {
   "cell_type": "code",
   "execution_count": 72,
   "metadata": {},
   "outputs": [
    {
     "name": "stdout",
     "output_type": "stream",
     "text": [
      "the matrix\n",
      "{'apikey': '90803235', 't': 'the matrix'}\n",
      "Getting movie info... http://www.omdbapi.com/?apikey=90803235&t=the+matrix\n",
      "Retrieved 1066 characters\n",
      "{\"Title\":\"The Matrix\",\"Year\":\"1999\",\"Rated\":\"R\",\"Released\":\"31 Mar 1999\",\"Runtime\":\"136 min\",\"Genre\":\"Action, Sci-Fi\",\"Director\":\"Lana Wachowski, Lilly Wachowski\",\"Writer\":\"Lilly Wachowski, Lana Wachowski\",\"Actors\":\"Keanu Reeves, Laurence Fishburne, Carrie-Anne Moss, Hugo Weaving\",\"Plot\":\"A computer hacker learns from mysterious rebels about the true nature of his reality and his role in the war against its controllers.\",\"Language\":\"English\",\"Country\":\"USA\",\"Awards\":\"Won 4 Oscars. Another 34 wins & 45 nominations.\",\"Poster\":\"https://images-na.ssl-images-amazon.com/images/M/MV5BNzQzOTk3OTAtNDQ0Zi00ZTVkLWI0MTEtMDllZjNkYzNjNTc4L2ltYWdlXkEyXkFqcGdeQXVyNjU0OTQ0OTY@._V1_SX300.jpg\",\"Ratings\":[{\"Source\":\"Internet Movie Database\",\"Value\":\"8.7/10\"},{\"Source\":\"Rotten Tomatoes\",\"Value\":\"87%\"},{\"Source\":\"Metacritic\",\"Value\":\"73/100\"}],\"Metascore\":\"73\",\"imdbRating\":\"8.7\",\"imdbVotes\":\"1,338,915\",\"imdbID\":\"tt0133093\",\"Type\":\"movie\",\"DVD\":\"21 Sep 1999\",\"BoxOffice\":\"N/A\",\"Production\":\"Warner Bros. Pictures\",\"Website\":\"http://www.whatisthematrix.com\",\"Response\":\"True\"}\n"
     ]
    }
   ],
   "source": [
    "import omdb\n",
    "import urllib.request, urllib.parse, urllib.error\n",
    "import json\n",
    "\n",
    "api_key = '90803235'\n",
    "\n",
    "if api_key is False:\n",
    "    print('Need API key Bruh.')\n",
    "else :\n",
    "    serviceurl = \"http://www.omdbapi.com/?\"\n",
    "\n",
    "    \n",
    "\n",
    "inquiry = input()\n",
    "parms=dict()\n",
    "parms['apikey'] = api_key\n",
    "parms['t']=inquiry\n",
    "print(parms)\n",
    "\n",
    "if api_key is not False: \n",
    "    url = serviceurl + urllib.parse.urlencode(parms)\n",
    "url\n",
    "\n",
    "ctx = ssl.create_default_context()\n",
    "ctx.check_hostname = False\n",
    "ctx.verify_mode = ssl.CERT_NONE\n",
    "\n",
    "print('Getting movie info...', url)\n",
    "uh = urllib.request.urlopen(url, context=ctx)\n",
    "data=uh.read().decode()\n",
    "print('Retrieved', len(data), 'characters')\n",
    "print(data)"
   ]
  },
  {
   "cell_type": "code",
   "execution_count": 60,
   "metadata": {},
   "outputs": [
    {
     "data": {
      "text/plain": [
       "b'<?xml version=\"1.0\" encoding=\"UTF-8\"?><root response=\"True\"><movie title=\"True Grit\" year=\"1969\" rated=\"G\" released=\"21 Jun 1969\" runtime=\"128 min\" genre=\"Adventure, Drama, Western\" director=\"Henry Hathaway\" writer=\"Charles Portis (novel), Marguerite Roberts (screenplay)\" actors=\"John Wayne, Glen Campbell, Kim Darby, Jeremy Slate\" plot=\"A drunken, hard-nosed U.S. Marshal and a Texas Ranger help a stubborn teenager track down her father\\'s murderer in Indian territory.\" language=\"English\" country=\"USA\" awards=\"Won 1 Oscar. Another 5 wins &amp; 7 nominations.\" poster=\"https://images-na.ssl-images-amazon.com/images/M/MV5BMjEwNzRlMzUtODIwMS00N2IwLWE1ZTgtODYzNWY0MGJhODY3XkEyXkFqcGdeQXVyMjI4MjA5MzA@._V1_SX300.jpg\" metascore=\"N/A\" imdbRating=\"7.4\" imdbVotes=\"35,721\" imdbID=\"tt0065126\" type=\"movie\" tomatoMeter=\"90\" tomatoImage=\"certified\" tomatoRating=\"7.9\" tomatoReviews=\"51\" tomatoFresh=\"46\" tomatoRotten=\"5\" tomatoConsensus=\"N/A\" tomatoUserMeter=\"83\" tomatoUserRating=\"3.8\" tomatoUserReviews=\"25980\" tomatoeURL=\"http://www.rottentomatoes.com/m/true_grit/\" DVD=\"21 Mar 2000\" BoxOffice=\"N/A\" Production=\"Paramount Home Video\" Website=\"N/A\"/></root>'"
      ]
     },
     "execution_count": 60,
     "metadata": {},
     "output_type": "execute_result"
    }
   ],
   "source": [
    "res = omdb.request(apikey=api_key, t='True Grit', y=1969, r='xml', tomatoes=True)\n",
    "xlm_content=res.content\n",
    "xlm_content"
   ]
  },
  {
   "cell_type": "code",
   "execution_count": 62,
   "metadata": {},
   "outputs": [
    {
     "data": {
      "text/plain": [
       "b'<?xml version=\"1.0\" encoding=\"UTF-8\"?><root response=\"True\"><movie title=\"True Grit\" year=\"2010\" rated=\"PG-13\" released=\"22 Dec 2010\" runtime=\"110 min\" genre=\"Adventure, Drama, Western\" director=\"Ethan Coen, Joel Coen\" writer=\"Joel Coen (screenplay), Ethan Coen (screenplay), Charles Portis (novel)\" actors=\"Jeff Bridges, Hailee Steinfeld, Matt Damon, Josh Brolin\" plot=\"A stubborn teenager enlists the help of a tough U.S. Marshal to track down her father\\'s murderer.\" language=\"English\" country=\"USA\" awards=\"Nominated for 10 Oscars. Another 37 wins &amp; 153 nominations.\" poster=\"https://images-na.ssl-images-amazon.com/images/M/MV5BMjIxNjAzODQ0N15BMl5BanBnXkFtZTcwODY2MjMyNA@@._V1_SX300.jpg\" metascore=\"80\" imdbRating=\"7.6\" imdbVotes=\"259,496\" imdbID=\"tt1403865\" type=\"movie\"/></root>'"
      ]
     },
     "execution_count": 62,
     "metadata": {},
     "output_type": "execute_result"
    }
   ],
   "source": [
    "res = omdb.request(apikey=api_key, t='True Grit', r='xml', tomatoes=False)\n",
    "xlm_content=res.content\n",
    "xlm_content"
   ]
  },
  {
   "cell_type": "code",
   "execution_count": null,
   "metadata": {
    "collapsed": true
   },
   "outputs": [],
   "source": []
  }
 ],
 "metadata": {
  "kernelspec": {
   "display_name": "Python 3",
   "language": "python",
   "name": "python3"
  },
  "language_info": {
   "codemirror_mode": {
    "name": "ipython",
    "version": 3
   },
   "file_extension": ".py",
   "mimetype": "text/x-python",
   "name": "python",
   "nbconvert_exporter": "python",
   "pygments_lexer": "ipython3",
   "version": "3.6.2"
  }
 },
 "nbformat": 4,
 "nbformat_minor": 2
}
