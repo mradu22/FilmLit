{
 "cells": [
  {
   "cell_type": "code",
   "execution_count": null,
   "metadata": {
    "collapsed": true
   },
   "outputs": [],
   "source": [
    "x='caca'"
   ]
  },
  {
   "cell_type": "code",
   "execution_count": null,
   "metadata": {
    "collapsed": true
   },
   "outputs": [],
   "source": [
    "x[:2]"
   ]
  },
  {
   "cell_type": "code",
   "execution_count": null,
   "metadata": {
    "collapsed": true
   },
   "outputs": [],
   "source": [
    "import urllib\n",
    "import os\n",
    "import csv\n",
    " \n",
    "def writeFile(filename, contents, mode=\"wt\"):\n",
    "    # wt stands for \"write text\"\n",
    "    fout = None\n",
    "    try:\n",
    "        fout = open(filename, mode)\n",
    "        fout.write(contents)\n",
    "    finally:\n",
    "        if (fout != None): fout.close()\n",
    "    return True\n",
    " \n",
    "def readFile(filename, mode=\"rt\"):\n",
    "    # rt stands for \"read text\"\n",
    "    fin = contents = None\n",
    "    try:\n",
    "        fin = open(filename, mode)\n",
    "        contents = fin.read()\n",
    "    finally:\n",
    "        if (fin != None): fin.close()\n",
    "    return contents"
   ]
  },
  {
   "cell_type": "code",
   "execution_count": null,
   "metadata": {
    "collapsed": true
   },
   "outputs": [],
   "source": [
    "import json, os, urllib.request, urllib.parse, urllib.error, time\n",
    " \n",
    "def get_info_list(tv_list, hasID = False):\n",
    "    \"\"\"\n",
    "    creates a list that holds all the info about each show, with the imdb id easily accessible\n",
    "    tv_list = list of tv shows. each item contains a string in the format \"black+books,\" where non-alphanumeric characters are replaced.\n",
    "    hasID = True if the list is made up of tuples in the format (\"show+title+in+url+format\", \"imdbID\"), False if it's just the titles.\n",
    "    \"\"\"\n",
    "    imdb_info_list = { }\n",
    "    for show in tv_list:\n",
    "        #scrape the info off the internet using the omdbapi.com and add it to imdb_info_list\n",
    "        time.sleep(1)\n",
    "        if hasID: (title, imdb) = show\n",
    "        else: title = show\n",
    "        showinfo = scrape_tvshow(show, hasID) #create an entry in imdb_info_list\n",
    "        imdb_info_list[title] = showinfo\n",
    "        imdb_info_list[title]['filename'] = title\n",
    "        #print show_list\n",
    "        print('added ' + title)\n",
    "    print('DONE SCRAPING')\n",
    "    return imdb_info_list\n",
    " \n",
    "def scrape_tvshow(show, hasID = False):\n",
    "    \"\"\"\n",
    "    creates an entry in the data structure for the specific show by searching it in the API and scraping the resulting information\n",
    "    \"\"\"\n",
    "    if hasID:\n",
    "        #if you're using the IMDB ID specifically to search\n",
    "        (title, imdb) = show\n",
    "        url = \"http://www.omdbapi.com/?i=%s\" % (imdb)\n",
    "    else:\n",
    "        #if you're just using the title to search\n",
    "        url = \"http://www.omdbapi.com/?t=%s\" % (show)\n",
    "    contents = read_webpage(url) #contents is now a string\n",
    "    showinfo = json.loads(contents) #showinfo is a dictionary\n",
    "    return showinfo\n",
    " \n",
    "def read_webpage(url):\n",
    "    \"\"\"\n",
    "    scrapes a webpage\n",
    "    code taken from course documentation for CMU's 15-112\n",
    "    \"\"\"\n",
    "    assert(url.startswith(\"http://\"))\n",
    "    fin = contents = None\n",
    "    try:\n",
    "        fin = urllib.urlopen(url)\n",
    "        contents = fin.read()\n",
    "    finally:\n",
    "        if (fin != None): fin.close()\n",
    "    return contents"
   ]
  },
  {
   "cell_type": "code",
   "execution_count": null,
   "metadata": {
    "collapsed": true
   },
   "outputs": [],
   "source": [
    "read_webpage('http://www.imdb.com/title/tt0133093/')"
   ]
  },
  {
   "cell_type": "code",
   "execution_count": null,
   "metadata": {
    "collapsed": true
   },
   "outputs": [],
   "source": []
  },
  {
   "cell_type": "code",
   "execution_count": null,
   "metadata": {
    "collapsed": true
   },
   "outputs": [],
   "source": [
    "import json, os, urllib.request, urllib.parse, urllib.error, time\n",
    "\n",
    "omdburl='http://www.omdbapi.com/?'\n",
    "\n",
    "uh=urllib.request.urlopen('http://www.imdb.com/title/tt0133093/')\n",
    "data=uh.read().decode()\n",
    "print('Retrieved', len(data), 'characters')\n"
   ]
  },
  {
   "cell_type": "code",
   "execution_count": 17,
   "metadata": {},
   "outputs": [
    {
     "ename": "ModuleNotFoundError",
     "evalue": "No module named 'imdb'",
     "output_type": "error",
     "traceback": [
      "\u001b[1;31m---------------------------------------------------------------------------\u001b[0m",
      "\u001b[1;31mModuleNotFoundError\u001b[0m                       Traceback (most recent call last)",
      "\u001b[1;32m<ipython-input-17-1900f811e4b9>\u001b[0m in \u001b[0;36m<module>\u001b[1;34m()\u001b[0m\n\u001b[1;32m----> 1\u001b[1;33m \u001b[1;32mimport\u001b[0m \u001b[0mimdb\u001b[0m\u001b[1;33m\u001b[0m\u001b[0m\n\u001b[0m",
      "\u001b[1;31mModuleNotFoundError\u001b[0m: No module named 'imdb'"
     ]
    }
   ],
   "source": [
    "import imdb"
   ]
  },
  {
   "cell_type": "code",
   "execution_count": null,
   "metadata": {
    "collapsed": true
   },
   "outputs": [],
   "source": []
  }
 ],
 "metadata": {
  "kernelspec": {
   "display_name": "Python 3",
   "language": "python",
   "name": "python3"
  },
  "language_info": {
   "codemirror_mode": {
    "name": "ipython",
    "version": 3
   },
   "file_extension": ".py",
   "mimetype": "text/x-python",
   "name": "python",
   "nbconvert_exporter": "python",
   "pygments_lexer": "ipython3",
   "version": "3.6.2"
  }
 },
 "nbformat": 4,
 "nbformat_minor": 2
}
