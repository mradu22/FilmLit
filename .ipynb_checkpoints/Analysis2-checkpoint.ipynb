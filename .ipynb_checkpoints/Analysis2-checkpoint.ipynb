{
 "cells": [
  {
   "cell_type": "code",
   "execution_count": 1,
   "metadata": {
    "collapsed": true
   },
   "outputs": [],
   "source": [
    "import omdb\n",
    "import pandas as pd\n",
    "import urllib.request, urllib.parse, urllib.error\n",
    "import json\n",
    "import csv\n",
    "import time\n",
    "import os\n",
    "import numpy as np\n",
    "import pandas as pd\n",
    "import matplotlib.pyplot as plt\n",
    "from matplotlib import style\n",
    "style.use('ggplot')\n",
    "from sklearn import datasets, linear_model\n",
    "from scipy import special, optimize\n",
    "import numpy as np\n",
    "from scipy.optimize import curve_fit\n",
    "\n",
    "lrom=['0120338','0099653','0100405','1000774']\n",
    "lact=['1300854','1074638','0468569','2488496']\n",
    "lhor=['0070047','0298130','0816711','0289765']\n",
    "lfam=['2294629','2293640','2277860','3469046','0110357']\n",
    "ldra=['0120338','2322441','0109830','0398808','0119643']\n",
    "\n",
    "roms=pd.read_hdf('RomDB.h5', 'key')\n",
    "\n",
    "dras=pd.read_hdf('DraDB.h5', 'key')\n",
    "hors=pd.read_hdf('HorDB.h5', 'key')\n",
    "fams=pd.read_hdf('FamDB.h5', 'key')\n",
    "\n",
    "\n",
    "movdb=pd.read_hdf('movbaseA.h5', 'imdb_id')\n",
    "movdb=movdb.reset_index()\n"
   ]
  },
  {
   "cell_type": "code",
   "execution_count": 41,
   "metadata": {},
   "outputs": [
    {
     "data": {
      "text/plain": [
       "'2975590'"
      ]
     },
     "execution_count": 41,
     "metadata": {},
     "output_type": "execute_result"
    }
   ],
   "source": [
    "lact[4]"
   ]
  },
  {
   "cell_type": "code",
   "execution_count": 4,
   "metadata": {},
   "outputs": [
    {
     "data": {
      "text/html": [
       "<div>\n",
       "<style>\n",
       "    .dataframe thead tr:only-child th {\n",
       "        text-align: right;\n",
       "    }\n",
       "\n",
       "    .dataframe thead th {\n",
       "        text-align: left;\n",
       "    }\n",
       "\n",
       "    .dataframe tbody tr th {\n",
       "        vertical-align: top;\n",
       "    }\n",
       "</style>\n",
       "<table border=\"1\" class=\"dataframe\">\n",
       "  <thead>\n",
       "    <tr style=\"text-align: right;\">\n",
       "      <th></th>\n",
       "      <th>EndTime</th>\n",
       "      <th>Line</th>\n",
       "      <th>StartTime</th>\n",
       "    </tr>\n",
       "  </thead>\n",
       "  <tbody>\n",
       "    <tr>\n",
       "      <th>1674</th>\n",
       "      <td>01:36:30</td>\n",
       "      <td>Yeah. He needs to borrow $4 million.</td>\n",
       "      <td>01:36:28</td>\n",
       "    </tr>\n",
       "    <tr>\n",
       "      <th>1675</th>\n",
       "      <td>01:36:33</td>\n",
       "      <td>When you said that you thought Sam was here,</td>\n",
       "      <td>01:36:30</td>\n",
       "    </tr>\n",
       "    <tr>\n",
       "      <th>1676</th>\n",
       "      <td>01:36:35</td>\n",
       "      <td>that he was talking to you,</td>\n",
       "      <td>01:36:33</td>\n",
       "    </tr>\n",
       "    <tr>\n",
       "      <th>1677</th>\n",
       "      <td>01:36:37</td>\n",
       "      <td>what did he say to you?</td>\n",
       "      <td>01:36:35</td>\n",
       "    </tr>\n",
       "    <tr>\n",
       "      <th>1678</th>\n",
       "      <td>01:36:40</td>\n",
       "      <td>What does that have to do with anything?</td>\n",
       "      <td>01:36:37</td>\n",
       "    </tr>\n",
       "    <tr>\n",
       "      <th>1679</th>\n",
       "      <td>01:36:41</td>\n",
       "      <td>Just listen to me.</td>\n",
       "      <td>01:36:40</td>\n",
       "    </tr>\n",
       "    <tr>\n",
       "      <th>1680</th>\n",
       "      <td>01:36:46</td>\n",
       "      <td>This psychic lady, I want to know what she tol...</td>\n",
       "      <td>01:36:41</td>\n",
       "    </tr>\n",
       "    <tr>\n",
       "      <th>1681</th>\n",
       "      <td>01:36:47</td>\n",
       "      <td>Stop this.</td>\n",
       "      <td>01:36:46</td>\n",
       "    </tr>\n",
       "    <tr>\n",
       "      <th>1682</th>\n",
       "      <td>01:36:52</td>\n",
       "      <td>It doesn't matter. It wasn't real.</td>\n",
       "      <td>01:36:49</td>\n",
       "    </tr>\n",
       "    <tr>\n",
       "      <th>1683</th>\n",
       "      <td>01:36:55</td>\n",
       "      <td>What the hell happened to you tonight?</td>\n",
       "      <td>01:36:52</td>\n",
       "    </tr>\n",
       "  </tbody>\n",
       "</table>\n",
       "</div>"
      ],
      "text/plain": [
       "       EndTime                                               Line StartTime\n",
       "1674  01:36:30               Yeah. He needs to borrow $4 million.  01:36:28\n",
       "1675  01:36:33       When you said that you thought Sam was here,  01:36:30\n",
       "1676  01:36:35                        that he was talking to you,  01:36:33\n",
       "1677  01:36:37                            what did he say to you?  01:36:35\n",
       "1678  01:36:40           What does that have to do with anything?  01:36:37\n",
       "1679  01:36:41                                 Just listen to me.  01:36:40\n",
       "1680  01:36:46  This psychic lady, I want to know what she tol...  01:36:41\n",
       "1681  01:36:47                                         Stop this.  01:36:46\n",
       "1682  01:36:52                 It doesn't matter. It wasn't real.  01:36:49\n",
       "1683  01:36:55             What the hell happened to you tonight?  01:36:52"
      ]
     },
     "execution_count": 4,
     "metadata": {},
     "output_type": "execute_result"
    }
   ],
   "source": [
    "roms.dropna(axis=1, inplace=True)\n",
    "roms[lrom[1]][-10:]"
   ]
  },
  {
   "cell_type": "code",
   "execution_count": 40,
   "metadata": {},
   "outputs": [
    {
     "data": {
      "text/html": [
       "<div>\n",
       "<style>\n",
       "    .dataframe thead tr:only-child th {\n",
       "        text-align: right;\n",
       "    }\n",
       "\n",
       "    .dataframe thead th {\n",
       "        text-align: left;\n",
       "    }\n",
       "\n",
       "    .dataframe tbody tr th {\n",
       "        vertical-align: top;\n",
       "    }\n",
       "</style>\n",
       "<table border=\"1\" class=\"dataframe\">\n",
       "  <thead>\n",
       "    <tr style=\"text-align: right;\">\n",
       "      <th></th>\n",
       "      <th>EndTime</th>\n",
       "      <th>Line</th>\n",
       "      <th>StartTime</th>\n",
       "    </tr>\n",
       "  </thead>\n",
       "  <tbody>\n",
       "    <tr>\n",
       "      <th>38</th>\n",
       "      <td>00:03:10</td>\n",
       "      <td>&lt;font color=\"#4CCD98\"&gt;&lt;b&gt;The Red Capes are com...</td>\n",
       "      <td>00:03:08</td>\n",
       "    </tr>\n",
       "    <tr>\n",
       "      <th>39</th>\n",
       "      <td>00:03:38</td>\n",
       "      <td>&lt;font color=\"#00FF00\"&gt;&lt;b&gt;~~==Made by Ultron59=...</td>\n",
       "      <td>00:03:11</td>\n",
       "    </tr>\n",
       "    <tr>\n",
       "      <th>40</th>\n",
       "      <td>NaN</td>\n",
       "      <td>NaN</td>\n",
       "      <td>NaN</td>\n",
       "    </tr>\n",
       "    <tr>\n",
       "      <th>41</th>\n",
       "      <td>NaN</td>\n",
       "      <td>NaN</td>\n",
       "      <td>NaN</td>\n",
       "    </tr>\n",
       "  </tbody>\n",
       "</table>\n",
       "</div>"
      ],
      "text/plain": [
       "     EndTime                                               Line StartTime\n",
       "38  00:03:10  <font color=\"#4CCD98\"><b>The Red Capes are com...  00:03:08\n",
       "39  00:03:38  <font color=\"#00FF00\"><b>~~==Made by Ultron59=...  00:03:11\n",
       "40       NaN                                                NaN       NaN\n",
       "41       NaN                                                NaN       NaN"
      ]
     },
     "execution_count": 40,
     "metadata": {},
     "output_type": "execute_result"
    }
   ],
   "source": [
    "acts=pd.read_hdf('ActDB.h5', 'key')\n",
    "acts[lact[4]][38:42]"
   ]
  },
  {
   "cell_type": "code",
   "execution_count": 19,
   "metadata": {},
   "outputs": [
    {
     "data": {
      "text/html": [
       "<div>\n",
       "<style>\n",
       "    .dataframe thead tr:only-child th {\n",
       "        text-align: right;\n",
       "    }\n",
       "\n",
       "    .dataframe thead th {\n",
       "        text-align: left;\n",
       "    }\n",
       "\n",
       "    .dataframe tbody tr th {\n",
       "        vertical-align: top;\n",
       "    }\n",
       "</style>\n",
       "<table border=\"1\" class=\"dataframe\">\n",
       "  <thead>\n",
       "    <tr style=\"text-align: right;\">\n",
       "      <th></th>\n",
       "      <th>EndTime</th>\n",
       "      <th>Line</th>\n",
       "      <th>StartTime</th>\n",
       "    </tr>\n",
       "  </thead>\n",
       "  <tbody>\n",
       "    <tr>\n",
       "      <th>918</th>\n",
       "      <td>01:49:50</td>\n",
       "      <td>So there is a reason. Tell me.</td>\n",
       "      <td>01:49:46</td>\n",
       "    </tr>\n",
       "    <tr>\n",
       "      <th>919</th>\n",
       "      <td>01:49:54</td>\n",
       "      <td>- Do you wanna punish me right now? - Yes.</td>\n",
       "      <td>01:49:52</td>\n",
       "    </tr>\n",
       "    <tr>\n",
       "      <th>920</th>\n",
       "      <td>01:49:57</td>\n",
       "      <td>I wanna punish you right now.</td>\n",
       "      <td>01:49:55</td>\n",
       "    </tr>\n",
       "    <tr>\n",
       "      <th>921</th>\n",
       "      <td>01:50:02</td>\n",
       "      <td>What if I told you that I feel the same way ab...</td>\n",
       "      <td>01:49:59</td>\n",
       "    </tr>\n",
       "    <tr>\n",
       "      <th>922</th>\n",
       "      <td>01:50:05</td>\n",
       "      <td>do about me touching you, would you still wann...</td>\n",
       "      <td>01:50:02</td>\n",
       "    </tr>\n",
       "    <tr>\n",
       "      <th>923</th>\n",
       "      <td>01:50:11</td>\n",
       "      <td>No. But that doesn't mean I wouldn't need to.</td>\n",
       "      <td>01:50:07</td>\n",
       "    </tr>\n",
       "    <tr>\n",
       "      <th>924</th>\n",
       "      <td>01:50:13</td>\n",
       "      <td>- Why? - Ana stop.</td>\n",
       "      <td>01:50:11</td>\n",
       "    </tr>\n",
       "    <tr>\n",
       "      <th>925</th>\n",
       "      <td>01:50:15</td>\n",
       "      <td>- Why do you need... - Because its the way I am!</td>\n",
       "      <td>01:50:13</td>\n",
       "    </tr>\n",
       "    <tr>\n",
       "      <th>926</th>\n",
       "      <td>01:50:26</td>\n",
       "      <td>Because I'm 50 shades of fucked up.</td>\n",
       "      <td>01:50:24</td>\n",
       "    </tr>\n",
       "    <tr>\n",
       "      <th>927</th>\n",
       "      <td>01:50:50</td>\n",
       "      <td>Show me then.</td>\n",
       "      <td>01:50:49</td>\n",
       "    </tr>\n",
       "  </tbody>\n",
       "</table>\n",
       "</div>"
      ],
      "text/plain": [
       "      EndTime                                               Line StartTime\n",
       "918  01:49:50                     So there is a reason. Tell me.  01:49:46\n",
       "919  01:49:54         - Do you wanna punish me right now? - Yes.  01:49:52\n",
       "920  01:49:57                      I wanna punish you right now.  01:49:55\n",
       "921  01:50:02  What if I told you that I feel the same way ab...  01:49:59\n",
       "922  01:50:05  do about me touching you, would you still wann...  01:50:02\n",
       "923  01:50:11      No. But that doesn't mean I wouldn't need to.  01:50:07\n",
       "924  01:50:13                                 - Why? - Ana stop.  01:50:11\n",
       "925  01:50:15   - Why do you need... - Because its the way I am!  01:50:13\n",
       "926  01:50:26                Because I'm 50 shades of fucked up.  01:50:24\n",
       "927  01:50:50                                      Show me then.  01:50:49"
      ]
     },
     "execution_count": 19,
     "metadata": {},
     "output_type": "execute_result"
    }
   ],
   "source": [
    "dras.dropna(axis=1, inplace=True)\n",
    "dras[ldra[1]][-10:]"
   ]
  },
  {
   "cell_type": "code",
   "execution_count": 13,
   "metadata": {},
   "outputs": [
    {
     "data": {
      "text/html": [
       "<div>\n",
       "<style>\n",
       "    .dataframe thead tr:only-child th {\n",
       "        text-align: right;\n",
       "    }\n",
       "\n",
       "    .dataframe thead th {\n",
       "        text-align: left;\n",
       "    }\n",
       "\n",
       "    .dataframe tbody tr th {\n",
       "        vertical-align: top;\n",
       "    }\n",
       "</style>\n",
       "<table border=\"1\" class=\"dataframe\">\n",
       "  <thead>\n",
       "    <tr style=\"text-align: right;\">\n",
       "      <th></th>\n",
       "      <th>EndTime</th>\n",
       "      <th>Line</th>\n",
       "      <th>StartTime</th>\n",
       "    </tr>\n",
       "  </thead>\n",
       "  <tbody>\n",
       "    <tr>\n",
       "      <th>737</th>\n",
       "      <td>00:49:54</td>\n",
       "      <td>Prince Hans, are we just</td>\n",
       "      <td>00:49:53</td>\n",
       "    </tr>\n",
       "    <tr>\n",
       "      <th>738</th>\n",
       "      <td>00:49:56</td>\n",
       "      <td>expected to sit here and freeze</td>\n",
       "      <td>00:49:54</td>\n",
       "    </tr>\n",
       "    <tr>\n",
       "      <th>739</th>\n",
       "      <td>00:49:59</td>\n",
       "      <td>while you give away all of Arendelle's Tradabl...</td>\n",
       "      <td>00:49:56</td>\n",
       "    </tr>\n",
       "    <tr>\n",
       "      <th>740</th>\n",
       "      <td>00:50:01</td>\n",
       "      <td>Princess Anna has given her orders and...</td>\n",
       "      <td>00:49:59</td>\n",
       "    </tr>\n",
       "    <tr>\n",
       "      <th>741</th>\n",
       "      <td>00:50:03</td>\n",
       "      <td>And that's another thing,</td>\n",
       "      <td>00:50:01</td>\n",
       "    </tr>\n",
       "    <tr>\n",
       "      <th>742</th>\n",
       "      <td>00:50:05</td>\n",
       "      <td>has it dawned on you that your Princess</td>\n",
       "      <td>00:50:03</td>\n",
       "    </tr>\n",
       "    <tr>\n",
       "      <th>743</th>\n",
       "      <td>00:50:07</td>\n",
       "      <td>may be conspiring with a wicked sorceress...</td>\n",
       "      <td>00:50:05</td>\n",
       "    </tr>\n",
       "    <tr>\n",
       "      <th>744</th>\n",
       "      <td>00:50:08</td>\n",
       "      <td>to destroy us all?</td>\n",
       "      <td>00:50:07</td>\n",
       "    </tr>\n",
       "    <tr>\n",
       "      <th>745</th>\n",
       "      <td>00:50:11</td>\n",
       "      <td>Do not question the Princess. She left me in c...</td>\n",
       "      <td>00:50:08</td>\n",
       "    </tr>\n",
       "    <tr>\n",
       "      <th>746</th>\n",
       "      <td>00:50:13</td>\n",
       "      <td>and I will not hesitate to</td>\n",
       "      <td>00:50:11</td>\n",
       "    </tr>\n",
       "  </tbody>\n",
       "</table>\n",
       "</div>"
      ],
      "text/plain": [
       "      EndTime                                               Line StartTime\n",
       "737  00:49:54                           Prince Hans, are we just  00:49:53\n",
       "738  00:49:56                    expected to sit here and freeze  00:49:54\n",
       "739  00:49:59  while you give away all of Arendelle's Tradabl...  00:49:56\n",
       "740  00:50:01          Princess Anna has given her orders and...  00:49:59\n",
       "741  00:50:03                          And that's another thing,  00:50:01\n",
       "742  00:50:05            has it dawned on you that your Princess  00:50:03\n",
       "743  00:50:07       may be conspiring with a wicked sorceress...  00:50:05\n",
       "744  00:50:08                                 to destroy us all?  00:50:07\n",
       "745  00:50:11  Do not question the Princess. She left me in c...  00:50:08\n",
       "746  00:50:13                         and I will not hesitate to  00:50:11"
      ]
     },
     "execution_count": 13,
     "metadata": {},
     "output_type": "execute_result"
    }
   ],
   "source": [
    "fams.dropna(axis=1, inplace=True)\n",
    "fams[lfam[0]][-10:]"
   ]
  },
  {
   "cell_type": "code",
   "execution_count": 25,
   "metadata": {},
   "outputs": [
    {
     "data": {
      "text/html": [
       "<div>\n",
       "<style>\n",
       "    .dataframe thead tr:only-child th {\n",
       "        text-align: right;\n",
       "    }\n",
       "\n",
       "    .dataframe thead th {\n",
       "        text-align: left;\n",
       "    }\n",
       "\n",
       "    .dataframe tbody tr th {\n",
       "        vertical-align: top;\n",
       "    }\n",
       "</style>\n",
       "<table border=\"1\" class=\"dataframe\">\n",
       "  <thead>\n",
       "    <tr style=\"text-align: right;\">\n",
       "      <th></th>\n",
       "      <th>EndTime</th>\n",
       "      <th>Line</th>\n",
       "      <th>StartTime</th>\n",
       "    </tr>\n",
       "  </thead>\n",
       "  <tbody>\n",
       "    <tr>\n",
       "      <th>1109</th>\n",
       "      <td>01:20:35</td>\n",
       "      <td>Come on, l'm past that already and you know it.</td>\n",
       "      <td>01:20:32</td>\n",
       "    </tr>\n",
       "    <tr>\n",
       "      <th>1110</th>\n",
       "      <td>01:20:37</td>\n",
       "      <td>Give me what l need.</td>\n",
       "      <td>01:20:36</td>\n",
       "    </tr>\n",
       "    <tr>\n",
       "      <th>1111</th>\n",
       "      <td>01:20:39</td>\n",
       "      <td>How is he choosing the women?</td>\n",
       "      <td>01:20:37</td>\n",
       "    </tr>\n",
       "    <tr>\n",
       "      <th>1112</th>\n",
       "      <td>01:20:42</td>\n",
       "      <td>l've already suggested how. The answer was in ...</td>\n",
       "      <td>01:20:39</td>\n",
       "    </tr>\n",
       "    <tr>\n",
       "      <th>1113</th>\n",
       "      <td>01:20:45</td>\n",
       "      <td>-You looked but didn't see. -Bullshit! No ridd...</td>\n",
       "      <td>01:20:42</td>\n",
       "    </tr>\n",
       "    <tr>\n",
       "      <th>1114</th>\n",
       "      <td>01:20:46</td>\n",
       "      <td>Just tell me.</td>\n",
       "      <td>01:20:45</td>\n",
       "    </tr>\n",
       "    <tr>\n",
       "      <th>1115</th>\n",
       "      <td>01:20:47</td>\n",
       "      <td>No!</td>\n",
       "      <td>01:20:46</td>\n",
       "    </tr>\n",
       "    <tr>\n",
       "      <th>1116</th>\n",
       "      <td>01:20:48</td>\n",
       "      <td>lt's your turn.</td>\n",
       "      <td>01:20:47</td>\n",
       "    </tr>\n",
       "    <tr>\n",
       "      <th>1117</th>\n",
       "      <td>01:20:51</td>\n",
       "      <td>l asked you before for a small courtesy...</td>\n",
       "      <td>01:20:48</td>\n",
       "    </tr>\n",
       "    <tr>\n",
       "      <th>1118</th>\n",
       "      <td>01:20:53</td>\n",
       "      <td>and you responded rudely.</td>\n",
       "      <td>01:20:51</td>\n",
       "    </tr>\n",
       "  </tbody>\n",
       "</table>\n",
       "</div>"
      ],
      "text/plain": [
       "       EndTime                                               Line StartTime\n",
       "1109  01:20:35    Come on, l'm past that already and you know it.  01:20:32\n",
       "1110  01:20:37                               Give me what l need.  01:20:36\n",
       "1111  01:20:39                      How is he choosing the women?  01:20:37\n",
       "1112  01:20:42  l've already suggested how. The answer was in ...  01:20:39\n",
       "1113  01:20:45  -You looked but didn't see. -Bullshit! No ridd...  01:20:42\n",
       "1114  01:20:46                                      Just tell me.  01:20:45\n",
       "1115  01:20:47                                                No!  01:20:46\n",
       "1116  01:20:48                                    lt's your turn.  01:20:47\n",
       "1117  01:20:51         l asked you before for a small courtesy...  01:20:48\n",
       "1118  01:20:53                          and you responded rudely.  01:20:51"
      ]
     },
     "execution_count": 25,
     "metadata": {},
     "output_type": "execute_result"
    }
   ],
   "source": [
    "hors.dropna(axis=1, inplace=True)\n",
    "hors[lhor[3]][-10:]"
   ]
  },
  {
   "cell_type": "code",
   "execution_count": 2,
   "metadata": {},
   "outputs": [
    {
     "ename": "AttributeError",
     "evalue": "(\"'float' object has no attribute 'split'\", 'occurred at index 1959')",
     "output_type": "error",
     "traceback": [
      "\u001b[1;31m---------------------------------------------------------------------------\u001b[0m",
      "\u001b[1;31mAttributeError\u001b[0m                            Traceback (most recent call last)",
      "\u001b[1;32m<ipython-input-2-038e2beb77c7>\u001b[0m in \u001b[0;36m<module>\u001b[1;34m()\u001b[0m\n\u001b[0;32m      3\u001b[0m     \u001b[0mroms\u001b[0m\u001b[1;33m[\u001b[0m\u001b[0mlrom\u001b[0m\u001b[1;33m[\u001b[0m\u001b[0mii\u001b[0m\u001b[1;33m]\u001b[0m\u001b[1;33m]\u001b[0m\u001b[1;33m.\u001b[0m\u001b[0mloc\u001b[0m\u001b[1;33m[\u001b[0m\u001b[1;33m:\u001b[0m\u001b[1;33m,\u001b[0m\u001b[1;34m'EndTimestamp'\u001b[0m\u001b[1;33m]\u001b[0m \u001b[1;33m=\u001b[0m \u001b[0mpd\u001b[0m\u001b[1;33m.\u001b[0m\u001b[0mto_datetime\u001b[0m\u001b[1;33m(\u001b[0m\u001b[0mroms\u001b[0m\u001b[1;33m[\u001b[0m\u001b[0mlrom\u001b[0m\u001b[1;33m[\u001b[0m\u001b[0mii\u001b[0m\u001b[1;33m]\u001b[0m\u001b[1;33m]\u001b[0m\u001b[1;33m.\u001b[0m\u001b[0mloc\u001b[0m\u001b[1;33m[\u001b[0m\u001b[1;33m:\u001b[0m\u001b[1;33m,\u001b[0m\u001b[1;33m(\u001b[0m\u001b[1;34m'EndTime'\u001b[0m\u001b[1;33m)\u001b[0m\u001b[1;33m]\u001b[0m\u001b[1;33m,\u001b[0m \u001b[0mformat\u001b[0m\u001b[1;33m=\u001b[0m\u001b[1;34m\"%H:%M:%S\"\u001b[0m\u001b[1;33m)\u001b[0m\u001b[1;33m\u001b[0m\u001b[0m\n\u001b[0;32m      4\u001b[0m     roms[lrom[ii]]['Density'] = roms[lrom[ii]].apply(lambda row: len(row['Line'].split())/\n\u001b[1;32m----> 5\u001b[1;33m         (row['EndTimestamp']-row['StartTimestamp']).total_seconds() if row['EndTimestamp'] != row['StartTimestamp'] else 0.0, axis=1)\n\u001b[0m\u001b[0;32m      6\u001b[0m \u001b[1;32mfor\u001b[0m \u001b[0mii\u001b[0m \u001b[1;32min\u001b[0m \u001b[0mrange\u001b[0m\u001b[1;33m(\u001b[0m\u001b[1;36m0\u001b[0m\u001b[1;33m,\u001b[0m\u001b[0mlen\u001b[0m\u001b[1;33m(\u001b[0m\u001b[0mlrom\u001b[0m\u001b[1;33m)\u001b[0m\u001b[1;33m)\u001b[0m\u001b[1;33m:\u001b[0m\u001b[1;33m\u001b[0m\u001b[0m\n\u001b[0;32m      7\u001b[0m     \u001b[0mprint\u001b[0m\u001b[1;33m(\u001b[0m\u001b[1;34m'Densities of Romance: '\u001b[0m\u001b[1;33m,\u001b[0m\u001b[0mroms\u001b[0m\u001b[1;33m[\u001b[0m\u001b[0mlrom\u001b[0m\u001b[1;33m[\u001b[0m\u001b[0mii\u001b[0m\u001b[1;33m]\u001b[0m\u001b[1;33m]\u001b[0m\u001b[1;33m[\u001b[0m\u001b[1;34m'Density'\u001b[0m\u001b[1;33m]\u001b[0m\u001b[1;33m.\u001b[0m\u001b[0mmean\u001b[0m\u001b[1;33m(\u001b[0m\u001b[1;33m)\u001b[0m\u001b[1;33m)\u001b[0m\u001b[1;33m\u001b[0m\u001b[0m\n",
      "\u001b[1;32m~\\Anaconda3\\lib\\site-packages\\pandas\\core\\frame.py\u001b[0m in \u001b[0;36mapply\u001b[1;34m(self, func, axis, broadcast, raw, reduce, args, **kwds)\u001b[0m\n\u001b[0;32m   4260\u001b[0m                         \u001b[0mf\u001b[0m\u001b[1;33m,\u001b[0m \u001b[0maxis\u001b[0m\u001b[1;33m,\u001b[0m\u001b[1;33m\u001b[0m\u001b[0m\n\u001b[0;32m   4261\u001b[0m                         \u001b[0mreduce\u001b[0m\u001b[1;33m=\u001b[0m\u001b[0mreduce\u001b[0m\u001b[1;33m,\u001b[0m\u001b[1;33m\u001b[0m\u001b[0m\n\u001b[1;32m-> 4262\u001b[1;33m                         ignore_failures=ignore_failures)\n\u001b[0m\u001b[0;32m   4263\u001b[0m             \u001b[1;32melse\u001b[0m\u001b[1;33m:\u001b[0m\u001b[1;33m\u001b[0m\u001b[0m\n\u001b[0;32m   4264\u001b[0m                 \u001b[1;32mreturn\u001b[0m \u001b[0mself\u001b[0m\u001b[1;33m.\u001b[0m\u001b[0m_apply_broadcast\u001b[0m\u001b[1;33m(\u001b[0m\u001b[0mf\u001b[0m\u001b[1;33m,\u001b[0m \u001b[0maxis\u001b[0m\u001b[1;33m)\u001b[0m\u001b[1;33m\u001b[0m\u001b[0m\n",
      "\u001b[1;32m~\\Anaconda3\\lib\\site-packages\\pandas\\core\\frame.py\u001b[0m in \u001b[0;36m_apply_standard\u001b[1;34m(self, func, axis, ignore_failures, reduce)\u001b[0m\n\u001b[0;32m   4356\u001b[0m             \u001b[1;32mtry\u001b[0m\u001b[1;33m:\u001b[0m\u001b[1;33m\u001b[0m\u001b[0m\n\u001b[0;32m   4357\u001b[0m                 \u001b[1;32mfor\u001b[0m \u001b[0mi\u001b[0m\u001b[1;33m,\u001b[0m \u001b[0mv\u001b[0m \u001b[1;32min\u001b[0m \u001b[0menumerate\u001b[0m\u001b[1;33m(\u001b[0m\u001b[0mseries_gen\u001b[0m\u001b[1;33m)\u001b[0m\u001b[1;33m:\u001b[0m\u001b[1;33m\u001b[0m\u001b[0m\n\u001b[1;32m-> 4358\u001b[1;33m                     \u001b[0mresults\u001b[0m\u001b[1;33m[\u001b[0m\u001b[0mi\u001b[0m\u001b[1;33m]\u001b[0m \u001b[1;33m=\u001b[0m \u001b[0mfunc\u001b[0m\u001b[1;33m(\u001b[0m\u001b[0mv\u001b[0m\u001b[1;33m)\u001b[0m\u001b[1;33m\u001b[0m\u001b[0m\n\u001b[0m\u001b[0;32m   4359\u001b[0m                     \u001b[0mkeys\u001b[0m\u001b[1;33m.\u001b[0m\u001b[0mappend\u001b[0m\u001b[1;33m(\u001b[0m\u001b[0mv\u001b[0m\u001b[1;33m.\u001b[0m\u001b[0mname\u001b[0m\u001b[1;33m)\u001b[0m\u001b[1;33m\u001b[0m\u001b[0m\n\u001b[0;32m   4360\u001b[0m             \u001b[1;32mexcept\u001b[0m \u001b[0mException\u001b[0m \u001b[1;32mas\u001b[0m \u001b[0me\u001b[0m\u001b[1;33m:\u001b[0m\u001b[1;33m\u001b[0m\u001b[0m\n",
      "\u001b[1;32m<ipython-input-2-038e2beb77c7>\u001b[0m in \u001b[0;36m<lambda>\u001b[1;34m(row)\u001b[0m\n\u001b[0;32m      3\u001b[0m     \u001b[0mroms\u001b[0m\u001b[1;33m[\u001b[0m\u001b[0mlrom\u001b[0m\u001b[1;33m[\u001b[0m\u001b[0mii\u001b[0m\u001b[1;33m]\u001b[0m\u001b[1;33m]\u001b[0m\u001b[1;33m.\u001b[0m\u001b[0mloc\u001b[0m\u001b[1;33m[\u001b[0m\u001b[1;33m:\u001b[0m\u001b[1;33m,\u001b[0m\u001b[1;34m'EndTimestamp'\u001b[0m\u001b[1;33m]\u001b[0m \u001b[1;33m=\u001b[0m \u001b[0mpd\u001b[0m\u001b[1;33m.\u001b[0m\u001b[0mto_datetime\u001b[0m\u001b[1;33m(\u001b[0m\u001b[0mroms\u001b[0m\u001b[1;33m[\u001b[0m\u001b[0mlrom\u001b[0m\u001b[1;33m[\u001b[0m\u001b[0mii\u001b[0m\u001b[1;33m]\u001b[0m\u001b[1;33m]\u001b[0m\u001b[1;33m.\u001b[0m\u001b[0mloc\u001b[0m\u001b[1;33m[\u001b[0m\u001b[1;33m:\u001b[0m\u001b[1;33m,\u001b[0m\u001b[1;33m(\u001b[0m\u001b[1;34m'EndTime'\u001b[0m\u001b[1;33m)\u001b[0m\u001b[1;33m]\u001b[0m\u001b[1;33m,\u001b[0m \u001b[0mformat\u001b[0m\u001b[1;33m=\u001b[0m\u001b[1;34m\"%H:%M:%S\"\u001b[0m\u001b[1;33m)\u001b[0m\u001b[1;33m\u001b[0m\u001b[0m\n\u001b[0;32m      4\u001b[0m     roms[lrom[ii]]['Density'] = roms[lrom[ii]].apply(lambda row: len(row['Line'].split())/\n\u001b[1;32m----> 5\u001b[1;33m         (row['EndTimestamp']-row['StartTimestamp']).total_seconds() if row['EndTimestamp'] != row['StartTimestamp'] else 0.0, axis=1)\n\u001b[0m\u001b[0;32m      6\u001b[0m \u001b[1;32mfor\u001b[0m \u001b[0mii\u001b[0m \u001b[1;32min\u001b[0m \u001b[0mrange\u001b[0m\u001b[1;33m(\u001b[0m\u001b[1;36m0\u001b[0m\u001b[1;33m,\u001b[0m\u001b[0mlen\u001b[0m\u001b[1;33m(\u001b[0m\u001b[0mlrom\u001b[0m\u001b[1;33m)\u001b[0m\u001b[1;33m)\u001b[0m\u001b[1;33m:\u001b[0m\u001b[1;33m\u001b[0m\u001b[0m\n\u001b[0;32m      7\u001b[0m     \u001b[0mprint\u001b[0m\u001b[1;33m(\u001b[0m\u001b[1;34m'Densities of Romance: '\u001b[0m\u001b[1;33m,\u001b[0m\u001b[0mroms\u001b[0m\u001b[1;33m[\u001b[0m\u001b[0mlrom\u001b[0m\u001b[1;33m[\u001b[0m\u001b[0mii\u001b[0m\u001b[1;33m]\u001b[0m\u001b[1;33m]\u001b[0m\u001b[1;33m[\u001b[0m\u001b[1;34m'Density'\u001b[0m\u001b[1;33m]\u001b[0m\u001b[1;33m.\u001b[0m\u001b[0mmean\u001b[0m\u001b[1;33m(\u001b[0m\u001b[1;33m)\u001b[0m\u001b[1;33m)\u001b[0m\u001b[1;33m\u001b[0m\u001b[0m\n",
      "\u001b[1;31mAttributeError\u001b[0m: (\"'float' object has no attribute 'split'\", 'occurred at index 1959')"
     ]
    }
   ],
   "source": [
    "for ii in range(0,len(lrom)):\n",
    "    roms[lrom[ii]].loc[:,'StartTimestamp'] = pd.to_datetime(roms[lrom[ii]].loc[:,('StartTime')], format=\"%H:%M:%S\")\n",
    "    roms[lrom[ii]].loc[:,'EndTimestamp'] = pd.to_datetime(roms[lrom[ii]].loc[:,('EndTime')], format=\"%H:%M:%S\")\n",
    "    roms[lrom[ii]]['Density'] = roms[lrom[ii]].apply(lambda row: len(row['Line'].split())/\n",
    "        (row['EndTimestamp']-row['StartTimestamp']).total_seconds() if row['EndTimestamp'] != row['StartTimestamp'] else 0.0, axis=1)\n",
    "for ii in range(0,len(lrom)):\n",
    "    print('Densities of Romance: ',roms[lrom[ii]]['Density'].mean())"
   ]
  },
  {
   "cell_type": "code",
   "execution_count": 6,
   "metadata": {},
   "outputs": [
    {
     "data": {
      "image/png": "[encoded data removed]",
      "text/plain": [
       "<matplotlib.figure.Figure at 0x166de99c18>"
      ]
     },
     "metadata": {},
     "output_type": "display_data"
    }
   ],
   "source": [
    "alls=[]\n",
    "for jj in range(0,len(lrom)):\n",
    "    freqs=roms[lrom[jj]]['Density'].values.astype('float32')\n",
    "    smooth=np.zeros(100)\n",
    "    for ii in range(0,100):\n",
    "        box=len(freqs)//100\n",
    "        smooth[ii]=freqs[(ii)*box:(ii+1)*box].mean()\n",
    "    alls.append(smooth)   \n",
    "froms=(alls[0]+alls[1]+alls[2]+alls[3])/len(lrom)\n",
    "plt.plot(froms)\n",
    "plt.show()"
   ]
  },
  {
   "cell_type": "code",
   "execution_count": 3,
   "metadata": {},
   "outputs": [
    {
     "name": "stdout",
     "output_type": "stream",
     "text": [
      "Densities of Action:  3.87\n",
      "Densities of Action:  3.8416666666666672\n",
      "Densities of Action:  3.3979166666666663\n",
      "Densities of Action:  3.0833333333333335\n"
     ]
    }
   ],
   "source": [
    "for ii in range(0,len(lact)):\n",
    "    acts[lact[ii]].loc[:,'StartTimestamp'] = pd.to_datetime(acts[lact[ii]].loc[:,('StartTime')], format=\"%H:%M:%S\")\n",
    "    acts[lact[ii]].loc[:,'EndTimestamp'] = pd.to_datetime(acts[lact[ii]].loc[:,('EndTime')], format=\"%H:%M:%S\")\n",
    "    acts[lact[ii]]['Density'] = acts[lact[ii]].apply(lambda row: len(row['Line'].split())/\n",
    "        (row['EndTimestamp']-row['StartTimestamp']).total_seconds() if row['EndTimestamp'] != row['StartTimestamp'] else 0.0, axis=1)\n",
    "for ii in range(0,len(lrom)):\n",
    "    print('Densities of Action: ',acts[lact[ii]]['Density'].mean())"
   ]
  },
  {
   "cell_type": "code",
   "execution_count": 4,
   "metadata": {},
   "outputs": [
    {
     "name": "stderr",
     "output_type": "stream",
     "text": [
      "C:\\Users\\Adi\\Anaconda3\\lib\\site-packages\\ipykernel_launcher.py:7: RuntimeWarning: Mean of empty slice.\n",
      "  import sys\n",
      "C:\\Users\\Adi\\Anaconda3\\lib\\site-packages\\numpy\\core\\_methods.py:80: RuntimeWarning: invalid value encountered in true_divide\n",
      "  ret = ret.dtype.type(ret / rcount)\n"
     ]
    },
    {
     "data": {
      "image/png": "[encoded data removed]",
      "text/plain": [
       "<matplotlib.figure.Figure at 0x166de99b70>"
      ]
     },
     "metadata": {},
     "output_type": "display_data"
    }
   ],
   "source": [
    "allact=[]\n",
    "for jj in range(0,len(lact)):\n",
    "    freqs=acts[lact[jj]]['Density'].values.astype('float32')\n",
    "    smooth=np.zeros(100)\n",
    "    for ii in range(0,100):\n",
    "        box=len(freqs)//100\n",
    "        smooth[ii]=freqs[(ii)*box:(ii+1)*box].mean()\n",
    "    allact.append(smooth)   \n",
    "fact=(allact[0]+allact[1]+allact[2]+allact[3])/len(lact)\n",
    "plt.plot(fact)\n",
    "plt.show()"
   ]
  },
  {
   "cell_type": "code",
   "execution_count": 24,
   "metadata": {},
   "outputs": [
    {
     "data": {
      "text/plain": [
       "40"
      ]
     },
     "execution_count": 24,
     "metadata": {},
     "output_type": "execute_result"
    }
   ],
   "source": [
    "len(acts[lact[jj]]['Density'])"
   ]
  },
  {
   "cell_type": "code",
   "execution_count": null,
   "metadata": {
    "collapsed": true
   },
   "outputs": [],
   "source": []
  }
 ],
 "metadata": {
  "kernelspec": {
   "display_name": "Python 3",
   "language": "python",
   "name": "python3"
  },
  "language_info": {
   "codemirror_mode": {
    "name": "ipython",
    "version": 3
   },
   "file_extension": ".py",
   "mimetype": "text/x-python",
   "name": "python",
   "nbconvert_exporter": "python",
   "pygments_lexer": "ipython3",
   "version": "3.6.2"
  }
 },
 "nbformat": 4,
 "nbformat_minor": 2
}
