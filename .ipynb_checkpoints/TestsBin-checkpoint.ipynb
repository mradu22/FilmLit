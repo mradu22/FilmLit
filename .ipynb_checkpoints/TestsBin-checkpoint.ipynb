{
 "cells": [
  {
   "cell_type": "code",
   "execution_count": 27,
   "metadata": {
    "collapsed": true
   },
   "outputs": [],
   "source": [
    "import pandas as pd\n",
    "import io, gzip\n",
    "import numpy as np\n",
    "from codecs import decode\n",
    "import pysrt\n",
    "import datetime as dt\n",
    "import base64\n",
    "import sys\n",
    "from xmlrpc.client import ServerProxy\n",
    "import os as os\n",
    "import os.path\n",
    "import json\n",
    "import xarray as xr"
   ]
  },
  {
   "cell_type": "code",
   "execution_count": 28,
   "metadata": {
    "collapsed": true
   },
   "outputs": [],
   "source": [
    "arrays = [['bar', 'bar', 'baz', 'baz', 'foo', 'foo', 'qux', 'qux'],\n",
    "          ['one', 'two', 'one', 'two', 'one', 'two', 'one', 'two']]"
   ]
  },
  {
   "cell_type": "code",
   "execution_count": 29,
   "metadata": {},
   "outputs": [
    {
     "data": {
      "text/plain": [
       "[('bar', 'one'),\n",
       " ('bar', 'two'),\n",
       " ('baz', 'one'),\n",
       " ('baz', 'two'),\n",
       " ('foo', 'one'),\n",
       " ('foo', 'two'),\n",
       " ('qux', 'one'),\n",
       " ('qux', 'two')]"
      ]
     },
     "execution_count": 29,
     "metadata": {},
     "output_type": "execute_result"
    }
   ],
   "source": [
    "tuples = list(zip(*arrays))\n",
    "tuples"
   ]
  },
  {
   "cell_type": "code",
   "execution_count": 66,
   "metadata": {},
   "outputs": [
    {
     "data": {
      "text/html": [
       "<div>\n",
       "<style>\n",
       "    .dataframe thead tr:only-child th {\n",
       "        text-align: right;\n",
       "    }\n",
       "\n",
       "    .dataframe thead th {\n",
       "        text-align: left;\n",
       "    }\n",
       "\n",
       "    .dataframe tbody tr th {\n",
       "        vertical-align: top;\n",
       "    }\n",
       "</style>\n",
       "<table border=\"1\" class=\"dataframe\">\n",
       "  <thead>\n",
       "    <tr>\n",
       "      <th>IDs</th>\n",
       "      <th colspan=\"3\" halign=\"left\">132</th>\n",
       "      <th colspan=\"3\" halign=\"left\">14</th>\n",
       "      <th colspan=\"3\" halign=\"left\">24</th>\n",
       "      <th colspan=\"3\" halign=\"left\">132</th>\n",
       "      <th colspan=\"3\" halign=\"left\">14</th>\n",
       "    </tr>\n",
       "    <tr>\n",
       "      <th>LData</th>\n",
       "      <th>StartTime</th>\n",
       "      <th>EndTime</th>\n",
       "      <th>Line</th>\n",
       "      <th>StartTime</th>\n",
       "      <th>EndTime</th>\n",
       "      <th>Line</th>\n",
       "      <th>StartTime</th>\n",
       "      <th>EndTime</th>\n",
       "      <th>Line</th>\n",
       "      <th>StartTime</th>\n",
       "      <th>EndTime</th>\n",
       "      <th>Line</th>\n",
       "      <th>StartTime</th>\n",
       "      <th>EndTime</th>\n",
       "      <th>Line</th>\n",
       "    </tr>\n",
       "  </thead>\n",
       "  <tbody>\n",
       "    <tr>\n",
       "      <th>0</th>\n",
       "      <td>1.261827</td>\n",
       "      <td>-0.174539</td>\n",
       "      <td>0.102993</td>\n",
       "      <td>-0.345974</td>\n",
       "      <td>-0.013262</td>\n",
       "      <td>0.464666</td>\n",
       "      <td>-0.770416</td>\n",
       "      <td>0.593462</td>\n",
       "      <td>2.794058</td>\n",
       "      <td>-0.494675</td>\n",
       "      <td>-1.387789</td>\n",
       "      <td>0.402488</td>\n",
       "      <td>-1.027363</td>\n",
       "      <td>-2.104044</td>\n",
       "      <td>-0.216712</td>\n",
       "    </tr>\n",
       "    <tr>\n",
       "      <th>1</th>\n",
       "      <td>-0.504736</td>\n",
       "      <td>0.767586</td>\n",
       "      <td>0.107515</td>\n",
       "      <td>-1.482035</td>\n",
       "      <td>0.894602</td>\n",
       "      <td>0.981320</td>\n",
       "      <td>0.426025</td>\n",
       "      <td>0.171144</td>\n",
       "      <td>-0.122939</td>\n",
       "      <td>0.218855</td>\n",
       "      <td>-0.703819</td>\n",
       "      <td>-0.266014</td>\n",
       "      <td>1.741935</td>\n",
       "      <td>-1.419656</td>\n",
       "      <td>1.711162</td>\n",
       "    </tr>\n",
       "    <tr>\n",
       "      <th>2</th>\n",
       "      <td>1.643623</td>\n",
       "      <td>-0.317716</td>\n",
       "      <td>0.707549</td>\n",
       "      <td>-0.318034</td>\n",
       "      <td>-0.030709</td>\n",
       "      <td>0.314634</td>\n",
       "      <td>-0.298426</td>\n",
       "      <td>1.294081</td>\n",
       "      <td>0.192485</td>\n",
       "      <td>2.099051</td>\n",
       "      <td>-1.614982</td>\n",
       "      <td>-0.058891</td>\n",
       "      <td>1.249545</td>\n",
       "      <td>0.206992</td>\n",
       "      <td>-0.326830</td>\n",
       "    </tr>\n",
       "  </tbody>\n",
       "</table>\n",
       "</div>"
      ],
      "text/plain": [
       "IDs         132                           14                            24   \\\n",
       "LData StartTime   EndTime      Line StartTime   EndTime      Line StartTime   \n",
       "0      1.261827 -0.174539  0.102993 -0.345974 -0.013262  0.464666 -0.770416   \n",
       "1     -0.504736  0.767586  0.107515 -1.482035  0.894602  0.981320  0.426025   \n",
       "2      1.643623 -0.317716  0.707549 -0.318034 -0.030709  0.314634 -0.298426   \n",
       "\n",
       "IDs                             132                           14             \\\n",
       "LData   EndTime      Line StartTime   EndTime      Line StartTime   EndTime   \n",
       "0      0.593462  2.794058 -0.494675 -1.387789  0.402488 -1.027363 -2.104044   \n",
       "1      0.171144 -0.122939  0.218855 -0.703819 -0.266014  1.741935 -1.419656   \n",
       "2      1.294081  0.192485  2.099051 -1.614982 -0.058891  1.249545  0.206992   \n",
       "\n",
       "IDs              \n",
       "LData      Line  \n",
       "0     -0.216712  \n",
       "1      1.711162  \n",
       "2     -0.326830  "
      ]
     },
     "execution_count": 66,
     "metadata": {},
     "output_type": "execute_result"
    }
   ],
   "source": [
    "imdb_id=[132,14,24,132,14]\n",
    "linfo=['StartTime','EndTime','Line']\n",
    "index=pd.MultiIndex.from_product([imdb_id,linfo],names=['IDs','LData'])\n",
    "test=pd.DataFrame(np.random.randn(3,15),columns=index)\n",
    "test"
   ]
  },
  {
   "cell_type": "code",
   "execution_count": 67,
   "metadata": {},
   "outputs": [
    {
     "data": {
      "text/plain": [
       "MultiIndex(levels=[[14, 24, 132], ['EndTime', 'Line', 'StartTime']],\n",
       "           labels=[[2, 2, 2, 0, 0, 0, 1, 1, 1, 2, 2, 2, 0, 0, 0], [2, 0, 1, 2, 0, 1, 2, 0, 1, 2, 0, 1, 2, 0, 1]],\n",
       "           names=['IDs', 'LData'])"
      ]
     },
     "execution_count": 67,
     "metadata": {},
     "output_type": "execute_result"
    }
   ],
   "source": [
    "test.columns"
   ]
  },
  {
   "cell_type": "code",
   "execution_count": 51,
   "metadata": {
    "collapsed": true
   },
   "outputs": [],
   "source": [
    "test.drop(14,axis=1,level=0,inplace=True)\n",
    "test.columns = pd.MultiIndex.from_tuples(test.columns.to_series())"
   ]
  },
  {
   "cell_type": "code",
   "execution_count": 52,
   "metadata": {},
   "outputs": [
    {
     "data": {
      "text/html": [
       "<div>\n",
       "<style>\n",
       "    .dataframe thead tr:only-child th {\n",
       "        text-align: right;\n",
       "    }\n",
       "\n",
       "    .dataframe thead th {\n",
       "        text-align: left;\n",
       "    }\n",
       "\n",
       "    .dataframe tbody tr th {\n",
       "        vertical-align: top;\n",
       "    }\n",
       "</style>\n",
       "<table border=\"1\" class=\"dataframe\">\n",
       "  <thead>\n",
       "    <tr>\n",
       "      <th></th>\n",
       "      <th colspan=\"3\" halign=\"left\">132</th>\n",
       "      <th colspan=\"3\" halign=\"left\">24</th>\n",
       "      <th colspan=\"3\" halign=\"left\">132</th>\n",
       "    </tr>\n",
       "    <tr>\n",
       "      <th></th>\n",
       "      <th>StartTime</th>\n",
       "      <th>EndTime</th>\n",
       "      <th>Line</th>\n",
       "      <th>StartTime</th>\n",
       "      <th>EndTime</th>\n",
       "      <th>Line</th>\n",
       "      <th>StartTime</th>\n",
       "      <th>EndTime</th>\n",
       "      <th>Line</th>\n",
       "    </tr>\n",
       "  </thead>\n",
       "  <tbody>\n",
       "    <tr>\n",
       "      <th>0</th>\n",
       "      <td>0.576128</td>\n",
       "      <td>0.587476</td>\n",
       "      <td>-0.483673</td>\n",
       "      <td>-0.518725</td>\n",
       "      <td>-1.164362</td>\n",
       "      <td>-2.202704</td>\n",
       "      <td>0.991296</td>\n",
       "      <td>-0.003603</td>\n",
       "      <td>0.093624</td>\n",
       "    </tr>\n",
       "    <tr>\n",
       "      <th>1</th>\n",
       "      <td>-1.214971</td>\n",
       "      <td>-1.178908</td>\n",
       "      <td>0.701725</td>\n",
       "      <td>1.217500</td>\n",
       "      <td>0.376632</td>\n",
       "      <td>-0.607897</td>\n",
       "      <td>-0.212119</td>\n",
       "      <td>1.297236</td>\n",
       "      <td>-0.027150</td>\n",
       "    </tr>\n",
       "    <tr>\n",
       "      <th>2</th>\n",
       "      <td>-0.224384</td>\n",
       "      <td>0.433302</td>\n",
       "      <td>0.914432</td>\n",
       "      <td>-0.060566</td>\n",
       "      <td>0.649280</td>\n",
       "      <td>-0.737075</td>\n",
       "      <td>0.022952</td>\n",
       "      <td>-0.766551</td>\n",
       "      <td>-1.079801</td>\n",
       "    </tr>\n",
       "  </tbody>\n",
       "</table>\n",
       "</div>"
      ],
      "text/plain": [
       "        132                           24                            132  \\\n",
       "  StartTime   EndTime      Line StartTime   EndTime      Line StartTime   \n",
       "0  0.576128  0.587476 -0.483673 -0.518725 -1.164362 -2.202704  0.991296   \n",
       "1 -1.214971 -1.178908  0.701725  1.217500  0.376632 -0.607897 -0.212119   \n",
       "2 -0.224384  0.433302  0.914432 -0.060566  0.649280 -0.737075  0.022952   \n",
       "\n",
       "                       \n",
       "    EndTime      Line  \n",
       "0 -0.003603  0.093624  \n",
       "1  1.297236 -0.027150  \n",
       "2 -0.766551 -1.079801  "
      ]
     },
     "execution_count": 52,
     "metadata": {},
     "output_type": "execute_result"
    }
   ],
   "source": [
    "test"
   ]
  },
  {
   "cell_type": "code",
   "execution_count": 48,
   "metadata": {},
   "outputs": [
    {
     "data": {
      "text/html": [
       "<div>\n",
       "<style>\n",
       "    .dataframe thead tr:only-child th {\n",
       "        text-align: right;\n",
       "    }\n",
       "\n",
       "    .dataframe thead th {\n",
       "        text-align: left;\n",
       "    }\n",
       "\n",
       "    .dataframe tbody tr th {\n",
       "        vertical-align: top;\n",
       "    }\n",
       "</style>\n",
       "<table border=\"1\" class=\"dataframe\">\n",
       "  <thead>\n",
       "    <tr>\n",
       "      <th>IDs</th>\n",
       "      <th colspan=\"3\" halign=\"left\">56</th>\n",
       "    </tr>\n",
       "    <tr>\n",
       "      <th>LData</th>\n",
       "      <th>StartTime</th>\n",
       "      <th>EndTime</th>\n",
       "      <th>Line</th>\n",
       "    </tr>\n",
       "  </thead>\n",
       "  <tbody>\n",
       "    <tr>\n",
       "      <th>0</th>\n",
       "      <td>-0.284557</td>\n",
       "      <td>1.441826</td>\n",
       "      <td>0.948740</td>\n",
       "    </tr>\n",
       "    <tr>\n",
       "      <th>1</th>\n",
       "      <td>-0.247056</td>\n",
       "      <td>1.192615</td>\n",
       "      <td>-0.191863</td>\n",
       "    </tr>\n",
       "    <tr>\n",
       "      <th>2</th>\n",
       "      <td>1.848481</td>\n",
       "      <td>-0.752164</td>\n",
       "      <td>1.739157</td>\n",
       "    </tr>\n",
       "    <tr>\n",
       "      <th>3</th>\n",
       "      <td>-1.222425</td>\n",
       "      <td>1.151820</td>\n",
       "      <td>-1.197490</td>\n",
       "    </tr>\n",
       "    <tr>\n",
       "      <th>4</th>\n",
       "      <td>0.724710</td>\n",
       "      <td>1.845773</td>\n",
       "      <td>1.941485</td>\n",
       "    </tr>\n",
       "    <tr>\n",
       "      <th>5</th>\n",
       "      <td>0.697852</td>\n",
       "      <td>1.881566</td>\n",
       "      <td>0.774329</td>\n",
       "    </tr>\n",
       "    <tr>\n",
       "      <th>6</th>\n",
       "      <td>0.528269</td>\n",
       "      <td>-0.265108</td>\n",
       "      <td>0.415407</td>\n",
       "    </tr>\n",
       "    <tr>\n",
       "      <th>7</th>\n",
       "      <td>-0.603113</td>\n",
       "      <td>1.860013</td>\n",
       "      <td>-1.986248</td>\n",
       "    </tr>\n",
       "  </tbody>\n",
       "</table>\n",
       "</div>"
      ],
      "text/plain": [
       "IDs          56                    \n",
       "LData StartTime   EndTime      Line\n",
       "0     -0.284557  1.441826  0.948740\n",
       "1     -0.247056  1.192615 -0.191863\n",
       "2      1.848481 -0.752164  1.739157\n",
       "3     -1.222425  1.151820 -1.197490\n",
       "4      0.724710  1.845773  1.941485\n",
       "5      0.697852  1.881566  0.774329\n",
       "6      0.528269 -0.265108  0.415407\n",
       "7     -0.603113  1.860013 -1.986248"
      ]
     },
     "execution_count": 48,
     "metadata": {},
     "output_type": "execute_result"
    }
   ],
   "source": [
    "imdb_id=[56]\n",
    "linfo=['StartTime','EndTime','Line']\n",
    "index=pd.MultiIndex.from_product([imdb_id,linfo],names=['IDs','LData'])\n",
    "test2=pd.DataFrame(np.random.randn(8,3),columns=index)\n",
    "test2"
   ]
  },
  {
   "cell_type": "code",
   "execution_count": 49,
   "metadata": {},
   "outputs": [
    {
     "ename": "NameError",
     "evalue": "name 'ggg' is not defined",
     "output_type": "error",
     "traceback": [
      "\u001b[1;31m---------------------------------------------------------------------------\u001b[0m",
      "\u001b[1;31mNameError\u001b[0m                                 Traceback (most recent call last)",
      "\u001b[1;32m<ipython-input-49-8d432e12c20b>\u001b[0m in \u001b[0;36m<module>\u001b[1;34m()\u001b[0m\n\u001b[1;32m----> 1\u001b[1;33m \u001b[0mhh\u001b[0m\u001b[1;33m=\u001b[0m\u001b[0mpd\u001b[0m\u001b[1;33m.\u001b[0m\u001b[0mconcat\u001b[0m\u001b[1;33m(\u001b[0m\u001b[1;33m[\u001b[0m\u001b[0mggg\u001b[0m\u001b[1;33m,\u001b[0m\u001b[0mtest2\u001b[0m\u001b[1;33m]\u001b[0m\u001b[1;33m,\u001b[0m \u001b[0maxis\u001b[0m\u001b[1;33m=\u001b[0m\u001b[1;36m1\u001b[0m\u001b[1;33m)\u001b[0m\u001b[1;33m\u001b[0m\u001b[0m\n\u001b[0m\u001b[0;32m      2\u001b[0m \u001b[0mhh\u001b[0m\u001b[1;33m\u001b[0m\u001b[0m\n",
      "\u001b[1;31mNameError\u001b[0m: name 'ggg' is not defined"
     ]
    }
   ],
   "source": [
    "hh=pd.concat([ggg,test2], axis=1)\n",
    "hh"
   ]
  },
  {
   "cell_type": "code",
   "execution_count": 46,
   "metadata": {},
   "outputs": [
    {
     "ename": "NameError",
     "evalue": "name 'hh' is not defined",
     "output_type": "error",
     "traceback": [
      "\u001b[1;31m---------------------------------------------------------------------------\u001b[0m",
      "\u001b[1;31mNameError\u001b[0m                                 Traceback (most recent call last)",
      "\u001b[1;32m<ipython-input-46-163978403e19>\u001b[0m in \u001b[0;36m<module>\u001b[1;34m()\u001b[0m\n\u001b[1;32m----> 1\u001b[1;33m \u001b[0mTEMP_SUBS\u001b[0m\u001b[1;33m=\u001b[0m\u001b[0mhh\u001b[0m\u001b[1;33m\u001b[0m\u001b[0m\n\u001b[0m\u001b[0;32m      2\u001b[0m \u001b[0mTEMP_SUBS\u001b[0m\u001b[1;33m\u001b[0m\u001b[0m\n",
      "\u001b[1;31mNameError\u001b[0m: name 'hh' is not defined"
     ]
    }
   ],
   "source": [
    "TEMP_SUBS=hh\n",
    "TEMP_SUBS"
   ]
  },
  {
   "cell_type": "code",
   "execution_count": 375,
   "metadata": {
    "collapsed": true
   },
   "outputs": [],
   "source": [
    "TEMP_SUBS.drop(14,axis=1,level=0,inplace=True)\n",
    "TEMP_SUBS.columns = pd.MultiIndex.from_tuples(TEMP_SUBS.columns.to_series())"
   ]
  },
  {
   "cell_type": "code",
   "execution_count": null,
   "metadata": {
    "collapsed": true
   },
   "outputs": [],
   "source": []
  },
  {
   "cell_type": "code",
   "execution_count": 365,
   "metadata": {},
   "outputs": [
    {
     "data": {
      "text/html": [
       "<div>\n",
       "<style>\n",
       "    .dataframe thead tr:only-child th {\n",
       "        text-align: right;\n",
       "    }\n",
       "\n",
       "    .dataframe thead th {\n",
       "        text-align: left;\n",
       "    }\n",
       "\n",
       "    .dataframe tbody tr th {\n",
       "        vertical-align: top;\n",
       "    }\n",
       "</style>\n",
       "<table border=\"1\" class=\"dataframe\">\n",
       "  <thead>\n",
       "    <tr>\n",
       "      <th></th>\n",
       "      <th colspan=\"3\" halign=\"left\">a</th>\n",
       "      <th colspan=\"2\" halign=\"left\">x</th>\n",
       "    </tr>\n",
       "    <tr>\n",
       "      <th></th>\n",
       "      <th>b</th>\n",
       "      <th>c</th>\n",
       "      <th>f</th>\n",
       "      <th>c</th>\n",
       "      <th>f</th>\n",
       "    </tr>\n",
       "  </thead>\n",
       "  <tbody>\n",
       "    <tr>\n",
       "      <th>0</th>\n",
       "      <td>1</td>\n",
       "      <td>3</td>\n",
       "      <td>7</td>\n",
       "      <td>21</td>\n",
       "      <td>8</td>\n",
       "    </tr>\n",
       "    <tr>\n",
       "      <th>1</th>\n",
       "      <td>2</td>\n",
       "      <td>4</td>\n",
       "      <td>9</td>\n",
       "      <td>21</td>\n",
       "      <td>8</td>\n",
       "    </tr>\n",
       "  </tbody>\n",
       "</table>\n",
       "</div>"
      ],
      "text/plain": [
       "   a         x   \n",
       "   b  c  f   c  f\n",
       "0  1  3  7  21  8\n",
       "1  2  4  9  21  8"
      ]
     },
     "execution_count": 365,
     "metadata": {},
     "output_type": "execute_result"
    }
   ],
   "source": [
    "cols = pd.MultiIndex.from_tuples([(\"a\", \"b\"), (\"a\", \"c\"), (\"a\", \"f\"), ('x', 'c'),('x', 'f')])\n",
    "df = pd.DataFrame([[1,3, 7, 21, 8], [2, 4, 9, 21, 8]], columns=cols)\n",
    "df"
   ]
  },
  {
   "cell_type": "code",
   "execution_count": null,
   "metadata": {
    "collapsed": true
   },
   "outputs": [],
   "source": []
  },
  {
   "cell_type": "code",
   "execution_count": 366,
   "metadata": {
    "collapsed": true
   },
   "outputs": [],
   "source": [
    "del df['x']"
   ]
  },
  {
   "cell_type": "code",
   "execution_count": 369,
   "metadata": {},
   "outputs": [
    {
     "data": {
      "text/html": [
       "<div>\n",
       "<style>\n",
       "    .dataframe thead tr:only-child th {\n",
       "        text-align: right;\n",
       "    }\n",
       "\n",
       "    .dataframe thead th {\n",
       "        text-align: left;\n",
       "    }\n",
       "\n",
       "    .dataframe tbody tr th {\n",
       "        vertical-align: top;\n",
       "    }\n",
       "</style>\n",
       "<table border=\"1\" class=\"dataframe\">\n",
       "  <thead>\n",
       "    <tr>\n",
       "      <th></th>\n",
       "      <th colspan=\"3\" halign=\"left\">a</th>\n",
       "    </tr>\n",
       "    <tr>\n",
       "      <th></th>\n",
       "      <th>b</th>\n",
       "      <th>c</th>\n",
       "      <th>f</th>\n",
       "    </tr>\n",
       "  </thead>\n",
       "  <tbody>\n",
       "    <tr>\n",
       "      <th>0</th>\n",
       "      <td>1</td>\n",
       "      <td>3</td>\n",
       "      <td>7</td>\n",
       "    </tr>\n",
       "    <tr>\n",
       "      <th>1</th>\n",
       "      <td>2</td>\n",
       "      <td>4</td>\n",
       "      <td>9</td>\n",
       "    </tr>\n",
       "  </tbody>\n",
       "</table>\n",
       "</div>"
      ],
      "text/plain": [
       "   a      \n",
       "   b  c  f\n",
       "0  1  3  7\n",
       "1  2  4  9"
      ]
     },
     "execution_count": 369,
     "metadata": {},
     "output_type": "execute_result"
    }
   ],
   "source": [
    "df"
   ]
  },
  {
   "cell_type": "code",
   "execution_count": 373,
   "metadata": {},
   "outputs": [
    {
     "data": {
      "text/plain": [
       "a  b    (a, b)\n",
       "   c    (a, c)\n",
       "   f    (a, f)\n",
       "dtype: object"
      ]
     },
     "execution_count": 373,
     "metadata": {},
     "output_type": "execute_result"
    }
   ],
   "source": [
    "df.columns.to_series()"
   ]
  },
  {
   "cell_type": "code",
   "execution_count": 368,
   "metadata": {},
   "outputs": [
    {
     "data": {
      "text/plain": [
       "MultiIndex(levels=[['a'], ['b', 'c', 'f']],\n",
       "           labels=[[0, 0, 0], [0, 1, 2]])"
      ]
     },
     "execution_count": 368,
     "metadata": {},
     "output_type": "execute_result"
    }
   ],
   "source": [
    "pd.MultiIndex.from_tuples(df.columns.to_series())"
   ]
  },
  {
   "cell_type": "code",
   "execution_count": 354,
   "metadata": {},
   "outputs": [
    {
     "data": {
      "text/html": [
       "<div>\n",
       "<style>\n",
       "    .dataframe thead tr:only-child th {\n",
       "        text-align: right;\n",
       "    }\n",
       "\n",
       "    .dataframe thead th {\n",
       "        text-align: left;\n",
       "    }\n",
       "\n",
       "    .dataframe tbody tr th {\n",
       "        vertical-align: top;\n",
       "    }\n",
       "</style>\n",
       "<table border=\"1\" class=\"dataframe\">\n",
       "  <thead>\n",
       "    <tr style=\"text-align: right;\">\n",
       "      <th></th>\n",
       "    </tr>\n",
       "  </thead>\n",
       "  <tbody>\n",
       "  </tbody>\n",
       "</table>\n",
       "</div>"
      ],
      "text/plain": [
       "Empty DataFrame\n",
       "Columns: []\n",
       "Index: []"
      ]
     },
     "execution_count": 354,
     "metadata": {},
     "output_type": "execute_result"
    }
   ],
   "source": [
    "df.columns = pd.MultiIndex.from_tuples(df.columns.to_series())\n",
    " \n",
    "df.columns\n",
    "MultiIndex(levels=[[u'a'], [u'b', u'c', u'f']],\n",
    "           labels=[[0, 0, 0], [0, 1, 2]])"
   ]
  },
  {
   "cell_type": "code",
   "execution_count": 363,
   "metadata": {},
   "outputs": [
    {
     "data": {
      "text/html": [
       "<div>\n",
       "<style>\n",
       "    .dataframe thead tr:only-child th {\n",
       "        text-align: right;\n",
       "    }\n",
       "\n",
       "    .dataframe thead th {\n",
       "        text-align: left;\n",
       "    }\n",
       "\n",
       "    .dataframe tbody tr th {\n",
       "        vertical-align: top;\n",
       "    }\n",
       "</style>\n",
       "<table border=\"1\" class=\"dataframe\">\n",
       "  <thead>\n",
       "    <tr>\n",
       "      <th></th>\n",
       "      <th colspan=\"3\" halign=\"left\">a</th>\n",
       "      <th colspan=\"2\" halign=\"left\">x</th>\n",
       "    </tr>\n",
       "    <tr>\n",
       "      <th></th>\n",
       "      <th>b</th>\n",
       "      <th>c</th>\n",
       "      <th>f</th>\n",
       "      <th>c</th>\n",
       "      <th>f</th>\n",
       "    </tr>\n",
       "  </thead>\n",
       "  <tbody>\n",
       "    <tr>\n",
       "      <th>0</th>\n",
       "      <td>1</td>\n",
       "      <td>3</td>\n",
       "      <td>7</td>\n",
       "      <td>21</td>\n",
       "      <td>8</td>\n",
       "    </tr>\n",
       "    <tr>\n",
       "      <th>1</th>\n",
       "      <td>2</td>\n",
       "      <td>4</td>\n",
       "      <td>9</td>\n",
       "      <td>21</td>\n",
       "      <td>8</td>\n",
       "    </tr>\n",
       "  </tbody>\n",
       "</table>\n",
       "</div>"
      ],
      "text/plain": [
       "   a         x   \n",
       "   b  c  f   c  f\n",
       "0  1  3  7  21  8\n",
       "1  2  4  9  21  8"
      ]
     },
     "execution_count": 363,
     "metadata": {},
     "output_type": "execute_result"
    }
   ],
   "source": [
    "pd.concat([dd,df], axis=1)"
   ]
  },
  {
   "cell_type": "code",
   "execution_count": 360,
   "metadata": {},
   "outputs": [
    {
     "data": {
      "text/plain": [
       "<pandas.core.indexing._LocIndexer at 0x49628690b8>"
      ]
     },
     "execution_count": 360,
     "metadata": {},
     "output_type": "execute_result"
    }
   ],
   "source": []
  },
  {
   "cell_type": "code",
   "execution_count": 244,
   "metadata": {
    "collapsed": true
   },
   "outputs": [],
   "source": [
    "TEMP_SUBS.drop(14, axis=1, level=0, inplace=True)"
   ]
  },
  {
   "cell_type": "code",
   "execution_count": 270,
   "metadata": {},
   "outputs": [
    {
     "ename": "NameError",
     "evalue": "name 'ii' is not defined",
     "output_type": "error",
     "traceback": [
      "\u001b[1;31m---------------------------------------------------------------------------\u001b[0m",
      "\u001b[1;31mNameError\u001b[0m                                 Traceback (most recent call last)",
      "\u001b[1;32m<ipython-input-270-f42aab696812>\u001b[0m in \u001b[0;36m<module>\u001b[1;34m()\u001b[0m\n\u001b[1;32m----> 1\u001b[1;33m \u001b[0mTEMP_SUBS\u001b[0m\u001b[1;33m=\u001b[0m\u001b[0mTEMP_SUBS\u001b[0m\u001b[1;33m[\u001b[0m\u001b[0mTEMP_SUBS\u001b[0m\u001b[1;33m[\u001b[0m\u001b[0mii\u001b[0m\u001b[1;33m]\u001b[0m\u001b[1;33m.\u001b[0m\u001b[0misin\u001b[0m\u001b[1;33m(\u001b[0m\u001b[1;33m[\u001b[0m\u001b[1;36m132\u001b[0m\u001b[1;33m,\u001b[0m \u001b[1;36m14\u001b[0m\u001b[1;33m,\u001b[0m \u001b[1;36m32\u001b[0m\u001b[1;33m]\u001b[0m\u001b[1;33m)\u001b[0m\u001b[1;33m]\u001b[0m\u001b[1;33m\u001b[0m\u001b[0m\n\u001b[0m",
      "\u001b[1;31mNameError\u001b[0m: name 'ii' is not defined"
     ]
    }
   ],
   "source": [
    "TEMP_SUBS=TEMP_SUBS[TEMP_SUBS['IDs']]"
   ]
  },
  {
   "cell_type": "code",
   "execution_count": 261,
   "metadata": {},
   "outputs": [
    {
     "data": {
      "text/plain": [
       "MultiIndex(levels=[[14, 32, 56, 132], ['EndTime', 'Line', 'StartTime']],\n",
       "           labels=[[3, 3, 3, 1, 1, 1, 2, 2, 2], [2, 0, 1, 2, 0, 1, 2, 0, 1]],\n",
       "           names=['IDs', 'LData'])"
      ]
     },
     "execution_count": 261,
     "metadata": {},
     "output_type": "execute_result"
    }
   ],
   "source": [
    "TEMP_SUBS.columns"
   ]
  },
  {
   "cell_type": "code",
   "execution_count": 144,
   "metadata": {
    "collapsed": true
   },
   "outputs": [],
   "source": [
    "TEMP_SUBS.to_hdf('TEMP_SUBS.h5', 'imdb_id', min_itemsize=100)"
   ]
  },
  {
   "cell_type": "code",
   "execution_count": 145,
   "metadata": {
    "collapsed": true
   },
   "outputs": [],
   "source": [
    "open_temp=pd.read_hdf('TEMP_SUBS.h5', 'imdb_id')"
   ]
  },
  {
   "cell_type": "code",
   "execution_count": 157,
   "metadata": {},
   "outputs": [
    {
     "data": {
      "text/plain": [
       "FrozenList([[14, 32, 56, 132], ['EndTime', 'Line', 'StartTime']])"
      ]
     },
     "execution_count": 157,
     "metadata": {},
     "output_type": "execute_result"
    }
   ],
   "source": [
    "open_temp.columns.levels"
   ]
  },
  {
   "cell_type": "code",
   "execution_count": 179,
   "metadata": {},
   "outputs": [
    {
     "data": {
      "text/html": [
       "<div>\n",
       "<style>\n",
       "    .dataframe thead tr:only-child th {\n",
       "        text-align: right;\n",
       "    }\n",
       "\n",
       "    .dataframe thead th {\n",
       "        text-align: left;\n",
       "    }\n",
       "\n",
       "    .dataframe tbody tr th {\n",
       "        vertical-align: top;\n",
       "    }\n",
       "</style>\n",
       "<table border=\"1\" class=\"dataframe\">\n",
       "  <thead>\n",
       "    <tr style=\"text-align: right;\">\n",
       "      <th></th>\n",
       "      <th>StartTime</th>\n",
       "      <th>EndTime</th>\n",
       "      <th>Line</th>\n",
       "    </tr>\n",
       "  </thead>\n",
       "  <tbody>\n",
       "    <tr>\n",
       "      <th>0</th>\n",
       "      <td>-0.021409</td>\n",
       "      <td>-1.365202</td>\n",
       "      <td>-0.683789</td>\n",
       "    </tr>\n",
       "    <tr>\n",
       "      <th>1</th>\n",
       "      <td>1.277700</td>\n",
       "      <td>0.460811</td>\n",
       "      <td>2.075403</td>\n",
       "    </tr>\n",
       "    <tr>\n",
       "      <th>2</th>\n",
       "      <td>0.665425</td>\n",
       "      <td>0.925933</td>\n",
       "      <td>1.459065</td>\n",
       "    </tr>\n",
       "    <tr>\n",
       "      <th>3</th>\n",
       "      <td>0.628088</td>\n",
       "      <td>-0.989582</td>\n",
       "      <td>-0.833153</td>\n",
       "    </tr>\n",
       "    <tr>\n",
       "      <th>4</th>\n",
       "      <td>-1.666710</td>\n",
       "      <td>1.297471</td>\n",
       "      <td>0.729070</td>\n",
       "    </tr>\n",
       "    <tr>\n",
       "      <th>5</th>\n",
       "      <td>0.668121</td>\n",
       "      <td>0.811984</td>\n",
       "      <td>-0.349525</td>\n",
       "    </tr>\n",
       "    <tr>\n",
       "      <th>6</th>\n",
       "      <td>-0.639504</td>\n",
       "      <td>0.260654</td>\n",
       "      <td>1.282409</td>\n",
       "    </tr>\n",
       "    <tr>\n",
       "      <th>7</th>\n",
       "      <td>-0.807984</td>\n",
       "      <td>-0.461976</td>\n",
       "      <td>1.146245</td>\n",
       "    </tr>\n",
       "  </tbody>\n",
       "</table>\n",
       "</div>"
      ],
      "text/plain": [
       "   StartTime   EndTime      Line\n",
       "0  -0.021409 -1.365202 -0.683789\n",
       "1   1.277700  0.460811  2.075403\n",
       "2   0.665425  0.925933  1.459065\n",
       "3   0.628088 -0.989582 -0.833153\n",
       "4  -1.666710  1.297471  0.729070\n",
       "5   0.668121  0.811984 -0.349525\n",
       "6  -0.639504  0.260654  1.282409\n",
       "7  -0.807984 -0.461976  1.146245"
      ]
     },
     "execution_count": 179,
     "metadata": {},
     "output_type": "execute_result"
    }
   ],
   "source": [
    "imdb_id=[56]\n",
    "test3=pd.DataFrame(np.random.randn(8,3),columns=['StartTime','EndTime','Line'])\n",
    "test3"
   ]
  },
  {
   "cell_type": "code",
   "execution_count": 182,
   "metadata": {},
   "outputs": [
    {
     "data": {
      "text/plain": [
       "0    0.363301\n",
       "1    0.886876\n",
       "2   -0.673198\n",
       "3   -1.630666\n",
       "4    0.385590\n",
       "5    2.086717\n",
       "6   -0.761104\n",
       "7    0.474953\n",
       "Name: Line, dtype: float64"
      ]
     },
     "execution_count": 182,
     "metadata": {},
     "output_type": "execute_result"
    }
   ],
   "source": [
    "test2[56]['Line']"
   ]
  },
  {
   "cell_type": "markdown",
   "metadata": {
    "collapsed": true
   },
   "source": [
    "# Playing with count vectorizer"
   ]
  },
  {
   "cell_type": "code",
   "execution_count": 12,
   "metadata": {
    "collapsed": true
   },
   "outputs": [],
   "source": []
  },
  {
   "cell_type": "code",
   "execution_count": 17,
   "metadata": {
    "collapsed": true
   },
   "outputs": [],
   "source": [
    "from sklearn.feature_extraction.text import CountVectorizer\n",
    "import tokenize\n",
    "vectorizer=CountVectorizer()"
   ]
  },
  {
   "cell_type": "code",
   "execution_count": 14,
   "metadata": {
    "collapsed": true
   },
   "outputs": [],
   "source": [
    "corpus = [\n",
    "...     'This is the first document.',\n",
    "...     'This is the second second document.',\n",
    "...     'And the third one.',\n",
    "...     'Is this the first document?',\n",
    "... ]\n"
   ]
  },
  {
   "cell_type": "code",
   "execution_count": 20,
   "metadata": {},
   "outputs": [
    {
     "data": {
      "text/plain": [
       "<4x9 sparse matrix of type '<class 'numpy.int64'>'\n",
       "\twith 19 stored elements in Compressed Sparse Row format>"
      ]
     },
     "execution_count": 20,
     "metadata": {},
     "output_type": "execute_result"
    }
   ],
   "source": [
    "X = vectorizer.fit_transform(corpus)\n",
    "X"
   ]
  },
  {
   "cell_type": "code",
   "execution_count": 26,
   "metadata": {},
   "outputs": [
    {
     "data": {
      "text/plain": [
       "<function sklearn.feature_extraction.text.VectorizerMixin.build_analyzer.<locals>.<lambda>>"
      ]
     },
     "execution_count": 26,
     "metadata": {},
     "output_type": "execute_result"
    }
   ],
   "source": [
    "analyzer=vectorizer.build_analyzer()\n",
    "analyzer"
   ]
  },
  {
   "cell_type": "code",
   "execution_count": 24,
   "metadata": {},
   "outputs": [
    {
     "data": {
      "text/plain": [
       "array([[0, 0, 0, 1, 0, 1, 0],\n",
       "       [0, 1, 0, 0, 0, 1, 1],\n",
       "       [1, 1, 1, 0, 1, 1, 0]], dtype=int64)"
      ]
     },
     "execution_count": 24,
     "metadata": {},
     "output_type": "execute_result"
    }
   ],
   "source": [
    "tags = [\"python, tools\",\n",
    "  \"linux, tools, ubuntu\",\n",
    "  \"distributed systems, linux, networking, tools\"]\n",
    "vec = CountVectorizer()\n",
    "data = vec.fit_transform(tags).toarray()\n",
    "data"
   ]
  },
  {
   "cell_type": "code",
   "execution_count": null,
   "metadata": {
    "collapsed": true
   },
   "outputs": [],
   "source": []
  }
 ],
 "metadata": {
  "kernelspec": {
   "display_name": "Python 3",
   "language": "python",
   "name": "python3"
  },
  "language_info": {
   "codemirror_mode": {
    "name": "ipython",
    "version": 3
   },
   "file_extension": ".py",
   "mimetype": "text/x-python",
   "name": "python",
   "nbconvert_exporter": "python",
   "pygments_lexer": "ipython3",
   "version": "3.6.2"
  }
 },
 "nbformat": 4,
 "nbformat_minor": 2
}
