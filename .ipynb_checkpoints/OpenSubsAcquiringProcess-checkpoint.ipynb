{
 "cells": [
  {
   "cell_type": "code",
   "execution_count": 1,
   "metadata": {
    "collapsed": true
   },
   "outputs": [],
   "source": [
    "import pandas as pd\n",
    "import io, gzip\n",
    "from codecs import decode\n",
    "import pysrt\n",
    "import datetime as dt\n",
    "import base64\n",
    "import os as OS"
   ]
  },
  {
   "cell_type": "code",
   "execution_count": 3,
   "metadata": {
    "collapsed": true
   },
   "outputs": [],
   "source": [
    "from pythonopensubtitles.opensubtitles import OpenSubtitles\n",
    "os = OpenSubtitles()\n",
    "\n",
    "token = os.login('mradu22@gmail.com', 'romaniaa11')"
   ]
  },
  {
   "cell_type": "code",
   "execution_count": 14,
   "metadata": {
    "collapsed": true
   },
   "outputs": [],
   "source": [
    "def search_best_sub(imdb_id_search):\n",
    "    #imdb_id_search='1055369'\n",
    "    data = os.search_subtitles([{'sublanguageid': 'eng','imdbid': imdb_id_search,'SubFormat': 'srt'}])\n",
    "    assert type(data) == list\n",
    "\n",
    "\n",
    "    #search and select the highest rated subtitle based on user download (maybe rating too) file and store its ID\n",
    "    best=[]\n",
    "    for i in range(0,len(data)):\n",
    "        best.append(float(data[i]['SubRating'])*float(data[i]['SubDownloadsCnt']))  \n",
    "    best_sub_id=data[best.index(max(best))]['IDSubtitleFile']  \n",
    "    print('Found the best one', best_sub_id)\n",
    "    return data\n",
    "\n",
    "def download_sub(best_sub_id):\n",
    "    #############################################\n",
    "    ##crucial line as you only have 200 per day##\n",
    "    #subdata=os.download_subtitles([best_sub_id])\n",
    "    ##crucial line as you only have 200 per day##\n",
    "    #############################################\n",
    "    return subdata\n",
    "\n",
    "def decode_store(subdata):\n",
    "    #decode and upzip the file\n",
    "    compressed_subdata = decode(bytearray(subdata[0]['data'].encode(\"utf-8\")),'base64')\n",
    "    sub_text = gzip.GzipFile(fileobj=io.BytesIO(compressed_subdata)).read()\n",
    "\n",
    "    #parse it and store it into a DataFrame with three columns, starttime, endtime, and line\n",
    "    sub_text_str = str(sub_text)\n",
    "    snew = sub_text_str.replace(\"\\\\n\",\"\\n\").replace(\"\\\\r\",\"\\r\").replace(\"</i>\",\"\").replace(\"<i>-\",\"\").replace(\"<i>\",\"\").replace(\"\\\\\",\"\")\n",
    "    subs=list(filter(None, snew.split('\\r\\n')))\n",
    "    subs=[x for x in subs if not x.isdigit()]\n",
    "    if subs[0][0]=='b':\n",
    "        subs.pop(0)\n",
    "\n",
    "    starttimes=[]\n",
    "    endtimes=[]\n",
    "    words=[]\n",
    "    #\"-->\" in line\n",
    "    prevLineWasWords =False\n",
    "    for line in subs:\n",
    "        line=line.strip()\n",
    "        if \"-->\" in line:\n",
    "            starttimes.append(line[:8])\n",
    "            endtimes.append(line[17:25])\n",
    "        elif len(line) > 1:\n",
    "                if prevLineWasWords:\n",
    "                        words[len(words)-1] = words[len(words)-1] + \" \" + line\n",
    "                else:\n",
    "                        words.append(line)\n",
    "                prevLineWasWords = True\n",
    "                continue\n",
    "        prevLineWasWords = False  \n",
    "\n",
    "    #this needs to be made better but for now we need these to be same length so it will have to do\n",
    "    trim_by=min([len(starttimes),len(endtimes),len(words)])\n",
    "    starttimes=starttimes[0:trim_by]\n",
    "    endtimes=endtimes[0:trim_by]\n",
    "    words=words[0:trim_by]\n",
    "\n",
    "    plines=pd.DataFrame()\n",
    "    s1 = pd.Series(starttimes)\n",
    "    s2 = pd.Series(endtimes)\n",
    "    s3 = pd.Series(words)\n",
    "    plines['StartTime'] = s1.values\n",
    "    plines['EndTime'] = s2.values\n",
    "    plines['Line'] = s3.values\n",
    "    return plines\n",
    "\n",
    "\n"
   ]
  },
  {
   "cell_type": "code",
   "execution_count": 17,
   "metadata": {},
   "outputs": [],
   "source": [
    "data=os.search_subtitles([{'sublanguageid': 'eng','imdbid': 1055369,'SubFormat': 'srt'}])"
   ]
  },
  {
   "cell_type": "code",
   "execution_count": 20,
   "metadata": {},
   "outputs": [
    {
     "name": "stdout",
     "output_type": "stream",
     "text": [
      "None\n"
     ]
    }
   ],
   "source": [
    "print(data)"
   ]
  },
  {
   "cell_type": "code",
   "execution_count": 70,
   "metadata": {},
   "outputs": [
    {
     "name": "stdout",
     "output_type": "stream",
     "text": [
      "Found the best one 1953045324\n",
      "Found the best one 1954649943\n",
      "Found the best one 1951637834\n",
      "Found the best one 1951669715\n",
      "Found the best one 1951641851\n"
     ]
    }
   ],
   "source": [
    "BData=dict()\n",
    "mov_list=['0120338','2322441','0109830','0398808','0119643']\n",
    "for ii in range(0,len(mov_list)):\n",
    "    BData[mov_list[ii]] = decode_store(download_sub(search_best_sub(mov_list[ii])))"
   ]
  },
  {
   "cell_type": "code",
   "execution_count": 71,
   "metadata": {},
   "outputs": [
    {
     "data": {
      "text/plain": [
       "Index(['0109830', '0119643', '0120338', '0398808', '2322441'], dtype='object')"
      ]
     },
     "execution_count": 71,
     "metadata": {},
     "output_type": "execute_result"
    }
   ],
   "source": [
    "for ii in range(0,len(mov_list)):\n",
    "    if len(BData[mov_list[ii]])==0:\n",
    "        BData.pop(mov_list[ii],None)\n",
    "Sub_data = pd.Panel(BData)\n",
    "Sub_data.items"
   ]
  },
  {
   "cell_type": "code",
   "execution_count": 72,
   "metadata": {
    "collapsed": true
   },
   "outputs": [],
   "source": [
    "fname1='DraDB'\n",
    "fname=fname1+'.h5'\n",
    "if not OS.path.isfile(fname):\n",
    "    Sub_data.to_hdf(fname, 'key',append=True, min_itemsize=50)\n",
    "else:\n",
    "    Sub_data.to_hdf(fname, 'key',append=True, min_itemsize=50)"
   ]
  }
 ],
 "metadata": {
  "kernelspec": {
   "display_name": "Python 3",
   "language": "python",
   "name": "python3"
  },
  "language_info": {
   "codemirror_mode": {
    "name": "ipython",
    "version": 3
   },
   "file_extension": ".py",
   "mimetype": "text/x-python",
   "name": "python",
   "nbconvert_exporter": "python",
   "pygments_lexer": "ipython3",
   "version": "3.6.2"
  }
 },
 "nbformat": 4,
 "nbformat_minor": 2
}
