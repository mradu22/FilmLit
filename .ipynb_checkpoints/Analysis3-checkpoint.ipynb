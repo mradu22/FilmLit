{
 "cells": [
  {
   "cell_type": "code",
   "execution_count": 11,
   "metadata": {},
   "outputs": [],
   "source": [
    "import omdb\n",
    "import pandas as pd\n",
    "import urllib.request, urllib.parse, urllib.error\n",
    "import json\n",
    "import csv\n",
    "import time\n",
    "import os\n",
    "import itertools\n",
    "import numpy as np\n",
    "import pandas as pd\n",
    "import matplotlib.pyplot as plt\n",
    "from matplotlib import style\n",
    "style.use('ggplot')\n",
    "from sklearn import datasets, linear_model\n",
    "from scipy import special, optimize\n",
    "import numpy as np\n",
    "from scipy.optimize import curve_fit\n",
    "\n",
    "lrom=['0120338','0099653','0100405','1000774']\n",
    "lact=['1300854','1074638','0468569','2488496','2975590']\n",
    "lhor=['0070047','0298130','0816711','0289765']\n",
    "lfam=['2294629','2293640','2277860','3469046','0110357']\n",
    "ldra=['0120338','2322441','0109830','0398808','0119643']\n",
    "\n",
    "roms=pd.read_hdf('RomDB.h5', 'key')\n",
    "acts=pd.read_hdf('ActDB.h5', 'key')\n",
    "dras=pd.read_hdf('DraDB.h5', 'key')\n",
    "hors=pd.read_hdf('HorDB.h5', 'key')\n",
    "fams=pd.read_hdf('FamDB.h5', 'key')\n",
    "\n",
    "\n",
    "movdb=pd.read_hdf('movbaseA.h5', 'imdb_id')\n",
    "movdb=movdb.reset_index()\n",
    "\n"
   ]
  },
  {
   "cell_type": "code",
   "execution_count": 12,
   "metadata": {
    "collapsed": true
   },
   "outputs": [],
   "source": [
    "test={'1300854':acts['1300854'],'1074638':acts['1074638'],'0468569':acts['0468569'],'2488496':acts['2488496']}\n",
    "acts=pd.Panel(test)"
   ]
  },
  {
   "cell_type": "code",
   "execution_count": 13,
   "metadata": {},
   "outputs": [],
   "source": [
    "roms.dropna(axis=1, inplace=True)\n",
    "acts.dropna(axis=1, inplace=True)\n",
    "dras.dropna(axis=1, inplace=True)\n",
    "fams.dropna(axis=1, inplace=True)\n",
    "hors.dropna(axis=1, inplace=True)\n"
   ]
  },
  {
   "cell_type": "code",
   "execution_count": 44,
   "metadata": {},
   "outputs": [
    {
     "name": "stdout",
     "output_type": "stream",
     "text": [
      "[(0, '0.011*\"mandarin\" + 0.010*\"someth\" + 0.010*\"alright\" + 0.010*\"happen\"'), (1, '0.031*\"harvey\" + 0.025*\"batman\" + 0.016*\"gotham\" + 0.012*\"rachel\"'), (2, '0.001*\"harvey\" + 0.001*\"batman\" + 0.001*\"gotham\" + 0.001*\"someth\"'), (3, '0.027*\"resist\" + 0.011*\"system\" + 0.010*\"skywalk\" + 0.009*\"falcon\"')]\n"
     ]
    }
   ],
   "source": [
    "from collections import Counter\n",
    "from nltk.tokenize import RegexpTokenizer\n",
    "tokenizer = RegexpTokenizer(r'\\w+')\n",
    "\n",
    "from stop_words import get_stop_words\n",
    "en_stop = get_stop_words('en')\n",
    "\n",
    "from nltk.stem.porter import PorterStemmer\n",
    "p_stemmer = PorterStemmer()\n",
    "\n",
    "# list for tokenized documents in loop\n",
    "texts = []\n",
    "\n",
    "# loop through document list\n",
    "for ii in range(len(lrom)):\n",
    "    \n",
    "    # clean and tokenize document string\n",
    "    whole_movie_str = \" \".join(acts[lact[ii]]['Line'].values)\n",
    "    raw = whole_movie_str.lower()\n",
    "\n",
    "    tokens = tokenizer.tokenize(raw)\n",
    "\n",
    "    # remove stop words from tokens\n",
    "    stopped_tokens = [i for i in tokens if not i in en_stop]\n",
    "    \n",
    "    # stem tokens\n",
    "    stemmed_tokens = [p_stemmer.stem(i) for i in stopped_tokens]\n",
    "\n",
    "    stemmed_tokens = list(filter(lambda x: len(x) > 5,stemmed_tokens))\n",
    "    \n",
    "    # add tokens to list\n",
    "    texts.append(stemmed_tokens)\n",
    "\n",
    "from gensim import corpora, models\n",
    "# turn our tokenized documents into a id <-> term dictionary\n",
    "dictionary = corpora.Dictionary(texts)\n",
    "# convert tokenized documents into a document-term matrix\n",
    "corpus = [dictionary.doc2bow(text) for text in texts]\n",
    "\n",
    "# generate LDA model\n",
    "ldamodel = models.ldamodel.LdaModel(corpus, num_topics=4, id2word = dictionary, passes=20)\n",
    "#print(ldamodel.print_topics(num_topics=4, num_words=4))\n",
    "\n",
    "ACTt=list(itertools.chain.from_iterable(texts))\n",
    "counter = collections.Counter(ACTt)\n",
    "print(counter.most_common())"
   ]
  },
  {
   "cell_type": "code",
   "execution_count": 50,
   "metadata": {},
   "outputs": [
    {
     "name": "stdout",
     "output_type": "stream",
     "text": [
      "[('harvey', 43), ('someth', 38), ('happen', 34), ('batman', 34), ('realli', 32), ('resist', 26), ('mandarin', 26), ('alright', 24), ('presid', 24), ('friend', 24), ('rememb', 22), ('gotham', 22), ('someon', 21), ('believ', 21), ('thought', 19), ('better', 18), ('actual', 17), ('system', 17), ('pepper', 17), ('without', 17), ('alreadi', 17), ('enough', 17), ('rachel', 17), ('wouldn', 16), ('understand', 16), ('protect', 15), ('killian', 14), ('attack', 14), ('listen', 14), ('bloodi', 14), ('question', 13), ('christma', 12), ('everyon', 12), ('problem', 12), ('exactli', 11), ('welcom', 11), ('behind', 11), ('colonel', 11), ('nobodi', 11), ('couldn', 11), ('chines', 11), ('afraid', 11), ('master', 11), ('second', 11), ('everyth', 11), ('target', 11), ('servic', 11), ('pretti', 11), ('gordon', 11), ('commission', 11), ('probabl', 10), ('differ', 10), ('complet', 10), ('terrorist', 10), ('patriot', 10), ('suppos', 10), ('father', 10), ('everybodi', 10), ('reason', 10), ('weapon', 10), ('possibl', 10), ('falcon', 10), ('perhap', 9), ('follow', 9), ('respons', 9), ('somebodi', 9), ('person', 9), ('around', 9), ('whatev', 9), ('report', 9), ('leader', 9), ('comput', 9), ('mallori', 9), ('crimin', 9), ('skywalk', 9), ('almost', 8), ('consid', 8), ('famili', 8), ('american', 8), ('machin', 8), ('inform', 8), ('appreci', 8), ('shadow', 8), ('street', 8), ('aldrich', 7), ('togeth', 7), ('access', 7), ('safeti', 7), ('remind', 7), ('public', 7), ('anymor', 7), ('answer', 7), ('tomorrow', 7), ('breath', 7), ('belong', 7), ('destroy', 7), ('tonight', 7), ('import', 7), ('brought', 7), ('london', 7), ('support', 7), ('desper', 7), ('whoever', 7), ('maroni', 7), ('rathtar', 7), ('switzerland', 6), ('govern', 6), ('extremi', 6), ('repeat', 6), ('militari', 6), ('strong', 6), ('perfect', 6), ('subject', 6), ('record', 6), ('flight', 6), ('normal', 6), ('appoint', 6), ('broadcast', 6), ('number', 6), ('signal', 6), ('promis', 6), ('straight', 6), ('either', 6), ('complic', 6), ('trevor', 6), ('somewher', 6), ('return', 6), ('danger', 6), ('ronson', 6), ('minist', 6), ('recogn', 6), ('secret', 6), ('control', 6), ('island', 6), ('republ', 6), ('fighter', 6), ('favorit', 5), ('research', 5), ('mechan', 5), ('serious', 5), ('goodby', 5), ('attempt', 5), ('concern', 5), ('immedi', 5), ('clearli', 5), ('screen', 5), ('custom', 5), ('finish', 5), ('threat', 5), ('fashion', 5), ('transfer', 5), ('travel', 5), ('offici', 5), ('countri', 5), ('arrest', 5), ('moment', 5), ('gentlemen', 5), ('protocol', 5), ('million', 5), ('tanner', 5), ('afford', 5), ('appear', 5), ('rather', 5), ('forgiv', 5), ('investig', 5), ('lieuten', 5), ('beauti', 5), ('custodi', 5), ('disappear', 5), ('compani', 5), ('client', 5), ('counti', 5), ('galaxi', 5), ('cannon', 5), ('suprem', 5), ('restraint', 5), ('ground', 4), ('privat', 4), ('bought', 4), ('outsid', 4), ('prepar', 4), ('lesson', 4), ('continu', 4), ('nation', 4), ('explos', 4), ('frankli', 4), ('suggest', 4), ('vulner', 4), ('compliment', 4), ('physic', 4), ('intern', 4), ('confer', 4), ('imagin', 4), ('except', 4), ('girlfriend', 4), ('address', 4), ('satellit', 4), ('tennesse', 4), ('threaten', 4), ('expect', 4), ('trigger', 4), ('apolog', 4), ('anyway', 4), ('sister', 4), ('account', 4), ('pictur', 4), ('origin', 4), ('mission', 4), ('program', 4), ('perform', 4), ('honestli', 4), ('compound', 4), ('embarrass', 4), ('wonder', 4), ('campaign', 4), ('surround', 4), ('aboard', 4), ('backup', 4), ('mistak', 4), ('direct', 4), ('tunnel', 4), ('respect', 4), ('depart', 4), ('branch', 4), ('matter', 4), ('murder', 4), ('surviv', 4), ('coconut', 4), ('forget', 4), ('regret', 4), ('captur', 4), ('attent', 4), ('troubl', 4), ('kincad', 4), ('makeup', 4), ('driver', 4), ('detect', 4), ('vigilant', 4), ('seriou', 4), ('surrillo', 4), ('boyfriend', 4), ('blaster', 4), ('portion', 4), ('jacket', 4), ('millennium', 4), ('kanjiklub', 4), ('scaveng', 4), ('speech', 3), ('propos', 3), ('advanc', 3), ('incred', 3), ('essenti', 3), ('glitch', 3), ('forgot', 3), ('request', 3), ('sequenc', 3), ('pleasur', 3), ('children', 3), ('frighten', 3), ('remain', 3), ('resourc', 3), ('messag', 3), ('classifi', 3), ('richard', 3), ('poison', 3), ('biggest', 3), ('center', 3), ('digniti', 3), ('scienc', 3), ('interest', 3), ('soldier', 3), ('disappoint', 3), ('explain', 3), ('tinker', 3), ('distract', 3), ('fortun', 3), ('terror', 3), ('latest', 3), ('victim', 3), ('signatur', 3), ('someplac', 3), ('commit', 3), ('botanist', 3), ('hospit', 3), ('thousand', 3), ('server', 3), ('stupid', 3), ('sandwich', 3), ('button', 3), ('harley', 3), ('includ', 3), ('manipul', 3), ('guarante', 3), ('connect', 3), ('pakistan', 3), ('product', 3), ('camera', 3), ('memori', 3), ('rocket', 3), ('planet', 3), ('acquir', 3), ('shouldn', 3), ('accident', 3), ('simpli', 3), ('sometim', 3), ('express', 3), ('demand', 3), ('beyond', 3), ('monkey', 3), ('correct', 3), ('caught', 3), ('deserv', 3), ('chairman', 3), ('standard', 3), ('transit', 3), ('decrypt', 3), ('stolen', 3), ('british', 3), ('declar', 3), ('breach', 3), ('discov', 3), ('analyz', 3), ('gareth', 3), ('shanghai', 3), ('depend', 3), ('captain', 3), ('democraci', 3), ('defend', 3), ('releas', 3), ('station', 3), ('betray', 3), ('interrupt', 3), ('suffer', 3), ('prison', 3), ('mother', 3), ('overlook', 3), ('longer', 3), ('confirm', 3), ('obvious', 3), ('bigger', 3), ('wuertz', 3), ('arkham', 3), ('identifi', 3), ('counselor', 3), ('permiss', 3), ('hostil', 3), ('polici', 3), ('search', 3), ('invest', 3), ('convinc', 3), ('natascha', 3), ('jurisdict', 3), ('citizen', 3), ('fundrais', 3), ('calcul', 3), ('commun', 3), ('obstruct', 3), ('garbag', 3), ('dameron', 3), ('stormtroop', 3), ('freighter', 3), ('ileenium', 3), ('compressor', 3), ('hansen', 2), ('appropri', 2), ('talkin', 2), ('chemic', 2), ('diseas', 2), ('algorithm', 2), ('nearli', 2), ('brother', 2), ('prehensil', 2), ('propuls', 2), ('america', 2), ('slaughter', 2), ('quaint', 2), ('church', 2), ('central', 2), ('aggress', 2), ('pentagon', 2), ('wormhol', 2), ('diagnosi', 2), ('anxieti', 2), ('percent', 2), ('awkward', 2), ('regard', 2), ('univers', 2), ('strang', 2), ('potenti', 2), ('upgrad', 2), ('bodyguard', 2), ('handsom', 2), ('shifti', 2), ('charact', 2), ('unfortun', 2), ('slightli', 2), ('present', 2), ('naughti', 2), ('rabbit', 2), ('crowbar', 2), ('shower', 2), ('recalibr', 2), ('sensor', 2), ('decent', 2), ('ticket', 2), ('invent', 2), ('reaction', 2), ('malibu', 2), ('databas', 2), ('theatr', 2), ('excess', 2), ('within', 2), ('thermogen', 2), ('factor', 2), ('analysi', 2), ('assist', 2), ('similar', 2), ('surpris', 2), ('relationship', 2), ('discuss', 2), ('malfunct', 2), ('selfish', 2), ('barrel', 2), ('technic', 2), ('stealth', 2), ('laptop', 2), ('bazooka', 2), ('spring', 2), ('school', 2), ('unless', 2), ('heaven', 2), ('plastic', 2), ('sheriff', 2), ('sweetheart', 2), ('telephon', 2), ('intend', 2), ('roxxon', 2), ('televis', 2), ('strike', 2), ('bright', 2), ('eighti', 2), ('period', 2), ('addict', 2), ('gloriou', 2), ('idealist', 2), ('perfectli', 2), ('contract', 2), ('involv', 2), ('stretch', 2), ('electr', 2), ('twenti', 2), ('slatteri', 2), ('absolut', 2), ('substanc', 2), ('surgeri', 2), ('speedboat', 2), ('patholog', 2), ('killer', 2), ('western', 2), ('dungeon', 2), ('psycholog', 2), ('greatest', 2), ('anybodi', 2), ('rooftop', 2), ('hammer', 2), ('temper', 2), ('somewhat', 2), ('maniac', 2), ('transport', 2), ('finest', 2), ('somehow', 2), ('compromis', 2), ('stream', 2), ('heather', 2), ('tricki', 2), ('string', 2), ('disabl', 2), ('extrem', 2), ('dinner', 2), ('complain', 2), ('progress', 2), ('shrapnel', 2), ('stabil', 2), ('pursuit', 2), ('procedur', 2), ('option', 2), ('contain', 2), ('across', 2), ('highest', 2), ('current', 2), ('congratul', 2), ('overse', 2), ('encrypt', 2), ('assault', 2), ('imposs', 2), ('intellig', 2), ('employ', 2), ('england', 2), ('reassign', 2), ('suspens', 2), ('hardli', 2), ('obviou', 2), ('patric', 2), ('instruct', 2), ('termin', 2), ('quartermast', 2), ('document', 2), ('inevit', 2), ('pajama', 2), ('passport', 2), ('walther', 2), ('statement', 2), ('redeem', 2), ('entranc', 2), ('certain', 2), ('beretta', 2), ('pretend', 2), ('husein', 2), ('viewer', 2), ('disturb', 2), ('antiqu', 2), ('inquiri', 2), ('christ', 2), ('overnight', 2), ('grandmoth', 2), ('hungri', 2), ('survivor', 2), ('marksmanship', 2), ('quickli', 2), ('flatter', 2), ('unprofession', 2), ('cyanid', 2), ('capsul', 2), ('prosecut', 2), ('brilliant', 2), ('conceal', 2), ('purpos', 2), ('proceed', 2), ('sensit', 2), ('whenev', 2), ('granborough', 2), ('forward', 2), ('district', 2), ('health', 2), ('espionag', 2), ('irrelev', 2), ('section', 2), ('uniform', 2), ('heroic', 2), ('breadcrumb', 2), ('comfort', 2), ('monitor', 2), ('obituari', 2), ('kitchen', 2), ('bullet', 2), ('penthous', 2), ('faster', 2), ('social', 2), ('recommend', 2), ('wallet', 2), ('warrant', 2), ('knight', 2), ('ventur', 2), ('enterpris', 2), ('curiou', 2), ('ballet', 2), ('certainli', 2), ('deposit', 2), ('extradit', 2), ('lawyer', 2), ('gambol', 2), ('halfway', 2), ('racket', 2), ('compar', 2), ('lighter', 2), ('smuggler', 2), ('negoti', 2), ('businessman', 2), ('statur', 2), ('submarin', 2), ('cooper', 2), ('conspiraci', 2), ('justic', 2), ('impress', 2), ('symbol', 2), ('borrow', 2), ('situat', 2), ('intimid', 2), ('squeez', 2), ('bandit', 2), ('fingerprint', 2), ('archiv', 2), ('secretli', 2), ('project', 2), ('sacrific', 2), ('switch', 2), ('accomplic', 2), ('outlaw', 2), ('villag', 2), ('outpost', 2), ('fourteen', 2), ('ventral', 2), ('shield', 2), ('anywher', 2), ('junkyard', 2), ('ducain', 2), ('rebellion', 2), ('hyperdr', 2), ('traitor', 2), ('scrambl', 2), ('reconnaiss', 2), ('unintellig', 1), ('yinsen', 1), ('introduc', 1), ('doctor', 1), ('mullet', 1), ('notion', 1), ('betcha', 1), ('theori', 1), ('repair', 1), ('perfer', 1), ('bedroom', 1), ('applic', 1), ('dentra', 1), ('prevent', 1), ('regrowth', 1), ('telomeras', 1), ('afghan', 1), ('calibr', 1), ('implant', 1), ('corner', 1), ('announc', 1), ('badass', 1), ('autonom', 1), ('siesta', 1), ('teacher', 1), ('colorado', 1), ('friendli', 1), ('cheyenn', 1), ('kuwait', 1), ('develop', 1), ('airway', 1), ('hijack', 1), ('unsuccess', 1), ('administr', 1), ('respond', 1), ('dispos', 1), ('einstein', 1), ('prioriti', 1), ('superhero', 1), ('crayon', 1), ('cardiac', 1), ('analomi', 1), ('experienc', 1), ('toliet', 1), ('basement', 1), ('replac', 1), ('janitori', 1), ('element', 1), ('thrill', 1), ('complaint', 1), ('therapist', 1), ('linger', 1), ('biotech', 1), ('pipelin', 1), ('though', 1), ('primari', 1), ('somatosensori', 1), ('cortex', 1), ('bioelectr', 1), ('destin', 1), ('forehead', 1), ('harass', 1), ('scientist', 1), ('credenti', 1), ('perimet', 1), ('superfriend', 1), ('gettin', 1), ('printer', 1), ('highli', 1), ('weaponiz', 1), ('enhanc', 1), ('throne', 1), ('failur', 1), ('glimps', 1), ('triumph', 1), ('pinchi', 1), ('bagger', 1), ('shoulder', 1), ('facemask', 1), ('damnit', 1), ('facial', 1), ('radiat', 1), ('hazmat', 1), ('geiger', 1), ('counter', 1), ('experi', 1), ('dimens', 1), ('downstair', 1), ('hollow', 1), ('discipl', 1), ('theater', 1), ('frustrat', 1), ('season', 1), ('graduat', 1), ('sunday', 1), ('downtown', 1), ('stickler', 1), ('holiday', 1), ('phrase', 1), ('coward', 1), ('reveng', 1), ('unlock', 1), ('compil', 1), ('intercept', 1), ('virtual', 1), ('reconstruct', 1), ('ancient', 1), ('advisor', 1), ('insurg', 1), ('tactic', 1), ('bapist', 1), ('preacher', 1), ('pagentri', 1), ('celsiu', 1), ('instantli', 1), ('accord', 1), ('everywher', 1), ('predat', 1), ('suicid', 1), ('remark', 1), ('lockdown', 1), ('breakfast', 1), ('gluten', 1), ('urgent', 1), ('indefinit', 1), ('terribl', 1), ('challeng', 1), ('structur', 1), ('prototyp', 1), ('combat', 1), ('restor', 1), ('upstat', 1), ('receiv', 1), ('poncho', 1), ('wooden', 1), ('indian', 1), ('potato', 1), ('diminish', 1), ('electromagnet', 1), ('cooler', 1), ('retroreflect', 1), ('finger', 1), ('scratcher', 1), ('pneumat', 1), ('actuat', 1), ('tunafish', 1), ('salvat', 1), ('pinata', 1), ('cricket', 1), ('discourag', 1), ('lethal', 1), ('verifi', 1), ('biolog', 1), ('contact', 1), ('materi', 1), ('roundabout', 1), ('crater', 1), ('mental', 1), ('haircut', 1), ('homeland', 1), ('nashvil', 1), ('deputi', 1), ('hotter', 1), ('cheesi', 1), ('autobiographi', 1), ('goddamn', 1), ('otherwis', 1), ('grandios', 1), ('unauthor', 1), ('corpor', 1), ('dictat', 1), ('strongli', 1), ('correctli', 1), ('design', 1), ('comsat', 1), ('password', 1), ('pattern', 1), ('hispan', 1), ('grappl', 1), ('injuri', 1), ('brandt', 1), ('inject', 1), ('administ', 1), ('misfit', 1), ('crippl', 1), ('evolut', 1), ('bitter', 1), ('prudent', 1), ('forego', 1), ('misfir', 1), ('faulti', 1), ('werner', 1), ('stargaz', 1), ('obsess', 1), ('manison', 1), ('launch', 1), ('incent', 1), ('coordin', 1), ('suspect', 1), ('cheapli', 1), ('sportswear', 1), ('sentenc', 1), ('cranberri', 1), ('downlink', 1), ('pinpoint', 1), ('africa', 1), ('reboot', 1), ('florida', 1), ('succeed', 1), ('mention', 1), ('vanessa', 1), ('japanes', 1), ('although', 1), ('wanker', 1), ('uncompl', 1), ('bathroom', 1), ('understudi', 1), ('approach', 1), ('credit', 1), ('serial', 1), ('iconographi', 1), ('costum', 1), ('panick', 1), ('pratic', 1), ('shortcut', 1), ('anonym', 1), ('mantra', 1), ('gaddafi', 1), ('lawrenc', 1), ('oblivion', 1), ('croydon', 1), ('wherev', 1), ('subtleti', 1), ('gracious', 1), ('impart', 1), ('whether', 1), ('accept', 1), ('spectactular', 1), ('salari', 1), ('packag', 1), ('1200cc', 1), ('injector', 1), ('visionari', 1), ('disassembl', 1), ('ponytail', 1), ('mileag', 1), ('suppli', 1), ('terrifi', 1), ('personnel', 1), ('winner', 1), ('shorter', 1), ('shaddt', 1), ('bomkanni', 1), ('trojan', 1), ('cellar', 1), ('temperatur', 1), ('thirteen', 1), ('electrifi', 1), ('eleven', 1), ('effort', 1), ('nowher', 1), ('trophi', 1), ('graveyard', 1), ('gallon', 1), ('pensacola', 1), ('patron', 1), ('strung', 1), ('execut', 1), ('commenc', 1), ('shortli', 1), ('rehears', 1), ('distanc', 1), ('magazin', 1), ('prejudic', 1), ('steadi', 1), ('downtim', 1), ('heartbreak', 1), ('snapper', 1), ('awesom', 1), ('bother', 1), ('inbound', 1), ('prodig', 1), ('disengag', 1), ('violent', 1), ('journey', 1), ('neither', 1), ('cocoon', 1), ('bazaar', 1), ('uncoupl', 1), ('carriag', 1), ('summon', 1), ('headmast', 1), ('encount', 1), ('civilian', 1), ('oversight', 1), ('voluntari', 1), ('successor', 1), ('packet', 1), ('network', 1), ('firewal', 1), ('header', 1), ('assess', 1), ('postcard', 1), ('perspect', 1), ('judgment', 1), ('certainti', 1), ('debrief', 1), ('storag', 1), ('unmarri', 1), ('employe', 1), ('assail', 1), ('environment', 1), ('strateg', 1), ('mildli', 1), ('britain', 1), ('churchil', 1), ('bunker', 1), ('centuri', 1), ('fascin', 1), ('committe', 1), ('asymmetr', 1), ('associ', 1), ('exampl', 1), ('provocateur', 1), ('provocatrix', 1), ('sunlight', 1), ('moonlight', 1), ('skyfal', 1), ('istanbul', 1), ('temporari', 1), ('defens', 1), ('harder', 1), ('interior', 1), ('prattl', 1), ('review', 1), ('quietli', 1), ('cleanli', 1), ('sentiment', 1), ('fragment', 1), ('deplet', 1), ('uranium', 1), ('expens', 1), ('select', 1), ('luckili', 1), ('yemeni', 1), ('ambassador', 1), ('melancholi', 1), ('warship', 1), ('ignomini', 1), ('complexion', 1), ('compet', 1), ('effici', 1), ('hazard', 1), ('dermal', 1), ('random', 1), ('transmitt', 1), ('distress', 1), ('explod', 1), ('overqualifi', 1), ('sadist', 1), ('throat', 1), ('tradit', 1), ('tantal', 1), ('bureaucrat', 1), ('homework', 1), ('northern', 1), ('ireland', 1), ('hereford', 1), ('regiment', 1), ('flutter', 1), ('occasion', 1), ('severin', 1), ('backless', 1), ('tuxedo', 1), ('tattoo', 1), ('chimera', 1), ('harbor', 1), ('controversi', 1), ('ministri', 1), ('defenc', 1), ('assassin', 1), ('circul', 1), ('modern', 1), ('histori', 1), ('opposit', 1), ('embroil', 1), ('midday', 1), ('abandon', 1), ('paradis', 1), ('summer', 1), ('infest', 1), ('pathet', 1), ('psychologist', 1), ('alcohol', 1), ('reject', 1), ('author', 1), ('unresolv', 1), ('childhood', 1), ('trauma', 1), ('approv', 1), ('gadget', 1), ('destabil', 1), ('multin', 1), ('transmiss', 1), ('uganda', 1), ('bidder', 1), ('resurrect', 1), ('superflu', 1), ('redund', 1), ('elimin', 1), ('macallan', 1), ('particular', 1), ('scotch', 1), ('smaller', 1), ('wherea', 1), ('yesterday', 1), ('particularli', 1), ('slipperi', 1), ('remors', 1), ('tortur', 1), ('realiz', 1), ('understood', 1), ('belmarsh', 1), ('remand', 1), ('struck', 1), ('nonexist', 1), ('hydrogen', 1), ('transmit', 1), ('resolv', 1), ('rodriguez', 1), ('handov', 1), ('establish', 1), ('failsaf', 1), ('safeguard', 1), ('obfusc', 1), ('obscur', 1), ('gather', 1), ('stewardship', 1), ('recent', 1), ('scratch', 1), ('apprehend', 1), ('necessari', 1), ('difficult', 1), ('monument', 1), ('handedli', 1), ('polymorph', 1), ('metropolitan', 1), ('subterranean', 1), ('stairwel', 1), ('retreat', 1), ('closest', 1), ('disguis', 1), ('policeman', 1), ('chosen', 1), ('consist', 1), ('obstin', 1), ('strain', 1), ('insist', 1), ('golden', 1), ('belief', 1), ('demonstr', 1), ('reckless', 1), ('disregard', 1), ('varieti', 1), ('repeatedli', 1), ('individu', 1), ('transpar', 1), ('husband', 1), ('poetri', 1), ('despit', 1), ('intent', 1), ('tennyson', 1), ('strength', 1), ('strive', 1), ('kidnap', 1), ('strictli', 1), ('career', 1), ('vehicl', 1), ('tracker', 1), ('inconspicu', 1), ('advantag', 1), ('traffic', 1), ('bugger', 1), ('orphan', 1), ('recruit', 1), ('gamekeep', 1), ('collector', 1), ('dynamit', 1), ('quarri', 1), ('taught', 1), ('priest', 1), ('reform', 1), ('parent', 1), ('exemplar', 1), ('fortitud', 1), ('scotland', 1), ('chapel', 1), ('exhaust', 1), ('declin', 1), ('plenti', 1), ('withdraw', 1), ('silent', 1), ('tootsi', 1), ('stranger', 1), ('superstiti', 1), ('powerbal', 1), ('process', 1), ('hockey', 1), ('smalltim', 1), ('simultan', 1), ('stubborn', 1), ('rebuilt', 1), ('mansion', 1), ('stitch', 1), ('knowledg', 1), ('weight', 1), ('copycat', 1), ('weekend', 1), ('inspir', 1), ('improv', 1), ('attorney', 1), ('backward', 1), ('teeoff', 1), ('carmin', 1), ('courtroom', 1), ('salvator', 1), ('carbon', 1), ('servant', 1), ('lightli', 1), ('irradi', 1), ('variou', 1), ('floodlight', 1), ('mainten', 1), ('launder', 1), ('special', 1), ('affair', 1), ('seizur', 1), ('growth', 1), ('powerhous', 1), ('replenish', 1), ('consult', 1), ('annual', 1), ('clockwork', 1), ('revenu', 1), ('cancel', 1), ('closer', 1), ('function', 1), ('driveway', 1), ('easier', 1), ('reserv', 1), ('inspector', 1), ('ballerina', 1), ('moscow', 1), ('palisad', 1), ('ordinari', 1), ('suspend', 1), ('caesar', 1), ('villain', 1), ('crusad', 1), ('reelect', 1), ('amount', 1), ('wackjob', 1), ('enthusiast', 1), ('competitor', 1), ('leverag', 1), ('pencil', 1), ('proposit', 1), ('therapi', 1), ('session', 1), ('daylight', 1), ('squeal', 1), ('squealer', 1), ('nickel', 1), ('grandma', 1), ('proport', 1), ('manner', 1), ('ramirez', 1), ('circumst', 1), ('altitud', 1), ('oxygen', 1), ('airplan', 1), ('straightforward', 1), ('harden', 1), ('kevlar', 1), ('titanium', 1), ('flexibl', 1), ('tradeoff', 1), ('gunfir', 1), ('rottweil', 1), ('chihuahua', 1), ('arizona', 1), ('korean', 1), ('pyongyang', 1), ('russian', 1), ('suntan', 1), ('lotion', 1), ('drinker', 1), ('crazier', 1), ('expans', 1), ('tryout', 1), ('misunderstand', 1), ('suffic', 1), ('deliber', 1), ('restrict', 1), ('frequenc', 1), ('environ', 1), ('glorifi', 1), ('feloni', 1), ('detail', 1), ('ledger', 1), ('charter', 1), ('testifi', 1), ('fortress', 1), ('arrang', 1), ('particip', 1), ('extort', 1), ('enthusiasm', 1), ('convict', 1), ('appeal', 1), ('midlevel', 1), ('politician', 1), ('journalist', 1), ('swiftli', 1), ('success', 1), ('underbelli', 1), ('footag', 1), ('dougla', 1), ('scourg', 1), ('underworld', 1), ('brigad', 1), ('liquid', 1), ('courag', 1), ('psychot', 1), ('oldest', 1), ('commerci', 1), ('slogan', 1), ('optimist', 1), ('forens', 1), ('envelop', 1), ('hidden', 1), ('entertain', 1), ('nervou', 1), ('easili', 1), ('loyalti', 1), ('tribal', 1), ('preciou', 1), ('caravan', 1), ('forest', 1), ('rangoon', 1), ('tangerin', 1), ('eighth', 1), ('orchard', 1), ('patrick', 1), ('contamin', 1), ('underneath', 1), ('ballist', 1), ('shatter', 1), ('irregular', 1), ('pancak', 1), ('wealthiest', 1), ('blackmail', 1), ('reengin', 1), ('thumbprint', 1), ('telecommun', 1), ('column', 1), ('parksid', 1), ('melvin', 1), ('randolph', 1), ('aggrav', 1), ('window', 1), ('enforc', 1), ('provid', 1), ('unpopular', 1), ('letter', 1), ('barbara', 1), ('quieter', 1), ('safest', 1), ('profession', 1), ('height', 1), ('schiff', 1), ('paranoid', 1), ('schizophren', 1), ('former', 1), ('patient', 1), ('attract', 1), ('legitim', 1), ('outcast', 1), ('firstli', 1), ('secondli', 1), ('darkest', 1), ('broken', 1), ('madman', 1), ('convoy', 1), ('divert', 1), ('turkey', 1), ('thanksgiv', 1), ('topsid', 1), ('catastroph', 1), ('medicin', 1), ('dental', 1), ('pocket', 1), ('bastard', 1), ('depress', 1), ('predica', 1), ('routin', 1), ('dealer', 1), ('monster', 1), ('despair', 1), ('balanc', 1), ('royalti', 1), ('apparatu', 1), ('command', 1), ('submit', 1), ('inspect', 1), ('helmet', 1), ('quarter', 1), ('antenna', 1), ('kelvin', 1), ('rethink', 1), ('techniqu', 1), ('principl', 1), ('missil', 1), ('unsanct', 1), ('departur', 1), ('eighteen', 1), ('turbolas', 1), ('regist', 1), ('toward', 1), ('recondit', 1), ('nonconform', 1), ('offens', 1), ('goazon', 1), ('badland', 1), ('wreckag', 1), ('explicit', 1), ('capabl', 1), ('method', 1), ('treason', 1), ('retriev', 1), ('unharm', 1), ('interfer', 1), ('outrun', 1), ('quadjump', 1), ('gunner', 1), ('confus', 1), ('corellian', 1), ('accompani', 1), ('wrench', 1), ('ponemah', 1), ('overflow', 1), ('overridden', 1), ('filter', 1), ('kessel', 1), ('parsec', 1), ('milker', 1), ('stress', 1), ('nearest', 1), ('inhabit', 1), ('fought', 1), ('gotten', 1), ('guavian', 1), ('nantoon', 1), ('trillia', 1), ('massacr', 1), ('swindl', 1), ('corridor', 1), ('instal', 1), ('thrust', 1), ('lightspe', 1), ('hangar', 1), ('strategi', 1), ('awaken', 1), ('overload', 1), ('coolant', 1), ('auxiliari', 1), ('secondari', 1), ('bypass', 1), ('apprentic', 1), ('conspir', 1), ('sympath', 1), ('scanner', 1), ('kanata', 1), ('wookie', 1), ('grandfath', 1), ('spread', 1), ('energi', 1), ('lightsab', 1), ('whomev', 1), ('acquiesc', 1), ('disord', 1), ('treacheri', 1), ('loathsom', 1), ('cherish', 1), ('manual', 1), ('configur', 1), ('higher', 1), ('proper', 1), ('reinstal', 1), ('thrown', 1), ('organa', 1), ('renounc', 1), ('familiar', 1), ('hosnian', 1), ('partial', 1), ('foolish', 1), ('princess', 1), ('reliev', 1), ('creatur', 1), ('selenium', 1), ('thermal', 1), ('hyperscan', 1), ('vindic', 1), ('untrain', 1), ('stronger', 1), ('valuabl', 1), ('result', 1), ('guidanc', 1), ('tighten', 1)]\n"
     ]
    }
   ],
   "source": []
  },
  {
   "cell_type": "code",
   "execution_count": 43,
   "metadata": {},
   "outputs": [
    {
     "data": {
      "text/plain": [
       "3663"
      ]
     },
     "execution_count": 43,
     "metadata": {},
     "output_type": "execute_result"
    }
   ],
   "source": [
    "len(ACTt)"
   ]
  },
  {
   "cell_type": "code",
   "execution_count": 24,
   "metadata": {},
   "outputs": [
    {
     "data": {
      "image/png": "[encoded data removed]",
      "text/plain": [
       "<matplotlib.figure.Figure at 0xdf342e17b8>"
      ]
     },
     "metadata": {},
     "output_type": "display_data"
    }
   ],
   "source": [
    "import numpy as np\n",
    "import matplotlib.pyplot as plt\n",
    "\n",
    "\n",
    "data = [('film', 904), ('movie', 561), ('one', 379), ('like', 292)]\n",
    "names, values = zip(*data)  \n",
    "# names = [x[0] for x in data]  # These two lines are equivalent to the the zip-command.\n",
    "# values = [x[1] for x in data] # These two lines are equivalent to the the zip-command.\n",
    "\n",
    "ind = np.arange(len(data))  # the x locations for the groups\n",
    "width = 0.35       # the width of the bars\n",
    "\n",
    "fig, ax = plt.subplots()\n",
    "rects1 = ax.bar(ind, values, width, color='r')\n",
    "\n",
    "# add some text for labels, title and axes ticks\n",
    "ax.set_ylabel('Count')\n",
    "ax.set_xticks(ind+width/2.)\n",
    "ax.set_xticklabels(names)\n",
    "\n",
    "def autolabel(rects):\n",
    "    # attach some text labels\n",
    "    for rect in rects:\n",
    "        height = rect.get_height()\n",
    "        ax.text(rect.get_x() + rect.get_width()/2., 1.05*height,\n",
    "                '%d' % int(height),\n",
    "                ha='center', va='bottom')\n",
    "\n",
    "autolabel(rects1)\n",
    "\n",
    "plt.show()"
   ]
  },
  {
   "cell_type": "code",
   "execution_count": null,
   "metadata": {
    "collapsed": true
   },
   "outputs": [],
   "source": []
  }
 ],
 "metadata": {
  "kernelspec": {
   "display_name": "Python 3",
   "language": "python",
   "name": "python3"
  },
  "language_info": {
   "codemirror_mode": {
    "name": "ipython",
    "version": 3
   },
   "file_extension": ".py",
   "mimetype": "text/x-python",
   "name": "python",
   "nbconvert_exporter": "python",
   "pygments_lexer": "ipython3",
   "version": "3.6.2"
  }
 },
 "nbformat": 4,
 "nbformat_minor": 2
}
