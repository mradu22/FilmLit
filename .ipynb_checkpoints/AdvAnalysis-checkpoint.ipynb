{
 "cells": [
  {
   "cell_type": "code",
   "execution_count": 729,
   "metadata": {
    "collapsed": true
   },
   "outputs": [],
   "source": [
    "import pandas as pd\n",
    "import io, gzip\n",
    "from codecs import decode\n",
    "import pysrt\n",
    "import datetime as dt\n",
    "import base64\n",
    "import re\n",
    "import numpy as np\n",
    "import sys\n",
    "from xmlrpc.client import ServerProxy\n",
    "import os as os\n",
    "import os.path\n",
    "import json\n",
    "import xarray as xr\n",
    "import matplotlib.pyplot as plt\n",
    "import pylab as pl\n",
    "from nltk.collocations import *\n",
    "from nltk.corpus import stopwords\n",
    "import pprint\n",
    "from gensim import corpora, models, similarities\n",
    "import nltk\n",
    "from nltk import FreqDist\n",
    "from nltk.tokenize import RegexpTokenizer\n",
    "from nltk.stem.porter import PorterStemmer"
   ]
  },
  {
   "cell_type": "code",
   "execution_count": 730,
   "metadata": {},
   "outputs": [],
   "source": [
    "tokenizer = RegexpTokenizer(\"\\w+\")\n",
    "bigram_measures = nltk.collocations.BigramAssocMeasures()\n",
    "trigram_measures = nltk.collocations.TrigramAssocMeasures()\n",
    "stop_words=set(stopwords.words('english'))"
   ]
  },
  {
   "cell_type": "markdown",
   "metadata": {},
   "source": [
    "# Usefull things"
   ]
  },
  {
   "cell_type": "raw",
   "metadata": {},
   "source": [
    "Selecting by imdb_id and cross checking other values.  \n",
    "movd.loc[movd['imdb_id'] == '2975590', 'Genre'].values[0]\n",
    "\n",
    "Running through the imdb_ids\n",
    "subd.columns.levels[0]\n"
   ]
  },
  {
   "cell_type": "markdown",
   "metadata": {},
   "source": [
    "# Import the files"
   ]
  },
  {
   "cell_type": "code",
   "execution_count": 731,
   "metadata": {
    "collapsed": true
   },
   "outputs": [],
   "source": [
    "subd=pd.read_hdf('Sub_data.h5', 'subs')\n",
    "movd=pd.read_hdf('movbaseB.h5', 'imdb_id')"
   ]
  },
  {
   "cell_type": "code",
   "execution_count": 732,
   "metadata": {},
   "outputs": [
    {
     "name": "stdout",
     "output_type": "stream",
     "text": [
      "Number subs in database: 411\n"
     ]
    }
   ],
   "source": [
    "print('Number subs in database: {}'.format(len(subd.columns.levels[0])))"
   ]
  },
  {
   "cell_type": "markdown",
   "metadata": {},
   "source": [
    "Remove ones with very short length, meaning something went wrong in the parsing and downloading process."
   ]
  },
  {
   "cell_type": "code",
   "execution_count": 733,
   "metadata": {},
   "outputs": [],
   "source": [
    "for item in subd.columns.levels[0]:\n",
    "    n_lines=len(subd[item][subd[item]['Line'] != ''])\n",
    "    if n_lines < 100:\n",
    "        subd.drop(item,axis=1,level=0,inplace=True)\n",
    "        subd.columns = pd.MultiIndex.from_tuples(subd.columns.to_series())"
   ]
  },
  {
   "cell_type": "code",
   "execution_count": 734,
   "metadata": {},
   "outputs": [
    {
     "name": "stdout",
     "output_type": "stream",
     "text": [
      "Number subs after removel of shitty ones: 404\n"
     ]
    }
   ],
   "source": [
    "print('Number subs after removel of shitty ones: {}'.format(len(subd.columns.levels[0])))"
   ]
  },
  {
   "cell_type": "code",
   "execution_count": 735,
   "metadata": {},
   "outputs": [],
   "source": [
    "raw_txt={}\n",
    "for item in subd.columns.levels[0]:\n",
    "        raw_txt[item]=\" \".join(subd[item]['Line']).strip().lower()\n",
    "        raw_txt[item]=re.sub(r'\\w+:\\/{2}[\\d\\w-]+(\\.[\\d\\w-]+)*(?:(?:\\/[^\\s/]*))*', '', raw_txt[item]) #removes web addressses\n",
    "        raw_txt[item]=re.sub('<[^>]+>', '', raw_txt[item]) #removes < crap > "
   ]
  },
  {
   "cell_type": "code",
   "execution_count": 736,
   "metadata": {},
   "outputs": [
    {
     "name": "stdout",
     "output_type": "stream",
     "text": [
      "Imdb_id: 0031381  Length: 137449 Genre: Romance Title: Gone with the Wind\n",
      "Imdb_id: 0034492  Length: 10544 Genre: Family Title: Bambi\n",
      "Imdb_id: 0042332  Length: 30760 Genre: Family Title: Cinderella\n",
      "Imdb_id: 0059742  Length: 96198 Genre: Music Title: The Sound of Music\n",
      "Imdb_id: 0068646  Length: 61143 Genre: Drama Title: The Godfather\n",
      "Imdb_id: 0070047  Length: 38184 Genre: Horror Title: The Exorcist\n",
      "Imdb_id: 0073195  Length: 45078 Genre: Horror Title: Jaws\n",
      "Imdb_id: 0076666  Length: 62851 Genre: Music Title: Saturday Night Fever\n",
      "Imdb_id: 0076759  Length: 53896 Genre: Action Title: Star Wars\n",
      "Imdb_id: 0077631  Length: 46730 Genre: Romance Title: Grease\n",
      "Imdb_id: 0077766  Length: 29548 Genre: Horror Title: Jaws 2\n",
      "Imdb_id: 0083866  Length: 32872 Genre: Family Title: E.T. the Extra-Terrestrial\n",
      "Imdb_id: 0084602  Length: 52064 Genre: Drama Title: Rocky III\n",
      "Imdb_id: 0087355  Length: 8881 Genre: Documentary Title: Grand Canyon: The Hidden Secrets\n",
      "Imdb_id: 0087363  Length: 27466 Genre: Horror Title: Gremlins\n",
      "Imdb_id: 0088763  Length: 54275 Genre: Family Title: Back to the Future\n",
      "Imdb_id: 0090605  Length: 47418 Genre: Action Title: Aliens\n",
      "Imdb_id: 0092099  Length: 34678 Genre: Action Title: Top Gun\n",
      "Imdb_id: 0092890  Length: 31221 Genre: Music Title: Dirty Dancing\n",
      "Imdb_id: 0093010  Length: 38314 Genre: Horror Title: Fatal Attraction\n",
      "Imdb_id: 0095953  Length: 74348 Genre: Drama Title: Rain Man\n",
      "Imdb_id: 0097165  Length: 72745 Genre: Drama Title: Dead Poets Society\n",
      "Imdb_id: 0097778  Length: 39068 Genre: Comedy Title: Look Who's Talking\n",
      "Imdb_id: 0099348  Length: 11909 Genre: Drama Title: Dances with Wolves\n",
      "Imdb_id: 0099653  Length: 45555 Genre: Romance Title: Ghost\n",
      "Imdb_id: 0099674  Length: 51797 Genre: Drama Title: The Godfather: Part III\n",
      "Imdb_id: 0099785  Length: 45413 Genre: Family Title: Home Alone\n",
      "Imdb_id: 0100404  Length: 34239 Genre: Drama Title: Presumed Innocent\n",
      "Imdb_id: 0100405  Length: 71290 Genre: Comedy Title: Pretty Woman\n",
      "Imdb_id: 0101272  Length: 40638 Genre: Horror Title: The Addams Family\n",
      "Imdb_id: 0101414  Length: 42075 Genre: Music Title: Beauty and the Beast\n",
      "Imdb_id: 0102138  Length: 46072 Genre: Drama Title: JFK\n",
      "Imdb_id: 0102926  Length: 45330 Genre: Drama Title: The Silence of the Lambs\n",
      "Imdb_id: 0103639  Length: 39647 Genre: Family Title: Aladdin\n",
      "Imdb_id: 0103644  Length: 35393 Genre: Horror Title: Alien³\n",
      "Imdb_id: 0103855  Length: 35459 Genre: Action Title: The Bodyguard\n",
      "Imdb_id: 0103874  Length: 35833 Genre: Horror Title: Dracula\n",
      "Imdb_id: 0104231  Length: 30136 Genre: Romance Title: Far and Away\n",
      "Imdb_id: 0104257  Length: 96219 Genre: Drama Title: A Few Good Men\n",
      "Imdb_id: 0104431  Length: 46587 Genre: Family Title: Home Alone 2: Lost in New York\n",
      "Imdb_id: 0106918  Length: 58578 Genre: Drama Title: The Firm\n",
      "Imdb_id: 0107211  Length: 32609 Genre: Romance Title: Indecent Proposal\n",
      "Imdb_id: 0107614  Length: 62666 Genre: Family Title: Mrs. Doubtfire\n",
      "Imdb_id: 0107818  Length: 40606 Genre: Drama Title: Philadelphia\n",
      "Imdb_id: 0108160  Length: 52820 Genre: Comedy Title: Sleepless in Seattle\n",
      "Imdb_id: 0109444  Length: 43146 Genre: Action Title: Clear and Present Danger\n",
      "Imdb_id: 0109635  Length: 65913 Genre: Romance Title: Disclosure\n",
      "Imdb_id: 0109813  Length: 45517 Genre: Family Title: The Flintstones\n",
      "Imdb_id: 0109830  Length: 59691 Genre: Comedy Title: Forrest Gump\n",
      "Imdb_id: 0109831  Length: 46064 Genre: Comedy Title: Four Weddings and a Funeral\n",
      "Imdb_id: 0110148  Length: 34555 Genre: Horror Title: Interview with the Vampire\n",
      "Imdb_id: 0110357  Length: 38068 Genre: Family Title: The Lion King\n",
      "Imdb_id: 0110475  Length: 28922 Genre: Comedy Title: The Mask\n",
      "Imdb_id: 0112431  Length: 37764 Genre: Family Title: Babe\n",
      "Imdb_id: 0112573  Length: 39004 Genre: Action Title: Braveheart\n",
      "Imdb_id: 0112579  Length: 41869 Genre: Romance Title: The Bridges of Madison County\n",
      "Imdb_id: 0114709  Length: 42310 Genre: Family Title: Toy Story\n",
      "Imdb_id: 0114924  Length: 59829 Genre: Comedy Title: While You Were Sleeping\n",
      "Imdb_id: 0116209  Length: 49681 Genre: Romance Title: The English Patient\n",
      "Imdb_id: 0116213  Length: 41038 Genre: Action Title: Eraser\n",
      "Imdb_id: 0116629  Length: 73172 Genre: Action Title: Independence Day\n",
      "Imdb_id: 0116695  Length: 49323 Genre: Comedy Title: Jerry Maguire\n",
      "Imdb_id: 0117571  Length: 42974 Genre: Horror Title: Scream\n",
      "Imdb_id: 0117705  Length: 38711 Genre: Family Title: Space Jam\n",
      "Imdb_id: 0117998  Length: 36205 Genre: Action Title: Twister\n",
      "Imdb_id: 0118583  Length: 22616 Genre: Horror Title: Alien: Resurrection\n",
      "Imdb_id: 0118883  Length: 53242 Genre: Drama Title: Conspiracy Theory\n",
      "Imdb_id: 0118971  Length: 70057 Genre: Horror Title: The Devil's Advocate\n",
      "Imdb_id: 0119217  Length: 84103 Genre: Drama Title: Good Will Hunting\n",
      "Imdb_id: 0119282  Length: 43105 Genre: Family Title: Hercules\n",
      "Imdb_id: 0119314  Length: 58823 Genre: Romance Title: The Horse Whisperer\n",
      "Imdb_id: 0119654  Length: 36413 Genre: Action Title: Men in Black\n",
      "Imdb_id: 0119738  Length: 32271 Genre: Comedy Title: My Best Friend's Wedding\n",
      "Imdb_id: 0119822  Length: 59179 Genre: Comedy Title: As Good as It Gets\n",
      "Imdb_id: 0120082  Length: 62618 Genre: Horror Title: Scream 2\n",
      "Imdb_id: 0120338  Length: 68401 Genre: Romance Title: Titanic\n",
      "Imdb_id: 0120363  Length: 51525 Genre: Family Title: Toy Story 2\n",
      "Imdb_id: 0120382  Length: 42812 Genre: Comedy Title: The Truman Show\n",
      "Imdb_id: 0120623  Length: 57084 Genre: Family Title: A Bug's Life\n",
      "Imdb_id: 0120632  Length: 26645 Genre: Romance Title: City of Angels\n",
      "Imdb_id: 0120660  Length: 77417 Genre: Action Title: Enemy of the State\n",
      "Imdb_id: 0120661  Length: 25154 Genre: Documentary Title: Everest\n",
      "Imdb_id: 0120737  Length: 58444 Genre: Action Title: The Lord of the Rings: The Fellowship of the Ring\n",
      "Imdb_id: 0120794  Length: 31301 Genre: Music Title: The Prince of Egypt\n",
      "Imdb_id: 0120815  Length: 63107 Genre: Drama Title: Saving Private Ryan\n",
      "Imdb_id: 0120855  Length: 33845 Genre: Family Title: Tarzan\n",
      "Imdb_id: 0120912  Length: 39603 Genre: Action Title: Men in Black II\n",
      "Imdb_id: 0120915  Length: 56332 Genre: Action Title: Star Wars: Episode I - The Phantom Menace\n",
      "Imdb_id: 0121766  Length: 39060 Genre: Action Title: Star Wars: Episode III - Revenge of the Sith\n",
      "Imdb_id: 0125439  Length: 55262 Genre: Comedy Title: Notting Hill\n",
      "Imdb_id: 0126029  Length: 53622 Genre: Family Title: Shrek\n",
      "Imdb_id: 0128853  Length: 59474 Genre: Comedy Title: You've Got Mail\n",
      "Imdb_id: 0129290  Length: 65834 Genre: Comedy Title: Patch Adams\n",
      "Imdb_id: 0129387  Length: 64261 Genre: Comedy Title: There's Something About Mary\n",
      "Imdb_id: 0134084  Length: 59185 Genre: Horror Title: Scream 3\n",
      "Imdb_id: 0137494  Length: 31826 Genre: Romance Title: Entrapment\n",
      "Imdb_id: 0138097  Length: 53582 Genre: Romance Title: Shakespeare in Love\n",
      "Imdb_id: 0142342  Length: 54111 Genre: Comedy Title: Big Daddy\n",
      "Imdb_id: 0145487  Length: 42574 Genre: Action Title: Spider-Man\n",
      "Imdb_id: 0146675  Length: 34697 Genre: Action Title: End of Days\n",
      "Imdb_id: 0161081  Length: 29613 Genre: Horror Title: What Lies Beneath\n",
      "Imdb_id: 0162222  Length: 25732 Genre: Drama Title: Cast Away\n",
      "Imdb_id: 0162661  Length: 29570 Genre: Drama Title: Sleepy Hollow\n",
      "Imdb_id: 0163651  Length: 60633 Genre: Comedy Title: American Pie\n",
      "Imdb_id: 0167260  Length: 52455 Genre: Action Title: The Lord of the Rings: The Return of the King\n",
      "Imdb_id: 0167404  Length: 32382 Genre: Drama Title: The Sixth Sense\n",
      "Imdb_id: 0170016  Length: 32841 Genre: Family Title: How the Grinch Stole Christmas\n",
      "Imdb_id: 0172495  Length: 41854 Genre: Action Title: Gladiator\n",
      "Imdb_id: 0181865  Length: 62181 Genre: Drama Title: Traffic\n",
      "Imdb_id: 0185937  Length: 39538 Genre: Horror Title: The Blair Witch Project\n",
      "Imdb_id: 0187393  Length: 40840 Genre: Action Title: The Patriot\n",
      "Imdb_id: 0187738  Length: 29891 Genre: Horror Title: Blade II\n",
      "Imdb_id: 0195685  Length: 59305 Genre: Drama Title: Erin Brockovich\n",
      "Imdb_id: 0198781  Length: 58663 Genre: Family Title: Monsters, Inc.\n",
      "Imdb_id: 0203009  Length: 54109 Genre: Music Title: Moulin Rouge!\n",
      "Imdb_id: 0207201  Length: 72403 Genre: Comedy Title: What Women Want\n",
      "Imdb_id: 0210945  Length: 69583 Genre: Drama Title: Remember the Titans\n",
      "Imdb_id: 0212338  Length: 58205 Genre: Comedy Title: Meet the Parents\n",
      "Imdb_id: 0212720  Length: 38174 Genre: Drama Title: A.I. Artificial Intelligence\n",
      "Imdb_id: 0212985  Length: 50857 Genre: Horror Title: Hannibal\n",
      "Imdb_id: 0213149  Length: 77512 Genre: Romance Title: Pearl Harbor\n",
      "Imdb_id: 0217869  Length: 32260 Genre: Drama Title: Unbreakable\n",
      "Imdb_id: 0234215  Length: 45988 Genre: Action Title: The Matrix Reloaded\n",
      "Imdb_id: 0241527  Length: 46708 Genre: Family Title: Harry Potter and the Philosopher's Stone\n",
      "Imdb_id: 0243155  Length: 57826 Genre: Comedy Title: Bridget Jones's Diary\n",
      "Imdb_id: 0252866  Length: 49532 Genre: Comedy Title: American Pie 2\n",
      "Imdb_id: 0256415  Length: 62530 Genre: Comedy Title: Sweet Home Alabama\n",
      "Imdb_id: 0258463  Length: 33111 Genre: Action Title: The Bourne Identity\n",
      "Imdb_id: 0259324  Length: 30461 Genre: Action Title: Ghost Rider\n",
      "Imdb_id: 0259446  Length: 33693 Genre: Comedy Title: My Big Fat Greek Wedding\n",
      "Imdb_id: 0259711  Length: 55289 Genre: Romance Title: Vanilla Sky\n",
      "Imdb_id: 0266543  Length: 58691 Genre: Family Title: Finding Nemo\n",
      "Imdb_id: 0266915  Length: 41968 Genre: Action Title: Rush Hour 2\n"
     ]
    },
    {
     "name": "stdout",
     "output_type": "stream",
     "text": [
      "Imdb_id: 0268380  Length: 23705 Genre: Family Title: Ice Age\n",
      "Imdb_id: 0268978  Length: 50001 Genre: Romance Title: A Beautiful Mind\n",
      "Imdb_id: 0286716  Length: 35603 Genre: Action Title: Hulk\n",
      "Imdb_id: 0289765  Length: 51367 Genre: Horror Title: Red Dragon\n",
      "Imdb_id: 0290002  Length: 86560 Genre: Comedy Title: Meet the Fockers\n",
      "Imdb_id: 0295297  Length: 57848 Genre: Family Title: Harry Potter and the Chamber of Secrets\n",
      "Imdb_id: 0298130  Length: 34796 Genre: Horror Title: The Ring\n",
      "Imdb_id: 0298148  Length: 43352 Genre: Family Title: Shrek 2\n",
      "Imdb_id: 0298203  Length: 54091 Genre: Drama Title: 8 Mile\n",
      "Imdb_id: 0299658  Length: 59963 Genre: Action Title: Chicago\n",
      "Imdb_id: 0304141  Length: 52829 Genre: Family Title: Harry Potter and the Prisoner of Azkaban\n",
      "Imdb_id: 0307453  Length: 48489 Genre: Action Title: Shark Tale\n",
      "Imdb_id: 0314331  Length: 63826 Genre: Comedy Title: Love Actually\n",
      "Imdb_id: 0315327  Length: 52522 Genre: Comedy Title: Bruce Almighty\n",
      "Imdb_id: 0316654  Length: 34403 Genre: Action Title: Spider-Man 2\n",
      "Imdb_id: 0317219  Length: 65422 Genre: Family Title: Cars\n",
      "Imdb_id: 0320661  Length: 27127 Genre: Action Title: Kingdom of Heaven\n",
      "Imdb_id: 0322802  Length: 29227 Genre: Documentary Title: Jackass: The Movie\n",
      "Imdb_id: 0325710  Length: 32587 Genre: Action Title: The Last Samurai\n",
      "Imdb_id: 0325980  Length: 46198 Genre: Action Title: Pirates of the Caribbean: The Curse of the Bla..\n",
      "Imdb_id: 0327084  Length: 32836 Genre: Family Title: Over the Hedge\n",
      "Imdb_id: 0328828  Length: 69097 Genre: Comedy Title: American Wedding\n",
      "Imdb_id: 0330373  Length: 52778 Genre: Family Title: Harry Potter and the Goblet of Fire\n",
      "Imdb_id: 0332452  Length: 45696 Genre: Drama Title: Troy\n",
      "Imdb_id: 0335345  Length: 14678 Genre: Drama Title: The Passion of the Christ\n",
      "Imdb_id: 0337741  Length: 57971 Genre: Comedy Title: Something's Gotta Give\n",
      "Imdb_id: 0338526  Length: 39846 Genre: Action Title: Van Helsing\n",
      "Imdb_id: 0343660  Length: 50011 Genre: Comedy Title: 50 First Dates\n",
      "Imdb_id: 0356910  Length: 33948 Genre: Action Title: Mr. & Mrs. Smith\n",
      "Imdb_id: 0358273  Length: 32183 Genre: Music Title: Walk the Line\n",
      "Imdb_id: 0360486  Length: 29275 Genre: Horror Title: Constantine\n",
      "Imdb_id: 0360717  Length: 38710 Genre: Action Title: King Kong\n",
      "Imdb_id: 0362227  Length: 52557 Genre: Comedy Title: The Terminal\n",
      "Imdb_id: 0363771  Length: 33167 Genre: Family Title: The Chronicles of Narnia: The Lion, the Witch ..\n",
      "Imdb_id: 0366548  Length: 45793 Genre: Comedy Title: Happy Feet\n",
      "Imdb_id: 0367594  Length: 42981 Genre: Family Title: Charlie and the Chocolate Factory\n",
      "Imdb_id: 0367882  Length: 37330 Genre: Action Title: Indiana Jones and the Kingdom of the Crystal Skull\n",
      "Imdb_id: 0368447  Length: 27486 Genre: Drama Title: The Village\n",
      "Imdb_id: 0369339  Length: 45579 Genre: Drama Title: Collateral\n",
      "Imdb_id: 0369610  Length: 40158 Genre: Action Title: Jurassic World\n",
      "Imdb_id: 0373889  Length: 48732 Genre: Family Title: Harry Potter and the Order of the Phoenix\n",
      "Imdb_id: 0377109  Length: 48860 Genre: Horror Title: The Ring Two\n",
      "Imdb_id: 0382932  Length: 50503 Genre: Family Title: Ratatouille\n",
      "Imdb_id: 0383574  Length: 45044 Genre: Action Title: Pirates of the Caribbean: Dead Man's Chest\n",
      "Imdb_id: 0386588  Length: 57081 Genre: Comedy Title: Hitch\n",
      "Imdb_id: 0389860  Length: 57681 Genre: Comedy Title: Click\n",
      "Imdb_id: 0391198  Length: 9575 Genre: Horror Title: The Grudge\n",
      "Imdb_id: 0393597  Length: 21473 Genre: Documentary Title: Earth\n",
      "Imdb_id: 0396269  Length: 85931 Genre: Comedy Title: Wedding Crashers\n",
      "Imdb_id: 0398808  Length: 32129 Genre: Family Title: Bridge to Terabithia\n",
      "Imdb_id: 0404032  Length: 113566 Genre: Horror Title: The Exorcism of Emily Rose\n",
      "Imdb_id: 0405159  Length: 56554 Genre: Drama Title: Million Dollar Baby\n",
      "Imdb_id: 0408236  Length: 44324 Genre: Music Title: Sweeney Todd: The Demon Barber of Fleet Street\n",
      "Imdb_id: 0408790  Length: 28494 Genre: Drama Title: Flightplan\n",
      "Imdb_id: 0413267  Length: 36093 Genre: Family Title: Shrek the Third\n",
      "Imdb_id: 0413300  Length: 36448 Genre: Action Title: Spider-Man 3\n",
      "Imdb_id: 0417741  Length: 51912 Genre: Family Title: Harry Potter and the Half-Blood Prince\n",
      "Imdb_id: 0418279  Length: 71796 Genre: Action Title: Transformers\n",
      "Imdb_id: 0421715  Length: 65576 Genre: Romance Title: The Curious Case of Benjamin Button\n",
      "Imdb_id: 0432021  Length: 18147 Genre: Horror Title: Resident Evil: Extinction\n",
      "Imdb_id: 0432348  Length: 34795 Genre: Horror Title: Saw II\n",
      "Imdb_id: 0435761  Length: 44190 Genre: Family Title: Toy Story 3\n",
      "Imdb_id: 0438097  Length: 26425 Genre: Family Title: Ice Age: The Meltdown\n",
      "Imdb_id: 0440963  Length: 35075 Genre: Action Title: The Bourne Ultimatum\n",
      "Imdb_id: 0441773  Length: 31144 Genre: Family Title: Kung Fu Panda\n",
      "Imdb_id: 0443649  Length: 18813 Genre: Action Title: 10,000 BC\n",
      "Imdb_id: 0449088  Length: 49215 Genre: Action Title: Pirates of the Caribbean: At World's End\n",
      "Imdb_id: 0451279  Length: 46154 Genre: Action Title: Wonder Woman\n",
      "Imdb_id: 0452594  Length: 75590 Genre: Comedy Title: The Break-Up\n",
      "Imdb_id: 0454876  Length: 33249 Genre: Action Title: Life of Pi\n",
      "Imdb_id: 0457939  Length: 62004 Genre: Comedy Title: The Holiday\n",
      "Imdb_id: 0458352  Length: 58627 Genre: Comedy Title: The Devil Wears Prada\n",
      "Imdb_id: 0461770  Length: 47496 Genre: Family Title: Enchanted\n",
      "Imdb_id: 0462538  Length: 33578 Genre: Family Title: The Simpsons Movie\n",
      "Imdb_id: 0467406  Length: 45627 Genre: Comedy Title: Juno\n",
      "Imdb_id: 0468569  Length: 69926 Genre: Action Title: The Dark Knight\n",
      "Imdb_id: 0472181  Length: 55583 Genre: Family Title: The Smurfs\n",
      "Imdb_id: 0473075  Length: 39372 Genre: Action Title: Prince of Persia: The Sands of Time\n",
      "Imdb_id: 0477347  Length: 44695 Genre: Action Title: Night at the Museum\n",
      "Imdb_id: 0478311  Length: 102393 Genre: Comedy Title: Knocked Up\n",
      "Imdb_id: 0480249  Length: 22346 Genre: Action Title: I Am Legend\n",
      "Imdb_id: 0481499  Length: 26744 Genre: Family Title: The Croods\n",
      "Imdb_id: 0489270  Length: 28114 Genre: Horror Title: Saw III\n",
      "Imdb_id: 0493430  Length: 42092 Genre: Documentary Title: Jackass Number Two\n",
      "Imdb_id: 0497116  Length: 60454 Genre: Documentary Title: An Inconvenient Truth\n",
      "Imdb_id: 0499549  Length: 38571 Genre: Action Title: Avatar\n",
      "Imdb_id: 0762107  Length: 73455 Genre: Comedy Title: I Now Pronounce You Chuck & Larry\n",
      "Imdb_id: 0765429  Length: 67127 Genre: Drama Title: American Gangster\n",
      "Imdb_id: 0770828  Length: 37943 Genre: Action Title: Man of Steel\n",
      "Imdb_id: 0780521  Length: 49549 Genre: Music Title: The Princess and the Frog\n",
      "Imdb_id: 0790724  Length: 51646 Genre: Drama Title: Jack Reacher\n",
      "Imdb_id: 0795421  Length: 50124 Genre: Comedy Title: Mamma Mia!\n",
      "Imdb_id: 0816692  Length: 69755 Genre: Drama Title: Interstellar\n",
      "Imdb_id: 0816711  Length: 37450 Genre: Action Title: World War Z\n",
      "Imdb_id: 0817230  Length: 72857 Genre: Comedy Title: Valentine's Day\n",
      "Imdb_id: 0829150  Length: 19137 Genre: Action Title: Dracula Untold\n",
      "Imdb_id: 0837562  Length: 48422 Genre: Family Title: Hotel Transylvania\n",
      "Imdb_id: 0848228  Length: 54530 Genre: Action Title: The Avengers\n",
      "Imdb_id: 0879870  Length: 59072 Genre: Drama Title: Eat Pray Love\n",
      "Imdb_id: 0892791  Length: 37056 Genre: Family Title: Shrek Forever After\n",
      "Imdb_id: 0903624  Length: 45843 Genre: Action Title: The Hobbit: An Unexpected Journey\n",
      "Imdb_id: 0926084  Length: 49669 Genre: Family Title: Harry Potter and the Deathly Hallows: Part 1\n",
      "Imdb_id: 0948470  Length: 42878 Genre: Action Title: The Amazing Spider-Man\n",
      "Imdb_id: 0952640  Length: 39891 Genre: Music Title: Alvin and the Chipmunks\n",
      "Imdb_id: 0960731  Length: 60307 Genre: Family Title: Bedtime Stories\n",
      "Imdb_id: 0963966  Length: 38510 Genre: Action Title: The Sorcerer's Apprentice\n",
      "Imdb_id: 0970416  Length: 35032 Genre: Drama Title: The Day the Earth Stood Still\n",
      "Imdb_id: 0970866  Length: 72152 Genre: Comedy Title: Little Fockers\n",
      "Imdb_id: 0985699  Length: 37629 Genre: Drama Title: Valkyrie\n",
      "Imdb_id: 0993846  Length: 126606 Genre: Comedy Title: The Wolf of Wall Street\n",
      "Imdb_id: 1000774  Length: 70995 Genre: Comedy Title: Sex and the City\n",
      "Imdb_id: 1010048  Length: 28316 Genre: Romance Title: Slumdog Millionaire\n",
      "Imdb_id: 1014759  Length: 33443 Genre: Family Title: Alice in Wonderland\n",
      "Imdb_id: 1024648  Length: 56481 Genre: Drama Title: Argo\n",
      "Imdb_id: 1041829  Length: 62367 Genre: Comedy Title: The Proposal\n",
      "Imdb_id: 1045658  Length: 83165 Genre: Comedy Title: Silver Linings Playbook\n",
      "Imdb_id: 1049413  Length: 28997 Genre: Family Title: Up\n",
      "Imdb_id: 1051904  Length: 48659 Genre: Horror Title: Goosebumps\n",
      "Imdb_id: 1055369  Length: 73228 Genre: Action Title: Transformers: Revenge of the Fallen\n",
      "Imdb_id: 1074638  Length: 34881 Genre: Action Title: Skyfall\n",
      "Imdb_id: 1078912  Length: 55387 Genre: Action Title: Night at the Museum: Battle of the Smithsonian\n",
      "Imdb_id: 1080016  Length: 26171 Genre: Family Title: Ice Age: Dawn of the Dinosaurs\n",
      "Imdb_id: 1099212  Length: 51944 Genre: Romance Title: Twilight\n",
      "Imdb_id: 1119646  Length: 55763 Genre: Comedy Title: The Hangover\n",
      "Imdb_id: 1142988  Length: 67843 Genre: Comedy Title: The Ugly Truth\n",
      "Imdb_id: 1144884  Length: 23193 Genre: Horror Title: The Final Destination\n",
      "Imdb_id: 1152836  Length: 41258 Genre: Drama Title: Public Enemies\n",
      "Imdb_id: 1179904  Length: 43464 Genre: Horror Title: Paranormal Activity\n",
      "Imdb_id: 1190080  Length: 60891 Genre: Action Title: 2012\n",
      "Imdb_id: 1201607  Length: 28798 Genre: Family Title: Harry Potter and the Deathly Hallows: Part 2\n",
      "Imdb_id: 1205489  Length: 50990 Genre: Drama Title: Gran Torino\n",
      "Imdb_id: 1211837  Length: 37536 Genre: Action Title: Doctor Strange\n",
      "Imdb_id: 1216475  Length: 63976 Genre: Family Title: Cars 2\n",
      "Imdb_id: 1217209  Length: 26398 Genre: Action Title: Brave\n",
      "Imdb_id: 1220634  Length: 18828 Genre: Action Title: Resident Evil: Afterlife\n",
      "Imdb_id: 1229238  Length: 37594 Genre: Action Title: Mission: Impossible - Ghost Protocol\n",
      "Imdb_id: 1230414  Length: 66082 Genre: Comedy Title: It's Complicated\n",
      "Imdb_id: 1231580  Length: 32822 Genre: Music Title: Alvin and the Chipmunks: The Squeakquel\n",
      "Imdb_id: 1231583  Length: 53811 Genre: Comedy Title: Due Date\n",
      "Imdb_id: 1243957  Length: 26065 Genre: Action Title: The Tourist\n",
      "Imdb_id: 1253864  Length: 23043 Genre: Action Title: Immortals\n",
      "Imdb_id: 1259571  Length: 43387 Genre: Romance Title: The Twilight Saga: New Moon\n",
      "Imdb_id: 1261945  Length: 51562 Genre: Comedy Title: Sex and the City 2\n",
      "Imdb_id: 1277953  Length: 47189 Genre: Family Title: Madagascar 3: Europe's Most Wanted\n",
      "Imdb_id: 1285016  Length: 89516 Genre: Drama Title: The Social Network\n",
      "Imdb_id: 1291150  Length: 42911 Genre: Action Title: Teenage Mutant Ninja Turtles\n",
      "Imdb_id: 1298650  Length: 44867 Genre: Action Title: Pirates of the Caribbean: On Stranger Tides\n"
     ]
    },
    {
     "name": "stdout",
     "output_type": "stream",
     "text": [
      "Imdb_id: 1300854  Length: 54948 Genre: Action Title: Iron Man 3\n",
      "Imdb_id: 1302011  Length: 29000 Genre: Family Title: Kung Fu Panda 2\n",
      "Imdb_id: 1318514  Length: 24511 Genre: Action Title: Rise of the Planet of the Apes\n",
      "Imdb_id: 1324999  Length: 35809 Genre: Romance Title: The Twilight Saga: Breaking Dawn - Part 1\n",
      "Imdb_id: 1325004  Length: 46232 Genre: Romance Title: The Twilight Saga: Eclipse\n",
      "Imdb_id: 1343092  Length: 67495 Genre: Romance Title: The Great Gatsby\n",
      "Imdb_id: 1345836  Length: 67992 Genre: Action Title: The Dark Knight Rises\n",
      "Imdb_id: 1355644  Length: 36946 Genre: Romance Title: Passengers\n",
      "Imdb_id: 1375666  Length: 63807 Genre: Action Title: Inception\n",
      "Imdb_id: 1386697  Length: 41363 Genre: Action Title: Suicide Squad\n",
      "Imdb_id: 1396484  Length: 34920 Genre: Horror Title: It\n",
      "Imdb_id: 1398426  Length: 101820 Genre: Music Title: Straight Outta Compton\n",
      "Imdb_id: 1399103  Length: 74000 Genre: Action Title: Transformers: Dark of the Moon\n",
      "Imdb_id: 1403865  Length: 56815 Genre: Drama Title: True Grit\n",
      "Imdb_id: 1409024  Length: 48067 Genre: Action Title: Men in Black 3\n",
      "Imdb_id: 1412386  Length: 60798 Genre: Drama Title: The Best Exotic Marigold Hotel\n",
      "Imdb_id: 1428538  Length: 21477 Genre: Action Title: Hansel & Gretel: Witch Hunters\n",
      "Imdb_id: 1431045  Length: 45147 Genre: Action Title: Deadpool\n",
      "Imdb_id: 1436562  Length: 38243 Genre: Family Title: Rio\n",
      "Imdb_id: 1453405  Length: 44113 Genre: Family Title: Monsters University\n",
      "Imdb_id: 1454468  Length: 29098 Genre: Drama Title: Gravity\n",
      "Imdb_id: 1457767  Length: 40706 Genre: Horror Title: The Conjuring\n",
      "Imdb_id: 1478338  Length: 78347 Genre: Comedy Title: Bridesmaids\n",
      "Imdb_id: 1490017  Length: 59333 Genre: Family Title: The Lego Movie\n",
      "Imdb_id: 1496025  Length: 21269 Genre: Horror Title: Underworld: Awakening\n",
      "Imdb_id: 1504320  Length: 69856 Genre: Drama Title: The King's Speech\n",
      "Imdb_id: 1528100  Length: 31733 Genre: Action Title: Exodus: Gods and Kings\n",
      "Imdb_id: 1536044  Length: 38158 Genre: Horror Title: Paranormal Activity 2\n",
      "Imdb_id: 1564367  Length: 80546 Genre: Comedy Title: Just Go with It\n",
      "Imdb_id: 1568346  Length: 61849 Genre: Drama Title: The Girl with the Dragon Tattoo\n",
      "Imdb_id: 1587310  Length: 19156 Genre: Action Title: Maleficent\n",
      "Imdb_id: 1598778  Length: 53064 Genre: Drama Title: Contagion\n",
      "Imdb_id: 1606389  Length: 45788 Genre: Romance Title: The Vow\n",
      "Imdb_id: 1615918  Length: 45464 Genre: Music Title: Alvin and the Chipmunks: Chipwrecked\n",
      "Imdb_id: 1622979  Length: 27004 Genre: Horror Title: Final Destination 5\n",
      "Imdb_id: 1637725  Length: 52974 Genre: Comedy Title: Ted\n",
      "Imdb_id: 1646971  Length: 35275 Genre: Action Title: How to Train Your Dragon 2\n",
      "Imdb_id: 1648190  Length: 26171 Genre: Action Title: The Dark Tower\n",
      "Imdb_id: 1661199  Length: 42640 Genre: Family Title: Cinderella\n",
      "Imdb_id: 1663202  Length: 30781 Genre: Drama Title: The Revenant\n",
      "Imdb_id: 1667889  Length: 33282 Genre: Family Title: Ice Age: Continental Drift\n",
      "Imdb_id: 1673434  Length: 73049 Genre: Romance Title: The Twilight Saga: Breaking Dawn - Part 2\n",
      "Imdb_id: 1690953  Length: 35386 Genre: Family Title: Despicable Me 2\n",
      "Imdb_id: 1707386  Length: 65688 Genre: Music Title: Les Misérables\n",
      "Imdb_id: 1772341  Length: 45418 Genre: Family Title: Wreck-It Ralph\n",
      "Imdb_id: 1778304  Length: 43333 Genre: Horror Title: Paranormal Activity 3\n",
      "Imdb_id: 1790809  Length: 39138 Genre: Action Title: Pirates of the Caribbean: Dead Men Tell No Tales\n",
      "Imdb_id: 1800241  Length: 106735 Genre: Drama Title: American Hustle\n",
      "Imdb_id: 1843866  Length: 47288 Genre: Action Title: Captain America: The Winter Soldier\n",
      "Imdb_id: 1853728  Length: 73585 Genre: Drama Title: Django Unchained\n",
      "Imdb_id: 1855325  Length: 15890 Genre: Action Title: Resident Evil: Retribution\n",
      "Imdb_id: 1872181  Length: 62198 Genre: Action Title: The Amazing Spider-Man 2\n",
      "Imdb_id: 1877832  Length: 38875 Genre: Action Title: X-Men: Days of Future Past\n",
      "Imdb_id: 1905041  Length: 43513 Genre: Action Title: Fast & Furious 6\n",
      "Imdb_id: 1911658  Length: 39052 Genre: Family Title: Penguins of Madagascar\n",
      "Imdb_id: 1951261  Length: 45730 Genre: Comedy Title: The Hangover Part III\n",
      "Imdb_id: 1951264  Length: 47565 Genre: Action Title: The Hunger Games: Catching Fire\n",
      "Imdb_id: 1951266  Length: 43848 Genre: Action Title: The Hunger Games: Mockingjay - Part 2\n",
      "Imdb_id: 2015381  Length: 42792 Genre: Action Title: Guardians of the Galaxy\n",
      "Imdb_id: 2017020  Length: 56988 Genre: Family Title: The Smurfs 2\n",
      "Imdb_id: 2023587  Length: 22940 Genre: Horror Title: Mama\n",
      "Imdb_id: 2084970  Length: 59005 Genre: Drama Title: The Imitation Game\n",
      "Imdb_id: 2096673  Length: 47595 Genre: Family Title: Inside Out\n",
      "Imdb_id: 2103281  Length: 3012 Genre: Action Title: Dawn of the Planet of the Apes\n",
      "Imdb_id: 2109184  Length: 36417 Genre: Horror Title: Paranormal Activity 4\n",
      "Imdb_id: 2109248  Length: 72534 Genre: Action Title: Transformers: Age of Extinction\n",
      "Imdb_id: 2126355  Length: 37944 Genre: Action Title: San Andreas\n",
      "Imdb_id: 2203939  Length: 59013 Genre: Comedy Title: The Other Woman\n",
      "Imdb_id: 2224026  Length: 32171 Genre: Family Title: Home\n",
      "Imdb_id: 2245084  Length: 44569 Genre: Action Title: Big Hero 6\n",
      "Imdb_id: 2250912  Length: 63222 Genre: Action Title: Spider-Man: Homecoming\n",
      "Imdb_id: 2267968  Length: 33027 Genre: Action Title: Kung Fu Panda 3\n",
      "Imdb_id: 2277860  Length: 66391 Genre: Family Title: Finding Dory\n",
      "Imdb_id: 2293640  Length: 23200 Genre: Family Title: Minions\n",
      "Imdb_id: 2294629  Length: 40553 Genre: Family Title: Frozen\n",
      "Imdb_id: 2310332  Length: 32570 Genre: Action Title: The Hobbit: The Battle of the Five Armies\n",
      "Imdb_id: 2316204  Length: 36291 Genre: Horror Title: Alien: Covenant\n",
      "Imdb_id: 2322441  Length: 36355 Genre: Romance Title: Fifty Shades of Grey\n",
      "Imdb_id: 2334879  Length: 78832 Genre: Action Title: White House Down\n",
      "Imdb_id: 2345759  Length: 30694 Genre: Action Title: The Mummy\n",
      "Imdb_id: 2357291  Length: 44174 Genre: Family Title: Rio 2\n",
      "Imdb_id: 2369135  Length: 43202 Genre: Action Title: Need for Speed\n",
      "Imdb_id: 2379713  Length: 34550 Genre: Action Title: Spectre\n",
      "Imdb_id: 2381249  Length: 45991 Genre: Action Title: Mission: Impossible - Rogue Nation\n",
      "Imdb_id: 2395427  Length: 57282 Genre: Action Title: Avengers: Age of Ultron\n",
      "Imdb_id: 2488496  Length: 37853 Genre: Action Title: Star Wars: The Force Awakens\n",
      "Imdb_id: 2510894  Length: 40912 Genre: Family Title: Hotel Transylvania 2\n",
      "Imdb_id: 2543164  Length: 38052 Genre: Drama Title: Arrival\n",
      "Imdb_id: 2582846  Length: 63890 Genre: Romance Title: The Fault in Our Stars\n",
      "Imdb_id: 2592614  Length: 23631 Genre: Action Title: Resident Evil: The Final Chapter\n",
      "Imdb_id: 2674426  Length: 48877 Genre: Romance Title: Me Before You\n",
      "Imdb_id: 2692250  Length: 50724 Genre: Family Title: Night at the Museum: Secret of the Tomb\n",
      "Imdb_id: 2709768  Length: 34868 Genre: Family Title: The Secret Life of Pets\n",
      "Imdb_id: 2713180  Length: 42947 Genre: Action Title: Fury\n",
      "Imdb_id: 2719848  Length: 51206 Genre: Drama Title: Everest\n",
      "Imdb_id: 2771200  Length: 47169 Genre: Family Title: Beauty and the Beast\n",
      "Imdb_id: 2802144  Length: 55085 Genre: Action Title: Kingsman: The Secret Service\n",
      "Imdb_id: 2820852  Length: 42629 Genre: Action Title: Furious 7\n",
      "Imdb_id: 2848292  Length: 55150 Genre: Music Title: Pitch Perfect 2\n",
      "Imdb_id: 2948356  Length: 54491 Genre: Family Title: Zootopia\n",
      "Imdb_id: 3040964  Length: 30433 Genre: Family Title: The Jungle Book\n",
      "Imdb_id: 3065204  Length: 49430 Genre: Horror Title: The Conjuring 2\n",
      "Imdb_id: 3183660  Length: 37528 Genre: Family Title: Fantastic Beasts and Where to Find Them\n",
      "Imdb_id: 3263904  Length: 35841 Genre: Drama Title: Sully\n",
      "Imdb_id: 3315342  Length: 34968 Genre: Action Title: Logan\n",
      "Imdb_id: 3322940  Length: 30257 Genre: Horror Title: Annabelle\n",
      "Imdb_id: 3416828  Length: 35868 Genre: Family Title: Ice Age: Collision Course\n",
      "Imdb_id: 3469046  Length: 34188 Genre: Action Title: Despicable Me 3\n",
      "Imdb_id: 3470600  Length: 51316 Genre: Family Title: Sing\n",
      "Imdb_id: 3498820  Length: 54141 Genre: Action Title: Captain America: Civil War\n",
      "Imdb_id: 3521164  Length: 33901 Genre: Family Title: Moana\n",
      "Imdb_id: 3606752  Length: 51654 Genre: Family Title: Cars 3\n",
      "Imdb_id: 3659388  Length: 55860 Genre: Drama Title: The Martian\n",
      "Imdb_id: 3748528  Length: 51142 Genre: Action Title: Rogue One: A Star Wars Story\n",
      "Imdb_id: 3783958  Length: 42711 Genre: Music Title: La La Land\n",
      "Imdb_id: 3874544  Length: 40783 Genre: Family Title: The Boss Baby\n",
      "Imdb_id: 3896198  Length: 49155 Genre: Action Title: Guardians of the Galaxy Vol. 2\n",
      "Imdb_id: 4465564  Length: 34274 Genre: Romance Title: Fifty Shades Darker\n",
      "Imdb_id: 4630562  Length: 47350 Genre: Action Title: The Fate of the Furious\n",
      "Imdb_id: 4786282  Length: 20456 Genre: Horror Title: Lights Out\n",
      "Imdb_id: 4846340  Length: 57066 Genre: Drama Title: Hidden Figures\n",
      "Imdb_id: 4972582  Length: 37463 Genre: Horror Title: Split\n",
      "Imdb_id: 5052448  Length: 40521 Genre: Horror Title: Get Out\n",
      "Imdb_id: 5140878  Length: 18618 Genre: Horror Title: Annabelle: Creation\n"
     ]
    }
   ],
   "source": [
    "for key, value in raw_txt.items():\n",
    "    print('Imdb_id: {}  Length: {} Genre: {} Title: {}'\n",
    "          .format(key,len(value), movd.loc[movd['imdb_id'] == key, 'Genre'].values[0]\n",
    "                  , movd.loc[movd['imdb_id'] == key, 'Title'].values[0]))"
   ]
  },
  {
   "cell_type": "code",
   "execution_count": 726,
   "metadata": {
    "collapsed": true
   },
   "outputs": [
    {
     "name": "stdout",
     "output_type": "stream",
     "text": [
      "missouri earth (singing along with \"brandy\" on the car stereo) - come on! - slow down. what do you say, my river lily? come on! where are you taking me? come on, come on, come on. look. look. oh, it's beautiful! i was afraid it wouldn't take to this soil. but it rooted quickly. and soon it'll be everywhere. all across the universe. well i don't know what you're talking about... ...but i like the way you say it. my heart is yours... meredith quill. i can't believe i fell in love with a spaceman. 34 years later the sovereign planet showtime, a-holes! it's gonna be here any minute. which will be its loss. i thought your thing was a sword. we've been hired to stop an inter-dimensional beast... ...from feeding on those batteries, and i'm gonna stop it with a sword? it's just, swords were your thing and guns were mine but i guess we're both doing guns now. i just didn't know that. drax, why aren't you wearing one of rocket's aero-rigs? it hurts. hurts? i have sensitive nipples. ha ha ha! my nipples hurt! oh goodness me! what about him? what's he doing? i'm finishing this so we can listen to tunes while we work. how is that a priority? blame quill. he's the one who loves music so much. no, i actually agree with drax on this. that's hardly important right now. oh, okay. sure, quill. no, seriously, i side with drax. no, i understand that. you're being very serious right now. i can clearly see you winking. dammit. i'm using my left eye? i am groot. they were not looking at you funny. that's intense. guardians of the galaxy vol. 2 groot! groot, get out of the way! you're going to get hurt! hi! no, no! spit it out, spit it out! come on! disgusting! the beast's hide is too thick to be pierced from the outside. i must cut through it from the inside. huh? no, no, drax! wait a minute! drax! what is he doing? he said the skin is too thick to be pierced from the outside, so he... - that doesn't make any sense! - i tried telling him that! skin's the same level of thickness from the inside as from the outside! i realize that. there is a cut on its neck. rocket, get it to look up. hey, giant sea monkey! i'm here! watch it, quill! yes! i have single handedly... ...vanquished the beast! what? what are they called again? anulax batteries. harbulary batteries. that's nothing like what i just said. but they're worth thousands of units a piece, which is... why the sovereign hired us to protect them. careful what you say around these folks, they're easily offended. the cost of transgression is death. we thank you guardians for putting your lives on the line. we could not risk the lives of our own sovereign citizens. every citizen is born exactly as designed by the community. impeccable, both physically and mentally. we control the dna of our progeny... ...germinating them in birthing pods. i guess i prefer to make people the old fashioned way. well.  perhaps someday you could give me a history lesson... ...in the archaic ways of our ancestors. for academic purposes. i would be honored. yes. in the name of research... i think that could be... ...pretty uh, repulsive. i'm... i'm not into that kind of casual... please... your people promised something in exchange for our services. bring it... ...and we shall gladly be on our way. family reunion. yay! i understand she is your sister. she's worth no more to me than the bounty due for her on xandar. our soldiers apprehended her attempting to steal the batteries. do with her as you please. we thank you, high priestess ayesha. what is your heritage, mr. quill? my mother was from earth. and your father? he ain't from missouri. that's all i know. i see it within you. an unorthodox genealogy. a hybrid that seems particularly... ...wreckless. you know, they told me you people were conceited douchebags. but that isn't true at all. ah, shit. i'm using my wrong eye again, aren't i? i'm sorry, that was...that was meant to be behind your back. count yourself blessed they didn't kill you. you're telling me. - you want to buy some batteries? - ha ha ha! all right, let's get baldly to xandar and collect that bounty. awesome mix vol. 2 that stuff about my father. who does she thing she is? i know you're sensitive about that. i'm not sensitive about it. i just don't know who he is. sorry if it seemed like i was flirting with the high priestess. i wasn't. i don't care if you were. well i feel like you do care. that's why i'm apologizing. so, sorry. gamora is not the one for you, quill. damn shadow. there are two types of beings in the universe. those who dance and those who do not. mmm-hmm. i first met my beloved at a war rally. oh god. everyone in the village flailed about dancing. except one woman. my ovette. i knew immediately she was the one for me. the most melodic song in the world could be playing. she wouldn't even tap her foot. wouldn't move a muscle. one might assume she was dead. that does sound pretty hot. it would make my nether-regions engorged. okay i get it, yes. i'm a dancer, gamora is not. you just need to find a woman who is pathetic, like you. i'm hungry. hand me some of that yaro root. no. it's not ripe yet... ...and i hate you. you hate me? you left me there while you stole that stone for yourself. and yet here you stand, a hero. i will be free of these shackles soon and i will kill you. i swear. no. you're gonna live out the rest of your days in a prison on xandar, wishing you could. this is weird. we've got a sovereign fleet approaching from the rear. why would they do that? perhaps because rocket stole some of their batteries. dude! right. he didn't steal some of those. i don't know why they're after us. what a mystery this is. what were you thinking? dude, they were really easy to steal! - that's your defense? - come on! you saw how that high priestess talked down to us. now i'm teaching her a lesson! oh, i didn't realize your motivation was altruism. it's really a shame the sovereign have mistaken your intentions... - ...and are trying to kill us. - exactly! i was being sarcastic! oh no! you're supposed to use the sarcastic tone! now i look foolish! can we put the bickering on hold... ...'til after we've survived this massive space battle? - more incoming! - good! i want to kill some guys! you're not killing anyone. all those ships are remotely piloted. dammit! what is the delay, admiral? high priestess, the batteries, they are exceptionally combustible... ...and could destroy the entire fleet. our concern is their slight against our people. we hired them and they steal from us. it's heresy of the highest order. all command modules... ...fire with the intent to kill. what's the nearest habital planet? it's called berhert. - how many jumps? - only one. but the access point is 47 clicks away. and you have to go through that quantum asteroid field. quill, to make it through that... ...you'd have to be the greatest pilot in the universe. luck for us... - i... - i am. what are you doing? i've been flying this rig since i was 10 years old. i was cybernetically engineered to pilot a spacecraft. you were cybernetically engineered to be a douchebag! stop it! quill, later on tonight, you're gonna be laying down in your bed... ...and there's gonna be something squishy in your pillowcase. and you're gonna be like, what's this? and it's gonna be because i put a turd in there. you put your turd in my bed, i shave you. oh, it won't be my turd. - it'll be drax's. - ha ha ha ha! i have famously huge turds. we're about to die, and this is what we're discussing? son of a...! dude! seriously! hey, let me... idiots! ah! that's what you get when quill flies. we still have a sovereign craft behind us. our weapons are down. twenty clicks to the jump. hold on. it's not ripe. spacesuits for emergency or for fun. come on, zylak. you can do this. - yes! - yes, yes! 15 clicks to the jump. (cheers) (cheers) 10 clicks! die, spaceship! you suck, zylak. typical. it's 5 clicks! son of a...! they went around the field! someone destroyed all our ships! what? who? one click! - what is that? - who cares? that's the jump point! go, go! it's a guy. oh my god. he's still out there? groot, put your seatbelt on! prepare for a really bad landing! berhert ha ha ha ha! that was awesome! ha ha ha! yes! look at this! where's the other half of our ship? my ship. either one of you could've gotten us through that field... ...had you flown with what's between your ears instead of what's between your legs! if what's between my legs had a hand on it... ...i guarantee i could've landed this ship with it. peter. we almost died because of your arrogance. no, like, because he stole... ...anulax batteries. they're called harbulary batteries. no, they're not! you know why i did it, star-munch?  hmm? i'm not gonna answer to star-munch. - i did it because i wanted to! - dick. what are we even talking about this for? we just had a little man save us by blowing up 50 ships! how little? i, i don't know, like this? a little one-inch man saved us? well, if he got closer, i'm sure he'd be much larger. that's how eyesight works, you stupid raccoon. don't call me a raccoon! i'm sorry. i took it too far. i meant trash panda. is that better? i don't know. it's worse.  it's so much worse. you son of a...! hey! - i've about had it with you! - no! back off! someone followed you through the jump point. set me free. you'll need my help. i'm not a fool, nebula. you are a fool to deprive yourself a hand in combat. you'll attack me the moment i let you go. no i won't. you would think an evil super-villain would learn how to properly lie. i bet it's the one-inch man.. after all these years, i've found you. and who the hell are you? i figured my rugged good looks would make that obvious. my name is ego. and i'm your dad, peter. contraxia you know what they say. you're out of luck until you've gone duck. yondu! come on down! (faroff conversation) ...this woman, i ended up marrying her. i said, aleta, i love you... ...but you're losing your mind! and she's always been this way. i could never trust her, you know. stakar. it's been some time. seems like this establishment is the wrong kind of disreputable. stakar. there's 100 ravager factions. you just lost the business of 99 of them by serving one. please, sir. please! get away from me. you can go to hell then! i don't give a damn what you think of me! so, what are you following us for? you're gonna listen to what i gotta say! i don't gotta listen to nothing! you betrayed the code! ravager's don't deal in kids! i told you before! i didn't know what was going on! you didn't know 'cause you didn't want to know 'cause it made you rich. i demand a seat at the table. i wear these flames, same as you. you may dress like us... ...but you'll never hear the horns of freedom when you die, yondu. and the colors of orgord... ...will never lash over your grave. if you think... i take pleasure in exiling you... ...you're wrong. you broke all all our hearts. pathetic. first, quill betrays us... ...and yondu just lets him go scott-free. we followed him... ...because he was the one who wasn't afraid to do what needed to be done. seems he's going soft. if he's so soft, why are you whispering for? you know i'm right, kraglin. you best be very careful what you say about our captain. who is that? yondu udonta. i have a proposition for you. i hired yondu to pick you up... ...when your mother passed away. but, instead of returning you... ...yondu kept you. i have no clue as to why. well, i'll tell you why. 'cause i was a skinny little kid who could squeeze into places adults couldn't. it made it easier for thieving. well. i've been trying to track you down ever since. i thought yondu was your father. what?  we've been together this whole time... ...and you thought yondu was my actual blood relative? you look exactly alike. one's blue! no, he's not my father! yondu is the guy who abducted me. kicked the crap out of me so i could learn to fight. and kept me in terror by threatening to eat me. - eat you? - yeah. ah, that son of a bitch! how did you locate us now? well, even where i reside, out past the edge what's known... ...we've heard tell about the man they call star-lord. what say we head out there right now? your associates are welcome. even that triangle-face monkey, there. i promise you... ...it's not like any other place you've ever seen. and there... i can explain your very special heritage. finally get to be the... ...father i've always wanted to be. excuse me. i've gotta take a whiz. i'm not buying it. let's go take a walk. i am mantis. what are you doing? smiling. i hear it is the thing to do to make people like you. not if you do it like that. oh. i was raised alone on ego's planet. i do not understand the intricacies of social interaction. can i pet your puppy? it's adorable. yes. ha ha ha ha! that is called a practical joke! i liked it very much! i just made it up. give me a break! after all this time, you're gonna show up and just all of a sudden... - ...you want to be my dad? - i hear you. you know, by the way, this could be a trap. ok? the kree ~perus, the ravagers... - ...they all want us dead. - i know, but... but, what? what was that story you told me about zardu hasselfrau? who? he owned a magic boat. david hasselhoff? right. not in a magic boat. a talking car. why did he talk, again? to help him fight crime, and to be supportive. as a child, you would carry his picture in your pocket... and you would tell all the other children... ...that he was your father, but that he was out of town. shooting knight rider or touring with his band in germany. i told you that when i was drunk. why are you bringing it up now? i love that story. i hate that story. it's so sad! as a kid, i used to see all the other kids all playing catch with their dad. and i wanted that, more than anything in the world. that's my point, peter. what if this man is your hasselhoff? listen.  if he ends up being evil... ...we'll just kill him. you're leaving me with that fox? he's not a fox. shoot her if she does anything suspicious. - or if you feel like it. - okay. hey. it'll be just a couple of days. we'll be back before rocket's finished fixing the ship. what if sovereign come? there's no way for them to know we're here.  let's go. i'm uncertain about parting ways. god, you're like an old woman. because i'm wise? why do you have so much luggage? i don't want groot playing with my things. i hope daddy isn't as big of a dick as you, orphan boy. what is your goal here? to get everbody to hate you? because it's working. hey. can i ask you a personal question? oh! noone has ever asked me a personal question. your antennae, what are they for? their purpose? yes, quill and i have a bet. ugh. you're not supposed to say that. i say... that if you're about to go through a doorway that's too low... ...the antennae will feel this and keep you from being decapitated. right. and if it's anything other than... ...you specifically not being decapitated by a doorway, i win. they are not for feeling doorways. i think... ...they have something to do with my empathic abilities. what are those? if i touch someone, i can feel their feelings. - you read minds? - no. telepaths know thoughts. empaths feel feelings. emotions. may i? oh, all right. you feel love. yeah, i guess feel a general unselfish love for just about everybody... no! romantic, sexual love. no. no i don't. - for her! - no! - that is not... - aaa ha ha ha!! okay. she just told everyone your deepest, darkest secret! dude, come on, i think you're overreacting a little bit. you must be so embarrassed! aha ha ha ha! do me! do me! do me! i have never felt such humor. (both laughing hysterically) so unbelievably not cool. quill. touch me, and the only thing you're gonna feel is a broken jaw. i can also alter emotions, to some extent. yeah, like what? if i touch someone who is sad... ...i can ease them into contentment for a short while. i can make a stubborn person compliant. but i mostly use it to help my master sleep. he lies awake at night thinking about his progeny. do one of those on me. sleep. i love this song. there! ain't so tough now, without all your toys. are ya? move! crap. hey there, rat! how's it going, you blue idiot? not so bad. we got ourselves a pretty good little gig here. this golden gal with quite a high opinion of herself... ...has offered us a large sum to deliver you and your pals over to her... ...'cause she wants to kill y'all. your friend... there's too many of them. he needs my help. if you care about him... ...you need to get me out of these bonds. they are going to kill him! i'll tell you, it was pretty easy to find you. i put a tracer on your ship back there... ...during the war with xandar. give me your word you won't hurt groot... ...and i'll tell you where the batteries are. lucky for you, my word don't mean squat. otherwise, i'd actually hand you over. otherwise...what? we'll take them batteries. they're worth, what, a quarter mil on the open market? that priestess offered us a million. a quarter is only one third of that! a quarter ain't a third. a quarter is 25. no. we can't even buy a pair of boots with 25 units. enough! the point is, we ain't stupid enough to help kill the guardians of the galaxy! the whole dang nova corps'd be on us. that ain't right! i just gotta say it this one time, captain. no matter how many times quill betrays you... ...you protect him like none of the rest of us much matter. i'm the one what sticks up for you! take it easy, kraglin. damn straight, lads. he's gone soft. i suppose it's time for a change in leadership. put your ~gob guns down! whoa! whoa! there must be some kind of peaceful resolution to this, fellas. or even a violent one, where i'm standing over there. well, hello boys. it's not ripe. ego's planet welcome, everyone, to my world. wow. you have your own planet? come on.  it's no larger than your earth's moon. humility. i like it. i, too, am extraordinarily humble. you own a planet and can destroy two dozen spaceships without a suit. what are you exactly? i'm what's called a celestial, sweetheart. a celestial, like a god? oh, a small \"g\", son. at least on the days i'm feeling as humble as drax. i don't know where i came from, exactly. the first thing i remember is... ...flickering. adrift in the cosmos, utterly... ...and entirely alone. over millions of years... ...i learned to control the molecules around me. i grew smarter and stronger. and i continued building from there. layer by layer... ...the very planet you walk on now. whoa. but i wanted more. i desired... ...meaning. there must be some life out there in the universe... ...besides just me, i thought. and so, i set myself to task for finding it. i created... ...what i imagined biological life to be like... ...down to the most minute detail. did you make a penis? dude! what is wrong with you? if he is a planet, how could he make a baby with your mother? he would smush her! i...ugh!  i don't need to hear how my parents... why? my father would tell the story of impregnating my mother every winter solstice. that's disgusting. it was beautiful. you earthers have hang-ups. yes, drax. i got a penis. ha! thank you. - and it's not half bad. - huh! i also have pain receptors and a digestive system... ...and all the accompanying junk. i wanted to experience what it truly meant to be human. as i set out amongst the stars... ...'til i found... ...what i sought. life. i was not alone in the universe after all. when did you meet my mother? not long after. it was, with meredith, that i first experienced love. i called her my river lily. and from that love, peter... you. i've searched for you for so long. and when i heard of a man from earth... ...who held an infinity stone in his hand without dying... ...i knew you must be the son of the woman i loved. if you loved her, why did you leave her? you should ~? you should ~? you should ~? sorry about this! captain! help me! please help! captain! you're the one what killed those men... ...by leading them down the wrong path. because you're weak. and stupid! it's time for the ravengers... ...to rise once again to glory with a new captain... taserface! aha ha ha ha! i'm sorry. your name is... ...it's taserface? that's right. do you shoot tasers out of your face? it's metaphorical! yeah! for what? for... it is a name what strikes fear... ...into the hearts of anyone what hears it! okay. okay... whatever you say. you shut up. you're next. udonta, i've been waiting a long time to... what? (snickering) i'm sorry. i am so sorry. i just keep imagining you waking up in the morning, sir... ...looking in the mirror and, in all seriousness, saying to yourelf... you know what would be a really kick-ass name? taserface! ah ha ha! that's how i hear you in my head! i can't take it anymore! what was your second choice? - scrotum hat? - (everyone laughs) new plan. we're killing you first. well.  dying is certainly better than having to live an entire life... ...as a moronic shitbag who thinks taserface is a cool name. that's enough killing for today. she's the daughter of thanos. i thought you were the biggest sadist in the galaxy. that was when daddy was paying my bills. the priestess wants to kill the fox herself. and he has bounties on his head in at least 12 kree provinces. i assure you... i am not as easy a mark as an old man without his magic stick... ...or a talking woodland beast. i want ten percent of the take. and a couple more things. we got a whole box of hands... - ...if that one don't work out. - it is fine. you, uh, think them kree is gonna execute the captain? the kree consider themselves merciful.  it will be painless. well, uh, here it is. it's the best ship we got. the location of ego's planet in the nav. we'll wire you the ten percent once we's paid. what're you gonna do with your share? as a child, my father would have gamora and me battle one another in training. every time my sister prevailed... ...my father would replace a piece of me with machinery... ...claiming he wanted me to be her equal. but she won. again and again and again, never once refraining. so, after i murder my sister... ...i will buy a warship will every conceivable instrument of death. i will hunt my father like a dog and i will tear him apart slowly... ...piece by piece... until he knows some semblance of the profound and unceasing pain... ...i know every single day. yeah... ...i was talking about a pretty necklace. or a nice hat, you know. something to make the other girls go, ooooh, that's nice. anyways, happy trails. my mother told everyone my father was from the stars. she had brain cancer, so everyone thought she was delusional. peter. listen, i'd love to believe all of this, i really would. but you left... the most wonderful woman ever... ...to die alone. i didn't want to leave your mother, peter. if i don't return regularly to my planet... ...and the light within it... ...this form will wither and perish. then why didn't you come back? why did you send yondu? a criminal, of all people, to come and to fetch me. i loved your mother, peter! i couldn't stand to step foot on an earth... ...where she wasn't living! you can't imagine what that's like! i know exactly what that feels like! i had to watch her die! over the millions and millions of years of my existence... ...i've made many mistakes, peter. but you're not one of them. please give me the chance to be the father she would want me to be. there's so much that i need to teach you about this planet... ...and the light within. they are a part of you, peter. what do you mean? give me your hand, son. here. hold them like that. now, close your eyes and concentrate. take your brain to the center of this planet. yes! yes! whoa! - yes! - what was it? it's okay, just relax. concentrate. you can do it. bring it back. yes! yes, now, shape it. feel that energy. yes. you're home. peter. how'd you get to this weird, dumb planet? ego found me in my larvae state. orphan on my homeworld. he raised me by hand and kept me as his own. so, you're a pet. i suppose. people usually want cute pets. why would ego want such a hideous one? i am hideous? you are horrifying to look at, yes. - but that's a good thing. - oh? when you're ugly and someone loves you... ...you know they love you for who you are. beautiful people never know who to trust. well, then i am certainly grateful to be ugly. those pools, they remind me of a time... ...when i took my daughter to the forgotten lakes of my homeworld. she was like you. disgusting? innocent. drax? there's something i must tell you. what's going on? this gross bug lady is my new friend. i'm learning many things, like i'm a pet and ugly. you're not ugly. drax. what are you talking about? mantis. can you show us where we'll be staying? why are there no other beings on this planet? the planet is ego. a dog would not invite a flea to live on his back. and you're not a flea? i'm a flea with a purpose. i help him sleep. what were you about to say to drax before i walked out? nothing. your quarters are this way. we deliver you to the kree in the morning. neither one of you will last much longer after that. okay, taserface. hey, tell the other guys, we said... hi, taserface! oh! hey, what about this little plant? can i smash it with a rock? no, gef. it's too adorable to kill. take it to the tailor. no offense, but your employees are a bunch of jerks. i was a kree battle slave for 20 years when stakar freed me. he offered me a place with the ravagers. he said, all i needed to do was adhere to the code. but i was young... ...and greedy and stupid. like you stealing those batteries. that was mostly drax. me & stakar, and the other captains... ...we won't so different from you and your friends. the only family i ever had. when i broke the code... ...they exiled me. this is what i deserve. slow down, drama queen. you might deserve this, but i don't. we gotta get out of here. where's quill? ah, he went off with his old man. - ego? - yeah. it's a day for dumb-ass names. you smiled.  there for a second i got a warm feeling. but then it was ruined by those disgusting-ass teeth. you're like, a professional asshole, or what? pretty much a pro. why didn't you deliver quill to ego like you promised? he was skinny. he fit into places we couldn't. good for thieving. uh huh. i got an idea on how to get out of here. but we're gonna need your little friend. mascot! mascot! mascot! (repeating) you fellas all want ~sausage drunk? look how cute it is when it's all riled up. it's god-dang precious. psst!  hey, twig! come here. come on. aw man. what'd they do to you? hey, you want to help us get out of here? there's something i need you to get and bring back to me. in the captain's quarters, there's a prototype fin. the thing i wore in my head. there's a drawer next to the bunk. it's in that. it's red. you got it? - ugh. - that's my underwear. yeah, i was pretty sure he didn't know what you were talking about. you have to explain it more careful. it's a prototype fin. that's an orloni. it's a fin, groot. you try it this time. all right. that's vorker's eye. he takes it out when he sleeps. go, look again. but leave the eye here. why? he's gonna wake up tomorrow... and he's not gonna know... ...where his eye is! ha ha ha ha! that's a desk. we told you it was this big. tell me you guys have a refrigerator somewhere... ...with a bunch of severed human toes. okay, then let's just agree to never discuss this. the drawer you want to open has this symbol on it. okay? what? no! he thinks you want him to wear it as a hat. that's not what i said! - i am groot! - he's relieved you don't want him to. - i am groot. - he hates hats. i am groot. on anyone, not just himself. i am groot. one minute, you think someone has a weird shaped head... ...the next minute, just because, you realize part of that head is the hat. that's why you don't like hats? this is an important conversation right now? what you have there? i didn't mean to do a mutiny. they killed all my friends. get the third quadrant ready for release. one more thing. you got any clones of quill's old music on the ship? he's got it! yondu's got the fin! go! down there! you maniac! the whole ship's gonna blow. not the whole ship. who is this? i am sending you the coordinates for yondu's ship. - release the quadrant! - aye, captain! i only ask one thing. that your high priestess... ...tell him the name of the man what sealed his fate. taserface! (snickers, then hearty laughing) where to, captain? ego. no, boy! it ain't healthy, mammalian body to hop more than 50 jumps at a time. i know that. we're about to do 700! so, i guess this could all be mine someday. rocket? rocket, are you there? what are you doing, peter? dance with me. i'm not going to dance with you. this is sam cooke... ...one of the greatest earth singers of all time. drax says you're not a dancer. if you ever tell anyone about this... ...i will kill you. when are we going to do something about this unspoken thing between us? what unspoken thing? this... ...cheers, sam and diane... ...guy and a girl on a tv show who dig each other... ...but never say it because the tv ratings would go down... ...sort of thing. there's no unspoken thing here. well, it's a catch-22, because if you said it then it would be spoken... ...and you'd be a liar. so, by not saying it... ...you are telling the truth and admitting that there is. no, that's not what i... what we should be discussing right now is, something about this place. it doesn't feel right. what are you talking about? you're the one who wanted me to come here. that girl, mantis... ...she's afraid of something. why are you trying to take this away from me? i'm not trying... he's my father. he's blood. well you have blood on earth, you never wanted to return there. again, you made me come here. and earth, earth is the place where my mother died in front of me. no, it's because that place is real, and this is a fantasy. this is real! i'm only half human, remember? that's the half i'm worried about. oh, so...i get it. you're jealous... ...because i'm part god and you like when i'm the weak one. you were insufferable to begin with. i haven't been able to reach rocket. i'm going to go outside and try to get a signal. you know what? this is not cheers after all. this is whatever the show is where one person is willing to... ...open themselves up to to new possibilities, and the other person... ...is a jerk who doesn't trust anybody! it's a show that doesn't exist! that's why it would get zero ratings. i don't know what cheers is. i finally found my family. don't you understand that? i thought you alread had. psychopath! are you kidding me! i win. i win, i bested you in combat. no. i saved your life. well you were stupid enough to let me live. you let me live! i don't need you to always try and defeat me! i'm not the one who just flew across the universe just because i wanted to win. do not tell me what i want. i don't need to tell you what you want! it's obvious! you were the one who wanted to win. and i just wanted a sister! you were all i had. but you were the one who needed to win. thanos pulled my eye from my head... ...and my brain from my skull... ...and my arm from my body... ...because of you. awesome mix vol. 2 you all right, son? i saw your girl stomp off a little earlier in quite a huff. yeah. it's fortuitous,... ...you listening to this song. you know, uh, \"brandy?\" by looking glass? a favorite of your mom's. yes.  yeah, it was. one of earth's greatest musical compositions. perhaps its very greatest. yeah, yes! you know, peter, you and i, we're... we're the sailer in that song. he came on a summer's day. bringing gifts from far away. like the child i put in your mother. or the freedom you brought gamora. brandy, you're a fine girl. what a good wife you would be. my life, my love, my lady, is the sea. the sea calls the sailor back. and he loves the girl, but that's not his place. the sea calls upon him as history calls upon great men. and sometimes we are deprived the pleasures of mortals. well, you may not be mortal, but me... no, peter. death will remain a stranger to both of us... ...as long as the light burns in this planet. - i'm immortal? - mm-hm. really? yes! as long as this light exists. and i can use the light to build cool things, like... ...how you made this whole planet? well, it may take you a few million years of practice... ...before you get really good at it. but, yes! what? this is...!  well, get ready for an 800-foot statue of pac-man... ...with skeletor and heather locklear. whatever you want. i'm gonna make some weird shit. you know, peter, it is a tremendous responsibility. only we can remake the universe. only we can take the bridle of the cosmos... ...and lead it to where it needs to go. how? come with me. drax. drax. drax! drax! we need to talk. i'm sorry. but i like a woman with some meat on her bones. what? i tried to let you down easily by telling you i found you disgusting. no, that's not why... what are you doing? i'm imagining being with you. drax, that's not... i don't like you like that. i don't even know the type of thing you are. hey! there's no need to get personal. listen! ego's gotten exactly what he wanted. i should have told you earlier. i is stupid. you are in danger. what is that? now, you need to readjust the way you process life. everything around us, including the girl... ...everything is temporary. we are forever. doesn't eternity get boring? not if you have a purpose, peter. which is why you're here. i told you how all those years ago... ...i had an unceasing impulse to find life. but what i did not tell you is how i finally did find it. it was all so... ...disappointing. and that is when i came... ...to a profound realization. my innate desire to seek out other life... ...was not so that i could walk among that life. peter. i have found meaning. i see it. eternity. oh my god. we need to get off this planet. oh man. anyway, before i was so rudely interrupted. at that time, i was a federal express man. what the hell you doing, boy? i could tell by how you talked about him... ...this ego is bad news. we are here to save quill. for what?  huh? for honor? for love? no. i don't care about those things. i want to save quill so i can prove i'm better than him! i can lord this over him forever. what are you laughing at me for? oh, you can fool yourself and everyone else, but you can't fool me. i know who you are. you do not know anything about me, loser. i know everything about you. i know you play like your the meanest and the hardest... ...but actually you're the most scared of all. shut up! i know you steal batteries you don't need... ...and you push away anyone who's willing to put up with you... because just a little bit of love... ...reminds you how big and empty that hole inside you actually is. i said, shut up! i know them scientists what made you never gave a rat's ass about you. i'm serious, dude. just like my own damn parents, who sold me,... ... their own little baby, into slavery. i know who you are, boy. because you're me. what kind of a pair are we the kinds that's about to go fight a planet, i recon. all right! okay. wait. fight a what? who are you people? what is this place? gamora, let her go! the bodies in the caverns, who are they? you are scared. i call it, the expansion. it is my purpose. now, it is yours, as well. it's beautiful. over thousands of years... ...i implanted thousands of extension of myself... ...on thousands of worlds. i need to fulfill life's one true purpose... ...to grow and spread... ...covering all that exists... ...until everything is... ...me. what did she do to me? she already told me everything. i only had one problem. a single celestial doesn't have enough power for such an enterprise. but two celestials... ...well, now, that just might do. the bodies... ...are his children. out of all my labors... ...the most beguiling was attempting to... ...graft my dna with that of another species. i hoped the result of such a coupling would be... ...enough to power the expansion. i had yondu deliver some of them to me. it broke the ravager code, but i compensated him generously, and... ...to ease his conscience, i said i'd never hurt them. and that was true, they never felt a thing. but, one after the other, they failed me. not one of them carried the celestial genes. until you, peter. out of all my spawn... ...only you carry the connection to the light. we need to find peter now and get off this damn planet. ego will have brought him to his side by now. - he has a way. - then we just go. - no! - he's our friend. - all any of you do... ...is yell at each other. you're not friends. you're right. we're family. we leave noone behind. except maybe you. thank you. for the first time in my existence... ...i am truly not alone! what is it, son? my friends. oh, no, you see, that's the mortal in you, peter. yes. we are beyond such things. yes. - now... - but my mother... you said you loved my mother. and that i did. my river lily who knew all the words to every song that came over the radio. i returned to earth to see her three times. and i knew if returned a 4th... ...i'd never leave. the expansion... ...the reason for my very existence would be over, so... ...i did what i had to do. but it broke my heart to put that tumor in her head. what? now, now, i know... ...that sounds bad. who in the hell do you think you are? you killed my mother! i tried... ...so hard... ...to find the form... ...that best suited you... ...and this is the thanks i get? you really need to grow up. i wanted to do this together. but i suppose you'll have to learn by spending the next thousand years... ...as a battery. (beeps) finally!  rocket? keep that transmitter nearby so i can find you. we're in an old piece of construction wip and yondu once used... ...to slice open the bank of a'askavaria. ego's unhinged. i know. get ready. cut him loose, kraglin. no. my life, my love, my lady, is the sea. peter. this is the sea. hey there, jackass! - what is that? - whoa, it's ~? out of the way, dumber, smaller groot! i told you something didn't feel right. \"i told you so?\" just what i need to hear right now. well, i came back, didn't i? because of the unspoken thing. there is no unspoken thing. what are you doing? you could have killed us all. uh, \"thank you, rocket?\" we had it under control. we did not. that is only an extension of... ...his true self. he will be back soon. what's smurfette doing here? whatever i need to do to get a damn ride home. she tried to murder me! i saved you, you stupid fox! he's not a fox. - i am groot. - i'm not a rabboon either. i am groot. raccoon. whatever. how do we kill a celestial? there's a center to him. his brain, his soul, whatever it is, in some sort of protective shell. it's in the caverns... ...below the surface. yondu? thrusters are out. i guess i should be glad i was a skinny kid. otherwise you would've delivered me to this maniac. you still recon that's the reason i kept you around, idiot? that's what you told me, you old doofus. well once i figured out what happened to them other kids... ...i wasn't just gonna hand you over. you said you were gonna eat me. that was being funny. not to me! you people have issues. well of course i have issues. that's my freaking father! thrusters are back up. - we should be going up! - we can't. ego wants to eradicate the universe as we know it. we have to kill him. rocket! got it! so, we're saving the galaxy again? i guess. awesome! we're really gonna be able to jack up our price... ...if we're two-time galaxy savers. i seriously can't believe that's where your mind goes. it was just a random thought, man.  i thought we were friends? of course, i care about the planets and the buildings... ...and all the animals on the planets. and the people. meh. the crabby puppy's so cute. he makes me want to die! soup! soup! pilots... ...release envoy units. our sensors detect a battery below the surface of the planet. dive! um. cap'n? (muffled) cap'n? tell me, why'd ego want you here? he needs my genetic connection to the light... ...to help destroy the universe. he tried to teach me how to control the power. so, could you? a little. i made a ball. a ball? i thought as hard as i could. that's all that i could come up with. you thought? you think when i let this arrow fly... ...i use my head? woah. there. that's ego's core. that ore is thick, rocket. i got it covered. we must hurry. it will not take ego long to find us. keep it steady. we drill into the center, we kill him! captain? what is it, kraglin? hey, remember that ayesha chick? yeah, why? - uhh... - oh hell! why aren't you firing the laser? they blew up the generator. i think i packed a small detonator. a detonator is worthless without explosives. well, we've got these. is that thing strong enough to kill ego? if it is, it'll cause a chain reaction... ...throughout his entire nervous system. meaning what? meaning the entire planet will explode. we'll have to get out of here fast. i made the timer. go! he's coming! didn't you say you could make him sleep? when he wants. he's too powerful. i can't! you have to believe in yourself. because i believe in you. sleep! i never thought she'd be able to do it... ...with as weak and skinny as she appears to be. i don't know how long i can hold him. the metal's too thick. for the bomb to work,... ...we actually need to place it on ego's core. and our fat butts ain't gonna fit through those tiny holes. well... that's a terrible idea. which is the only kind of idea we have left. unbelievable. rocket, do this. rocket, do that. what a day. all right, first you flick this switch, then this switch. that activates it. then you push this button. which will give you 5 minutes to get out of there. now, whatever you do... ...don't push this button. 'cause that will set off the bomb immediately and we'll all be dead. now, repeat back what i just said. - i am groot. - uh-huh. - i am groot. - that's right. - i am groot. - no! no, that's the button that will kill everyone! try again. - i am groot. - um-hmm. - i am groot. - uh-huh. - i am groot. - no! that's exactly what you just said, how is that even possible? which button is the button you're supposed to push? point to it. no! hey, you're making him nervous! shut up and give me some tape! does anybody have any tape out there? i wanna put some tape over the death button. i don't have any tape. let me check. yo, yondu... ...do you have any...ouch! do you have any tape? gamora? you have the tape? tape! ah, nevermind. drax? do you have any tape? yeah, scotch tape would work. then why did you ask me if scotch tape would work if you don't have any? nobody has any tape! not a single person has tape? nope. did you ask nebula? yes! are you sure? i asked yondu... ...and she was sitting right next to him. i knew you're lying! you have priceless batteries and an atomic bomb in your bag. if anybody's gonna have tape, it's you! that's exactly my point! i have to do everything! you are wasting a lot of time here! we're all gonna die. ah, rear thrusters are out again! we're done for without that generator! guardians. perhaps it will provide you solace... ...that your deaths are not without purpose. they will serve as a warning... ...for all of those tempted to betray us. don't screw with the sovereign. this is gonna hurt. promises, promises. no! no! no! no! we're gonna blow! peter! no! - ha ha! - what? you look like mary poppins. is he cool? hell yeah, he's cool. i'm mary poppins, y'all! mantis! look out! she's just unconscious. how long 'til the bomb goes off? in the unlikely event that groot doesn't kill us all... ...about 6 minutes. kraglin, we need the quadrant for an extraction. t-minus 5 minutes. aye, captain. somebody's gotta be on top when kraglin arrives. drax, take mantis. ow! my nipples! ahhh! gamora! peter! get over it. come now, peter. i know this isn't what you want. what kind of father would i be to let you make this choice? yeah! soon, peter, we will be all there is. so stop pissing me off! we have to get up to the extraction point. go! i told you... ...i don't want to do this alone. you can not deny... ...the purpose the universe has bestowed upon you. everyone, i need you to stay back, it's not safe... what is that? it doesn't need to be like this, peter. why are you destroying our chance? stop pretending you aren't what you are. one in billions. trillions.  even more. what greater meaning can a life possibly have to offer? i don't use my head to fly the arrows, boy! i use my heart. you shouldn't have killed my mom and squished my walkman. groot! groot, if you can hear me, hurry up! i'm not sure how long quill can keep him distracted! groot, hurry! yondu, we're about to blow! get to the ship! not without quill! you need to take care of the twig! not without you. i ain't got nothing right my whole damn life, rat. you need to give me this. a spacesuit and an aero-rig. i only have one of each. i... i am groot! what's that? he says, welcome to the frickin' guardians of the galaxy. only he didn't use frickin'. bye, twig. we're gonna have to have a real discussion about your language. where's peter? rocket, where is he? rocket? rocket, look at me! where is he? no, i'm not leaving without him. i'm sorry. i can only afford to lose one friend today. kraglin, go! wait. let's hold back. rocket, where's quill? rocket, where's quill? rocket! where's quill? where's quill? no, we need to stop it. we need to stop it. stop, listen! listen to me. you are a god. if you kill me... ...you'll be just like everybody else. what's wrong with that? no! he may have been your father, boy, but he wasn't your daddy. i'm sorry i didn't do none of it right. damn lucky you my boy. what? yondu, what are you doing? you can't. yondu! no. no! no! oh no! i told gamora... ...how when i was a kid, i used to pretend david hasselhoff was my dad. he is a singer and actor from earth, really famous guy. earlier, it struck me... ...yondu didn't have a talking car but he did have a flying arrow. he didn't have the beautiful voice of an angel... ...but he did have the whistle of one. both yondu and david hasselhoff went on kick-ass adventures... ...and hooked up with hot women... ...and fought robots. i guess david hasselhoff did kind of end up being my dad after all. only, it was you, yondu. i had a pretty cool dad. what i'm trying to say here is... ...sometimes the thing you're searching for your whole life... ...it's right there by your side all along. you don't even know it. i am groot. he did call you twig. nebula. i was a child like you. i was concerned with staying alive until the next day, every day. and i never considered what thanos was doing to you. i'm trying to make it right. there are little girls like you across the universe... ...who are in danger. you can stay with us and help them. i will help them by killing thanos. i don't know if that's possible. you will always be my sister. pete! the captain found this for you in a junker shop,... ...said you'd come back to the fold someday. what is it? it's called a zune. it's what everybody's listening to on earth nowadays. it's got 300 songs on it. 300 songs? wait. rocket grabbed the pieces and re-assembled it. but i think yondu would want you to have it. thanks. cap'n. father and son: cat stevens they came. what is it? i sent word to yondu's old ravager buddies. he did not (disappoint us). fare thee well, old friend. yondu udonta, i will see you in the stars. he didn't chase them away. no. even though he yelled at 'em. and was always mean. and he stole batteries he didn't need. well of course not. what? it's just... ...some unspoken thing. it's beautiful. yes. and so are you. on the inside. the guardians of the galaxy will return. ah! ahhh! ~ subtitles transcribed by scram.cypher ~ you know, it's a shame... ...that it took the tragedy of losing yondu to bring us all together again. but i think he'd be proud knowing that we're back as a team. amen. ~telp. i missed you guys so much! hell yes. what say we steal some shit? high priestess, the council is waiting. they are perturbed i've wasted our resources. when they see what i have created here... ...their wrath will dissipate. it's a new type of birthing pod, ma'am? that, my child,... ...is the next step in our evolution. more powerful, more beautiful... ...more capable of destroying the guardians of the galaxy. i think i shall call him... ...adam. ugh. dude! seriously? you gotta clean up your room, it's a complete mess! i am groot. i'm not boring, you're boring. you know what's boring, sitting there playing that... ...mind numbing game.  what's boring is me tripping over your vines every day. i'm not boring. i am groot. now i know how yondu felt. it is time to part. just remember... ...we. are. groot. hey, fellas. hey, wait, where are you going? hey, you were supposed to be my lift home! how will i get outta here? hey, ah gee, i got so many more stories to tell! aw, guys. oh, jeez.'\n"
     ]
    }
   ],
   "source": [
    "print(raw_txt['3896198'])"
   ]
  },
  {
   "cell_type": "code",
   "execution_count": 737,
   "metadata": {},
   "outputs": [],
   "source": [
    "mltk={}\n",
    "fdist={}\n",
    "mtok={}\n",
    "for item in subd.columns.levels[0]:\n",
    "    mtok[item]=[w for w in tokenizer.tokenize(raw_txt[item]) if not w in stop_words]\n",
    "    mltk[item]=nltk.Text([w for w in tokenizer.tokenize(raw_txt[item]) if not w in stop_words])\n",
    "    fdist[item]=FreqDist(mltk[item])"
   ]
  },
  {
   "cell_type": "markdown",
   "metadata": {},
   "source": [
    "# Lexical Richness by Genre"
   ]
  },
  {
   "cell_type": "code",
   "execution_count": 739,
   "metadata": {},
   "outputs": [],
   "source": [
    "lexical_richness_genre=dict.fromkeys(movd.Genre.unique(),0)\n",
    "genre_count=dict.fromkeys(movd.Genre.unique(),0)"
   ]
  },
  {
   "cell_type": "code",
   "execution_count": 740,
   "metadata": {},
   "outputs": [],
   "source": [
    "for item in subd.columns.levels[0]:\n",
    "    for key, value in genre_count.items():\n",
    "        if movd.loc[movd['imdb_id'] == item, 'Genre'].values[0] == key:\n",
    "            genre_count[key] += 1"
   ]
  },
  {
   "cell_type": "code",
   "execution_count": 749,
   "metadata": {},
   "outputs": [
    {
     "data": {
      "text/plain": [
       "404"
      ]
     },
     "execution_count": 749,
     "metadata": {},
     "output_type": "execute_result"
    }
   ],
   "source": [
    "sum(genre_count.values())"
   ]
  },
  {
   "cell_type": "code",
   "execution_count": 750,
   "metadata": {},
   "outputs": [],
   "source": [
    "lexical_richness={}\n",
    "for item in subd.columns.levels[0]:\n",
    "    lexical_richness[item]=(len(set(mltk[item]))/len(mltk[item])*100)"
   ]
  },
  {
   "cell_type": "code",
   "execution_count": 751,
   "metadata": {},
   "outputs": [],
   "source": [
    "for item in subd.columns.levels[0]:\n",
    "    for key, value in lexical_richness_genre.items():\n",
    "        if movd.loc[movd['imdb_id'] == item, 'Genre'].values[0] == key:\n",
    "            lexical_richness_genre[key] += (len(set(mltk[item]))/len(mltk[item])*100)"
   ]
  },
  {
   "cell_type": "code",
   "execution_count": 752,
   "metadata": {
    "scrolled": true
   },
   "outputs": [
    {
     "data": {
      "text/plain": [
       "{'Action': 4210.889861287529,\n",
       " 'Comedy': 1722.4146713912128,\n",
       " 'Documentary': 260.35259479639586,\n",
       " 'Drama': 1888.6904693966376,\n",
       " 'Family': 2713.86590367069,\n",
       " 'Horror': 1611.7403262924436,\n",
       " 'Music': 490.91979524713145,\n",
       " 'Romance': 994.4784900863}"
      ]
     },
     "execution_count": 752,
     "metadata": {},
     "output_type": "execute_result"
    }
   ],
   "source": [
    "lexical_richness_genre"
   ]
  },
  {
   "cell_type": "code",
   "execution_count": 753,
   "metadata": {},
   "outputs": [],
   "source": [
    "LRG={k: float(lexical_richness_genre[k])/float(genre_count[k]) for k in genre_count}"
   ]
  },
  {
   "cell_type": "code",
   "execution_count": 754,
   "metadata": {},
   "outputs": [
    {
     "data": {
      "image/png": "[encoded data removed]",
      "text/plain": [
       "<matplotlib.figure.Figure at 0xb82d970588>"
      ]
     },
     "metadata": {},
     "output_type": "display_data"
    }
   ],
   "source": [
    "plt.bar(range(len(LRG)), LRG.values(), align='center', color='Orange')\n",
    "plt.xticks(range(len(LRG)), LRG.keys(),rotation='vertical')\n",
    "#pl.xlabel(\"Types of Idiots\")\n",
    "pl.ylabel(\"% of Words Distinct\")\n",
    "pl.title(\"Lexical Richness after removal of Filler Words\")\n",
    "plt.rcParams[\"figure.figsize\"] = [12,6]\n",
    "plt.xkcd()\n",
    "plt.ylim(ymin=20)\n",
    "plt.show()"
   ]
  },
  {
   "cell_type": "code",
   "execution_count": 755,
   "metadata": {},
   "outputs": [
    {
     "name": "stdout",
     "output_type": "stream",
     "text": [
      "mark watney; meters per; per second; oxygen level; rich purnell;\n",
      "commander lewis; taiyang shen; pressure stable; space travel;\n",
      "schiaparelli crater; goes wrong; cheese cheese; 533 days; vincent\n",
      "kapoor; international waters; worst idea; disco music; water\n",
      "reclaimer; mission control; almost easier\n"
     ]
    }
   ],
   "source": [
    "mltk['3659388'].collocations()"
   ]
  },
  {
   "cell_type": "code",
   "execution_count": 431,
   "metadata": {},
   "outputs": [
    {
     "data": {
      "text/plain": [
       "False"
      ]
     },
     "execution_count": 431,
     "metadata": {},
     "output_type": "execute_result"
    }
   ],
   "source": [
    "'I' in stop_words"
   ]
  },
  {
   "cell_type": "markdown",
   "metadata": {},
   "source": [
    "# LDA"
   ]
  },
  {
   "cell_type": "code",
   "execution_count": null,
   "metadata": {},
   "outputs": [],
   "source": []
  },
  {
   "cell_type": "code",
   "execution_count": 449,
   "metadata": {
    "collapsed": true
   },
   "outputs": [],
   "source": [
    "from sklearn.feature_extraction.text import CountVectorizer, HashingVectorizer\n",
    "from sklearn.feature_extraction.text import TfidfTransformer\n",
    "from sklearn.metrics import jaccard_similarity_score\n",
    "import pandas as pd\n",
    "from math import fabs\n",
    "\n"
   ]
  },
  {
   "cell_type": "code",
   "execution_count": 503,
   "metadata": {},
   "outputs": [
    {
     "data": {
      "text/plain": [
       "20    Gone with the Wind\n",
       "51    Gone with the Wind\n",
       "Name: Title, dtype: object"
      ]
     },
     "execution_count": 503,
     "metadata": {},
     "output_type": "execute_result"
    }
   ],
   "source": [
    "movd[movd['imdb_id'] == '0031381']['Title']"
   ]
  },
  {
   "cell_type": "code",
   "execution_count": 478,
   "metadata": {},
   "outputs": [
    {
     "name": "stdout",
     "output_type": "stream",
     "text": [
      "(3396, 2282)\n",
      "(3396, 1000)\n",
      "(3396, 2282)\n",
      "(3396, 1000)\n"
     ]
    }
   ],
   "source": [
    "#print corpus_df.head()\n",
    "#get only the text contents\n",
    "corpus = subd['0031381']['Line'].tolist()   # a list of words\n",
    "\n",
    "#Document-Term Matrix\n",
    "cv = CountVectorizer(stop_words=\"english\",ngram_range=(1,1))\n",
    "hv = HashingVectorizer(stop_words=\"english\",ngram_range=(1,1),n_features=1000)\n",
    "dtMatrix = cv.fit_transform(corpus).toarray()\n",
    "dtHashMatrix = hv.fit_transform(corpus).toarray()\n",
    "print(dtMatrix.shape)\n",
    "print(dtHashMatrix.shape)\n",
    "\n",
    "#Tf-idf Transformation\n",
    "tfidf = TfidfTransformer()\n",
    "tfidfMatrix = tfidf.fit_transform(dtMatrix).toarray()\n",
    "print(tfidfMatrix.shape)\n",
    "\n",
    "tfidfHashMatrix = tfidf.fit_transform(dtHashMatrix).toarray()\n",
    "print(tfidfHashMatrix.shape)"
   ]
  },
  {
   "cell_type": "code",
   "execution_count": 504,
   "metadata": {
    "collapsed": true
   },
   "outputs": [
    {
     "data": {
      "text/plain": [
       "'gone with the wind 1939 dvdrip =ds=2005 23.976 fps / 1,068,108,800 bytes / 1cd what do we care if we were expelled from college? the war is gonna start any day. we would\\'ve left college anyhow. war! lsn\\'t it exciting, scarlett? do you know those yankees actually want a war? -we\\'ll show \\'em. -fiddle-dee-dee! war, war, war! this war talk\\'s spoiling all the fun at every party this spring. i get so bored i could scream! -besides, there isn\\'t going to be any war. -not gonna be any war? why, honey, of course there\\'s going to be a war! if either of you says \"war\" just once again, i\\'ll go in the house and slam the door. -but, scarlett, honey-- -don\\'t you want us to have a war? well... ...but remember... ...l warned you. i\\'ve got an idea. we\\'ll talk about the wilkes\\' barbecue at twelve oaks. that\\'s a good idea. aren\\'t you eating barbecue with us? i hadn\\'t thought about that yet. i\\'ll think about that tomorrow. we want all your waltzes. first brent, then me, then brent, then me again and so on. -promise? -i\\'d just love to. if only i didn\\'t have every one of them taken already. why, honey, you can\\'t do that to us. -how about if we tell you a secret? -a secret? who about? do you know miss melanie hamilton from atlanta? ashley wilkes\\' cousin. she\\'s visiting the wilkes\\'-- that goody-goody! who wants to know a secret about her? anyway, we heard, that is, they say-- -ashley wilkes is gonna marry her. -the wilkeses always marry their cousins. now do we get those waltzes? of course. -i\\'ll bet the other boys will be hopping mad. -let \\'em be mad. we two can handle \\'em! it can\\'t be true. ashley loves me! scarlett! what has gotten into her? do you suppose we made her mad? where\\'re you goin\\' without your shawl, and the night air fixin\\' to set in? how come you didn\\'t ask them gentlemen to stay for supper? you ain\\'t got no more manners than a field hand... ...after me and miss ellen done labored with you. miss scarlett, come on in the house! come on in before you catch your death of dampness. no! i\\'ll wait for pa to come home from the wilkes\\'. come on in here! come on! quittin\\' time! who says it\\'s quittin\\' time? i says it\\'s quittin\\' time. i\\'s the foreman. i\\'s the one that says when it\\'s quittin\\' time at tara! quittin\\' time! quittin\\' time! there\\'s none in the county can touch you, and none in the state. pa! so it\\'s proud of yourself, you are. well, katie scarlett o\\'hara! so, you\\'ve been spying on me, and like your sister, suellen... ...you\\'ll tell your mother i was jumping again. pa, you know i\\'m no tattletale like suellen, but it does seem to me... ...after you broke your knee last year jumping that same fence-- i\\'ll not have me own daughter tellin\\' me what i shall jump and not jump. it\\'s my own neck, so it is. all right, pa, you jump what you please. how are they all over at twelve oaks? the wilkeses? just as you\\'d expect with the barbecue tomorrow and talking nothing but war. oh, bother the war. was there anyone else there? their cousin, melanie hamilton, from atlanta and her brother, charles. melanie hamilton! she\\'s a pale-faced, mealy-mouthed ninny. i hate her. ashley wilkes doesn\\'t think so. ashley wilkes couldn\\'t like anyone like her. what\\'s your interest in ashley and miss melanie? it\\'s nothing. let\\'s go into the house, pa. has he been trifling with you? has he asked you to marry him? -no! -no, nor will he. i have it in strictest confidence from john wilkes this afternoon... ...ashley is going to marry miss melanie. it will be announced tomorrow night at the ball. i don\\'t believe it. here! here! where are you off to? scarlett! what are you about? have you made a spectacle of yourself running after a man... ...who\\'s not in love with you when you might have any man in the county? i haven\\'t been running after him. it\\'s just a surprise, that\\'s all. now, don\\'t be jerking your chin at me. if ashley wanted to marry you, it would be with misgivings i\\'d say \"yes\". i want my girl to be happy. you\\'d not be happy with him. i would, i would! what difference does it make who you marry... ...so long as he\\'s a southerner and thinks like you? and when i\\'m gone, i\\'ll leave tara to you. i don\\'t want tara. plantations don\\'t mean anything when-- you mean to tell me, katie scarlett o\\'hara, that land doesn\\'t mean anything to you? why, land is the only thing in the world worth working for... ...worth fighting for, worth dying for, because it\\'s the only thing that lasts. -oh, pa, you talk like an lrishman. -it\\'s proud i am that i\\'m lrish. and don\\'t you be forgetting, missy, that you\\'re half lrish too. and to anyone with a drop of lrish blood in them... ...why, the land they live on is like their mother. oh, but you\\'re just a child. it\\'ll come to you, this love of the land. there\\'s no getting away from it if you\\'re lrish. yonder she comes! miss scarlett, miss suellen, miss carreen, your ma\\'s home! actin\\' like a wet nurse to them low-down, poor white trash... ...instead of bein\\' here eatin\\' her supper. cookie, stir up the fire! miss ellen\\'s got no business wearin\\' herself out. take the lamp out on the porch! wearin\\' herself out. mist\\' gerald, miss ellen\\'s home. wearin\\' herself out waitin\\' on the poor white trash. shut up, dogs! barkin\\' in the house like that. get up from there. don\\'t you hear that miss ellen\\'s comin\\'? get out there and get her medicine chest. we was gettin\\' worried about you, miss ellen. -mist\\' gerald-- -all right, pork. i\\'m home. mrs. o\\'hara, we finished plowing the creek bottom today. what do you want me to start on tomorrow? mr. wilkerson, i\\'ve just come from emmy slattery\\'s bedside. your child has been born. my child, ma\\'am? i\\'m sure i don\\'t understand. has been born and, mercifully, has died. goodnight, mr. wilkerson. i\\'ll fix your supper for you myself, and you eats it. after prayers, mammy. yes, ma\\'am. mr. o\\'hara. you must dismiss jonas wilkerson. dismiss him, mrs. o\\'hara? he\\'s the best overseer in the county. he must go tomorrow morning, first thing. but.... -no! -yes. the yankee wilkerson and the white-trash slattery girl! we\\'ll discuss it later, mr. o\\'hara. yes, mrs. o\\'hara. i want to wear scarlett\\'s green dress! i don\\'t like your tone, suellen. your pink gown is lovely. -can\\'t i stay up for the ball tomorrow? -but you may wear my garnets with it. why can\\'t i stay up for the ball tomorrow night? scarlett... ...you look tired, my dear. i\\'m worried about you. i\\'m all right, mother. why can\\'t i stay up for the ball tomorrow night? i\\'m 13 now. you may go to the barbecue and stay up through supper. i didn\\'t want to wear your tacky green dress anyhow, stingy! oh, hush up! prayers, girls. \"and to all the saints, that i have sinned exceedingly in thought, word and deed... \"...through my fault. \"through my fault, through my most grievous fault. \"therefore, i beseech the blessed mary, ever virgin... \"...blessed michael, the archangel... \"...blessed john the baptist... \"...the holy apostles, peter and paul... \"...and all the saints to pray to the lord, our god, for me.\" but ashley doesn\\'t know i love him! i\\'ll tell him that i love him and then he can\\'t marry her! \"may the almighty, and most merciful lord... \"...grant us pardon, absolution... \"...and remission of our sins. amen.\" just hold on and suck in. mammy, here\\'s miss scarlett\\'s vittles. you can take that back. i won\\'t eat a bite. oh, yes, ma\\'am, you is! you\\'s gonna eat every mouthful of this. no, i\\'m not! put on the dress, because we\\'re late already. -what\\'s my lamb gonna wear? -that. no you ain\\'t! you can\\'t show your bosom before three o\\'clock. i\\'m gonna speak to your ma about you! if you say one word to mother, i won\\'t eat a bite! well.... keep your shawl on. i ain\\'t aimin\\' for you to get all freckled... ...after the buttermilk i done put on you all this winter, bleachin\\' them freckles. now, miss scarlett, you come on and be good, and eat just a little, honey. no. i\\'m going to have a good time today and do my eating at the barbecue. if you don\\'t care what folks says about this family, i does! i has told you and told you that you can always tell a lady... ...by the way she eats with folks. like a bird! i ain\\'t aimin\\' for you to go after mr. wilkes... ...and eat like a field hand and gobble like a hog! fiddle-dee-dee! ashley wilkes told me he likes to see a girl with a healthy appetite. what gentlemen says and what they thinks is two different things. and i ain\\'t noticed mist\\' ashley askin\\' to marry you! now don\\'t eat too fast. ain\\'t no need of havin\\' it come right back up again. why does a girl have to be so silly to catch a husband? scarlett, ifyou\\'re not here by the time i count ten, we\\'ll be goin\\' without you! i\\'m coming, pa! one... ...two, three... ...four, five, six.... oh, dear! my stays are so tight i know i\\'ll never get through the day without belching. well, john wilkes. it\\'s a grand day you\\'ll be having for the barbecue. so it seems, gerald. but why isn\\'t mrs. o\\'hara with you? she\\'s after settling accounts with the overseer. but she\\'ll be along for the ball tonight. welcome to twelve oaks, mr. o\\'hara. thank you kindly, lndia. your daughter\\'s getting prettier every day, john. india, here are the o\\'hara girls. we must greet them. i can\\'t stand scarlett. if you saw the way she throws herself at ashley. now, that\\'s your brother\\'s business. you must remember your duties as hostess. good morning, girls. good morning, scarlett. why, lndia wilkes, what a lovely dress! -perfectly lovely, darling. -i just can\\'t take my eyes off it. scarlett, honey.... you\\'re looking mighty fine this morning. -good morning, miss scarlett. -good morning. -it\\'s a pleasure to see you. -good morning. howdy, miss scarlett. ashley! scarlett, my dear. i\\'ve been looking for you everywhere. i\\'ve got something i must tell you. -can\\'t we go some place where it\\'s quiet? -yes, i\\'d like to, but l... ...l have something to tell you too. something i hope you\\'ll be glad to hear. but come say hello to my cousin, melanie, first. oh, do we have to? she\\'s been looking forward to seeing you again. melanie! here\\'s scarlett. scarlett! i\\'m so glad to see you again. melanie hamilton! what a surprise to run into you here. i hope you\\'ll stay with us a few days at least. i hope i shall stay long enough for us to become real friends, scarlett. i do so want us to be. we\\'ll keep her here, won\\'t we, scarlett? we\\'ll just have to make the biggest fuss over her, won\\'t we? if there\\'s anybody knows how to give a girl a good time, it\\'s ashley. though i expect our good times will seem silly to you because you\\'re so serious. oh, scarlett, you have so much life. i\\'ve always admired you so. i wish i could be more like you. you mustn\\'t flatter me, melanie, and say things you don\\'t mean. nobody could accuse melanie of being insincere. could they, my dear? then she\\'s not like you, is she, ashley? ashley never means a word he says to any girl. oh, why, charles hamilton, you handsome old thing, you! but, oh, miss o\\'hara, l.... was it kind to bring your good-looking brother here... ...just to break my poor, simple, country-girl\\'s heart? she never even noticed charles before. because he\\'s your beau, she\\'s after him like a hornet. charles hamilton, i want to eat barbecue with you. mind you, don\\'t go philandering with any other girl, \\'cause i\\'m mighty jealous. i won\\'t, miss o\\'hara! i couldn\\'t! i do declare, frank kennedy, if you don\\'t look dashing... ...with that new set of whiskers! oh, thank you, miss scarlett. charles and rafe asked me to eat barbecue with them... ...but i told them i couldn\\'t because i promised you. you needn\\'t be so amused. look at her! she\\'s after your beau now! oh, that\\'s mighty flattering of you, miss scarlett. i\\'ll see what i can do, miss scarlett. what\\'s your sister so mad about? you sparkin\\' her beau? as if i couldn\\'t get a better beau than that old maid in britches. brent and stuart tarleton, you handsome old things, you! no, you\\'re not! i won\\'t say that. i\\'m mad at you! what have we done? you haven\\'t been near me all day. i wore this old dress... ...\\'cause i thought you liked it. i was counting on eating barbecue with you two. -well, you are, scarlett. -of course, you are. oh, i never can make up my mind which of you two is the handsomer. i was awake all last night trying to figure it out. cathleen, who\\'s that? who? that man looking at us and smiling. the nasty, dark one. my dear, don\\'t you know? that\\'s rhett butler. he\\'s from charleston. he has the most terrible reputation. he looks as if, as if he knows what i look like without my shimmy! scarlett! why, my dear, he isn\\'t received! he spends a lot of time up north... ...because his folks in charleston won\\'t even speak to him. he was expelled from west point, he\\'s so fast. and then there\\'s that business about that girl he wouldn\\'t marry. tell, tell! well, he took her out buggy riding in the late afternoon without a chaperon! and then he refused to marry her! no, but she was ruined just the same. ashley! happy? so happy! you seem to belong here... ...as if it had all been imagined for you. i like to feel that i belong to the things you love. you love twelve oaks as i do. yes, ashley. i love it as... ...as more than a house. it\\'s a whole world that wants only to be graceful and beautiful. it\\'s so unaware that it may not last... ...forever. you\\'re afraid of what may happen if the war comes, aren\\'t you? but we don\\'t have to be afraid for us. no war can come into our world, ashley. whatever comes... ...l\\'ll love you, just as i do now... ...until i die. isn\\'t this better than sitting at a table? a girl hasn\\'t got but two sides to her at a table. i\\'ll go get her dessert. -here, she said me. -allow me, miss o\\'hara. i think.... i think charles hamilton may get it. oh, thank you, miss o\\'hara! thank you. go get it. isn\\'t he the luckiest...? miss o\\'hara... ...l love you. i don\\'t guess i\\'m as hungry as i thought. why do i have to take a nap? i\\'m not tired. well-brought-up young ladies take naps at parties. and it\\'s high time you started behavin\\' and actin\\' like you was miss ellen\\'s daughter. when we were at saratoga i didn\\'t notice any yankee girls taking naps. no, and you ain\\'t gonna see no yankee girls at the ball tonight neither. how was ashley today, scarlett? he didn\\'t seem to be paying much attention to you. you mind your own business! you\\'ll be lucky not to lose ol\\' whisker-face kennedy. you\\'ve liked ashley for months! his engagement\\'s gonna be announced tonight. pa said so this morning. that\\'s all you know. miss scarlett! miss suellen! you all behave yourselves. actin\\' like poor, white-trash children! if you\\'s old enough to go to parties, you\\'s old enough to act like ladies. who cares! we\\'ve borne enough insults from the meddling yankees. it\\'s time we made them understand we\\'ll keep our slaves... ...with or without their approval. \\'twas the sovereign right of the state of georgia to secede from the union! that\\'s right! the south must assert herself by force of arms. after we\\'ve fired on the yankee rascals at fort sumter, we\\'ve got to fight! -there\\'s no other way! -fight! that\\'s right. fight! let the yankees ask for peace! the situation is very simple. the yankees can\\'t fight and we can. there won\\'t even be a battle. they\\'ll just turn and run every time. one southerner can lick 20 yankees. we\\'ll finish them in one battle. gentlemen can always fight better than rabble. yes, gentlemen always can fight better than rabble. what does the captain of our troop say? well, gentlemen, if georgia fights i go with her. but, like my father, i hope that the yankees will let us leave the union in peace. -but, ashley.... -but, ashley, they\\'ve insulted us! you can\\'t mean you don\\'t want war! most of the miseries of the world were caused by wars. and when the wars were over no one ever knew what they were about. if it wasn\\'t that i knew you-- now, gentlemen, mr. butler\\'s been up north, i hear. don\\'t you agree with us, mr. butler? i think it\\'s hard winning a war with words, gentlemen. what do you mean, sir? there\\'s not a cannon factory in the whole south. what difference does that make to a gentleman? it\\'ll make a great deal of difference to a great many gentlemen, sir. are you hinting, mr. butler, that the yankees can lick us? no, i\\'m not hinting. i\\'m saying very plainly that the yankees are better equipped than we. they\\'ve got factories, shipyards, coal mines... ...and a fleet to bottle up our harbors and starve us to death. all we\\'ve got is cotton and slaves and arrogance. -that\\'s yankee treachery! -sir, i refuse to listen to any renegade talk! i\\'m sorry if the truth offends you. apologies aren\\'t enough, sir! i hear you were turned out of west point, mr. rhett butler... ...and you aren\\'t received by any decent family in charleston, not even your own! i apologize again for all my shortcomings. perhaps you won\\'t mind if i walk about and look over your place. i seem to be spoiling everybody\\'s brandy and cigars and... ...dreams of victory. that\\'sjust about what you could expect from somebody like rhett butler. you did everything but call him out. he refused to fight. not quite that, charles. he refused to take advantage of you. take advantage of me? he\\'s one of the best shots in the country... ...as he\\'s proved a number of times... ...against steadier hands and cooler heads than yours. -i\\'ll show him! -now, please. don\\'t go tweaking his nose anymore. you may be needed for more important fighting, charles. now, if you\\'ll excuse me, mr. butler is our guest. i think i\\'ll just show him around. ashley! ashley! scarlett. who\\'re you hiding from in here? what are you up to? well, why aren\\'t you upstairs resting with the other girls? what is this, scarlett? a secret? oh, ashley, ashley... ...l love you. scarlett! i love you, i do! well, isn\\'t it enough that you\\'ve gathered every other man\\'s heart today? you\\'ve always had mine. you cut your teeth on it. oh, don\\'t tease me now. have i your heart, my darling? i love you, i love you. you mustn\\'t say such things. you\\'ll hate me for hearing them. oh, i could never hate you, and i know you must care about me. oh, you do care, don\\'t you? yes... ...l care. oh, can\\'t we go away and forget we ever said these things? but how can we do that? don\\'t you want to marry me? i\\'m going to marry melanie. but you can\\'t. not if you care for me. oh, my dear, why must you make me say things that will hurt you? how can i make you understand? you\\'re so young and unthinking. you don\\'t know what marriage means. i know i love you, and i want to be your wife. you don\\'t love melanie. she\\'s like me, scarlett. she\\'s part of my blood and we understand each other. but you love me. how could i help loving you? you have all the passion for life that i lack. that kind of love isn\\'t enough for a successful marriage... ...for two people as different as we are. well, why don\\'t you say it, you coward? you\\'re afraid to marry me. you\\'d rather live with that fool who can\\'t speak except... ...to say \"yes\" and \"no\" and raise a passel of mealy-mouthed brats just like her. you mustn\\'t say such things about melanie. who are you to tell me i mustn\\'t? you led me on, you made me believe you wanted to marry me. now, scarlett, be fair. i never, at any time-- you did, it\\'s true you did! i\\'ll hate you till i die! i can\\'t think of anything bad enough to call you. has the war started? sir, you should have made your presence known. in the middle of that beautiful love scene? that wouldn\\'t have been very tactful, would it? but don\\'t worry, your secret is safe with me. sir, you are no gentleman! and you, miss, are no lady. don\\'t think i hold that against you. ladies have never held any charm for me. first you take a low, common advantage of me, then you insult me. i meant it as a compliment and i hope to see more of you... ...when you\\'re free of the spell of the elegant mr. wilkes. he doesn\\'t strike me as half good enough for a girl of your, what was it? your \"passion for living.\" how dare you! you aren\\'t fit to wipe his boots. and you were going to hate him for the rest of your life. she certainly made a fool of herself running after all the men at the barbecue. that\\'s not fair, lndia. she\\'s so attractive, the menjust naturally flock to her. oh, melanie, you\\'re just too good to be true. didn\\'t you see her going after your brother, charles? yes, and she knows charles belongs to me. oh, you\\'re wrong, lndia. scarlett\\'s just high-spirited and vivacious. men may flirt with girls like that but they don\\'t marry them. i think you\\'re being very mean to her. war! war\\'s declared! war! miss o\\'hara! miss o\\'hara! mr. lincoln has called for soldiers, volunteers to fight against us. don\\'t you men ever think of anything important? but it\\'s war and everybody\\'s going off to enlist. they\\'re going right away. i\\'m going too. everybody? oh, miss o\\'hara, will you be sorry? to see us go, i mean. i\\'ll cry into my pillow every night. miss o\\'hara, i told you i loved you. you\\'re the most beautiful girl in the world, and the sweetest and the dearest. i know i couldn\\'t hope that you could love me. i\\'m so clumsy and stupid and not nearly good enough for you. but if you could think of marrying me i\\'d do anything in the world for you. just anything. i promise. what did you say? miss o\\'hara, i said, would you marry me? yes, mr. hamilton, i will. you will? you\\'ll marry me. you\\'ll wait for me? i don\\'t think i\\'d want to wait. you mean you\\'ll marry me before i go? oh, miss o\\'hara. scarlett.... when may i speak to your father? the sooner the better. i\\'ll go now. i can\\'t wait. will you excuse me, dear? mr. o\\'hara, mr. o\\'hara. it\\'ll be a week at least before they call on me. only a week, and then they\\'ll take you away from me. scarlett, i thought of you at our wedding yesterday... ...and i hoped that yours would be as beautiful, and it was. was it? now we\\'re really and truly sisters. -charles. -melanie. don\\'t cry, darling, the war will be over in a few weeks... ...and i\\'ll be coming back to you. miss scarlett! well, i don\\'t care. i\\'m too young to be a widow. miss scarlett! why, i just go around scaring people in that thing. you ain\\'t supposed to be around people. you\\'s in mournin\\'. for what? i don\\'t feel anything. why should i have to pretend and pretend.... what is it? oh, baby.... what is it? my life is over. nothing will ever happen to me anymore. oh, mother. i know you\\'ll think i\\'m horrible, but i just can\\'t bear going around in black. it\\'s bad enough not being able to go to any parties... ...but looking this way too. i don\\'t think you\\'re at all horrible. it\\'s only natural to want to look young and be young when you are young. oh, baby.... how would you like to go visiting somewhere? savannah perhaps? what would i do in savannah? well, atlanta then. there\\'s lots going on there. and you could stay with melanie and her aunt pittypat. melanie. yes. yes, i could, couldn\\'t l? oh, mother, you\\'re sweet to me, sweeter than anybody in the world. you\\'d like it, really? all right then. now stop your crying and smile. you can take prissy with you. start packing miss scarlett\\'s things, mammy. i\\'ll go write the necessary letters. atlanta! savannah would be better for you. you\\'d just get in trouble in atlanta. what trouble are you talking about? you know what trouble i\\'s talkin\\' about. i\\'s talkin\\' about mist\\' ashley wilkes. he\\'ll be comin\\' to atlanta when he gets his leave... ...and you\\'re sittin\\' there waitin\\' for him just like a spider! -he belongs to miss melanie-- -you go pack my things like mother said. they\\'re all whispering, and i just know it\\'s about her. what\\'s it matter what they say, aunt pittypat? but scarlett is living under my roof so they all think i\\'m responsible for her... ...and for a widow to appear in public at a social gathering! every time i think of it i feel faint! aunt pitty, you know scarlett came here only to help raise money for the cause. it was splendid of her to make the sacrifice. anyone would think, to hear you talk... ...that she came here to dance instead of to sell things. ladies and gentlemen! i have important news! glorious news! another triumph for our magnificent men in arms. general lee has completely whipped the enemy. and swept the yankee army northward from virginia. and now, a happy surprise for all of us. we have with us tonight that most daring of all blockade-runners... ...whose fleet schooners, slipping past the yankee guns... ...have brought us here the very woolens and laces we wear tonight. i refer, ladies and gentlemen, to that will-o\\'-the-wisp of the bounding main. none other than our friend from charleston... ...captain rhett butler! permit me. captain butler, it\\'s such a pleasure to see you again. i met you last at my husband\\'s home. that\\'s kind of you to remember, mrs. wilkes. did you meet captain butler at twelve oaks, scarlett? yes. i, i think so. only for a moment, mrs. hamilton. it was in the library. you had broken something. yes, captain butler, i remember you. ladies, the confederacy asks for your jewelry on behalf of our noble cause. we aren\\'t wearing any. we\\'re in mourning. wait. on behalf of mrs. wilkes and mrs. hamilton. thank you, captain butler. just a moment, please. but it\\'s your wedding ring, ma\\'am. it may help my husband more, off my finger. thank you. that\\'s a very beautiful thing to do, mrs. wilkes. here. you can have mine, too, for the cause. and you, mrs. hamilton. i know just how much that means to you. -melanie! -yes, dr. meade. i need your approval, as a member of the committee... ...for something we want to do that\\'s rather shocking. will you excuse us, please? i\\'ll say one thing, the war makes the most peculiar widows. i wish you\\'d go away. if you had any raising you\\'d know i never want to see you again. now, why be silly? you\\'ve no reason for hating me. i\\'ll carry your guilty secret to my grave. i guess i\\'d be very unpatriotic to hate one of the great heroes of the war. i do declare i was surprised to see you turn out to be such a noble character. i can\\'t bear to take advantage of your little girl ideas, miss o\\'hara. i\\'m neither noble nor heroic. but you are a blockade-runner. for profit, and profit only. are you telling me you don\\'t believe in the cause? i believe in rhett butler. he\\'s the only cause i know. the rest doesn\\'t mean much to me. and now, ladies and gentlemen... ...l have a startling surprise for the benefit of the hospital. gentlemen, if you wish to lead the opening reel with the lady of your choice... ...you must bid for her. caroline meade, how can you permit your husband to conduct this... ...this slave auction? dolly merriwether, how dare you criticize me! melanie wilkes told the doctor... ...that if it\\'s for the benefit of the cause, it\\'s quite all right. she did! oh dear, oh dear. where are my smelling salts? i think i shall faint. don\\'t you dare faint, pittypat hamilton. if melanie says it\\'s all right, it is all right. come, gentlemen, do i hear your bids? make your offers. don\\'t be bashful, gentlemen. twenty dollars, $20 for miss maybelle merriwether. twenty-five dollars for miss fanny elsing. only $25 to give your-- one hundred and fifty dollars in gold. for what lady, sir? for mrs. charles hamilton. for whom, sir? mrs. charles hamilton. mrs. hamilton is in mourning, captain butler... ...but i\\'m sure any of our atlanta belles would be proud to-- dr. meade, i said mrs. charles hamilton. she will not consider it, sir. oh yes, i will. choose your partners for the virginia reel. we\\'ve sort of shocked the confederacy. it\\'s a bit like blockade-running, isn\\'t it? it\\'s worse. but i expect a very fancy profit out of it. i don\\'t care what you expect or what they think. i\\'m going to dance and dance. tonight i wouldn\\'t mind dancing with abe lincoln himself. another dance and my reputation will be lost forever. with enough courage, you can do without a reputation. oh, you do talk scandalous. you do waltz divinely, captain butler. don\\'t start flirting with me. i\\'m not one of your plantation beaux. i want more than flirting from you. what do you want? i\\'ll tell you, scarlett o\\'hara, if you\\'ll take that southern belle simper off your face. some day i want you to say to me... ...the words i heard you say to ashley wilkes: \"l love you.\" that\\'s something you\\'ll never hear from me, captain butler, as long as you live. how sweet, how kind. he is a thoughtful gentleman. fiddle-dee-dee, why doesn\\'t he say something about my sacrifice? oh, the darling thing. oh, rhett, it\\'s lovely, lovely. you didn\\'t really bring it all the way from paris just for me. yes, i thought it was about time i got you out of that fake mourning. next trip i\\'ll bring you some green silk for a frock to match it. oh, rhett. it\\'s my duty to our brave boys at the front to keep our girls at home looking pretty. oh, it\\'s so long since i\\'ve had anything new. how do i look? awful! just awful. why, what\\'s the matter? this war has stopped being a joke... ...when a girl like you doesn\\'t know how to wear the latest fashion. oh, rhett, let me do it. but, rhett, i don\\'t know how i dare wear it. you will though. and another thing, those pantalettes. i don\\'t know a woman in paris that wears pantalettes anymore. oh, what do they...? you shouldn\\'t talk about such things. you little hypocrite. you don\\'t mind my knowing about them, just my talking. but, i really can\\'t go on accepting gifts from you, though you are awfully kind. i\\'m not kind. i\\'m just tempting you. i never give anything without expecting something in return. i always get paid. if you think i\\'ll marry you to pay for the bonnet, i won\\'t. don\\'t flatter yourself. i\\'m not a marrying man. well, i won\\'t kiss you for it either. open your eyes and look at me. no, i don\\'t think i will kiss you... ...although you need kissing badly. that\\'s what\\'s wrong with you. you should be kissed and often. and by someone who knows how. oh, and i suppose you think you\\'re the proper person. i might be, if the right moment ever came. you\\'re a conceited, black-hearted varmint, rhett butler. and i don\\'t know why i let you come and see me. i\\'ll tell you why, scarlett. because i\\'m the only man over 16 and under 60... ...who\\'s around to show you a good time. but cheer up, the war can\\'t last much longer. oh really, rhett? why? there\\'s a battle going on right now that ought to pretty well fix things... ...one way or the other. oh, rhett. is ashley in it? you still haven\\'t gotten the wooden-headed mr. wilkes out of your mind. yes, i suppose he\\'s in it. oh, but tell me, rhett, where is it? some little town in pennsylvania called gettysburg. here you is, miss melanie. they was fightin\\' for them so it just got tore in half. scarlett, you look. the w\\'s at the end. wellman, wendell, white, whitner, wilkins... ...williams, woolsey, workman. scarlett, you\\'ve passed him. oh, he isn\\'t there! he isn\\'t there! ashley\\'s safe. he isn\\'t listed. oh, he\\'s safe, he\\'s safe. oh, scarlett, you\\'re so sweet to worry about ashley like this for me. i must go to her. don\\'t, my dear, not here. let\\'s go home. dr. meade, not.... yes, our boy, darcy. i was making these mittens for him. he won\\'t need them now. mother, i\\'m going to enlist! i\\'ll show \\'em. i\\'ll kill all those yankees. phil meade, you hush your mouth. do you think it will help your mother to have you off getting shot too? i never heard of anything so silly. it\\'s a black day, scarlett. you haven\\'t had bad news, have you? ashley\\'s safe. i\\'m glad, for mrs. wilkes\\' sake. but, rhett, there are so many others. many of your friends? just about every family in the county. the tarleton boys, rhett, both of them. yes, look at them. all these poor tragic people. the south\\'s sinking to its knees. it\\'ll never rise again. the cause.... the cause of living in the past is dying right in front of us. i never heard you talk like that before. i\\'m angry. waste always makes me angry. and that\\'s what all this is, sheer waste. but don\\'t you be downcast. ashley wilkes is still alive to come home to the women who love him... ...both of them. oh, you\\'re here. oh, you\\'re here. you\\'re really here at last. oh, my dear, i\\'ve waited so long. melanie, my dear, my darling wife. oh, but we\\'re forgetting scarlett. scarlett, dear. well, is this any way to greet a returning warrior? ashley, l.... merry christmas, ashley. come on, old gentleman, come on. we\\'ve got all your wives. we\\'ve got all your little chicks. you got nobody to worry your head about leavin\\'. come on. now you just stand still so you can be a christmas gift for the white folks. now hold on. hold on! don\\'t go gettin\\' so uppity... ...even if you is the last chicken in atlanta. let\\'s not talk about the war. it\\'s christmas. let\\'s talk about twelve oaks, and tara and all the times before the war. can we have the wine, aunt pittypat? why did you say there wasn\\'t enough, uncle peter? there\\'s plenty. it\\'s the very last of my father\\'s fine madeira. he got it from his uncle, admiral will hamilton of savannah... ...who married his cousin, jessica carroll of carrollton... ...who was his second cousin once removed and a kin to the wilkeses too. i saved it to wish ashley a merry christmas. but you mustn\\'t drink it all at once because it is the last. i meant it, my dear. it was a lovely christmas gift. only generals have tunics like this, nowadays. i\\'m so happy you like it, dear. where did you get the cloth? it was sent to me by a charleston lady. i nursed her son while he was in the hospital, ashley, before he died and.... oh, you will take good care of it, won\\'t you? you won\\'t let it get torn. promise me. you mustn\\'t worry. i\\'ll bring it back to you without any holes in it, i promise. good night, my dear. good night, scarlett, darling. is it time yet, uncle peter, for mr. ashley to leave? pretty quick now, miss scarlett. she isn\\'t going to the depot with him? she hasn\\'t changed her mind? no, ma\\'am. she\\'s layin\\' down. she\\'s so upset mist\\' wilkes told her she can\\'t even come downstairs. ashley! ashley, let me go to the depot with you. oh, scarlett, i\\'d rather remember you as you are now... ...not shivering at the depot. all right. oh, ashley, i\\'ve got a present for you, too. why, scarlett, it\\'s beautiful. tie it on me, my dear. while melly was making your new tunic, i made this to go with it. you made it yourself? well, then i shall value it all the more. you know there\\'s nothing i wouldn\\'t do for you. there\\'s something you can do for me. what is it? will you look after melanie for me? she\\'s so frail and gentle and she loves you so much. you see, if i were killed and she-- oh, you mustn\\'t say that. it\\'s bad luck. say a prayer quickly. you say one for me. we shall need all our prayers now the end is coming. the end? the end of the war. and the end of our world, scarlett. but, ashley, you don\\'t think the yankees are beating us? oh, scarlett, my men are barefooted now... ...and the snow in virginia is deep. when i see them... ...and i see the yankees coming and coming, always more and more.... well, when the end does come i shall be far away. it\\'ll be a comfort to me to know that she has you. you will promise, won\\'t you? yes. is that all, ashley? all except, goodbye. oh, ashley, i can\\'t let you go. -you must be brave-- -no.... you must. how else can i bear going? oh, scarlett, you are so fine and strong and beautiful. not just your sweet face, my dear... ...but you. oh, ashley, kiss me. kiss me goodbye! no, scarlett. oh, ashley, i love you. i\\'ve always loved you. i never loved anyone else. i only married charles just to hurt you. oh, ashley. tell me you love me. i\\'ll live on it the rest of my life. goodbye. when the war is over, ashley. when the war is over. and there\\'s a place back home... ...where a wild plum tree comes to flower in the springtime. down by the creek, you know. yes, i know, i know. when we were little, my brother, jeff, and i used to.... i told you about my brother, jeff, didn\\'t l, ma\\'am? i know i did. he.... we don\\'t know where jeff is now, ma\\'am. since bull run we haven\\'t heard anything and.... please, we must have your temperature now. just take this in your mouth and not talk anymore. not just now. melanie, i\\'m so tired i\\'ve gotta go home. aren\\'t you tired, melanie? no, i\\'m not tired, scarlett. this might be... ...ashley. and only strangers here to comfort him. no, i\\'m not tired, scarlett. they could all be... ...ashley. i\\'ve been sittin\\' by this curb one solid hour waitin\\' to speak to you, miss wilkes. go on, you trash, don\\'t you be pesterin\\' these ladies. don\\'t talk to her, melly. it\\'s all right, scarlett. who are you? my name\\'s belle watlin\\'. but that don\\'t matter. i expect you think i\\'ve got no business here. hadn\\'t you best tell me what you want to see me about? first time i come here, i says, \"belle, you\\'re a nurse.\" but the ladies didn\\'t want my kind of nursin\\'. well, they was more than likely right. then i tried givin\\' \\'em money. my money wasn\\'t good enough for \\'em, either. old pea-hens! i know a gentleman who says you\\'re a human bein\\'. if you are, which they ain\\'t, you\\'ll take my money for the hospital. what are you doing here? haven\\'t you been told twice already? this time i\\'m conversin\\' with miss wilkes. you might as well take my money, miss wilkes. it\\'s good money, even if it is mine. i\\'m sure you\\'re very generous. no, i\\'m not. i\\'m a confederate like everybody else, that\\'s all. of course you are. there\\'s some folks here wouldn\\'t feel that way. but maybe they ain\\'t as good christians as you. look, mrs. meade. it\\'s a great deal of money. ten, $20, $30, $50. and it\\'s not our paper money. it\\'s gold. let me see that handkerchief. \"r. b.\" and she\\'s driving away in rhett butler\\'s carriage! oh, if i just wasn\\'t a lady what wouldn\\'t i tell that varmint! \"the lord is my shepherd. i shall not want. \"he maketh me to lie down in green pastures. \"he leadeth.... \"he restoreth my soul. \"he leadeth me in the paths of righteousness for his name\\'s sake. \"yeah, though i walk through the valley of the shadow of death... \"...l will fear no evil. \"for thou art with me. \"thy rod and thy staff, they comfort me.\" yankees! the yankees! dr. meade, they\\'re getting closer. they\\'ll never get into atlanta. they\\'ll never get through old peg-leg hood. give me something for the pain. give me something for the pain! sorry, son, we haven\\'t got anything to give you. these animules is drivin\\' me crazy! what luck! you\\'ve got my jack...! give me an ace and i\\'ll start another war! i\\'ll bid the moon! that i\\'ll never see you or pa again. this leg\\'s got to come off, soldier. no, no! leave me alone! i\\'m sorry, soldier. we\\'re all run out of chloroform, dr. meade. then we\\'ll have to operate without it. no, no! leave me alone! you can\\'t do it. i won\\'t let you do it to me! tell dr. wilson to take this leg off immediately. it\\'s gangrene. no, no! don\\'t! i haven\\'t seen my family in three days. i\\'m going home for half an hour. orderly! give me a lift. nurse, you can free this bed. miss scarlett! why, frank kennedy! miss suellen, is she well? when did they bring you in? you all right? are you badly hurt? -but miss suellen, is she-- -she\\'s all right, but l-- dr. wilson needs you in the operating room. he\\'s going to take off that leg. better hurry. i\\'ll be back. no, no, leave me alone! no, no, i can\\'t stand it! no don\\'t! don\\'t cut! don\\'t cut! don\\'t, don\\'t! please! where\\'s the nurse? mrs. hamilton, dr. wilson\\'s waiting. let him wait! i\\'m going home! i\\'ve done enough. i don\\'t want any more men dying! i don\\'t want any more! big sam! big sam! big sam! almighty moses, it\\'s miss scarlett! big sam! big sam! sam, \\'lige, \\'postel, prophet! i\\'m so glad to see you! tell me about tara, about my mother. she didn\\'t write me. -she\\'s gone and got sick, miss scarlett. -sick? just a little bit sick, that\\'s all. your pa was wild when they wouldn\\'t let him fight \\'cause of his broken knee. he had fits when they took us field hands to dig ditches for white soldiers to hide in. but your ma says the confederacy needs us. so we\\'re gonna dig for the south. sam, was there a doctor? sorry, ma\\'am, we\\'ve got to march. goodbye, miss scarlett. don\\'t worry, we\\'ll stop them yankees. goodbye, big sam. goodbye, boys. if any of you get sick or hurt, let me know. -goodbye, miss scarlett. -goodbye. -goodbye. -goodbye. scarlett! scarlett! climb into this buggy. this is no day for walking. you\\'ll get run over. oh, rhett! drive me to aunt pitty\\'s, please. panic\\'s a pretty sight, isn\\'t it? that\\'s just another of general sherman\\'s calling cards. he\\'ll be paying us a visit soon. i\\'ve gotta get out of here before the yankees come! and leave your work at the hospital? or have you had enough of death and lice and men chopped up? i suppose you weren\\'t meant for sick men, scarlett. don\\'t talk to me like that. i\\'m so scared. i wish i could get out of here. let\\'s get out of here together. no use staying here and letting the south come down around your ears. there are too many nice places to go and visit. mexico, london, paris.... -with you? -yes, ma\\'am. with a man who understands you and admires you for just what you are. i figure we belong together, being the same sort. i\\'ve been waiting for you to grow up and get that sad-eyed ashley out of your heart. well, i hear mrs. wilkes is going to have a baby in another month or so. it\\'ll be hard loving a man with a wife and baby clinging to him. well, here we are. are you going with me, or are you getting out? i hate and despise you, rhett butler, and i\\'ll hate and despise you till i die. oh no, you won\\'t, scarlett. not that long. miss scarlett! miss scarlett! folks is all goin\\' to macon and folks is runnin\\' away and runnin\\' away. i can\\'t bear it! those cannon balls right in my ears! i faint every time i hear one! uncle peter, look out for that trunk! but, aunt pitty, you aren\\'t leaving? i may be a coward, but oh dear! yankees in georgia! how did they ever get in? i\\'m going, too. prissy, go pack my things. get them, quick! wait, aunt pitty, i won\\'t take a minute. scarlett, do you really think you ought to? scarlett! what is this? you ain\\'t planning on running away? and don\\'t you dare try to stop me. i\\'m never going back to that hospital. i\\'ve had enough of smelling death and rot and death. i\\'m going home. i want my mother. my mother needs me. now you\\'ve got to listen to me. you must stay here! without a chaperon, dr. meade? it simply isn\\'t done! good heavens, woman, this is war, not a garden party! you\\'ve got to stay. melanie needs you. oh, bother melanie. she\\'s ill already. she shouldn\\'t even be having a baby. she may have a difficult time. well, can\\'t we take her along? do you want her to take that chance? do you want her to be jounced over rough roads... ...and have her baby ahead of time, in a buggy? it isn\\'t my baby! you take care of her! scarlett! we haven\\'t enough doctors... ...much less nurses to look after a sick woman. you\\'ve got to stay for melanie. what for? i don\\'t know anything about babies being born! i knows, i knows. i knows how to do it. i\\'s done it lots and lots. let me, doctor, let me. i can do everythin\\'. -good. then i\\'ll rely on you to help us. -yes, doctor. ashley\\'s fighting in the field, fighting for the cause. he may never come back. he may die. scarlett, we owe him a well-born child. ashley. if you\\'re coming, scarlett, hurry! i promised ashley... ...something. then you\\'ll stay? good. go along, miss pittypat. scarlett\\'s staying. go on, uncle peter. oh dear, i don\\'t know what to do. it\\'s like the end of the world. uncle peter, my smelling salts. melanie, it\\'s all your fault! i hate you, i hate you! and i hate your baby! if only i hadn\\'t promised ashley! if only i hadn\\'t promised him! stop! stop, please stop! is it true? are the yankees coming? i\\'m afraid so, ma\\'am. the army\\'s pullin\\' out. pulling out of atlanta? leaving us to the yankees? not leavin\\', ma\\'am, evacuatin\\'. we\\'ve got to before sherman cuts the mcdonough road and catches us. it can\\'t be true! it can\\'t be true! what\\'ll i do? better refugee south right quick, ma\\'am. if you\\'ll excuse me, ma\\'am. prissy! prissy, come here! go pack my things and miss melanie\\'s too. we\\'re going to tara right away. the yankees are coming! yes, ma\\'am. scarlett! scarlett! melly, we\\'re going to.... melly! i\\'m sorry to be such a bother, scarlett. it began at daybreak. but, but.... but the yankees are coming. poor scarlett. you\\'d be at tara now with your mother, wouldn\\'t you... ...if it weren\\'t for me? oh, scarlett, darling... ...you\\'ve been so good to me. no sister could have been sweeter. i\\'ve been lying here thinking... ...if i should die... ...will you take my baby? oh, fiddle-dee-dee, melly. aren\\'t things bad enough without you talking about dying? -i\\'ll send for dr. meade right now. -not yet, scarlett. i couldn\\'t let dr. meade sit here for hours, while... -...while all those poor, wounded boys-- -melly, prissy! prissy! prissy! come here, quick! go get dr. meade! run quick! yes, ma\\'am. the baby! well, don\\'t stand there like a scared goat. run! hurry! i\\'ll sell you south, i will! i swear i will! where\\'s that prissy? this room\\'s like an oven already... ...and it isn\\'t noon yet. oh, don\\'t worry, melly. mother says it always seems like the doctor\\'ll never come. if i don\\'t take a strap to that prissy! oh, melly. you know what i heard about maybelle merriwether? you remember that funny-looking beau of hers? the one with a uniform like ladies\\' red flannel underdrawers. you don\\'t have to keep on talking for my sake, scarlett. i know how worried you are. oh, melly, i\\'ll just go and fetch you some cooler water. you\\'re as slow as molasses in january. and where\\'s dr. meade? -i ain\\'t never seen him, miss scarlett. -what? no, ma\\'am. he ain\\'t at the hospital. a man, he told me the doctor\\'s down at the car shed with the wounded soldiers-- well, why didn\\'t you go after him? miss scarlett. i\\'s scared to go down there to the car shed. there\\'s folks dyin\\' down there and i\\'s scared of dead folks. oh, you go sit by miss melly. and don\\'t you be upsetting her, or i\\'ll whip the hide off you! -have you seen dr. meade? -one side, lady, please. dr. meade! dr. meade! at last! oh, thank heavens you\\'re here. i need every pair of hands. come, child! wake up! we\\'ve got work to do. but melly\\'s having her baby. you\\'ve got to come with me! are you crazy? i can\\'t leave these men for a baby! they\\'re dyin\\', hundreds of them! get some woman to help you. but there isn\\'t anybody. and, dr. meade, she might die! die! look at them! bleeding to death in front of my eyes! no chloroform! no bandages! nothing! nothing to even ease their pain! now run along and don\\'t bother me. now don\\'t worry, child. there\\'s nothing to bringing a baby. now bring those stretchers in here! dr. meade! here. i\\'m coming. is the doctor come? no, he can\\'t come. oh, miss scarlett, miss melly bad off. he can\\'t come. there\\'s nobody to come. prissy, you\\'ve got to manage without the doctor. i\\'ll help you. oh, lordy, miss scarlett. well, what is it? lordy, we\\'ve got to have a doctor. i don\\'t know nothin\\' about birthin\\' babies. -what do you mean? -i don\\'t know-- you told me you knew everything about it. i don\\'t know how come i tell such a lie. ma ain\\'t never let me \\'round when folks was havin\\' them. scarlett! scarlett! oh, miss scarlett.... stop it! go light a fire in the stove! keep boiling water in the kettle, get me a ball of twine and... ...and all the clean towels you can find, and the scissors. don\\'t come telling me you can\\'t find them. go get them, and get them quick! scarlett! coming, melly. coming. go, scarlett, before the yankees get here. i\\'m not afraid. you know i won\\'t leave you. it\\'s no use. i\\'m going to die. don\\'t be a goose, melly. hold on to me. hold on to me. talk to me, scarlett. please talk to me. don\\'t try to be brave, melly. yell all you want to, there\\'s nobody to hear. ma says that if you puts a knife under the bed it cuts the pain in two. cap\\'n butler! cap\\'n butler! what do you want? cap\\'n butler. he\\'s upstairs. belle watlin\\'s givin\\' a party. thank you. cap\\'n butler! oh, cap\\'n butler! what\\'s all the rumpus about? i\\'s got a message for cap\\'n butler, miss watlin\\'! cap\\'n butler, you come out here in the streets to me. what is it, prissy? miss scarlett, she done sent me for you. miss melly, she done had her baby today. and a fine baby boy... ...and miss scarlett and me, we brung him. do you mean to tell me that scarlett-- well, it was mostly me, cap\\'n butler, only miss scarlett... ...she helped me a little, but i don\\'t expect no doctor could have done no better! only miss melly, she feelin\\' kinda poorly now it\\'s all over! yes, i can believe that! and the yankees is comin\\' and miss scarlett she said.... oh, cap\\'n butler, the yankees is here! please come and bring your carriage for us right away. i\\'m sorry, prissy, but the army took my horse and carriage. you\\'d better come upstairs. i\\'ll see what i can do. oh, no, cap\\'n butler! my ma would wear me out with a cornstalk if i was to go into miss watlin\\'s. any of you beauties know where i can steal a horse for a good cause? -whoa, marse robert. -is that you, rhett? -we\\'s here, miss scarlett. we\\'s here! -rhett, i knew you\\'d come. good evening. nice weather we\\'re having. prissy tells me you\\'re planning on taking a trip. if you make any jokes now i\\'ll kill you! don\\'t tell me you\\'re frightened. i\\'m scared to death. if you had the sense of a goat, you\\'d be scared too. oh, the yankees. no, not yet. that\\'s what\\'s left of our army, blowing up the ammunition... ...so the yankees won\\'t get it. we\\'ve got to get out of here. at your service, madam. just where are you figuring on going? home, to tara. don\\'t you know that they\\'ve been fighting all day around tara? do you think you can parade through the yankee army... ...with a sick woman, a baby and a simple-minded darky... ...or do you intend leaving them behind? they\\'re going with me and i\\'m going home and you can\\'t stop me! don\\'t you know it\\'s dangerous jouncing mrs. wilkes over miles of open country? i want my mother! i want to go home to tara! tara\\'s probably been burned to the ground. the woods are full of stragglers from both armies. the least they\\'ll do is take the horse away from you... ...and even though it isn\\'t much of an animal... ...l did have a lot of trouble stealing it. i\\'m going home if i have to walk every step of the way. i\\'ll kill you if you try to stop me. i will, i will! i will! all right, darling, all right. now you shall go home. i guess anybody who did what you\\'ve done today can take care of sherman. here, now. stop crying. now blow your nose like a good little girl. there. prissy! what are you doing? i\\'s packin\\', miss scarlett. stop it and come get the baby. yes, ma\\'am. melly! mrs. wilkes, we\\'re taking you to tara. tara.... -it\\'s the only way, melly. -no. sherman will burn the house over our heads if we stay. it\\'s all right, melly. my baby. my poor baby. have you the strength to put your arms around my neck? i think so. never mind. oh, ashley, charles.... what is it? what does she want? ashley\\'s picture, charles\\' sword. she wants us to bring them. get them. what\\'s that? our gallant lads must have set fire to the warehouses near the depot. there\\'s enough ammunition in the box cars to blow us to tara. we\\'ll have to hurry to get across the tracks. -you\\'re not going that way! -we have to. the mcdonough road\\'s the only one the yankees haven\\'t cut yet. oh, wait. i forgot to lock the front door. what are you laughing at? at you, locking the yankees out. oh, dear, i wish they\\'d hurry. i wouldn\\'t be in such a hurry to see them go if i were you. with them goes the last semblance of law and order. the scavengers aren\\'t wasting any time. we\\'ve got to get out of here, fast. there\\'s a horse! down the alley, cut them off. give me that horse. miss scarlett! they haven\\'t left much for the yankees to take, have they? we\\'ll have to make a dash for it before the fire reaches that ammunition. come on! throw me your shawl. sorry, but you\\'ll like it better if you don\\'t see anything. take a good look, my dear. it\\'s a historic moment. you can tell your grandchildren how you watched the old south disappear one night. they were going to lick the yankees in a month. the poor gallant fools! they make me sick, all of them! getting us all into this with their swaggering and boasting. that\\'s the way i felt once about their swaggering and boasting. rhett, i\\'m so glad you aren\\'t with the army. you can be proud, now, proud that you\\'ve been smarter than all of them. i\\'m not so proud. why did you stop? this is the turn to tara. let the horse breathe a bit. mrs. wilkes. miss melly done fainted way back, cap\\'n butler. well, she\\'s probably better off. she couldn\\'t stand the pain if she were conscious. scarlett, are you still determined to do this crazy thing? yes. i know we can get through, rhett. i\\'m sure we can. not we, my dear, you. i\\'m leaving you here. you\\'re what? rhett, where are you going? i\\'m going, my dear, to join the army. you\\'re joking! i could kill you for scaring me so! i\\'m very serious, scarlett. i\\'m going to join up with our brave lads in gray. but they\\'re running away! no. they\\'ll turn and make a last stand, if i know anything about them. when they do, i\\'ll be with them. a little late, but \"better late--\" rhett, you must be joking! selfish to the end, aren\\'t you? thinking only of your own precious hide, with never a thought for the noble cause. rhett, how could you do this to me... ...and why should you go now, after it\\'s all over and i need you? why? why? why? maybe it\\'s because i\\'ve always had a weakness for lost causes... ...once they\\'re really lost. or maybe... ...maybe i\\'m ashamed of myself. who knows? you should die of shame to leave me here alone and helpless! you helpless? heaven help the yankees if they capture you! now, climb down here. i want to say goodbye. no! climb down. oh, rhett, please don\\'t go. you can\\'t leave me, please. i\\'ll never forgive you! i\\'m not asking you to forgive me. i\\'ll never understand or forgive myself. and if a bullet gets me, so help me, i\\'ll laugh at myself for being an idiot. but there\\'s one thing i do know... ...and that is that i love you, scarlett. in spite of you and me and the whole silly world going to pieces around us... ...l love you... ...because we\\'re alike. bad lots, both of us. selfish and shrewd... ...but able to look things in the eyes and call them by their right names. don\\'t hold me like that! scarlett, look at me. i love you more than i\\'ve ever loved any woman. and i\\'ve waited longer for you than i\\'ve ever waited for any woman. let me alone! here\\'s a soldier of the south who loves you, scarlett... ...wants to feel your arms around him... ...wants to carry the memory of your kisses into battle with him. never mind about loving me. you\\'re a woman sending a soldier to his death with a beautiful memory. scarlett, kiss me. kiss me, once. you low-down, cowardly, nasty thing, you! they were right! everybody was right! you aren\\'t a gentleman! a minor point at such a moment. here. if anyone lays a hand on that nag, shoot him. but don\\'t make a mistake and shoot the nag. oh, go on. i want you to go. i hope a cannon ball lands slap on you. i hope you\\'re blown into a million pieces! never mind the rest. i follow your general idea. and when i\\'m dead on the altar of my country... ...l hope your conscience hurts you. goodbye, scarlett. come on, you! we\\'re going home. oh, my poor baby. don\\'t worry, melly. mother\\'ll take care of him when we get home. miss scarlett, i\\'s powerful hungry. we\\'s got to have something to eat. oh, hush up! we\\'re nearly at twelve oaks. we\\'ll stop there. go on! ashley, i\\'m glad you\\'re not here to see this. the yankees! the dirty yankees! prissy, come tie up this cow! we don\\'t need no cow, miss scarlett. we\\'ll be home soon, and i\\'s scared of cows. tear up your petticoat and tie her on to the back of the wagon. we need milk for the baby, and we don\\'t know what we\\'ll find at home. melly! melly, we\\'re home! we\\'re at tara! hurry! move, you brute! miss scarlett, he\\'s dead! i can\\'t see the house! ls it there? i can\\'t see the house. have they burned it? oh, it\\'s all right. it\\'s all right! they haven\\'t burned it! it\\'s still there! mother! mother! pa! mother! mother! pa! mother, let me in. it\\'s me, scarlett! pa! oh, pa! i\\'m home! i\\'m home! katie. katie scarlett. oh, darlin\\'. mammy! -mammy, i\\'m home. -honey, honey child! oh, mammy, i\\'m so.... where\\'s mother? why... ...miss suellen and miss carreen, they was sick with the typhoid. they had it bad, but they\\'s doin\\' all right now. just weak like little kittens. but where\\'s mother? well... ...miss ellen, she went down to nurse that emmy slattery, that white trash... ...and she took down with it, too. -and last night she.... -mother! mother. miss scarlett, honey. if there\\'s anythin\\' i can do, miss scarlett.... what did you do with miss melly? don\\'t you worry your pretty head \\'bout miss melly, child. i done slapped her in bed already, along with the baby. you better put that cow i brought into the barn, pork. there ain\\'t no barn no more, miss scarlett. the yankees done burned it for firewood. they used the house for their headquarters. they camped all around the place. yankees in tara! yes, ma\\'am, and they stole most everythin\\' they didn\\'t burn. all the clothes and all the rugs and even miss ellen\\'s rosaries. i\\'m starving, pork. get me something to eat. there ain\\'t nothin\\' to eat, honey. they took it all. all the chickens, everything? they took them the first thing. and what they didn\\'t eat they carried off across their saddles. don\\'t tell me any more about what they did! what\\'s this, pa? whiskey? yes, daughter. here, katie scarlett, that\\'s enough! you\\'re not knowing spirits, you\\'ll make yourself tipsy. i hope it makes me drunk. i\\'d like to be drunk. oh, pa. what are those papers? bonds. they\\'re all we\\'ve saved. all we have left. bonds. what kind of bonds, pa? why, confederate bonds, of course, daughter. confederate bonds? what good are they to anybody? i\\'ll not have you talking like that, katie scarlett. oh, pa, what are we going to do with no money and nothing to eat? we must ask your mother. that\\'s it! we must ask mrs. o\\'hara. -ask mother? -yes. mrs. o\\'hara will know what\\'s to be done. now don\\'t be botherin\\' me. go out for a ride. i\\'m busy. oh, pa... ...don\\'t worry about anything. katie scarlett\\'s home. you needn\\'t worry. miss scarlett. what are we gonna to do with nothin\\' to feed those sick folks and that child? i don\\'t know, mammy. i don\\'t know. we ain\\'t got nothin\\' but radishes in the garden. miss scarlett, miss suellen and miss carreen... ...they\\'s fussin\\' to be sponged off. where are the other servants, mammy? miss scarlett, there\\'s only just me and pork left. the others went off to the war or runned away. i can\\'t take care of that baby and sick folks, too. i\\'s only got two hands. who\\'s going to milk that cow, miss scarlett? we\\'s houseworkers. as god is my witness.... as god is my witness, they\\'re not going to lick me. i\\'m going to live through this, and when it\\'s all over, i\\'ll never be hungry again. no, nor any of my folks. if i have to lie, steal, cheat or kill. as god is my witness, i\\'ll never be hungry again! my back\\'s near broken. look at my hands. mother said you could always tell a lady by her hands. i guess things like hands and ladies don\\'t matter so much anymore. you rest, sue, you\\'re not well yet, and i can pick cotton for both of us. scarlett\\'s hateful, making us work in the fields like-- too bad about that. now get back to work. i can\\'t do everything at tara all by myself. what do i care about tara? i hate tara! don\\'t you ever dare say you hate tara again! the same as hating pa and ma. katie scarlett, there\\'s something i must speak to you about. yes, pa, what is it? i\\'ve been talking to prissy and mammy. i don\\'t like the way you\\'re treating them. you must be firm with inferiors but you must be gentle with them... ...especially darkies. yes, pa, i know. but i\\'m not asking them to do anything i\\'m not doing myself. nevertheless, katie scarlett, i don\\'t like it. i shall speak to mrs. o\\'hara about it. what are you doing out of bed, melly? scarlett, darling, i must talk to you. you are all working so hard. i can\\'t lie in bed doing nothing. go on back upstairs. you\\'re as weak as a newborn colt. please, scarlett, let me. stop being noble. i\\'ve got enough on my hands... ...without you making yourself sick so you\\'ll never be any use. oh, i didn\\'t think of it that way. who\\'s there? halt or i\\'ll shoot! you all alone, little lady? you ain\\'t very friendly, are you? you got anything else besides these earbobs? you yankees have been here before. regular little spitfire, ain\\'t you? what have you got hidden in your hand? scarlett, you killed him! i\\'m glad you killed him! scarlett! scarlett, what happened? what is it, scarlett? what is it? don\\'t be scared, chickens. your sister was cleaning a revolver and... ...it went off and nearly scared her to death. oh, thank goodness. haven\\'t we got enough to frighten us? tell katie scarlett she must be more careful. what a cool liar you are, melly. we\\'ve got to get him out of here and bury him. if the yankees find him here, they\\'ll.... i didn\\'t see anyone else. i think he must be a deserter. but, even so, we\\'ve got to hide him. they might hear about it, and then they\\'d come and get you. i could bury him in the arbor where the ground is soft... ...but how will i get him out of here? we\\'ll both take a leg and drag him. you couldn\\'t drag a cat. do you think it would be dishonest if we went through his haversack? i\\'m ashamed i didn\\'t think of that myself. you take the haversack, i\\'ll search his pockets. you look. i\\'m feeling a little weak. melly, i think it\\'s full of money! oh, melly, look! look! ten, $20, $30, $40.... don\\'t stop to count it now. we haven\\'t got time. do you realize this means we\\'ll have something to eat? look in his other pockets. hurry, hurry! -we\\'ve got to get him out of here. -here. if he bleeds across the yard, we can\\'t hide it. give me your nightgown, melly. i\\'ll wad it around his head. don\\'t be silly. i won\\'t look at you. if i had a petticoat or pantalettes, i\\'d use them. thank heavens i\\'m not that modest. now go back to bed. you\\'ll be dead if you don\\'t. i\\'ll clean up my mess when i\\'ve buried him. no, i\\'ll clean it up. well, i guess i\\'ve done murder. i won\\'t think about that now. i\\'ll think about that tomorrow. katie scarlett! katie scarlett! it\\'s over! it\\'s over! it\\'s all over! the war! lee surrendered! -it\\'s not possible. -oh, why did we ever fight? ashley will be coming home. yes, ashley\\'ll be coming home. we\\'ll plant more cotton. cotton ought to go sky-high next year! \"while we were marching through georgia. \"hurrah, hurrah! \"we bring the jubilee. \"hurrah, hurrah! \"the flag that makes you free. \"so we sing the chorus from atlanta to the sea. \"while we were marching through georgia.\" get out of the road, rebel! get out of the way! have you room in your carriage for a dyin\\' man? i got no room for any southern scum, alive or dead. get out of the way! i reckon he\\'d rather try and walk it at that. giddap! jump, you gray-backed beggars! act like they won the war! now you come on and give me them pants, mist\\' kennedy. come on. you scrub yourself with that strong lye soap before i scrubs you myself. i\\'m gonna put these britches in the boilin\\' pot. the whole confederate army\\'s got the same trouble... ...crawlin\\' clothes and dysentery. it\\'s humiliating how you treat mr. kennedy. you\\'d be a sight more humiliated if mist\\' kennedy\\'s lice gets on you! come on, beau. we must leave this gentleman alone because he\\'s tired and he\\'s hungry. i don\\'t mind, ma\\'am. good to see a youngster again. nice little fellow. another two years of war and we could have had him with us in cobb\\'s legion. were you in cobb\\'s legion? yes, ma\\'am. why, then, you must know my husband, major wilkes. oh, yes, ma\\'am. he was captured at spottsylvania, i think. captured! oh, thank heavens, then he isn\\'t.... oh, my poor ashley! ln a yankee prison! melanie! yes, scarlett, i\\'m coming. come along, beau. i\\'ll watch out for him, ma\\'am. we\\'re good friends. oh, thank you. i slave day and night so we can have food to keep body and soul together. and you give it all away to these starving scarecrows. i\\'d rather a plague of locusts around here. don\\'t scold me, scarlett, please. i\\'ve just heard that ashley was taken prisoner. -ashley, a prisoner! -yes. and maybe if he\\'s alive and well he\\'s on some northern road right now. and maybe some northern woman is giving him a share of her dinner... ...and helping my beloved to come back home to me. i hope so, melly. miss scarlett. miss scarlett, i wanted to take up something with your pa but... ...he doesn\\'t seem to.... perhaps i can help you. i\\'m head of the house now. well, l, l.... miss scarlett, i was aimin\\' to ask for suellen. do you mean to tell me you haven\\'t asked for her... ...after all these years she\\'s been counting on you? well, l, the truth is, i\\'m so much older than she is, and.... well, now i haven\\'t a cent to my name. who has nowadays? miss scarlett, if true love carries any weight with you... ...you can be sure your sister will be rich in that. i\\'ll go out somewhere and get myself a little business if we\\'re engaged. as soon as i get on my feet again-- all right, frank. i\\'m sure i can speak for pa. you go ask her now. oh, thank you, miss scarlett. excuse me, excuse me. scarlett, what seems to be the trouble with mr. kennedy? more trouble than he guesses. he has finally asked for suellen\\'s hand. oh, i\\'m so glad. it\\'s a pity he can\\'t marry her now. at least, there\\'d be one less mouth to feed. oh, another one. i hope this one isn\\'t hungry. he\\'ll be hungry. i\\'ll tell prissy to get an extra plate.... ashley! ashley! darling! miss scarlett! don\\'t spoil it, miss scarlett. turn me loose, you fool! turn me loose, it\\'s ashley! he\\'s her husband, ain\\'t he? -miss scarlett, ma\\'am. -high time you got back. -did you get the horse shod? -yes, sir. he shod all right. fine thing when a horse can get shoes and humans can\\'t. here, stir this soap. yes, ma\\'am. miss scarlett, ma\\'am. i gotta know how much money have you got left, in gold. ten dollars. why? that won\\'t be enough. what in heaven\\'s name are you talking about? well, miss scarlett, i see\\'d that old, no-count white-trash wilkerson... ...that used to be mr. gerald\\'s overseer here. he\\'s a regular yankee now, and he was makin\\' a brag... ...that his carpetbagger friends done run the taxes way up sky-high on tara. but how much more have we got to pay? i hear\\'d the tax man say $300. three hundred! might just as well be $3 million. but we gotta raise it, that\\'s all. yes, ma\\'am. how? i\\'ll go ask mr. ashley. oh, he ain\\'t got no $300, miss scarlett. well, i can ask him if i want to, can\\'t l? askin\\' ain\\'t gettin\\'. ashley! they say abe lincoln got his start splitting rails. just think what i may do once i get the knack. the yankees want $300 more in taxes. what shall we do? ashley, what\\'s to become of us? what becomes of people when their civilization breaks up? those who have brains and courage come through all right. those that haven\\'t are winnowed out. for heaven\\'s sake, ashley, don\\'t stand there talking nonsense at me... ...when it\\'s us who are being winnowed out. you\\'re right, scarlett. here i am talking tommy-rot about civilization... ...when your tara\\'s in danger. you\\'ve come to me for help, and i\\'ve no help to give you. oh, scarlett, l... ...l\\'m a coward. you, ashley, a coward? what are you afraid of? oh, mostly of life becoming too real for me, i suppose. not that i mind splitting rails... ...but i do mind very much losing the beauty of that life i loved. if the war hadn\\'t come, i\\'d have spent my life happily buried at twelve oaks. but the war did come. i saw my boyhood friends blown to bits. i saw men crumple up in agony when i shot them. and now i find myself in a world which for me is worse than death. a world in which there\\'s no place for me. i can never make you understand because you don\\'t know the meaning of fear. you never mind facing realities... ...and you never want to escape from them as i do. escape? oh, ashley, you\\'re wrong. i do want to escape too. i\\'m so very tired of it all. i\\'ve struggled for food and for money. i\\'ve weeded and hoed and picked cotton until i can\\'t stand it another minute. i tell you, ashley, the south is dead. it\\'s dead. the yankees and the carpetbaggers have got it and there\\'s nothing left for us. oh, ashley... ...let\\'s run away. we\\'d go to mexico. they want officers in the mexican army. we could be so happy there. i\\'d work for you, i\\'d do anything for you. you know you don\\'t love melanie. you told me you loved me that day at twelve oaks. and anyway, melanie can\\'t.... dr. meade told me she couldn\\'t have any more children and i could give you-- can\\'t we ever forget that day at twelve oaks? do you think i could ever forget it? have you forgotten it? can you honestly say you don\\'t love me? -no. i don\\'t love you. -it\\'s a lie! even if it is, do you think i\\'d leave melanie and the baby, break melanie\\'s heart? you couldn\\'t leave your father and the girls. i could leave them. i\\'m sick of them. i\\'m tired of them. yes, you\\'re sick and tired. that\\'s why you\\'re talking this way. you\\'ve carried the load for all of us... ...but from now on i\\'m going to be more help to you, i promise. there\\'s only one way you can help me. take me away. there\\'s nothing to keep us here. nothing. nothing except honor. oh, please, scarlett. please, dear, you mustn\\'t cry. you mustn\\'t. please, my brave dear, you mustn\\'t plead. you do love me, you do love me. -say it, say it. -don\\'t, don\\'t. you love me, you love me. we won\\'t do this, i tell you. it won\\'t happen again. i\\'m going to take melanie and the baby, and go. say it, you love me. all right, i\\'ll say it. i love your courage and your stubbornness. so much that i could have forgotten the best wife a man ever had. but, scarlett, i\\'m not going to forget her. then there\\'s nothing left for me. nothing to fight for. nothing to live for. yes, there is something. something you love better than me... ...though you may not know it. tara! yes, l... ...l still have this. you needn\\'t go. i won\\'t have you all starve simply because i threw myself at your head. it won\\'t happen again. -why, it\\'s emmy slattery. -yes, ma\\'am, it\\'s me. stop! you haven\\'t forgotten your old overseer, have you? well, emmy\\'s mrs. wilkerson now. get off those steps, you trashy wench! get off this land! you can\\'t speak that way to my wife. wife! high time you made her your wife. who baptized your other brats after you killed my mother? we came out here to pay a friendly call and talk a little business with old friends. friends! when were we ever friends with the likes of you? still high and mighty, ain\\'t you? well, i know all about you. i know your father\\'s turned idiot. you can\\'t pay your taxes. and i come here to offer to buy the place from you... ...to make you a right good offer. emmy\\'s had a hankerin\\' to live here. get off this place, you dirty yankee. you high-flyin\\' lrish will find out who\\'s runnin\\' things around here... ...when you get sold out for taxes. i\\'ll buy this place lock, stock and barrel and i\\'ll live in it. but i\\'ll wait for the sheriff\\'s sale. that\\'s all of tara you\\'ll ever get! you\\'ll be sorry for that. we\\'ll be back! i\\'ll show you who the owner of tara is. pa, come back! pa, come back! pa! yankee coward! pa! lordsy, miss scarlett. that\\'s mr. gerald\\'s watch. you take it. it\\'s for you. pa\\'d want you to have it. you ain\\'t got no business partin\\' from this watch now, miss scarlett. you needs all your valuables to sell for that tax money. do you think i\\'d sell pa\\'s watch? and don\\'t cry. i can stand everybody\\'s tears but yours. oh, mammy, mammy. you been brave so long, miss scarlett, you just gotta go on bein\\' brave. think about your pa like he used to be. i can\\'t think about pa. i can\\'t think of anything but that $300. ain\\'t no good thinkin\\' about that, miss scarlett. ain\\'t nobody got that much money. nobody but yankees and scalawags got that much money now. rhett! who that? a yankee? oh, mammy, i\\'m so thin and pale and... ...l haven\\'t any clothes. scoot up to the attic and get down ma\\'s old box of dress patterns. what you up to with miss ellen\\'s portieres? you\\'ll make me a new dress. not with miss ellen\\'s portieres. not while i got breath in me. great balls of fire! they\\'re my portieres now. i\\'m going to atlanta for that $300 and i\\'ve got to go looking like a queen. -who goin\\' to atlanta with you? -i\\'m going alone. that\\'s what you think. i\\'s goin\\' to atlanta with you. with you and that new dress. now, mammy, darling. no use to try to sweet-talk me, miss scarlett. i\\'s knowed you since i put the first pair of diapers on you. i said i\\'s goin\\' to atlanta with you, and goin\\' i is. kings and traes, huh? too good for me, major! pity we couldn\\'t have fought the war out in a poker game. you\\'d have done better than general grant with far less effort. what is it, corporal? sir, there\\'s a lady to see captain butler. says she\\'s his sister. another sister? this is a jail, not a harem, captain butler. no, major, she ain\\'t one of those. this one\\'s got her mammy with her. she has? i\\'d like to see this one, major, without her mammy. let\\'s see, my losses for the afternoon come to what? three hundred and forty. my debts do mount up, don\\'t they, major? all right, corporal. show captain butler\\'s sister to his cell. thank you, major. excuse me, gentlemen. it\\'s hard to be strict with a man who loses money so pleasantly. -rhett! -scarlett! my dear little sister. it\\'s all right, corporal. my sister has brought me no files or saws. can i really kiss you now? on the forehead like a good brother. no, thanks. i\\'ll wait and hope for better things. oh, rhett, i was so distressed when i heard you were in jail. i simply couldn\\'t sleep for thinking. it\\'s not true, they\\'re going to hang you? would you be sorry? -oh, rhett! -well, don\\'t worry, yet. they have plotted some charge against me... ...but they\\'re really after my money. they think i made off with the confederate treasury. well, did you? what a leading question. but let\\'s not talk about sordid things like money. how good of you to come and see me. and how pretty you look. oh, rhett, how you do run on, teasing a country girl like me. thank heavens you\\'re not in rags. i\\'m tired of seeing women in rags. turn around. marvelous! you look good enough to eat. and prosperous, too. thank you, i\\'ve been doing very well. everybody\\'s doing well at tara, only... ...l got so bored i just thought i\\'d treat myself to a visit to town. you\\'re a heartless creature. but that\\'s part of your charm. you know you\\'ve got more charm than the law allows. now i didn\\'t come here to talk silliness about me, rhett. i came because i was so miserable at the thought of you in trouble. i was mad at you the night you left me on the road to tara... ...and i still haven\\'t forgiven you. oh, scarlett, don\\'t say that. well, i must admit i might not be alive, now, only for you. and when i think of myself with everything i could possibly hope for... ...and not a care in the world, and you here in this horrid jail... ...and not even a human jail, rhett, a horse jail. oh, listen to me trying to make jokes when... ...when i really want to cry. in a minute i shall cry. scarlett, can it be possible that.... can what be possible, rhett? that you\\'ve grown a woman\\'s heart, a real woman\\'s heart? i have, rhett. i know i have. you know, it\\'s worth being in jail just to hear you say that. it\\'s well worth it. you can drop the moonlight and magnolias, scarlett. so things have been going well at tara, have they? what have you done with your hands? i went riding last week without my gloves. these don\\'t belong to a lady. you\\'ve worked with them like a field hand. why did you lie? what are you up to? in another minute i\\'d have believed you cared something. but i do care. suppose we get down to the truth. you want something from me badly enough to put on quite a show in your velvets. what is it? money? i want $300 to pay the taxes on tara. i did lie to you when i said everything was all right. things are just as bad as they possibly could be. and you\\'ve got millions, rhett. what collateral are you offering? -my earbobs. -not interested. -a mortgage on tara. -what would i do with a farm? you wouldn\\'t lose. i\\'d pay you back out of next year\\'s cotton. not good enough. have you nothing better? you once said you loved me. if you still love me, rhett.... you haven\\'t forgotten that i\\'m not a marrying man. no, i haven\\'t forgotten. you\\'re not worth $300. you\\'ll never mean anything but misery to any man. go on, insult me. i don\\'t care what you say, only give me the money. i won\\'t let tara go. i can\\'t let it go while there\\'s a breath left in my body. oh, rhett. won\\'t you please give me the money? i couldn\\'t give you the money if i wanted to. my funds are in liverpool, not in atlanta. if i tried drawing a draft, the yankees\\'d be on me like a duck on a june bug. so you see, my dear, you\\'ve abased yourself to no purpose. here, here, here, stop it! want the yankees to see you like this? take your hands off me, you skunk. you knew what i was going to say before i started. you knew you wouldn\\'t lend me the money and yet you let me go on. i enjoyed hearing what you had to say. cheer up. you can come to my hanging and i\\'ll remember you in my will. i\\'ll come to your hanging. the only thing i\\'m afraid of... ...is that they won\\'t hang you in time to pay the taxes on tara. tell him belle watlin\\'. where you been lately? thought you deserted captain butler. oh, i keep myself occupied. help me out. who that? i ain\\'t never see\\'d hair that color before in my life. does you know a dyed-hair woman? i wish i did know that one. she\\'d get my money for me. no matter what they done to you in that jail... ...they didn\\'t do no more than you deserve... ...for visitin\\' white trash in a jail! fresh and green. right off the farm. hey, what are you doin\\' tonight, susy? that\\'s one of them georgia peaches. there\\'s nothing like that in ohio. -you know what we\\'re going to do? -what? we\\'re going to give every last one of you 40 acres and a mule! -and a mule? -forty acres and a mule! gee! \\'cause we\\'re your friends... ...and you\\'re gonna become voters... ...and you\\'re gonna vote like your friends do! what\\'s your hurry, sister? what\\'s come over this here town? yankees have come over it! same as they\\'ve come over all of us. out of our way, trash! get out of the way here. get away! go on! surely it can\\'t be miss scarlett! -why frank kennedy! -and mammy! it sure is good to see home folks. i didn\\'t know you were in atlanta. i didn\\'t know you were. didn\\'t miss suellen tell you about my store? did she? i don\\'t remember. have you a store? won\\'t you come in, and look around a bit? i don\\'t suppose it looks like much to a lady, but... ...l can\\'t help being proud of it. you\\'re not making money? well, i can\\'t complain. in fact, i\\'m mighty encouraged. folks tell me i\\'m just a born merchant. it won\\'t be long now before miss suellen and i can marry. are you doing as well as all that? yes, i am, miss scarlett. i\\'m no millionaire yet... ...but i\\'ve cleared $1,000 already. and lumber too. well... ...that\\'s only a sideline. a sideline, frank? with all the good georgia pine around atlanta and all this building going on? well, all that takes money, miss scarlett... ...and i\\'ve got to be thinking about buying a home. what do you want a home for? for miss suellen and me to set up housekeeping. here in atlanta. you\\'d want to bring her to atlanta, wouldn\\'t you? there wouldn\\'t be much help in that for tara. i don\\'t rightly know what you mean, miss scarlett. i don\\'t mean a thing. frank, how\\'d you like to drive me out to my aunt pitty\\'s? nothing would give me more pleasure, miss scarlett. you\\'d better stay to supper, too. i\\'m sure aunt pitty\\'d be agreeable and i\\'d like a good long visit with you. oh, you act on me just like a tonic, miss scarlett. and will you tell me all the news... ...all the news of miss suellen? what\\'s the matter, miss scarlett? miss suellen\\'s not ill, is she? oh, no, no. i thought surely she had written you. i guess she was ashamed to write you. she should be ashamed. oh, how awful to have such a mean sister. you must tell me, miss scarlett. don\\'t leave me on tenterhooks. well, she\\'s going to marry one of the county boys next month. she just got tired of waiting and was afraid she\\'d be an old maid and.... oh, i\\'m sorry to be the one to tell you. oh, it\\'s colder. i left my muff at home. would you mind if i put my hand in your pocket? but, melanie, you don\\'t realize what she\\'s done. she\\'s gone and married my mr. kennedy. he\\'s my beau, and she\\'s gone and married him. she did it to save tara, you must understand that. i hate tara! and i hate scarlett! she\\'s the only thing i hate worse than tara. it\\'s all my fault. i should have committed highway robbery to get that tax money for you. i couldn\\'t let you do anything like that, and.... well, anyway, it\\'s done now. yes, it\\'s done now. you wouldn\\'t let me do anything dishonorable... ...but you\\'d sell yourself in marriage to a man you didn\\'t love. well, at least you won\\'t have to worry about my helplessness anymore. what do you mean? i\\'m going to new york. i\\'ve arranged to get a position in a bank there. but you can\\'t do that. i counted on you to help me start a lumber business, ashley... ...and, well, i counted on you. i wouldn\\'t be any good to you. i don\\'t know anything about the lumber business. you know as much as you do about banking. and i\\'d give you half the business, ashley. that\\'s generous of you, scarlett. but it isn\\'t that. if i go to atlanta and take help from you again... ...l\\'d bury forever any hope of standing alone. oh, is that all? well, you could gradually buy the business and then it would be your own, and.... no, scarlett. ashley.... ashley. scarlett! scarlett, what is it? ashley\\'s so mean and hateful. what have you done? she wanted me to go to atlanta. to help me start my lumber business, and he won\\'t lift a finger to help me, and he.... why, how unchivalrous of you. why, think, ashley, think. if it hadn\\'t been for scarlett, i\\'d have died in atlanta. and maybe we wouldn\\'t have had little beau, and... ...and when i think of her picking cotton and plowing just to keep food... ...in our mouths, i could just.... oh, my darling. all right, melanie. i\\'ll go to atlanta. i can\\'t fight you both. well, here\\'s your new mill hands, mrs. kennedy. the pick of all the best jails in georgia. they look pretty thin and weak to me, gallegher. halt! they\\'re the best you can lease, ma\\'am. and if you\\'ll just give johnny gallegher a free hand... ...you\\'ll get what you want out of them. all right, you\\'re the foreman. all i ask is, you keep the mill running and deliver my lumber when i want it. johnny gallegher\\'s your man, miss. but remember... ...no questions and no interference. that\\'s a bargain. start them in the morning, gallegher. come on, get a move on! come on, move on there! but, scarlett, this isn\\'t right and you know it. it\\'s bad enough for a woman to be in business, but-- what are you complaining about? you wouldn\\'t have owned a mill had i not taken over. i didn\\'t want the mill, and we couldn\\'t have bought it... ...if you hadn\\'t pressed all of our friends for the money they owed me. isn\\'t that right, ashley? what are you running, a charitable institution? go back to the store, then go home and take your medicine. you\\'re not looking very well. but, sugar, shouldn\\'t you come home with me? great balls of fire. don\\'t bother me anymore, and don\\'t call me sugar! all right, all right. good night, ashley. she can get mad quicker than any woman i ever saw. scarlett, i don\\'t like to interfere, but... ...l do wish you\\'d let me hire free darkies instead of using convicts. i believe we could do better. darkies! why, their pay would break us, and convicts are dirt cheap. if we just give gallegher a free hand-- a free hand! you know what that means. he\\'ll starve them and whip them. some of them are sick, underfed.... oh, ashley, how you do run on. left alone, you\\'d be giving them chicken three times a day and... ...tucking them to sleep with eiderdown quilts. scarlett, i will not make money out of the enforced labor and misery of others. you weren\\'t so particular about owning slaves. that was different. we didn\\'t treat them that way. besides, i\\'d have freed them all when father died... ...if the war hadn\\'t already freed them. oh, i\\'m sorry, ashley. but have you forgotten what it\\'s like without money? i found out that money is the most important thing in the world... ...and i don\\'t intend ever to be without it again. i\\'ll make enough so the yankees can never take tara away from me. i\\'ll make it the only way i know how. but we\\'re not the only southerners who have suffered. look at all our friends. they\\'re keeping their honor and their kindness, too. and they\\'re starving. i\\'ve got no use for fools who won\\'t help themselves. i know what they\\'re saying about me, and i don\\'t care. i\\'ll make friends with the yankee carpetbaggers. and i\\'ll beat them at their own game, and you\\'ll beat them with me. that\\'s it. move it a little over to that side. afternoon, mrs. kennedy. good afternoon. business is certainly growing, ain\\'t it? it certainly is. but you\\'re doing business with the same people who robbed us... ...and tortured us and left us to starve. all that\\'s past, melly. and i intend to make the best of things, even if they are yankee things. and do you know, dolly merriwether, that dr. meade actually saw her... ...peddling lumber to those yankees, herself. and that isn\\'t all.... i think it\\'s shocking what she\\'s doing to my brother, ashley. she\\'s even taken to driving her own buggy. my dear mrs. kennedy. my very dear mrs. kennedy. i don\\'t see how you have the gall to face me. when i think you could have had my millions... ...if you\\'d just waited a little while. oh, how fickle is woman! what is it you want? i have important things to do. would you satisfy my curiosity on a point which has bothered me for some time? well, what is it? be quick. tell me, scarlett, do you never shrink from marrying men you don\\'t love? how did you ever get out of jail? why didn\\'t they hang you? oh, that! not much trouble. there\\'s nothing much that money won\\'t buy. i observe it\\'s even bought you the honorable mr. wilkes. so you still hate ashley wilkes. do you know, i believe you\\'re jealous of him. you still think you\\'re the belle of the county, don\\'t you? that you\\'re the cutest little trick in shoe leather. and that every man you meet is dying of love for you. let me by! don\\'t be angry, scarlett. tell me, where are you going? to the mill, if it\\'s any of your business. through shantytown, alone? haven\\'t you been told it\\'s dangerous to drive alone through all that riffraff? don\\'t worry about me. i can shoot straight if i don\\'t have to shoot too far. what a woman! could ya gimme a quarter? let go of my horse! hold this horse! help! help! help! miss scarlett! miss scarlett, wait! miss scarlett! miss scarlett! it\\'s big sam! big sam! miss scarlett! wait! sam! sam! is you hurt, miss scarlett? did they hurt you? don\\'t you cry, miss scarlett. big sam\\'ll get you out of this in a jiffy. horse, make tracks! you get to tara just as quick as you can, and stay there. i sure will. i\\'s got enough of them carpetbaggers. thank you, mr. frank. goodbye, miss scarlett. goodbye, sam, and thank you. scarlett, change your dress and go over to miss melly\\'s for the evening. i\\'ve got to go to a political meeting. a political meeting! how can you go to a political meeting... ...after what i\\'ve been through this afternoon? oh, sugar! you\\'re more scared than hurt. nobody cares about me. you all act as though it was nothing at all. the men talk, talk, talk about protecting our women... ...and after what happened to me today frank has to go to a political meeting. and if it won\\'t pain you too much, lndia wilkes... ...l\\'d be much obliged if you\\'ll tell me why you\\'re staring at me. has my face gone green or something? it won\\'t pain me! what happened this afternoon was just what you deserved! and if there was any justice, you\\'d have gotten worse. india, hush up! let her talk, melanie. she\\'s always hated me! ever since i took your brother away from her... ...though she\\'s too much of a hypocrite to admit it! if she thought anyone\\'d go for her... ...she\\'d walk down the street naked! i do hate you! you\\'ve done all you could to lower the prestige of decent people. now you\\'ve endangered the lives of our men, because they-- india! i don\\'t think we\\'d better say any more, or one of us will be saying too much. what\\'s going on around here that i don\\'t know about? somebody\\'s comin\\' up the walk. somebody that ain\\'t mr. ashley. will you hand me the pistol, please, mrs. meade? whoever it is... ...we know nothing. where have they gone? you\\'ve got to tell me, mrs. wilkes. it\\'s life or death! don\\'t tell him anything. he\\'s a yankee spy. quickly, please! there may still be time. how did you know? i\\'ve been playing poker with two yankee captains. they knew there\\'d be trouble tonight. they\\'ve sent their cavalry out to be ready for it. your husband and his friends are walking into a trap. don\\'t tell him! he\\'s trying to trap you! out the decatur road. the old sullivan plantation. the house is burned. they\\'re meeting in the cellar. i\\'ll do what i can. what\\'s all this about? lf you don\\'t tell me, i\\'ll go crazy! we thought it best not to tell you, scarlett. but ashley and frank and the others have gone to clean out those woods... ...where you were attacked. it\\'s what a great many of our southern gentlemen have had... ...to do lately for our protection. and if they\\'re captured, they\\'ll be hanged, scarlett! and it will be your fault! another word, and you go out of this house, lndia! scarlett did what she thought she had to do. and our men are doing what they think they have to do. frank! and ashley! oh, it isn\\'t possible! there\\'s horses, miss melly. here they come. you\\'re sewing, you\\'re sewing. open the door, mammy. good evening, mrs. kennedy. which of you ladies is mrs. wilkes? i am mrs. wilkes. i should like to speak to mr. wilkes, if you please. he\\'s not here. are you sure? don\\'t you doubt miss melly\\'s word. i meant no disrespect, mrs. wilkes. if you\\'ll give me your word, i won\\'t search the house. search if you like, but mr. wilkes is at a political meeting at mr. kennedy\\'s store. he\\'s not at the store, and there\\'s no meeting tonight! no political meeting. we\\'ll wait outside till he and his friends return. sergeant, surround the house. put a man on each door and window. yes, sir! keep on with your sewing, ladies. and i\\'ll read aloud. \"the personal history and experience of david copperfield. \"chapter one. \"l\\'m born. \"to begin my life, with the beginning of my life, i record that i was born. \"chapter nine. i have a memorable birthday. \"l pass over all that happened at school... \"...until the anniversary of my birthday came around in march. \"except that steerforth was more to be admired than ever. \"l remember nothing. \"he was going away at the end of the half year, if not sooner... \"...and was more spirited and independent than before in my eyes... \"...and, therefore, more engaging than before, but... \"...beyond this i remember nothing. \"the great....\" \"l remember nothing.\" melly! they\\'re drunk! leave this to me, scarlett. and, please, say nothing. you stupid fool! quiet! will you shut up for the love of...? hello, melly. so, you\\'ve got my husband intoxicated again, captain butler! well, bring him in. i\\'m sorry, mrs. wilkes. your husband\\'s under arrest. if you arrest all the men who get intoxicated... ...you must have a good many yankees in jail. bring him in, captain butler. if you can walk yourself. i want to tell you a story.... listen, doctor, l.... put him there in that chair. and now, captain butler, will you please leave my house... ...and try to remember not to come here again? well, now that\\'s fine thanks i get for bringing him home... ...and not leaving him on the streets in this shameful condition! now, boys, all together! dr. meade... ...l\\'m astonished at you! oh, ashley! how can you do this to me? i ain\\'t so very drunk, melly. take him into the bedroom and lay him out on the bed as usual. don\\'t touch him, he\\'s under arrest! now, tom. what do you want to arrest him for? i\\'ve seen him drunker. i\\'ve seen you drunker! and you\\'ve seen me.... he can lie in the gutter for all i care! i\\'m not a policeman. but he led a raid tonight on that shantytown... ...where mrs. kennedy got into trouble this afternoon. a lot of those shanties were burned. a couple of men were killed. it\\'s about time you rebels learned you can\\'t take the law into your own hands. what are you laughing at? this isn\\'t your night to teach that lesson, tom. these two have been with me tonight. yes, sir. with you, rhett? where? i don\\'t like to say in the presence of ladies. you\\'d better say. come out on the porch and i\\'ll tell you. speak out, captain butler! i think i have a right to know where my husband\\'s been. well, ma\\'am, we dropped in on a friend of mine... ...and the captain\\'s. a mrs. belle watling. we played cards, drank champagne and... ...well.... now, you\\'ve done it! did you have to show me up in front of my wife? now i hope you\\'re satisfied, tom. these ladies won\\'t be on speaking terms with their husbands tomorrow. rhett, i had no idea, l.... look here, will you take an oath that they were with you tonight at... ...at belle\\'s? ask belle, if you don\\'t believe me. she\\'ll tell you, captain. will you give me your word as a gentleman? as a gentleman? why certainly, tom. well, if l... ...if i\\'ve made a mistake, i\\'m sorry. i hope you\\'ll forgive me, mrs. wilkes. i.... if you\\'ll go and leave us in peace, please. well, i say i\\'m sorry, and... ...well, i am sorry. come on, sergeant. lock that door. pull down the shades. ashley. it\\'s all right. it\\'s only in the shoulder. get him on the bed where i can dress the wound. i think i can walk. it\\'s not worth the effort. which way? in here. -mammy, i want some hot water. -yes, sir. -and lint for bandages. -i\\'ll find some. now what can i use for a probe? lf i only had my bag. were you really there? what did it look like? does she have cut-glass chandeliers, plush curtains and dozens of mirrors? good heavens, mrs. meade, remember yourself. and now, captain butler, tell me what happened, all that happened. i was too late. when i got to the old sullivan place there\\'d already been a skirmish with the yankees. i found mr. wilkes wounded and dr. meade was with him. i had to prove they had been somewhere, anyplace but where they were. so i took them to belle\\'s. and she took them in? she\\'s by way of being an old friend of mine. oh, i\\'m sorry. i-- i\\'m sorry i couldn\\'t think up a more dignified alibi. this isn\\'t the first time you\\'ve come between me and disaster, captain butler. it isn\\'t likely that i\\'d question any device of yours. and now, i\\'ll go and see what dr. meade needs. oh, ashley! ashley! have you no interest in what\\'s become of your own husband, mrs. kennedy? did frank go with you to belle watling\\'s? no. well, where is he? he\\'s lying out on decatur road... ...shot through the head. he\\'s dead. who is it? it\\'s miss watlin\\'. oh, mrs. watling! won\\'t you come in the house? oh, no, i couldn\\'t do that, miss wilkes. you come in and sit a minute with me. how can i thank you enough for what you did for us? how can any of us thank you enough? i got your note sayin\\' you was goin\\' to call on me and thank me. why, miss wilkes, you must have lost your mind. i come up here as soon as it was dark to tell you... ...you mustn\\'t even think of any such thing. why, i\\'m.... why, you\\'re.... well, it wouldn\\'t be fittin\\' at all. it wouldn\\'t be fitting to thank a kind woman who saved my husband\\'s life? miss wilkes, there ain\\'t never been a lady in this town nice to me like you was. i mean, about the money for the hospital, you know. and i don\\'t forget a kindness. and i got to thinking about you being left a widow with a little boy... ...if mr. wilkes got hung... ...and he\\'s a nice little boy, your boy is, miss wilkes. i got a boy myself and so l.... oh, you have? does he live...? oh, no, ma\\'am, he ain\\'t here in atlanta. he ain\\'t never been here. he\\'s off at school. i ain\\'t seen him since he was little. well, anyway, if it had been that miss kennedy\\'s husband by hisself... ...l wouldn\\'t have lifted a finger to, no matter what captain butler said. she\\'s a mighty cold woman. prancin\\' about atlanta by herself. she killed her husband same as if she shot him. you mustn\\'t say unkind things about my sister-in-law. please don\\'t freeze me, miss wilkes. i forgot how you liked her. but she just ain\\'t in the same class with you and i can\\'t help it if i think so. well, anyway, i gotta be goin\\'. i\\'m scared somebody\\'ll recognize this carriage if i stayed here any longer. that wouldn\\'t do you no good. and miss wilkes... ...if you ever see me on the street, you don\\'t have to speak to me. i\\'ll understand. i should be proud to speak to you. proud to be under obligation to you. i hope we meet again. oh, no, ma\\'am, that wouldn\\'t be fittin\\'. -good night, miss wilkes. -good night, mrs. watling. and you\\'re wrong about mrs. kennedy. she\\'s brokenhearted about her husband. great balls of fire! it\\'s rhett. miss scarlett, captain butler here to see you. i told him you was prostrate with grief. tell him i\\'ll be right down, mammy. she says she\\'s comin\\'. i don\\'t know why she\\'s comin\\'. but she\\'s a-comin\\'. you don\\'t like me, mammy. now don\\'t you argue with me, you don\\'t. you really don\\'t. it\\'s no good, scarlett. what? the cologne. i\\'m sure i don\\'t know what you mean. i mean you\\'ve been drinking. brandy. quite a lot. well, what if i have? ls that any of your affair? don\\'t drink alone, scarlett. people always find out and it ruins the reputation. what is it? this is more than losing old frank. oh, rhett... ...l\\'m so afraid. i don\\'t believe it. you\\'ve never been afraid in your life. i\\'m afraid now. i\\'m afraid of dying and going to hell. you look pretty healthy, and maybe there isn\\'t any hell. oh, there is. i know there is. i was raised on it. well, far be it from me to question the teachings of childhood. tell me what you\\'ve done that hell yawns before you. i ought never to have married frank to begin with. he was suellen\\'s beau and he loved her, not me. and i made him miserable. and i killed him. yes, i did! i killed him! for the first time i\\'m finding out what it is to be sorry for something i\\'ve done. here. dry your eyes. if you had it all to do over again, you\\'d do no differently. you\\'re like the thief who isn\\'t the least bit sorry he stole... ...but he\\'s terribly, terribly sorry he\\'s going to jail. i\\'m glad mother\\'s dead. i\\'m glad she\\'s dead so she can\\'t see me. i always wanted to be like her, calm and kind and.... and i certainly have turned out disappointing. you know, scarlett, i think you\\'re on the verge of a crying jag. so i\\'ll change the subject and say what i came to say. say it, then, and get out! what is it? that i can\\'t go on any longer without you. you are the most ill-bred man to come here at a time like this with your filthy-- i made up my mind that you were the only woman for me... ...the first day i saw you at twelve oaks. now that you\\'ve got the lumber mill and frank\\'s money... ...you won\\'t come to me as you did to the jail. so i see i shall have to marry you. i never heard of such bad taste. would you be more convinced if i fell to my knees? turn me loose, you varmint, and get out of here! forgive me for startling you with the impetuosity of my sentiments... ...my dear scarlett. i mean, my dear mrs. kennedy. but it cannot have escaped your notice that for some time past... ...the friendship i have felt for you has ripened into a deeper feeling. a feeling more beautiful, more pure, more sacred. dare i name it? can it be love? get up off your knees. i don\\'t like your common jokes. this is an honorable proposal of marriage... ...made at what i consider a most opportune moment. i can\\'t go all my life waiting to catch you between husbands. you\\'re coarse, and you\\'re conceited. and i think this conversation has gone far enough. besides, i shall never marry again. oh, yes, you will, and you\\'ll marry me. you? you! i don\\'t love you! and i don\\'t like being married. did you ever think of marrying just for fun? marriage, fun? fiddle-dee-dee. fun for men, you mean. hush up! do you want them to hear you? you\\'ve been married to a boy and an old man. why not try a husband of the right age, with a way with women? you\\'re a fool, rhett butler, when you know i shall always love another man. stop it! do you hear me, scarlett? stop it! no more of that talk. rhett, don\\'t, i shall faint. i want you to faint. this is what you were meant for. none of the fools you\\'ve known have kissed you like this, have they? your charles, or your frank, or your stupid ashley. say you\\'re going to marry me. say \"yes.\" say \"yes! \" yes. are you sure you meant it? you don\\'t want to take it back? no. look at me and try to tell me the truth. did you say \"yes\" because of my money? well.... yes. partly. partly? well, you know, rhett, money does help, and, of course i am fond of you. fond of me. well, if i said i was madly in love with you, you\\'d know i was lying... ...but you always said we had a lot in common.... yes, you\\'re right, my dear. i\\'m not in love with you any more than you are with me. heaven help the man who ever really loves you. what kind of a ring would you like, my darling? oh, a diamond ring. and do buy a great big one, rhett. you shall have the biggest and the most vulgar ring in atlanta. i\\'ll take you to new orleans for the most expensive honeymoon... ...my ill-gotten gains can buy. oh, that would be just heavenly. and i think i\\'ll buy your trousseau for you, too. rhett, how wonderful, but... ...you won\\'t tell anybody, will you, rhett? still the little hypocrite. rhett, aren\\'t you going to kiss me goodbye? don\\'t you think you\\'ve had enough kissing for one afternoon? you\\'re impossible. you can go and i don\\'t care if you never come back. but i will come back. what are you thinking about, scarlett? i\\'m thinking about how rich we are. rhett, i can keep the lumber business too, can\\'t l? yes, of course, you can, if it amuses you. now that you\\'re rich you can tell everyone to go to the devil... ...as you\\'ve always said you wanted to. but you were the main one i wanted to go to the devil. don\\'t scrape the plate, scarlett. i\\'m sure there\\'s more in the kitchen. oh, rhett, can i have one of those chocolate ones stuffed with meringue? if you don\\'t stop being such a glutton, you\\'ll get as fat as mammy... ...then i\\'ll divorce you. wouldn\\'t it be nice if you bought something for mammy, too? why should i buy her a present when she called us both mules? mules? why mules? yes, she said we could give ourselves airs, and get ourselves all slicked up... ...like racehorses but we were just mules in horse harness... ...and we didn\\'t fool anybody. i never heard anything more true. mammy\\'s a smart old soul... ...and one of the few people i know whose respect i\\'d like to have. i won\\'t give her a thing. she doesn\\'t deserve it. then i\\'ll take her a petticoat. my mammy always said when she went to heaven... ...she wanted a red taffeta petticoat, so stiff that it would stand by itself... ...and so rustly, the lord would think it was made of angels\\' wings. why, she won\\'t take it from you. she\\'d rather die than wear it. that may be, but i\\'m making the gesture just the same. wake up! wake up! you were having another nightmare. oh, rhett. when i was so cold and hungry and... ...and so tired l... ...l couldn\\'t find it. i ran through the mist and i couldn\\'t find it. -find what, honey? -oh, i don\\'t know. i always dream the same dream and i never know. it seems to be hidden in the mist. darling. rhett, do you think i\\'ll ever dream that i\\'ve found it and that i\\'m safe? dreams don\\'t work that way, but when you get used to being safe and warm... ...you\\'ll stop dreaming that dream. and, scarlett, i\\'m going to see that you are safe. would you do something for me if i asked you? you know i would. will you take me away from here? don\\'t you like new orleans? oh, i love new orleans, but i want to go home and visit tara. will you take me to tara? yes, scarlett, of course i will. we\\'ll go tomorrow. you get your strength from this red earth of tara, scarlett. you\\'re part of it, and it\\'s part of you. rhett, i\\'d give anything to have tara the way it was before the war. would you? then go ahead and make it that way. spend whatever you want, make it as fine a plantation as it ever was. oh, rhett. rhett, you are good to me. and can we still have our big new house in atlanta? yes, and it can be as ornate as you want... ...marbled terraces, stained-glass windows and all. rhett, won\\'t everyone be jealous? i want everybody who\\'s been mean to me to be pea-green with envy. i don\\'t care. scarlett\\'s hateful, building that new house just to show off... ...and even taking our servants. oh, darling, you mustn\\'t think unkindly of her. she\\'s made it possible for us to keep tara always. yes, and what good is tara? she\\'s had three husbands and i\\'ll be an old maid. great jehosophat! great jehosophat! lordsy, we sure is rich now! it ain\\'t quality.... but that\\'s ridiculous. why can\\'t i go in? i\\'m entitled to at least see what my own child looks like. you control yourself, mr. rhett. you\\'ll be seein\\' it for a long time. i\\'d like to apologize, mr. rhett, about it\\'s not being a boy. oh, hush your mouth, mammy. who wants a boy? boys aren\\'t any use to anybody. don\\'t you think i\\'m proof of that? have a drink of sherry, mammy. mammy, she is beautiful, isn\\'t she? she sure is. did you ever see a prettier one? well, sir, miss scarlett was mighty nigh that pretty when she come, but not quite. have another glass, mammy. what\\'s that rustling noise i hear? lordsy, mr. rhett. that ain\\'t nothin\\' but my red silk petticoat you done give me. nothing but your petticoat. i don\\'t believe it. let me see. pull up your skirt. mr. rhett. you is bad. yeah, oh, lord! you sure took a long enough time about wearing it. yes, sir, too long. no more mule in horse\\'s harness? mr. rhett, miss scarlett was bad tellin\\' you about that. you ain\\'t holdin\\' that against old mammy, is you? no, i ain\\'t holding it against you. i just wanted to know. have another glass, mammy. here, take the whole bottle. dr. meade says you may go in now, captain butler. this sure is a happy day to me. i done diapered three generations of this family\\'s girls... ...and it sure is a happy day. oh, yes, mammy. the happiest days are when babies come. i wish.... oh, mammy, she\\'s beautiful. what do you suppose they\\'ll name her? miss scarlett done told me if it was a girl... ...she\\'s goin\\' to name it eugenia victoria. yes... ...she\\'s a beautiful baby... ...the most beautiful baby ever. yes. do you know that this is your birthday? that you\\'re a week old today? yes, i\\'m going to buy her a pony the likes of which this town has never seen. yes, i\\'m gonna send her to the best schools in charleston. yes. and her\\'ll be received by the best families in the south. and when it comes time for her to marry... ...well, she\\'ll be a little princess. you certainly are making a fool of yourself. and why shouldn\\'t l? she\\'s the first person who\\'s ever completely belonged to me. great balls of fire! i had the baby, didn\\'t l? it\\'s melanie. may i come in? come in, melly. yes, come in and look at my daughter\\'s beautiful blue eyes. but, captain butler, most babies have blue eyes when they\\'re born. don\\'t try to tell him anything. he knows everything about babies. nevertheless, her eyes are blue and they\\'re going to stay blue. as blue as the bonnie blue flag. that\\'s it. that\\'s what we\\'ll call her. bonnie blue butler. try again, mammy. twenty inches. twenty inches! i\\'ve grown as big as aunt pitty. you\\'ve simply got to make it 18 and a half again, mammy. you done had a baby, miss scarlett... ...and you ain\\'t never goin\\' to be no 18 and a half inches again. never. and there ain\\'t nothin\\' to do about it. there is something to do about it! i\\'m just not going to get old and fat before my time. i just won\\'t have any more babies! i heard mr. rhett say that he\\'ll be wantin\\' a son next year. go tell captain butler i\\'ve decided not to go out after all. i\\'ll have supper in my room. i got your message. i\\'ll have them bring my supper up here too. no objections to that, i hope? no. yes. i mean, i don\\'t care where you have your supper. rhett? yes? you see... ...well, i\\'ve decided... ...well, i hope i don\\'t have any more children. my pet, as i told you before bonnie was born... ...it\\'s immaterial to me whether you have one child or 20! no, but you know what l.... do you know what i mean? i do. and do you know i can divorce you for this? you\\'re just low enough to think of something like that! if you had any chivalry in you or would be nice like, well, look at ashley wilkes! melanie can\\'t have any more children and he.... you\\'ve been to the lumber office this afternoon, haven\\'t you? what has that got to do with it? quite the little gentleman, ashley. pray go on, mrs. butler. it\\'s no use. you wouldn\\'t understand. you know, i\\'m sorry for you, scarlett. sorry for me? yes, sorry for you because you\\'re throwing away happiness with both hands... ...and reaching out for something that will never make you happy. i don\\'t know what you\\'re talking about. if you were free and miss melly were dead and you had your precious... ...honorable ashley, do you think you\\'d be happy with him? you\\'d never know him, never even understand his mind... ...any more than you understand anything except money. never mind about that! what i want to know is-- you may keep your sanctity, scarlett. it\\'ll work no hardship on me. do you mean to say you don\\'t care? the world is full of many things and many people, and i shan\\'t be lonely. i\\'ll find comfort elsewhere. well, that\\'s fine. but i warn you. just in case you change your mind, i intend to lock my door. why bother? lf i wanted to come in, no lock could keep me out! i always knew that most women were cheats, hypocritical and hard. -but this one.... -rhett, it ain\\'t no use. -what do you mean? -i mean you\\'re poisoned with her. i don\\'t care what she\\'s done to you, you\\'re still in love with her. and don\\'t think it pleasures me none to say it. maybe so! but i\\'m through with her, i tell you! i\\'m through. you gotta think of the child. the child\\'s worth ten of the mother. you\\'re a shrewd woman, belle, and a very nice one. yes, rhett? i was just thinking of the difference between you, and... ...you\\'re both hard-headed business women and you\\'re both successful. but you\\'ve got a heart, belle... ...and you\\'re honest. goodbye, rhett. goodbye, belle. she\\'ll be a wonderful horsewoman! look at those hands, and that seat! oh, fiddle-dee-dee! just why we have to wheel the baby when we have a house full of servants.... good morning, mrs. merriwether. good morning, captain butler. good morning, scarlett. making fools of ourselves in front of these old buffaloes! if you\\'d thought of your position years ago, you wouldn\\'t have to do this. but as it is, we\\'ll cultivate every female dragon of the old guard in this town. good morning, mrs. whiting. good morning, captain butler. good morning, scarlett. so the millionaire speculator\\'s turning respectable! all of our money can\\'t buy what i want for bonnie. oh, i\\'ll admit i\\'ve been at fault, too. but bonnie\\'s going to have a place among decent people. yes, even if we both have to crawl on our bellies to every fat old cat. good morning, mrs. meade. good morning, captain butler. good morning, scarlett. mrs. merriwether, i\\'ve always had a great regard for your knowledge. i wonder if you could give me some advice. why, certainly, captain butler. my bonnie sucks her thumb. i can\\'t make her stop it. you should make her stop it. it\\'ll ruin the shape of her mouth. i know, i know. she has such a beautiful mouth, too. i tried putting soap under her nails. soap! bah! put quinine on her thumb and she\\'ll stop sucking it quick enough. quinine! i never would have thought of it. i can\\'t thank you enough, mrs. merriwether. you\\'ve taken a great load off my mind! good morning. good morning, dolly. wasn\\'t that captain butler? good morning, caroline. i was just thinking. there must be a great deal of good in a man who could love a child so much. but of course there is! oh, did i tell you that fanny elsing told dr. meade that captain butler... ...finally admitted he was honored by the confederate congress... ...for his services at the battle of franklin? no! and did i tell you, caroline, that captain butler... ...made a stupendous contribution to the association for the beautification... ...of the graves of the glorious dead? no! my little grandbaby, napoleon picard, is giving a party for bonnie next week. why, dolly merriwether, you know right well it was my idea... ...to give a party for bonnie butler! why caroline meade.... now watch daddy put your pony over, bonnie. now watch. daddy, let me! let me! all right, darling. put her on, pork! up we go. oh, there! lordsy mercy! there he goes again! grip tightly with your legs and sit close. lean forward and be sure you go with him. hold your reins properly in a firm hand. up! that was fine! i knew you\\'d do it! when you get a little older, i\\'ll take you to kentucky and virginia. you\\'ll be the greatest horsewoman in the south. give your daddy a kiss. mr. rhett! mr. rhett! mr. rhett! did you see her, mammy? wasn\\'t she wonderful? mr. rhett, i done told you and told you it just ain\\'t fittin\\'... ...for a girl child to ride astraddle with her dress flyin\\' up! all right, mammy. i\\'ll teach her to ride sidesaddle. and i\\'ll buy her a blue velvet riding habit. she\\'ll love that. a nice black broadcloth is what little girls wear. now, mammy, be reasonable. well, i don\\'t think it\\'s fittin\\', but.... it ain\\'t fittin\\', it just ain\\'t fittin\\'. it ain\\'t fittin\\'. why, scarlett! what are you doing downtown at this time of day? ashley, i just-- why aren\\'t you helping melly get ready for my surprise birthday party? why, ashley wilkes, you aren\\'t supposed to know anything about that. melly\\'d be so disappointed if you weren\\'t surprised. i won\\'t let on. i\\'ll be the most surprised man in atlanta. as long as you\\'re here, let me show you the books... ...so you can see just how bad a businessman i really am. oh, don\\'t let\\'s fool with any books today. when i\\'m wearing a new bonnet, all the figures i ever knew... ...go right slap out of my head. the figures are well lost when the bonnet\\'s as pretty as that one. scarlett, you know, you get prettier all the time. you haven\\'t changed a bit since the day of our last barbecue at twelve oaks... ...where you sat under a tree surrounded by dozens of beaux. that girl doesn\\'t exist anymore. nothing\\'s turned out as i expected, ashley. nothing. yes, we\\'ve travelled a long road since the old days, haven\\'t we, scarlett? oh, the lazy days... ...the warm, still country twilights... ...the high, soft negro laughter from the quarters... ...the golden warmth and security of those days. don\\'t look back, ashley. don\\'t look back. it drags at your heart till you can\\'t do anything, but look back. i didn\\'t mean to make you sad, my dear. i\\'d never want you to be anything but completely happy. oh, ashley! who is it? only your husband. come in. am i actually being invited into the sanctuary? you\\'re not ready for melanie\\'s party. i\\'ve got a headache, rhett. you go without me, and make my excuses to melanie. what a white-livered little coward you are! get up! you\\'re going to that party and you\\'ll have to hurry. -has lndia dared to-- -yes. india has! every woman and man in town knows the story! you should kill them, spreading lies. i have a strange way of not killing people who tell the truth. there\\'s no time to argue now. get up! i won\\'t go! i can\\'t go until this misunderstanding is cleared up. you won\\'t cheat miss melly out of the satisfaction of publicly... ...ordering you out of her house. there was nothing wrong. india hates me so. i can\\'t go, rhett. i couldn\\'t face it. if you don\\'t show it tonight, you\\'ll never be able to as long as you live. while that wouldn\\'t bother me, you\\'re ruining bonnie\\'s chances. you\\'re going to that party, if only for her sake. now, get dressed! wear that! nothing modest or matronly will do for this occasion. and put on plenty of rouge. i want you to look your part tonight. \"for he\\'s a jolly good fellow for he\\'s a jolly good fellow \"for he\\'s a jolly good fellow which nobody can deny \"which nobody can deny which nobody can deny \"for he\\'s a jolly good fellow....\" -good night, scarlett. -but rhett, you can\\'t-- you go into the arena alone. the lions are hungry for you. oh, rhett, don\\'t leave me. don\\'t. you\\'re not afraid? \"which nobody can deny which nobody can deny \"for he\\'s a jolly good fellow for he\\'s a jolly good fellow \"for he\\'s a jolly good fellow which nobody can deny.\" what a lovely dress, scarlett, darling. india wasn\\'t able to come tonight. will you be an angel? i do need you to help me receive my guests. mrs. meade... ...here\\'s our darling scarlett. good evening. good evening. why scarlett! -good evening, miss scarlett. -good evening, mrs. butler. ashley, aren\\'t you going to get our scarlett a glass of punch? did you have a good time tonight at miss melly\\'s party, child? yes, yes. now, mammy, be sure and leave word... ...if captain butler asks for me when he comes back, i\\'m asleep. yes, ma\\'am. come in, mrs. butler. come here. sit down! there\\'s no reason why you shouldn\\'t have your nightcap even if i am here. i didn\\'t want a drink. i heard a noise and-- you heard nothing of the kind. you wouldn\\'t have come down if you\\'d thought i was here. -you must need a drink badly. -i do not! take it. don\\'t give yourself airs. i know you drink on the quiet, and i know how much you drink. do you think i care if you like your brandy? you\\'re drunk, and i\\'m going to bed! i\\'m very drunk... ...and i intend getting still drunker before the evening\\'s over... ...but you\\'re not going to bed, not yet! sit down! so she stood by you, did she? how does it feel to have the woman you\\'ve wronged cloak your sins for you? you\\'re wondering if she knows all about you and ashley. you\\'re wondering if she did it just to save her face. you\\'re thinking that she\\'s a fool for doing it even if it did save your hide. -i will not listen. -yes, you\\'ll listen! miss melly\\'s a fool, but not the kind you think. it\\'s just that there\\'s too much honor in her to ever conceive of dishonor... ...in anyone she loves. and she loves you. though just why she does, i\\'m sure i don\\'t know! if you weren\\'t so drunk and insulting, i could explain everything. -as it is though-- -if you get out of that chair once more! of course, the comic figure in all this is the long suffering mr. wilkes! mr. wilkes, who can\\'t be mentally faithful to his wife... ...and won\\'t be unfaithful to her technically. why doesn\\'t he make up his mind? rhett, you.... observe my hands, my dear. i could tear you to pieces with them. and i\\'d do it, if it\\'d take ashley out of your mind forever. but it wouldn\\'t. so i\\'ll remove him from your mind forever this way. i\\'ll put my hands so... ...one on each side of your head... ...and i\\'ll smash your skull between them like a walnut. and that\\'ll block him out. take your hands off me, you drunken fool. you know i\\'ve always admired your spirit, my dear. never more than now, when you\\'re cornered. i\\'m not cornered. and you\\'ll never corner me, rhett butler, or frighten me! you\\'ve lived in dirt so long, you can\\'t understand anything else. and you\\'re jealous of something you can\\'t understand. good night! jealous, am l? yes, i suppose i am. even though i know you\\'ve been faithful to me all along. how do i know? because i know ashley wilkes, and his honorable breed. they\\'re gentlemen! and that\\'s more than i can say for you or for me! we\\'re not gentlemen, and we have no honor, have we? it\\'s not that easy, scarlett. you turned me out while you chased ashley wilkes. while you dreamed of ashley wilkes. this is one night you\\'re not turning me out! how are you feeling this morning, mammy? well, this misery in my back ain\\'t so good. you actin\\' mighty happy this mornin\\', miss scarlett. i am, mammy. i am. \"oh, she wept with delight when he gave her a smile \"and trembled with fear at his frown.\" hello. i\\'d like to extend my apologies for my conduct of last night. oh, but rhett.... i was very drunk... ...and quite swept off my feet by your charms. well, you needn\\'t bother to apologize. nothing you ever do surprises me! i\\'ve been thinking things over, and i really believe that... ...it would be better for both of us... ...if we admitted we\\'d made a mistake and got a divorce. -a divorce? -yes. there\\'s no point in our holding on to each other, is there? i\\'ll provide for you amply. you\\'ve plenty of grounds. just give me bonnie. you can say what you please, i won\\'t contest it. thank you very much. but i wouldn\\'t dream of disgracing the family with a divorce. you\\'d disgrace it quick enough if ashley were free. it makes my head spin to think how quickly you\\'d divorce me. wouldn\\'t you, scarlett? well, answer me. wouldn\\'t you? will you please go now, and leave me alone? yes, i\\'m going. that\\'s what i came to tell you. i\\'m going on a very extended trip to london, and i\\'m leaving today. and i\\'m taking bonnie with me. so you\\'ll please get her little duds packed right away. you\\'ll never take my child out of this house. she\\'s my child, too, scarlett. you\\'re making a mistake, if you think i\\'m leaving her here... ...with a mother who hasn\\'t the decency to consider her own reputation. you\\'re a fine one to talk. you think i\\'ll let that child out of this house... ...when you\\'ll probably have her around with people like that belle? if you were a man i\\'d break your neck for that. as it is, i\\'ll thank you to shut your stupid mouth. as for you, giving yourself pious airs about your motherhood.... why, a cat\\'s a better mother than you are. have her things packed and ready for me in an hour, or i warn you.... i\\'ve always thought a good lashing with a buggy whip would benefit you immensely. excuse me, mr. rhett. hello, uncle rhett. hello, hello, beau. daddy, daddy! where have you been? i\\'ve been waiting for you all morning. well, i\\'ve been hunting for a rabbit skin to wrap my little bonnie in. give your best sweetheart a kiss. i\\'m going to take you on a long trip to fairyland! where? where? i\\'m going to show you the tower of london, where the little princes were... ...and london bridge. london bridge! will it be falling down? well, it will if you want it to, darling. daddy, dark! dark! daddy! dark! it\\'s all right. who put out that light? nurse! daddy, dark! daddy, dark! there. yes, yes. what\\'s the matter with my bonnie? a bear. oh, a bear? a big bear? dreadful big. and he sat on my chest. well, i\\'ll stay here and shoot him if he comes back. good evening, mr. butler. haven\\'t i told you never to leave her alone in the dark? if you\\'ll pardon me, sir, children are often afraid of the dark, but they get over it. if you just let her scream for a night or two. let her scream! either you\\'re a fool or the most inhuman woman i\\'ve ever seen! of course, sir, if you want her to grow up nervous and cowardly. cowardly! there isn\\'t a cowardly bone in her body. you\\'re discharged! as you say, sir. where is mother? aren\\'t you happy here in london with me? i want to go home. miss bonnie! and captain butler! -miss scarlett! -hello, mammy. honey, child! miss scarlett! they\\'s back! they\\'s back, miss scarlett! bonnie! bonnie! bonnie, baby! darling, baby! are you glad to be home? daddy gave me a kitten. -what a little, lovely kitten! -london\\'s a horrid place. -oh, my darling. -where\\'s my pony? -i want to go out and see my pony. -you go out and see your pony. where\\'s my pony? i wanna go out and see my pony. you run along with mammy. -come on, honey child. -go with mammy. mammy sure has missed you, honey. mrs. butler, i believe. mammy said you\\'d come back. but only to bring bonnie. apparently any mother, even a bad one, is better for a child than none. you mean you\\'re going away again? what perception, mrs. butler. right away. in fact, i left my bags at the station. you\\'re looking pale. is there a shortage of rouge? or can this wanness mean you\\'ve been missing me? if i\\'m pale, it\\'s your fault. not because i\\'ve been missing you, but because.... pray continue, mrs. butler. it\\'s because i\\'m going to have a baby. indeed? and who\\'s the happy father? you know it\\'s yours. i don\\'t want it any more than you do. no woman would want the child of a cad like you. i wish it were anybody\\'s child but yours. well, cheer up. maybe you\\'ll have an accident. is she better? has she asked for me? don\\'t you understand? she\\'s delirious. rhett! i want rhett! what\\'s the matter, honey? did you call somebody, child? it\\'s no use. it\\'s no use. dr. meade\\'s left. scarlett\\'s dead! oh, no, she\\'s much better. really she is. there, there, captain butler. you\\'re beside yourself. she\\'ll very soon be well again, i promise you. no, you don\\'t understand. she never wanted this baby. not want a baby? why, every woman wants a baby! yes, you want children, but she doesn\\'t. not my children. she told me she didn\\'t want any more children... ...and i wanted to hurt her because she\\'d hurt me. i wanted to and i did. hush. you mustn\\'t tell me these things. it\\'s not fit. i didn\\'t know about this baby until the other day when she fell. if i\\'d known, i\\'d have come straight home whether she wanted me or not! well, of course you would. and then when she told me, there on the steps, what did i do? what did i say? i laughed and i said-- but you didn\\'t mean it. i know you didn\\'t mean it. oh, but i did mean it. i was crazy with jealousy. she\\'s never cared for me. i thought i could make her care, but i couldn\\'t. you\\'re so wrong. scarlett loves you a great deal, much more than she knows. if that were only true i could wait forever. if she\\'d only forgive me, forget this ever happened. she will. you must be patient. oh, no, it\\'s not possible. you don\\'t understand. if you only knew who she really loved... ...you wouldn\\'t believe it. surely you haven\\'t listened to idle gossip. no, captain butler, i wouldn\\'t believe it. there, there. scarlett\\'s going to get well and there can be other babies. oh no, no, she couldn\\'t even if she wanted to, after what she\\'s been through. but of course she could. i\\'m going to. no, miss melly, you mustn\\'t risk it. it\\'s too dangerous. children are life renewing itself, captain butler... ...and when life does that danger seems very unimportant. i\\'ve never before known anyone who was really brave. i pray god things go well with you, miss melly. and i want to thank you for all you\\'ve done for me and for scarlett. from my heart, i thank you. miss scarlett\\'s feelin\\' a heap better today, mr. rhett. thank you, mammy. i\\'ve come to ask your forgiveness... ...in the hope that we can give our life together another chance. our life together? when did we ever have a life together? yes, you\\'re right. but i\\'m sure if we could only try again, we could be happy. well, what is there to make us happy now? well, there\\'s bonnie and... ...and i love you, scarlett. when did you discover that? i\\'ve always loved you, but you\\'ve never given me a chance to show it. well, and just what do you want me to do? to begin with, give up the mill, scarlett. we\\'ll go away. we\\'ll take bonnie and we\\'ll have another honeymoon. give up the mill? but why? it\\'s making more money than ever. yes, i know, but we don\\'t need it. sell it, or better still, give it to ashley. melanie\\'s been such a friend to both of us. always melanie! lf you\\'d only think a little more about me.... i am thinking of you... ...and i\\'m thinking that... ...well, maybe it\\'s the mill that\\'s taken you away from me... ...and from bonnie. i know what you\\'re thinking. don\\'t try to bring bonnie into this. you\\'re the one taking her away from me. but she loves you. you\\'ve done everything possible to make her love you and not me. why, she\\'s so spoiled now that-- mommy! daddy! watch me! we\\'re watching, darling. you\\'re mighty pretty, precious. so are you. i\\'m going to jump. watch me, daddy. i don\\'t think you ought to do much jumping yet, bonnie. remember, you\\'ve just learned to ride sidesaddle. i will so jump! i can jump better than ever \\'cause i\\'ve grown... ...and i\\'ve moved the bar higher. don\\'t let her do it, rhett. no, bonnie, you can\\'t. well, if you fall off, don\\'t cry and blame me. rhett, stop her! bonnie! bonnie! just like pa. just like pa! bonnie! bonnie! bonnie! lordsy, miss melly. i sure is glad you has come. this house won\\'t seem the same without bonnie. how\\'s miss scarlett bearing up? miss melly, this here done broke her heart... ...but i didn\\'t fetch you here on miss scarlett\\'s account. what that child got to stand, the good lord give her strength to stand. it\\'s mr. rhett i\\'s worried about. he done lost his mind these last couple of days. no, mammy, no. i ain\\'t never see\\'d no man, black or white, set such store on any child. when dr. meade says her neck broke... ...mr. rhett grab his gun and run out there and shoot that poor pony... ...and for a minute i think he going to shoot hisself. oh, poor captain butler. yes, ma\\'am. miss scarlett, she call him a murderer for teachin\\' that child to jump. she say, \"you give me my baby what you kill.\" and then he say miss scarlett ain\\'t never cared nothin\\' about miss bonnie. it like to turn my blood cold, the things they say to one another. stop, mammy, don\\'t tell me any more. and then that night... ...mr. rhett, he locked hisself in the nursery with miss bonnie... ...and he wouldn\\'t even open the door... ...when miss scarlett beat on it and hollered to him. and that\\'s the way it\\'s been for two whole days. oh, mammy. and then this evenin\\', miss scarlett, she shout through the door... ...and she say the funeral set for tomorrow mornin\\'... ...and he says \"you try that and i kills you tomorrow. \"do you think i\\'s goin\\' to put my child away in the... \"...in the dark when she\\'s so scared of it?\" oh, mammy, he has lost his mind. yes, ma\\'am, that\\'s the god\\'s truth. he ain\\'t goin\\' to let us bury that child. you gotta help us, miss melly. oh, but i can\\'t intrude. if you can\\'t help us, who can? mr. rhett always set great store by your opinion. please, miss melly. i\\'ll do what i can, mammy. get away from that door, and leave us alone. it\\'s mrs. wilkes, captain butler. please let me in. i\\'ve come to see bonnie. oh, lord... ...please help mr. rhett in this hour of his grief. i want you to go and make a good deal of strong coffee... ...and bring it up to captain butler. i\\'ll go and see miss scarlett. but.... captain butler is quite willing for the funeral to take place... ...tomorrow morning. hallelujah. i suspects the angels fights on your side, miss melly. hallelujah. miss melly! miss melly! miss melly! miss melly! miss melly! send for dr. meade, mammy... ...and try... ...try to get me home. miss melly! miss melly! where is my mother goin\\' away to? and why can\\'t i go along, please? we can\\'t always go along, beau, much as we may want to. you\\'re going back to bed now. oh, rhett, she can\\'t be dying, she can\\'t be! she hasn\\'t your strength. she\\'s never had any strength. she\\'s never had anything but heart. you knew that, too. why do i have to go back to bed? it\\'s morning. it isn\\'t really morning yet. you may come in now, scarlett. dr. meade, please let me see her! i\\'ve been waiting here two whole days and i\\'ve got to tell her... ...that i was wrong about something. she knows you were wrong. she wants to see scarlett. miss melly\\'s going to die in peace. i won\\'t have you easing your conscience telling her things... ...that make no difference now. you understand? it\\'s me, melly. promise me? anything. look after my little son. i gave him to you once before. remember? the day he was born. please, melly, don\\'t talk this way. i know you\\'ll get well. promise me... ...college.... yes, yes, and europe, and a pony, whatever he wants. but... ...melly, do try.... ashley.... ashley and you. what about ashley, melly? look after him for me. just as you... ...looked after me for him. i will, melly. look after him... ...but never let him know. good night. promise? what else, melly? captain butler... ...be kind to him. rhett? he loves you so. yes, melly. goodbye. goodbye. you ladies may come in now. ashley. i don\\'t know where the mate to this is. she must have put it away. oh, stop it. hold me. i\\'m so frightened. i\\'m so frightened. oh, scarlett, what can i do? i can\\'t live without her, i can\\'t. everything i ever had is... ...is going with her. oh, ashley. you really love her, don\\'t you? she\\'s the only dream i ever had that didn\\'t die in the face of reality. dreams! always dreams with you, never common sense. oh, scarlett! lf you knew what i\\'ve gone through! ashley, you should have told me years ago that you loved her and not me... ...and not left me dangling with your talk of honor. but you had to wait till now, now when melly\\'s dying... ...to show me that i could never mean any more to you than... ...than this watling woman does to rhett. and i\\'ve loved something that... ...that doesn\\'t really exist. somehow... ...l don\\'t care. somehow it doesn\\'t matter. it doesn\\'t matter one bit. ashley, forgive me. don\\'t cry. she mustn\\'t see you\\'ve been crying. ashley! melly! melly! rhett, rhett! rhett, where are you? rhett, wait for me. rhett, wait for me! rhett. come in. rhett.... melanie, she\\'s.... well, god rest her. she was the only completely kind person i ever knew. a great lady. a very great lady. so she\\'s dead. that makes it nice for you, doesn\\'t it? oh, how can you say such a thing? you know how i loved her, really! no, i don\\'t know that i do. but at least it\\'s to your credit that you could appreciate her at the end. of course i appreciated her. she thought of everybody except herself. why her last words were about you. what did she say? she said: \"be kind to captain butler. he loves you so.\" did she say anything else? she said... ...she asked me to look after ashley, too. it\\'s convenient to have the first wife\\'s permission, isn\\'t it? what do you mean? what are you doing? i\\'m leaving you, my dear. all you need now is a divorce, and your dreams of ashley can come true. oh, no! no, you\\'re wrong! terribly wrong! i don\\'t want a divorce. oh, rhett, when i knew tonight... ...when i knew i loved you, i ran home to tell you. oh, darling, darling.... please don\\'t go on with this. leave us some dignity to remember out of our marriage. spare us this last. this last? oh, rhett, do listen to me. i must have loved you for years, only i was such a stupid fool i didn\\'t know it. please believe me. you must care. melly said you did. i believe you. what about ashley wilkes? i never really loved ashley. you certainly gave a good imitation of it, up till this morning. no, scarlett. i tried everything. if you\\'d only met me half way, even when i came back from london. i was so glad to see you. i was, rhett, but you were so nasty. and then, when you were sick and it was all my fault... ...l hoped against hope that you\\'d call for me, but you didn\\'t. i wanted you. i wanted you desperately, but i didn\\'t think you wanted me. it seems we\\'ve been at cross purposes, doesn\\'t it? but it\\'s no use now. as long as there was bonnie, there was a chance we might be happy. i liked to think that bonnie was you. a little girl again, before the war, and poverty had done things to you. she was so like you, and i could pet her, and spoil her, as i wanted to spoil you. but when she went, she took everything. oh, rhett! rhett, please don\\'t say that. i\\'m so sorry, i\\'m so sorry for everything. my darling, you\\'re such a child. you think that by saying, \"l\\'m sorry,\" all the past can be corrected. here, take my handkerchief. never, at any crisis of your life, have i known you to have a handkerchief. rhett, where are you going? i\\'m going to charleston. back where i belong. please. please take me with you. no. i\\'m through with everything here. i want peace. i want to see if somewhere there isn\\'t something left in life of charm and grace. -do you know what i\\'m talking about? -no. i only know that i love you. that\\'s your misfortune. oh, rhett. rhett! rhett! if you go, where shall i go? what shall i do? frankly, my dear, i don\\'t give a damn. oh, i can\\'t let him go! i can\\'t! there must be some way to bring him back. i can\\'t think about it now. i\\'ll go crazy if i do! i\\'ll think about it tomorrow. but i must think about it. i must think about it. what is there to do? what is there that matters? do you mean to tell me, katie scarlett o\\'hara... ...that tara doesn\\'t mean anything to you? why, land\\'s the only thing that matters. it\\'s the only thing that lasts. something you love better than me, though you may not know it. tara. it\\'s this from which you get your strength. the red earth of tara. why, land\\'s the only thing that matters. it\\'s the only thing that lasts. something you love better than me, though you may not know it. tara. this from which you get your strength. the red earth of tara. why, land\\'s the only thing that matters. something you love better than me. the red earth of tara. -tara! -tara! tara! home! i\\'ll go home! and i\\'ll think of some way to get him back. after all... ...tomorrow... ... is another day! subtitles ripped by =ds= 2005\\''"
      ]
     },
     "execution_count": 504,
     "metadata": {},
     "output_type": "execute_result"
    }
   ],
   "source": [
    "raw_txt['0031381']"
   ]
  },
  {
   "cell_type": "markdown",
   "metadata": {},
   "source": [
    "# LSI"
   ]
  },
  {
   "cell_type": "code",
   "execution_count": 622,
   "metadata": {},
   "outputs": [],
   "source": [
    "from nltk.stem.porter import PorterStemmer\n",
    "p_stemmer = PorterStemmer()\n",
    "\n",
    "#mtok_stem={}\n",
    "#Lsubs=[]\n",
    "#for item in subd.columns.levels[0]:\n",
    "        #mtok_stem[item]=[p_stemmer.stem(i) for i in mtok[item]] #stems tokens for each movie\n",
    "        #sub_corpus_stem += mtok_stem[item]\n",
    "        #Lsubs=[Lsubs, mtok[item]]"
   ]
  },
  {
   "cell_type": "code",
   "execution_count": 674,
   "metadata": {},
   "outputs": [],
   "source": [
    "sub_list=list(mtok.values())"
   ]
  },
  {
   "cell_type": "code",
   "execution_count": 677,
   "metadata": {},
   "outputs": [],
   "source": [
    "dictionary=corpora.Dictionary(sub_list)\n",
    "print(dictionary.token2id)"
   ]
  },
  {
   "cell_type": "code",
   "execution_count": 681,
   "metadata": {},
   "outputs": [
    {
     "name": "stdout",
     "output_type": "stream",
     "text": [
      "[(529, 1), (1339, 1), (1984, 1), (5177, 1)]\n"
     ]
    }
   ],
   "source": [
    "new_caca=\"motherfucker die in hell and burn\"\n",
    "new_vec=dictionary.doc2bow(new_caca.lower().split())\n",
    "print(new_vec)"
   ]
  },
  {
   "cell_type": "code",
   "execution_count": 689,
   "metadata": {},
   "outputs": [],
   "source": [
    "corpus=[dictionary.doc2bow(text) for text in sub_list]"
   ]
  },
  {
   "cell_type": "code",
   "execution_count": 690,
   "metadata": {
    "collapsed": true
   },
   "outputs": [],
   "source": [
    "tfidf=models.TfidfModel(corpus)"
   ]
  },
  {
   "cell_type": "code",
   "execution_count": 695,
   "metadata": {},
   "outputs": [],
   "source": [
    "corpus_tfidf=tfidf[corpus]"
   ]
  },
  {
   "cell_type": "code",
   "execution_count": 711,
   "metadata": {},
   "outputs": [],
   "source": [
    "lsi = models.LsiModel(corpus_tfidf,id2word=dictionary,num_topics=400)\n",
    "corpus_lsi=lsi[corpus_tfidf]"
   ]
  },
  {
   "cell_type": "code",
   "execution_count": 712,
   "metadata": {},
   "outputs": [
    {
     "data": {
      "text/plain": [
       "[(0,\n",
       "  '-0.506*\"l\" + -0.195*\"lt\" + -0.140*\"ok\" + -0.140*\"harry\" + -0.119*\"okay\" + -0.117*\"fuck\" + -0.104*\"bella\" + -0.100*\"fucking\" + -0.078*\"xe2x99xaa\" + -0.072*\"jack\"'),\n",
       " (1,\n",
       "  '0.698*\"l\" + 0.276*\"lt\" + -0.203*\"harry\" + -0.119*\"potter\" + -0.109*\"xe2x99xaa\" + -0.109*\"ok\" + -0.081*\"hermione\" + 0.079*\"bella\" + -0.079*\"fucking\" + -0.078*\"dumbledore\"')]"
      ]
     },
     "execution_count": 712,
     "metadata": {},
     "output_type": "execute_result"
    }
   ],
   "source": [
    "lsi.print_topics(2)"
   ]
  },
  {
   "cell_type": "code",
   "execution_count": 723,
   "metadata": {},
   "outputs": [
    {
     "name": "stderr",
     "output_type": "stream",
     "text": [
      "WARNING:gensim.similarities.docsim:scanning corpus to determine the number of features (consider setting `num_features` explicitly)\n"
     ]
    }
   ],
   "source": [
    "index=similarities.MatrixSimilarity(lsi[corpus])"
   ]
  },
  {
   "cell_type": "markdown",
   "metadata": {},
   "source": [
    "# caca"
   ]
  },
  {
   "cell_type": "code",
   "execution_count": 563,
   "metadata": {},
   "outputs": [
    {
     "name": "stdout",
     "output_type": "stream",
     "text": [
      "[('know', 14946), ('get', 13739), ('come', 11892), ('right', 10836), ('like', 10767), ('one', 8767), ('yeah', 8662), ('got', 8046), ('want', 7961), ('look', 7804), ('okay', 7285), ('think', 7266), ('good', 7083), ('let', 7037), ('see', 6855), ('well', 6765), ('hey', 6152), ('gonna', 6055), ('back', 5773), ('time', 5693)]\n"
     ]
    }
   ],
   "source": [
    "corpus_fil=filter(lambda x: len(x) >2,sub_corpus_stem)\n",
    "print(Counter(corpus_fil).most_common(20))"
   ]
  },
  {
   "cell_type": "code",
   "execution_count": 572,
   "metadata": {},
   "outputs": [],
   "source": [
    "from gensim import corpora, models\n",
    "# turn our tokenized documents into a id <-> term dictionary\n",
    "dictionary = corpora.Dictionary([sub_corpus_stem])\n",
    "# convert tokenized documents into a document-term matrix\n",
    "corpus = [dictionary.doc2bow(sub_corpus_stem)]"
   ]
  },
  {
   "cell_type": "code",
   "execution_count": 591,
   "metadata": {},
   "outputs": [
    {
     "name": "stdout",
     "output_type": "stream",
     "text": [
      "Wall time: 2min 29s\n"
     ]
    }
   ],
   "source": [
    "%%time\n",
    "# generate LDA model\n",
    "ldamodel = models.ldamodel.LdaModel(corpus_tfidf, num_topics=100, id2word = dictionary, passes=20)\n"
   ]
  },
  {
   "cell_type": "markdown",
   "metadata": {},
   "source": [
    "# Random"
   ]
  },
  {
   "cell_type": "code",
   "execution_count": 479,
   "metadata": {},
   "outputs": [
    {
     "data": {
      "text/plain": [
       "<3396x1000 sparse matrix of type '<class 'numpy.float64'>'\n",
       "\twith 10856 stored elements in Compressed Sparse Row format>"
      ]
     },
     "execution_count": 479,
     "metadata": {},
     "output_type": "execute_result"
    }
   ],
   "source": [
    "hv.transform(corpus)"
   ]
  },
  {
   "cell_type": "code",
   "execution_count": 519,
   "metadata": {},
   "outputs": [
    {
     "name": "stdout",
     "output_type": "stream",
     "text": [
      "['discriminating', 'fucking', 'fucker', 'fucked', 'fuckest', 'fuckster', 'hierarchy', 'shit', 'die']\n",
      "['discrimin', 'fuck', 'fucker', 'fuck', 'fuckest', 'fuckster', 'hierarchi', 'shit', 'die']\n"
     ]
    }
   ],
   "source": [
    "test = ['discriminating','fucking','fucker', 'fucked','fuckest','fuckster','hierarchy','shit','die']\n",
    "tst=[p_stemmer.stem(i) for i in test]\n",
    "print(test)\n",
    "print(tst)"
   ]
  },
  {
   "cell_type": "code",
   "execution_count": 480,
   "metadata": {},
   "outputs": [
    {
     "data": {
      "text/plain": [
       "HashingVectorizer(alternate_sign=True, analyzer='word', binary=False,\n",
       "         decode_error='strict', dtype=<class 'numpy.float64'>,\n",
       "         encoding='utf-8', input='content', lowercase=True,\n",
       "         n_features=1000, ngram_range=(1, 1), non_negative=False,\n",
       "         norm='l2', preprocessor=None, stop_words='english',\n",
       "         strip_accents=None, token_pattern='(?u)\\\\b\\\\w\\\\w+\\\\b',\n",
       "         tokenizer=None)"
      ]
     },
     "execution_count": 480,
     "metadata": {},
     "output_type": "execute_result"
    }
   ],
   "source": [
    "hv"
   ]
  },
  {
   "cell_type": "markdown",
   "metadata": {},
   "source": [
    "# Other shit"
   ]
  },
  {
   "cell_type": "code",
   "execution_count": null,
   "metadata": {
    "collapsed": true
   },
   "outputs": [],
   "source": []
  },
  {
   "cell_type": "code",
   "execution_count": 433,
   "metadata": {
    "collapsed": true
   },
   "outputs": [
    {
     "data": {
      "text/plain": [
       "['Light',\n",
       " 'nuts',\n",
       " 'fire',\n",
       " 'Fuck',\n",
       " 'Fuck',\n",
       " 'My',\n",
       " 'hands',\n",
       " 'Too',\n",
       " 'hot',\n",
       " 'Jonah',\n",
       " 'I',\n",
       " 'got',\n",
       " 'fucking',\n",
       " 'water',\n",
       " 'mouth',\n",
       " 'Oh',\n",
       " 'God',\n",
       " 'I',\n",
       " 'got',\n",
       " 'get',\n",
       " 'I',\n",
       " 'got',\n",
       " 'get',\n",
       " 'Got',\n",
       " 'get',\n",
       " 'Got',\n",
       " 'get',\n",
       " 'Sadie',\n",
       " 'wake',\n",
       " 'Oh',\n",
       " 'gosh',\n",
       " 'Daddy',\n",
       " 'wake',\n",
       " 'Okay',\n",
       " 'I',\n",
       " 'Is',\n",
       " 'genius',\n",
       " 'Is',\n",
       " 'genius',\n",
       " 'I',\n",
       " 'need',\n",
       " 'take',\n",
       " 'kids',\n",
       " 'school',\n",
       " 'morning',\n",
       " 'I',\n",
       " 'would',\n",
       " 'I',\n",
       " 'supposed',\n",
       " 'work',\n",
       " 'What',\n",
       " 'Yeah',\n",
       " 'I',\n",
       " 'got',\n",
       " 'appointment',\n",
       " 'trainer',\n",
       " 'I',\n",
       " 'cancel',\n",
       " 'He',\n",
       " 'charge',\n",
       " 'You',\n",
       " 'tell',\n",
       " 'Yeah',\n",
       " 'I',\n",
       " 'Last',\n",
       " 'week',\n",
       " 'I',\n",
       " 'told',\n",
       " 'You',\n",
       " 'tell',\n",
       " 'I',\n",
       " 'And',\n",
       " 'I',\n",
       " 'wrote',\n",
       " 'calendar',\n",
       " 'like',\n",
       " 'told',\n",
       " 'No',\n",
       " 'tell',\n",
       " 'I',\n",
       " 'tell',\n",
       " 'Well',\n",
       " 'gonna',\n",
       " 'cause',\n",
       " 'I',\n",
       " 'appointment',\n",
       " 'So',\n",
       " 'taking',\n",
       " 'kids',\n",
       " 'school',\n",
       " 'Don',\n",
       " 'use',\n",
       " 'baby',\n",
       " 'cover',\n",
       " 'tracks',\n",
       " 'I',\n",
       " 'drive',\n",
       " 'I',\n",
       " 'drive',\n",
       " 'school',\n",
       " 'Thank',\n",
       " 'much',\n",
       " 'Great',\n",
       " 'Good',\n",
       " 'You',\n",
       " 'turned',\n",
       " 'sister',\n",
       " 'limo',\n",
       " 'driver',\n",
       " 'I',\n",
       " 'mind',\n",
       " 'It',\n",
       " 'worked',\n",
       " 'What',\n",
       " 'giggling',\n",
       " 'Be',\n",
       " 'quiet',\n",
       " 'You',\n",
       " 'starting',\n",
       " 'annoy',\n",
       " 'Poo',\n",
       " 'poo',\n",
       " 'Ladies',\n",
       " 'Be',\n",
       " 'nice',\n",
       " 'You',\n",
       " 'know',\n",
       " 'I',\n",
       " 'day',\n",
       " 'What',\n",
       " 'I',\n",
       " 'googled',\n",
       " 'murder',\n",
       " 'You',\n",
       " 'googled',\n",
       " 'murder',\n",
       " 'Yeah',\n",
       " 'Why',\n",
       " 'I',\n",
       " 'mean',\n",
       " 'say',\n",
       " 'It',\n",
       " 'say',\n",
       " 'anything',\n",
       " 'It',\n",
       " 'showed',\n",
       " 'pictures',\n",
       " 'people',\n",
       " 'lying',\n",
       " 'dead',\n",
       " 'floor',\n",
       " 'blood',\n",
       " 'everywhere',\n",
       " 'That',\n",
       " 'ketchup',\n",
       " 'Who',\n",
       " 'wants',\n",
       " 'hear',\n",
       " 'music',\n",
       " 'I',\n",
       " 'want',\n",
       " 'hear',\n",
       " 'Rent',\n",
       " 'I',\n",
       " 'want',\n",
       " 'hear',\n",
       " 'Green',\n",
       " 'Day',\n",
       " 'No',\n",
       " 'listening',\n",
       " 'Rent',\n",
       " 'Well',\n",
       " 'I',\n",
       " 'want',\n",
       " 'listen',\n",
       " 'Green',\n",
       " 'Day',\n",
       " 'I',\n",
       " 'got',\n",
       " 'baby',\n",
       " 'Don',\n",
       " 'taunt',\n",
       " 'Come',\n",
       " 'Here',\n",
       " 'Sadie',\n",
       " 'Why',\n",
       " 'Don',\n",
       " 'throw',\n",
       " 'things',\n",
       " 'sister',\n",
       " 'She',\n",
       " 'hit',\n",
       " 'Did',\n",
       " 'hit',\n",
       " 'I',\n",
       " 'Make',\n",
       " 'happy',\n",
       " 'It',\n",
       " 'okay',\n",
       " 'It',\n",
       " 'make',\n",
       " 'happy',\n",
       " 'It',\n",
       " 'okay',\n",
       " 'It',\n",
       " 'okay',\n",
       " 'She',\n",
       " 'spilled',\n",
       " 'marbles',\n",
       " 'floor',\n",
       " 'Well',\n",
       " 'give',\n",
       " 'marble',\n",
       " 'back',\n",
       " 'All',\n",
       " 'right',\n",
       " 'Are',\n",
       " 'sure',\n",
       " 'understand',\n",
       " 'terms',\n",
       " 'bet',\n",
       " 'Because',\n",
       " 'serious',\n",
       " 'No',\n",
       " 'Martin',\n",
       " 'right',\n",
       " 'listen',\n",
       " 'You',\n",
       " 'shave',\n",
       " 'beard',\n",
       " 'cut',\n",
       " 'hair',\n",
       " 'one',\n",
       " 'year',\n",
       " 'I',\n",
       " 'pay',\n",
       " 'rent',\n",
       " 'But',\n",
       " 'shave',\n",
       " 'pay',\n",
       " 'five',\n",
       " 'rents',\n",
       " 'Thanks',\n",
       " 'free',\n",
       " 'money',\n",
       " 'bitch',\n",
       " 'Hey',\n",
       " 'Martin',\n",
       " 'weird',\n",
       " 'joined',\n",
       " 'Taliban',\n",
       " 'American',\n",
       " 'everything',\n",
       " 'like',\n",
       " 'Like',\n",
       " 'see',\n",
       " 'woman',\n",
       " 'driving',\n",
       " 'car',\n",
       " 'get',\n",
       " 'pissed',\n",
       " 'Just',\n",
       " 'watch',\n",
       " 'back',\n",
       " 'Serpico',\n",
       " 'You',\n",
       " 'never',\n",
       " 'know',\n",
       " 'friends',\n",
       " 'Okay',\n",
       " 'right',\n",
       " 'You',\n",
       " 'guys',\n",
       " 'make',\n",
       " 'fun',\n",
       " 'whole',\n",
       " 'time',\n",
       " 'But',\n",
       " 'Martin',\n",
       " 'competition',\n",
       " 'It',\n",
       " 'called',\n",
       " 'Dirty',\n",
       " 'Man',\n",
       " 'Competition',\n",
       " 'We',\n",
       " 'gonna',\n",
       " 'make',\n",
       " 'fun',\n",
       " 'shave',\n",
       " 'beard',\n",
       " 'That',\n",
       " 'rules',\n",
       " 'That',\n",
       " 'whole',\n",
       " 'point',\n",
       " 'You',\n",
       " 'supposed',\n",
       " 'tempted',\n",
       " 'shaving',\n",
       " 'Your',\n",
       " 'face',\n",
       " 'looks',\n",
       " 'like',\n",
       " 'Robin',\n",
       " 'Williams',\n",
       " 'knuckles',\n",
       " 'You',\n",
       " 'guys',\n",
       " 'allowed',\n",
       " 'make',\n",
       " 'fun',\n",
       " 'It',\n",
       " 'part',\n",
       " 'rules',\n",
       " 'Martin',\n",
       " 'listen',\n",
       " 'I',\n",
       " 'explaining',\n",
       " 'rules',\n",
       " 'You',\n",
       " 'looked',\n",
       " 'blank',\n",
       " 'stare',\n",
       " 'It',\n",
       " 'like',\n",
       " 'talking',\n",
       " 'wax',\n",
       " 'statue',\n",
       " 'Okay',\n",
       " 'guys',\n",
       " 'ready',\n",
       " 'So',\n",
       " 'Only',\n",
       " 'fleshofthestars',\n",
       " 'com',\n",
       " 'customers',\n",
       " 'able',\n",
       " 'find',\n",
       " 'exactly',\n",
       " 'long',\n",
       " 'movies',\n",
       " 'favorite',\n",
       " 'stars',\n",
       " 'exposed',\n",
       " 'Nice',\n",
       " 'Oh',\n",
       " 'fucking',\n",
       " 'brilliant',\n",
       " 'Pretty',\n",
       " 'good',\n",
       " 'right',\n",
       " 'Yeah',\n",
       " 'Yeah',\n",
       " 'ka',\n",
       " 'ching',\n",
       " 'We',\n",
       " 'All',\n",
       " 'right',\n",
       " 'guys',\n",
       " 'let',\n",
       " 'start',\n",
       " 'logging',\n",
       " 'right',\n",
       " 'Charles',\n",
       " 'Manson',\n",
       " 'Do',\n",
       " 'thoughts',\n",
       " 'Good',\n",
       " 'awesome',\n",
       " 'let',\n",
       " 'start',\n",
       " 'bang',\n",
       " 'Jamie',\n",
       " 'Lee',\n",
       " 'Curtis',\n",
       " 'I',\n",
       " 'got',\n",
       " 'hour',\n",
       " '10',\n",
       " 'minutes',\n",
       " 'Trading',\n",
       " 'Places',\n",
       " 'Both',\n",
       " 'chesticles',\n",
       " 'I',\n",
       " 'got',\n",
       " 'Julianne',\n",
       " 'Red',\n",
       " 'Beard',\n",
       " 'Moore',\n",
       " 'Short',\n",
       " 'Cuts',\n",
       " 'two',\n",
       " 'hours',\n",
       " '17',\n",
       " 'minutes',\n",
       " 'bush',\n",
       " 'boobs',\n",
       " 'Julianne']"
      ]
     },
     "execution_count": 433,
     "metadata": {},
     "output_type": "execute_result"
    }
   ],
   "source": [
    "rawt['0478311'][0:400]"
   ]
  },
  {
   "cell_type": "code",
   "execution_count": 437,
   "metadata": {
    "collapsed": true
   },
   "outputs": [
    {
     "name": "stdout",
     "output_type": "stream",
     "text": [
      "Mmm hmm; bar mitzvah; Spider Man; fantasy baseball; San Francisco;\n",
      "Steely Dan; chicken pox; time machine; Allison Scott; web page; little\n",
      "bit; pink eye; blah blah; doorman doorman; Happy Birthday; Meg Ryan;\n",
      "lose weight; need call; Doc Brown; baby books\n"
     ]
    }
   ],
   "source": [
    "rawt['0478311'].collocations()"
   ]
  },
  {
   "cell_type": "code",
   "execution_count": 436,
   "metadata": {
    "collapsed": true
   },
   "outputs": [
    {
     "data": {
      "text/plain": [
       "['saying',\n",
       " 'things',\n",
       " 'Thank',\n",
       " 'make',\n",
       " 'sure',\n",
       " 'care',\n",
       " 'night',\n",
       " 'books',\n",
       " 'condom',\n",
       " 'whole',\n",
       " 'take',\n",
       " 'actually',\n",
       " 'guys',\n",
       " 'right',\n",
       " 'thought',\n",
       " 'Well',\n",
       " 'happened',\n",
       " 'sister',\n",
       " 'look',\n",
       " 'sorry',\n",
       " 'Come',\n",
       " 'months',\n",
       " 'little',\n",
       " 'help',\n",
       " 'said',\n",
       " 'Martin',\n",
       " 'Right',\n",
       " 'something',\n",
       " 'please',\n",
       " 'That',\n",
       " 'around',\n",
       " 'beautiful',\n",
       " 'yeah',\n",
       " 'give',\n",
       " 'talking',\n",
       " 'awesome',\n",
       " 'maybe',\n",
       " 'work',\n",
       " 'Pete',\n",
       " 'would',\n",
       " 'Good',\n",
       " 'people',\n",
       " 'everything',\n",
       " 'Yeah',\n",
       " 'Look',\n",
       " 'Hello',\n",
       " 'great',\n",
       " 'love',\n",
       " 'kind',\n",
       " 'ever',\n",
       " 'Debbie',\n",
       " 'idea',\n",
       " 'want',\n",
       " 'think',\n",
       " 'wrong',\n",
       " 'stop',\n",
       " 'minutes',\n",
       " 'mean',\n",
       " 'smoke',\n",
       " 'read',\n",
       " 'meet',\n",
       " 'anything',\n",
       " 'money',\n",
       " 'know',\n",
       " 'cause',\n",
       " 'face',\n",
       " 'When',\n",
       " 'nice',\n",
       " 'tell',\n",
       " 'come',\n",
       " 'cool',\n",
       " 'weird',\n",
       " 'wanna',\n",
       " 'Your',\n",
       " 'going',\n",
       " 'never',\n",
       " 'There',\n",
       " 'Like',\n",
       " 'fine',\n",
       " 'Thanks',\n",
       " 'feel',\n",
       " 'okay',\n",
       " 'life',\n",
       " 'kids',\n",
       " 'What',\n",
       " 'room',\n",
       " 'good',\n",
       " 'time',\n",
       " 'boobs',\n",
       " 'talk',\n",
       " 'Because',\n",
       " 'asshole',\n",
       " 'phone',\n",
       " 'could',\n",
       " 'Here',\n",
       " 'three',\n",
       " 'doctor',\n",
       " 'though',\n",
       " 'funny',\n",
       " 'much',\n",
       " 'Great',\n",
       " 'gonna',\n",
       " 'wants',\n",
       " 'This',\n",
       " 'call',\n",
       " 'point',\n",
       " 'pregnant',\n",
       " 'They',\n",
       " 'fucking',\n",
       " 'told',\n",
       " 'another',\n",
       " 'really',\n",
       " 'Allison',\n",
       " 'Really',\n",
       " 'coming',\n",
       " 'fuck',\n",
       " 'need',\n",
       " 'Okay',\n",
       " 'totally',\n",
       " 'back',\n",
       " 'baby',\n",
       " 'Fuck',\n",
       " 'Just',\n",
       " 'thing',\n",
       " 'home',\n",
       " 'even',\n",
       " 'Nice',\n",
       " 'supposed',\n",
       " 'shit',\n",
       " 'like']"
      ]
     },
     "execution_count": 436,
     "metadata": {},
     "output_type": "execute_result"
    }
   ],
   "source": [
    "long=[w for w in set(rawt['0478311']) if len(w)>3 and fdist['0478311'][w]>10]\n",
    "long"
   ]
  },
  {
   "cell_type": "code",
   "execution_count": 411,
   "metadata": {
    "collapsed": true
   },
   "outputs": [
    {
     "data": {
      "text/plain": [
       "[('1', '400'),\n",
       " ('20', 'Twenty'),\n",
       " ('300', '000'),\n",
       " ('50', 'worth'),\n",
       " ('7', '30'),\n",
       " ('Al', 'Jarreau'),\n",
       " ('Beef', 'Bowl'),\n",
       " ('Black', 'Crowes'),\n",
       " ('Booty', 'booty'),\n",
       " ('Both', 'chesticles'),\n",
       " ('Breathless', 'LACMA'),\n",
       " ('British', 'Columbia'),\n",
       " ('Buffett', 'concert'),\n",
       " ('California', 'eh'),\n",
       " ('Carlos', 'Delgado'),\n",
       " ('Cat', 'Stevens'),\n",
       " ('Charles', 'Manson'),\n",
       " ('Chocolate', 'chip'),\n",
       " ('Christopher', 'Lloyd'),\n",
       " ('Cirque', 'du')]"
      ]
     },
     "execution_count": 411,
     "metadata": {},
     "output_type": "execute_result"
    }
   ],
   "source": [
    "#filter1 = lambda *w: 'drink' not in w\n",
    "finder = BigramCollocationFinder.from_words(rawt['0478311'])\n",
    "#finder.apply_ngram_filter(filter1)\n",
    "finder.nbest(bigram_measures.pmi,20)"
   ]
  },
  {
   "cell_type": "code",
   "execution_count": 414,
   "metadata": {
    "collapsed": true
   },
   "outputs": [
    {
     "data": {
      "text/plain": [
       "[(('How', 'fight', 'Look'), 8.309098462816784e-05),\n",
       " (('Jesus', 'How', 'fight'), 8.309098462816784e-05),\n",
       " (('fight', 'Look', 'face'), 8.309098462816784e-05)]"
      ]
     },
     "execution_count": 414,
     "metadata": {},
     "output_type": "execute_result"
    }
   ],
   "source": [
    "drink_filter=lambda *w: 'fight' not in w\n",
    "finder=TrigramCollocationFinder.from_words(rawt['0478311'])\n",
    "finder.apply_ngram_filter(drink_filter)\n",
    "sorted(finder.score_ngrams(trigram_measures.raw_freq))"
   ]
  },
  {
   "cell_type": "code",
   "execution_count": null,
   "metadata": {
    "collapsed": true
   },
   "outputs": [],
   "source": []
  }
 ],
 "metadata": {
  "kernelspec": {
   "display_name": "Python 3",
   "language": "python",
   "name": "python3"
  },
  "language_info": {
   "codemirror_mode": {
    "name": "ipython",
    "version": 3
   },
   "file_extension": ".py",
   "mimetype": "text/x-python",
   "name": "python",
   "nbconvert_exporter": "python",
   "pygments_lexer": "ipython3",
   "version": "3.6.2"
  }
 },
 "nbformat": 4,
 "nbformat_minor": 2
}
