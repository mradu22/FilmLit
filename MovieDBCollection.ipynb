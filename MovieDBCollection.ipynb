{
 "cells": [
  {
   "cell_type": "code",
   "execution_count": 6,
   "metadata": {},
   "outputs": [],
   "source": [
    "import omdb\n",
    "import pandas as pd\n",
    "import requests\n",
    "import json\n",
    "import csv\n",
    "import time\n",
    "import os\n",
    "import numpy as np"
   ]
  },
  {
   "cell_type": "code",
   "execution_count": null,
   "metadata": {
    "collapsed": true
   },
   "outputs": [],
   "source": [
    "api_key = 'f53e619cd1b1bf4da2dbab8ad33b1d39'\n",
    "\n",
    "if api_key is False:\n",
    "    print('Where is the API key, man?')\n",
    "else:\n",
    "    serviceurl = \"https://api.themoviedb.org/3/discover/movie?\"\n"
   ]
  },
  {
   "cell_type": "code",
   "execution_count": null,
   "metadata": {
    "collapsed": true
   },
   "outputs": [],
   "source": [
    "def page_args(i):\n",
    "    parms['api_key'] = api_key\n",
    "    parms['with_genres']=str(genre)\n",
    "    parms['sort_by']='revenue.desc'\n",
    "    parms['page']=page_nr\n",
    "    parms['with_original_language']='en'\n",
    "    \n",
    "    return()"
   ]
  },
  {
   "cell_type": "code",
   "execution_count": null,
   "metadata": {
    "collapsed": true
   },
   "outputs": [],
   "source": [
    "urla=\"https://api.themoviedb.org/3/discover/movie?\""
   ]
  },
  {
   "cell_type": "code",
   "execution_count": 7,
   "metadata": {
    "collapsed": true
   },
   "outputs": [],
   "source": [
    "genreurl='https://api.themoviedb.org/3/genre/movie/list?api_key=f53e619cd1b1bf4da2dbab8ad33b1d39&language=en-US'\n",
    "genrelist=requests.get(genreurl)\n",
    "genredata=genrelist.json()"
   ]
  },
  {
   "cell_type": "code",
   "execution_count": 13,
   "metadata": {},
   "outputs": [
    {
     "data": {
      "text/plain": [
       "[{'id': 28, 'name': 'Action'},\n",
       " {'id': 12, 'name': 'Adventure'},\n",
       " {'id': 16, 'name': 'Animation'},\n",
       " {'id': 35, 'name': 'Comedy'},\n",
       " {'id': 80, 'name': 'Crime'},\n",
       " {'id': 99, 'name': 'Documentary'},\n",
       " {'id': 18, 'name': 'Drama'},\n",
       " {'id': 10751, 'name': 'Family'},\n",
       " {'id': 14, 'name': 'Fantasy'},\n",
       " {'id': 36, 'name': 'History'},\n",
       " {'id': 27, 'name': 'Horror'},\n",
       " {'id': 10402, 'name': 'Music'},\n",
       " {'id': 9648, 'name': 'Mystery'},\n",
       " {'id': 10749, 'name': 'Romance'},\n",
       " {'id': 878, 'name': 'Science Fiction'},\n",
       " {'id': 10770, 'name': 'TV Movie'},\n",
       " {'id': 53, 'name': 'Thriller'},\n",
       " {'id': 10752, 'name': 'War'},\n",
       " {'id': 37, 'name': 'Western'}]"
      ]
     },
     "execution_count": 13,
     "metadata": {},
     "output_type": "execute_result"
    }
   ],
   "source": [
    "genredata['genres']"
   ]
  },
  {
   "cell_type": "code",
   "execution_count": null,
   "metadata": {
    "collapsed": true
   },
   "outputs": [],
   "source": []
  },
  {
   "cell_type": "code",
   "execution_count": 45,
   "metadata": {
    "collapsed": true
   },
   "outputs": [],
   "source": [
    "import omdb\n",
    "import pandas as pd\n",
    "import urllib.request, urllib.parse, urllib.error\n",
    "import json\n",
    "import csv\n",
    "import time\n",
    "import os\n",
    "import numpy as np\n",
    "\n",
    "api_key = 'f53e619cd1b1bf4da2dbab8ad33b1d39'\n",
    "\n",
    "if api_key is False:\n",
    "    print('Where is the API key, man?')\n",
    "else:\n",
    "    serviceurl = \"https://api.themoviedb.org/3/discover/movie?\"\n",
    "\n",
    "genreurl='https://api.themoviedb.org/3/genre/movie/list?api_key=f53e619cd1b1bf4da2dbab8ad33b1d39&language=en-US'\n",
    "genrelist=urllib.request.urlopen(genreurl)\n",
    "genredata=genrelist.read().decode()\n",
    "\n",
    "    \n",
    "    \n",
    "def get_genre():\n",
    "    genreurl='https://api.themoviedb.org/3/genre/movie/list?api_key=f53e619cd1b1bf4da2dbab8ad33b1d39&language=en-US'\n",
    "    genrelist=urllib.request.urlopen(genreurl)\n",
    "    genredata=genrelist.read().decode()\n",
    "        \n",
    "    try:\n",
    "        json_data=json.loads(genredata)\n",
    "    except:\n",
    "        json_data=None\n",
    "\n",
    "    Gdict=dict()\n",
    "    for i in range (0,len(json_data['genres'])):\n",
    "        Gdict[json_data['genres'][i]['name']]=json_data['genres'][i]['id']\n",
    "    return Gdict\n",
    "Genre_dict= get_genre()\n",
    "    \n",
    "    \n",
    "def get_movie_ids(genre,num_to_get):    \n",
    "    id_list=[]\n",
    "    if num_to_get <= 20:\n",
    "        pages=2\n",
    "    else:\n",
    "        pages=(num_to_get//20+2)\n",
    "        \n",
    "    for page_nr in range(1,pages):\n",
    "        parms=dict()\n",
    "        parms['api_key'] = api_key\n",
    "        parms['with_genres']=str(genre)\n",
    "        parms['sort_by']='revenue.desc'\n",
    "        parms['page']=page_nr\n",
    "        parms['with_original_language']='en'\n",
    "\n",
    "        if api_key is not False: \n",
    "            url = serviceurl + urllib.parse.urlencode(parms)\n",
    "        print(url)\n",
    "\n",
    "        print('Getting movie IDs from page {}'.format(page_nr))\n",
    "        print('------------------------------------------------------------------------')\n",
    "        uh = urllib.request.urlopen(url)\n",
    "        data=uh.read().decode()\n",
    "        #print('Retrieved', len(data), 'characters')\n",
    "        data=json.loads(data)\n",
    "    \n",
    "        print('Getting...' )\n",
    "        if num_to_get <20:\n",
    "            num2=num_to_get\n",
    "        else:\n",
    "            num2=20\n",
    "        \n",
    "        for ii in range(0,num2):\n",
    "            print(data['results'][ii]['original_title'], end=' ')\n",
    "            id_list.append(data['results'][ii]['id'])\n",
    "        print('')\n",
    "    return id_list\n",
    "#ll=get_movie_ids(2,Genre_dict['Action'])      \n",
    "\n",
    "\n",
    "def get_movie_info(genre_type,movie_id):\n",
    "    parms=dict()\n",
    "    parms['api_key'] = api_key\n",
    "    urla='https://api.themoviedb.org/3/movie/'\n",
    "    urlb='?'\n",
    "\n",
    "    if api_key is not False: \n",
    "        url = urla + str(movie_id) + urlb + urllib.parse.urlencode(parms)\n",
    "    print(url)\n",
    "    uh = urllib.request.urlopen(url)\n",
    "    data=uh.read().decode()\n",
    "    data=json.loads(data)\n",
    "    \n",
    "    if data.get('imdb_id') == None:\n",
    "        data['imdb_id']= -1\n",
    "    if data.get('title') == None:\n",
    "        data['title']=-1\n",
    "    if len(data.get('title')) > 50:\n",
    "        data['title'] = (data['title'][:46] + '..')\n",
    "    if data.get('revenue') == None:\n",
    "        data['revenue']=-1\n",
    "    if data.get('budget') == None:\n",
    "        data['budget']=-1\n",
    "    if data.get('runtime') == None:\n",
    "        data['runtime']=-1\n",
    "    if data.get('vote_average') == None:\n",
    "        data['vote_average']=-1\n",
    "    if data.get('genres') == None:\n",
    "        data['vote_average']=-1\n",
    "     \n",
    "    dd=[data['imdb_id'], data['title'], genre_type, data['revenue'], data['budget'], data['runtime'], data['vote_average']]\n",
    "\n",
    "    if 'tt' in dd[0]:\n",
    "        dd[0]=dd[0].strip('tt')\n",
    "\n",
    "            \n",
    "    return dd\n",
    "    \n",
    "    \n",
    "#create database with the following values\n",
    "#ID on movedb, imdb_id, title, genre (based on the genre get function), revenue,budget, runtime, vote_agerage\n",
    "    \n",
    "    \n",
    "    \n",
    "    \n",
    "    \n",
    "    \n"
   ]
  },
  {
   "cell_type": "code",
   "execution_count": 4,
   "metadata": {},
   "outputs": [
    {
     "name": "stdout",
     "output_type": "stream",
     "text": [
      "https://api.themoviedb.org/3/discover/movie?api_key=f53e619cd1b1bf4da2dbab8ad33b1d39&with_genres=28&sort_by=revenue.desc&page=1&with_original_language=en\n",
      "Getting movie IDs from page 1\n",
      "------------------------------------------------------------------------\n",
      "Getting...\n",
      "Avatar Star Wars: The Force Awakens The Avengers Jurassic World Furious 7 Avengers: Age of Ultron The Fate of the Furious Iron Man 3 Captain America: Civil War Transformers: Dark of the Moon The Lord of the Rings: The Return of the King Skyfall Transformers: Age of Extinction The Dark Knight Rises Pirates of the Caribbean: Dead Man's Chest Star Wars: The Last Jedi Rogue One: A Star Wars Story Pirates of the Caribbean: On Stranger Tides Despicable Me 3 The Hobbit: An Unexpected Journey \n",
      "https://api.themoviedb.org/3/discover/movie?api_key=f53e619cd1b1bf4da2dbab8ad33b1d39&with_genres=28&sort_by=revenue.desc&page=2&with_original_language=en\n",
      "Getting movie IDs from page 2\n",
      "------------------------------------------------------------------------\n",
      "Getting...\n",
      "The Dark Knight Pirates of the Caribbean: At World's End The Hobbit: The Battle of the Five Armies The Lord of the Rings: The Two Towers Star Wars: Episode I - The Phantom Menace Spider-Man 3 Spectre Spider-Man: Homecoming Batman v Superman: Dawn of Justice The Lord of the Rings: The Fellowship of the Ring Guardians of the Galaxy Vol. 2 Star Wars: Episode III - Revenge of the Sith The Hunger Games: Catching Fire Transformers: Revenge of the Fallen Inception Wonder Woman Spider-Man Thor: Ragnarok Pirates of the Caribbean: Dead Men Tell No Tales Fast & Furious 6 \n"
     ]
    },
    {
     "data": {
      "text/plain": [
       "[19995,\n",
       " 140607,\n",
       " 24428,\n",
       " 135397,\n",
       " 168259,\n",
       " 99861,\n",
       " 337339,\n",
       " 68721,\n",
       " 271110,\n",
       " 38356,\n",
       " 122,\n",
       " 37724,\n",
       " 91314,\n",
       " 49026,\n",
       " 58,\n",
       " 181808,\n",
       " 330459,\n",
       " 1865,\n",
       " 324852,\n",
       " 49051,\n",
       " 155,\n",
       " 285,\n",
       " 122917,\n",
       " 121,\n",
       " 1893,\n",
       " 559,\n",
       " 206647,\n",
       " 315635,\n",
       " 209112,\n",
       " 120,\n",
       " 283995,\n",
       " 1895,\n",
       " 101299,\n",
       " 8373,\n",
       " 27205,\n",
       " 297762,\n",
       " 557,\n",
       " 284053,\n",
       " 166426,\n",
       " 82992]"
      ]
     },
     "execution_count": 4,
     "metadata": {},
     "output_type": "execute_result"
    }
   ],
   "source": [
    "get_movie_ids(Genre_dict['Action'],30)"
   ]
  },
  {
   "cell_type": "code",
   "execution_count": 7,
   "metadata": {
    "collapsed": true
   },
   "outputs": [],
   "source": [
    "url='https://api.themoviedb.org/3/discover/movie?api_key=f53e619cd1b1bf4da2dbab8ad33b1d39&with_genres=28&sort_by=revenue.desc&page=1&with_original_language=en'"
   ]
  },
  {
   "cell_type": "code",
   "execution_count": 50,
   "metadata": {
    "collapsed": true
   },
   "outputs": [],
   "source": [
    "url='https://api.themoviedb.org/3/movie/337339?api_key=f53e619cd1b1bf4da2dbab8ad33b1d39'"
   ]
  },
  {
   "cell_type": "code",
   "execution_count": 51,
   "metadata": {
    "collapsed": true
   },
   "outputs": [],
   "source": [
    "uh = urllib.request.urlopen(url)\n",
    "data=uh.read().decode()\n",
    "#print('Retrieved', len(data), 'characters')\n",
    "data=json.loads(data)"
   ]
  },
  {
   "cell_type": "code",
   "execution_count": 52,
   "metadata": {},
   "outputs": [
    {
     "data": {
      "text/plain": [
       "{'adult': False,\n",
       " 'backdrop_path': '/jzdnhRhG0dsuYorwvSqPqqnM1cV.jpg',\n",
       " 'belongs_to_collection': {'backdrop_path': '/z5A5W3WYJc3UVEWljSGwdjDgQ0j.jpg',\n",
       "  'id': 9485,\n",
       "  'name': 'The Fast and the Furious Collection',\n",
       "  'poster_path': '/mCkqJf4ijbNoBWvJ0RTWZJuhJUA.jpg'},\n",
       " 'budget': 250000000,\n",
       " 'genres': [{'id': 12, 'name': 'Adventure'},\n",
       "  {'id': 28, 'name': 'Action'},\n",
       "  {'id': 80, 'name': 'Crime'},\n",
       "  {'id': 53, 'name': 'Thriller'}],\n",
       " 'homepage': 'http://www.fastandfurious.com/',\n",
       " 'id': 337339,\n",
       " 'imdb_id': 'tt4630562',\n",
       " 'original_language': 'en',\n",
       " 'original_title': 'The Fate of the Furious',\n",
       " 'overview': 'When a mysterious woman seduces Dom into the world of crime and a betrayal of those closest to him, the crew face trials that will test them as never before.',\n",
       " 'popularity': 142.156454,\n",
       " 'poster_path': '/dImWM7GJqryWJO9LHa3XQ8DD5NH.jpg',\n",
       " 'production_companies': [{'id': 33, 'name': 'Universal Pictures'},\n",
       "  {'id': 333, 'name': 'Original Film'},\n",
       "  {'id': 6452, 'name': 'Dentsu'},\n",
       "  {'id': 7154, 'name': 'One Race Films'},\n",
       "  {'id': 7958, 'name': 'Fuji Eight Company Ltd.'},\n",
       "  {'id': 40890, 'name': 'China Film Co.'}],\n",
       " 'production_countries': [{'iso_3166_1': 'CN', 'name': 'China'},\n",
       "  {'iso_3166_1': 'JP', 'name': 'Japan'},\n",
       "  {'iso_3166_1': 'US', 'name': 'United States of America'}],\n",
       " 'release_date': '2017-04-12',\n",
       " 'revenue': 1238764765,\n",
       " 'runtime': 136,\n",
       " 'spoken_languages': [{'iso_639_1': 'en', 'name': 'English'}],\n",
       " 'status': 'Released',\n",
       " 'tagline': 'Family no more',\n",
       " 'title': 'The Fate of the Furious',\n",
       " 'video': False,\n",
       " 'vote_average': 6.8,\n",
       " 'vote_count': 4289}"
      ]
     },
     "execution_count": 52,
     "metadata": {},
     "output_type": "execute_result"
    }
   ],
   "source": [
    "data"
   ]
  },
  {
   "cell_type": "code",
   "execution_count": 49,
   "metadata": {},
   "outputs": [
    {
     "data": {
      "text/plain": [
       "{'adult': False,\n",
       " 'backdrop_path': '/5XPPB44RQGfkBrbJxmtdndKz05n.jpg',\n",
       " 'belongs_to_collection': {'backdrop_path': '/9s4BM48NweGFrIRE6haIul0YJ9f.jpg',\n",
       "  'id': 87096,\n",
       "  'name': 'Avatar Collection',\n",
       "  'poster_path': '/nslJVsO58Etqkk17oXMuVK4gNOF.jpg'},\n",
       " 'budget': 237000000,\n",
       " 'genres': [{'id': 28, 'name': 'Action'},\n",
       "  {'id': 12, 'name': 'Adventure'},\n",
       "  {'id': 14, 'name': 'Fantasy'},\n",
       "  {'id': 878, 'name': 'Science Fiction'}],\n",
       " 'homepage': 'http://www.avatarmovie.com/',\n",
       " 'id': 19995,\n",
       " 'imdb_id': 'tt0499549',\n",
       " 'original_language': 'en',\n",
       " 'original_title': 'Avatar',\n",
       " 'overview': 'In the 22nd century, a paraplegic Marine is dispatched to the moon Pandora on a unique mission, but becomes torn between following orders and protecting an alien civilization.',\n",
       " 'popularity': 72.550595,\n",
       " 'poster_path': '/kmcqlZGaSh20zpTbuoF0Cdn07dT.jpg',\n",
       " 'production_companies': [{'id': 289, 'name': 'Ingenious Film Partners'},\n",
       "  {'id': 306, 'name': 'Twentieth Century Fox Film Corporation'},\n",
       "  {'id': 444, 'name': 'Dune Entertainment'},\n",
       "  {'id': 574, 'name': 'Lightstorm Entertainment'}],\n",
       " 'production_countries': [{'iso_3166_1': 'US',\n",
       "   'name': 'United States of America'},\n",
       "  {'iso_3166_1': 'GB', 'name': 'United Kingdom'}],\n",
       " 'release_date': '2009-12-10',\n",
       " 'revenue': 2787965087,\n",
       " 'runtime': 162,\n",
       " 'spoken_languages': [{'iso_639_1': 'en', 'name': 'English'},\n",
       "  {'iso_639_1': 'es', 'name': 'Español'}],\n",
       " 'status': 'Released',\n",
       " 'tagline': 'Enter the World of Pandora.',\n",
       " 'title': 'Avatar',\n",
       " 'video': False,\n",
       " 'vote_average': 7.2,\n",
       " 'vote_count': 13236}"
      ]
     },
     "execution_count": 49,
     "metadata": {},
     "output_type": "execute_result"
    }
   ],
   "source": [
    "data"
   ]
  },
  {
   "cell_type": "code",
   "execution_count": 55,
   "metadata": {},
   "outputs": [
    {
     "data": {
      "text/plain": [
       "['adult',\n",
       " 'backdrop_path',\n",
       " 'belongs_to_collection',\n",
       " 'budget',\n",
       " 'genres',\n",
       " 'homepage',\n",
       " 'id',\n",
       " 'imdb_id',\n",
       " 'original_language',\n",
       " 'original_title',\n",
       " 'overview',\n",
       " 'popularity',\n",
       " 'poster_path',\n",
       " 'production_companies',\n",
       " 'production_countries',\n",
       " 'release_date',\n",
       " 'revenue',\n",
       " 'runtime',\n",
       " 'spoken_languages',\n",
       " 'status',\n",
       " 'tagline',\n",
       " 'title',\n",
       " 'video',\n",
       " 'vote_average',\n",
       " 'vote_count']"
      ]
     },
     "execution_count": 55,
     "metadata": {},
     "output_type": "execute_result"
    }
   ],
   "source": [
    "list(data.keys())"
   ]
  },
  {
   "cell_type": "code",
   "execution_count": 29,
   "metadata": {},
   "outputs": [
    {
     "name": "stdout",
     "output_type": "stream",
     "text": [
      "None\n"
     ]
    }
   ],
   "source": [
    "for ii in range(0,num2):\n",
    "        print(data['results'][ii]['original_title'], end=' ')\n",
    "        id_list.append(data['results'][ii]['id'])"
   ]
  },
  {
   "cell_type": "code",
   "execution_count": 33,
   "metadata": {},
   "outputs": [
    {
     "data": {
      "text/plain": [
       "dict_keys(['page', 'total_results', 'total_pages', 'results'])"
      ]
     },
     "execution_count": 33,
     "metadata": {},
     "output_type": "execute_result"
    }
   ],
   "source": [
    "data.keys()"
   ]
  },
  {
   "cell_type": "code",
   "execution_count": 43,
   "metadata": {},
   "outputs": [
    {
     "data": {
      "text/plain": [
       "{'adult': False,\n",
       " 'backdrop_path': '/njv65RTipNSTozFLuF85jL0bcQe.jpg',\n",
       " 'genre_ids': [28, 12, 878, 14],\n",
       " 'id': 140607,\n",
       " 'original_language': 'en',\n",
       " 'original_title': 'Star Wars: The Force Awakens',\n",
       " 'overview': 'Thirty years after defeating the Galactic Empire, Han Solo and his allies face a new threat from the evil Kylo Ren and his army of Stormtroopers.',\n",
       " 'popularity': 63.172444,\n",
       " 'poster_path': '/weUSwMdQIa3NaXVzwUoIIcAi85d.jpg',\n",
       " 'release_date': '2015-12-15',\n",
       " 'title': 'Star Wars: The Force Awakens',\n",
       " 'video': False,\n",
       " 'vote_average': 7.5,\n",
       " 'vote_count': 8875}"
      ]
     },
     "execution_count": 43,
     "metadata": {},
     "output_type": "execute_result"
    }
   ],
   "source": [
    "data['results'][1]"
   ]
  },
  {
   "cell_type": "code",
   "execution_count": 44,
   "metadata": {},
   "outputs": [
    {
     "data": {
      "text/plain": [
       "{'adult': False,\n",
       " 'backdrop_path': '/hbn46fQaRmlpBuUrEiFqv0GDL6Y.jpg',\n",
       " 'genre_ids': [878, 28, 12],\n",
       " 'id': 24428,\n",
       " 'original_language': 'en',\n",
       " 'original_title': 'The Avengers',\n",
       " 'overview': 'When an unexpected enemy emerges and threatens global safety and security, Nick Fury, director of the international peacekeeping agency known as S.H.I.E.L.D., finds himself in need of a team to pull the world back from the brink of disaster. Spanning the globe, a daring recruitment effort begins!',\n",
       " 'popularity': 79.176425,\n",
       " 'poster_path': '/cezWGskPY5x7GaglTTRN4Fugfb8.jpg',\n",
       " 'release_date': '2012-04-25',\n",
       " 'title': 'The Avengers',\n",
       " 'video': False,\n",
       " 'vote_average': 7.5,\n",
       " 'vote_count': 12907}"
      ]
     },
     "execution_count": 44,
     "metadata": {},
     "output_type": "execute_result"
    }
   ],
   "source": [
    "data['results'][2]"
   ]
  },
  {
   "cell_type": "code",
   "execution_count": null,
   "metadata": {
    "collapsed": true
   },
   "outputs": [],
   "source": []
  },
  {
   "cell_type": "code",
   "execution_count": 2,
   "metadata": {},
   "outputs": [
    {
     "name": "stdout",
     "output_type": "stream",
     "text": [
      "What genre you want?Action\n",
      "How many in this batch (multiples of 20)20\n",
      "Getting movie IDs from page 1\n",
      "------------------------------------------------------------------------\n",
      "Getting...\n",
      "Avatar Star Wars: The Force Awakens The Avengers Jurassic World Furious 7 Avengers: Age of Ultron The Fate of the Furious Iron Man 3 Captain America: Civil War Transformers: Dark of the Moon The Lord of the Rings: The Return of the King Skyfall Transformers: Age of Extinction The Dark Knight Rises Pirates of the Caribbean: Dead Man's Chest Rogue One: A Star Wars Story Pirates of the Caribbean: On Stranger Tides Despicable Me 3 The Hobbit: An Unexpected Journey The Dark Knight \n"
     ]
    },
    {
     "data": {
      "text/plain": [
       "[19995,\n",
       " 140607,\n",
       " 24428,\n",
       " 135397,\n",
       " 168259,\n",
       " 99861,\n",
       " 337339,\n",
       " 68721,\n",
       " 271110,\n",
       " 38356,\n",
       " 122,\n",
       " 37724,\n",
       " 91314,\n",
       " 49026,\n",
       " 58,\n",
       " 330459,\n",
       " 1865,\n",
       " 324852,\n",
       " 49051,\n",
       " 155]"
      ]
     },
     "execution_count": 2,
     "metadata": {},
     "output_type": "execute_result"
    }
   ],
   "source": [
    "type_to_get=input('What genre you want?')\n",
    "numer=input('How many in this batch (multiples of 20)')\n",
    "\n",
    "m_list=get_movie_ids(Genre_dict[type_to_get],int(numer))\n",
    "m_list"
   ]
  },
  {
   "cell_type": "code",
   "execution_count": 46,
   "metadata": {},
   "outputs": [
    {
     "name": "stdout",
     "output_type": "stream",
     "text": [
      "https://api.themoviedb.org/3/movie/19995?api_key=f53e619cd1b1bf4da2dbab8ad33b1d39\n"
     ]
    },
    {
     "data": {
      "text/plain": [
       "['0499549', 'Avatar', 'Action', 2787965087, 237000000, 162, 7.2]"
      ]
     },
     "execution_count": 46,
     "metadata": {},
     "output_type": "execute_result"
    }
   ],
   "source": [
    "get_movie_info('Action',19995)"
   ]
  },
  {
   "cell_type": "code",
   "execution_count": 5,
   "metadata": {},
   "outputs": [
    {
     "name": "stdout",
     "output_type": "stream",
     "text": [
      "What genre you want?Science Fiction\n",
      "How many in this batch (multiples of 20)400\n",
      "Getting movie IDs from page 1\n",
      "------------------------------------------------------------------------\n",
      "Getting...\n",
      "Avatar Star Wars: The Force Awakens The Avengers Jurassic World Avengers: Age of Ultron Iron Man 3 Captain America: Civil War Transformers: Dark of the Moon Transformers: Age of Extinction Rogue One: A Star Wars Story Star Wars: Episode I - The Phantom Menace Jurassic Park Spider-Man: Homecoming Guardians of the Galaxy Vol. 2 Star Wars: Episode III - Revenge of the Sith The Hunger Games: Catching Fire Transformers: Revenge of the Fallen Inception Independence Day E.T. the Extra-Terrestrial \n",
      "Getting movie IDs from page 2\n",
      "------------------------------------------------------------------------\n",
      "Getting...\n",
      "Star Wars Guardians of the Galaxy 2012 The Hunger Games: Mockingjay - Part 1 X-Men: Days of Future Past Suicide Squad The Matrix Reloaded Gravity Captain America: The Winter Soldier Dawn of the Planet of the Apes Transformers The Hunger Games Doctor Strange Interstellar Man of Steel The Hunger Games: Mockingjay - Part 2 Thor: Ragnarok Star Wars: Episode II - Attack of the Clones The Martian Men in Black 3 \n",
      "Getting movie IDs from page 3\n",
      "------------------------------------------------------------------------\n",
      "Getting...\n",
      "Iron Man 2 Logan Transformers: The Last Knight War of the Worlds Men in Black I Am Legend Iron Man Return of the Jedi Armageddon The Day After Tomorrow X-Men: Apocalypse The Empire Strikes Back World War Z Godzilla Terminator 2: Judgment Day Ant-Man War for the Planet of the Apes Rise of the Planet of the Apes Teenage Mutant Ninja Turtles Star Trek Into Darkness \n",
      "Getting movie IDs from page 4\n",
      "------------------------------------------------------------------------\n",
      "Getting...\n",
      "The Matrix X-Men: The Last Stand Men in Black II Terminator Genisys Terminator 3: Rise of the Machines The Matrix Revolutions The Wolverine Signs X2 Pacific Rim Prometheus TRON: Legacy Superman Returns Independence Day: Resurgence Star Trek Monsters vs Aliens Back to the Future Godzilla Mad Max: Fury Road X-Men Origins: Wolverine \n",
      "Getting movie IDs from page 5\n",
      "------------------------------------------------------------------------\n",
      "Getting...\n",
      "G.I. Joe: Retaliation Terminator Salvation Captain America: The First Avenger Edge of Tomorrow Home Jurassic Park III Planet of the Apes Minority Report Journey 2: The Mysterious Island X-Men: First Class The Maze Runner I, Robot Star Trek Beyond Back to the Future Part II Fantastic Four Megamind Resident Evil: The Final Chapter Austin Powers: The Spy Who Shagged Me Close Encounters of the Third Kind Passengers \n",
      "Getting movie IDs from page 6\n",
      "------------------------------------------------------------------------\n",
      "Getting...\n",
      "Battleship G.I. Joe: The Rise of Cobra Resident Evil: Afterlife Superman Real Steel Austin Powers in Goldmember X-Men Insurgent Divergent Oblivion Elysium John Carter The Fifth Element Total Recall Robots Super 8 Unbreakable Face/Off Hulk Back to the Future Part III \n",
      "Getting movie IDs from page 7\n",
      "------------------------------------------------------------------------\n",
      "Getting...\n",
      "After Earth Pixels RoboCop Assassin's Creed Resident Evil: Retribution A.I. Artificial Intelligence The Day the Earth Stood Still Alien: Covenant The Lost World: Jurassic Park Valerian and the City of a Thousand Planets Honey, I Shrunk the Kids Jumper Wild Wild West Green Lantern District 9 Moonraker Tomorrowland Vanilla Sky Arrival Battle: Los Angeles \n",
      "Getting movie IDs from page 8\n",
      "------------------------------------------------------------------------\n",
      "Getting...\n",
      "Teenage Mutant Ninja Turtles Total Recall Blade Runner 2049 Spy Kids 3-D: Game Over Stargate Superman II Hollow Man Outbreak The X Files Atlantis: The Lost Empire Watchmen Jupiter Ascending Aliens Mirror Mirror Déjà Vu The League of Extraordinary Gentlemen Allegiant Daredevil Flubber Cowboys & Aliens \n",
      "Getting movie IDs from page 9\n",
      "------------------------------------------------------------------------\n",
      "Getting...\n",
      "In Time AVP: Alien vs. Predator Contact Cloverfield Ghost in the Shell Twelve Monkeys Fantastic Four The Incredible Hulk The Happening The Island Alien: Resurrection Limitless Hellboy II: The Golden Army Alien³ Demolition Man The Book of Eli Knowing Phenomenon Congo Star Trek: First Contact \n",
      "Getting movie IDs from page 10\n",
      "------------------------------------------------------------------------\n",
      "Getting...\n",
      "Resident Evil: Extinction Source Code Chronicle I Am Number Four Power Rangers Star Trek: The Motion Picture Contagion Lost in Space Star Trek IV: The Voyage Home Cloud Atlas Resident Evil: Apocalypse Blade: Trinity The Nutty Professor Forever Young The Adjustment Bureau Lucy Predators Ender's Game The Time Machine Nutty Professor II: The Klumps \n",
      "Getting movie IDs from page 11\n",
      "------------------------------------------------------------------------\n",
      "Getting...\n",
      "Surrogates Starship Troopers Star Trek: Generations The Saint Star Trek: Insurrection The Forgotten The Chronicles of Riddick Judge Dredd Species The Rocky Horror Picture Show Frankenstein The Dark Tower Underworld: Evolution The 5th Wave Treasure Planet 10 Cloverfield Lane Race to Witch Mountain Planet 51 Alien The Hitchhiker's Guide to the Galaxy \n",
      "Getting movie IDs from page 12\n",
      "------------------------------------------------------------------------\n",
      "Getting...\n",
      "Chappie The Cell Transcendence Resident Evil The Stepford Wives Journey to the Center of the Earth Timecop Mars Attacks! Life Mad Max Hellboy Evolution Riddick Predator Paul Star Trek VI: The Undiscovered Country Star Trek II: The Wrath of Khan Paycheck The 6th Day The Butterfly Effect \n",
      "Getting movie IDs from page 13\n",
      "------------------------------------------------------------------------\n",
      "Getting...\n",
      "Speed Racer Bicentennial Man Underworld: Rise of the Lycans Galaxy Quest The Abyss The Purge Spawn About Time Star Trek III: The Search for Spock Young Frankenstein Cocoon Final Fantasy: The Spirits Within 28 Days Later Jimmy Neutron: Boy Genius WarGames The Terminator Priest Teenage Mutant Ninja Turtles II: The Secret of the Ooze Next Superman III \n",
      "Getting movie IDs from page 14\n",
      "------------------------------------------------------------------------\n",
      "Getting...\n",
      "Dreamcatcher Escape from Planet Earth The Core Death Race Deep Blue Sea The One Eternal Sunshine of the Spotless Mind Babylon A.D. Anacondas: The Hunt for the Blood Orchid Firefox Star Trek V: The Final Frontier Children of Men The Adventures of Sharkboy and Lavagirl 2001: A Space Odyssey Land of the Lost The X Files: I Want to Believe Star Wars: The Clone Wars Frequency Austin Powers: International Man of Mystery Star Trek: Nemesis \n",
      "Getting movie IDs from page 15\n",
      "------------------------------------------------------------------------\n",
      "Getting...\n",
      "The Giver Skyline Mighty Morphin Power Rangers: The Movie Geostorm *batteries not included The Darkest Hour Hot Tub Time Machine Monster Trucks Zathura: A Space Adventure 28 Weeks Later The Host The Rocketeer Flatliners My Super Ex-Girlfriend Mission to Mars The Fly Chain Reaction The Flintstones in Viva Rock Vegas Honey I Blew Up the Kid Jack \n",
      "Getting movie IDs from page 16\n",
      "------------------------------------------------------------------------\n",
      "Getting...\n",
      "Sky Captain and the World of Tomorrow Aliens in the Attic Predator 2 The Mist (Black & White Version) The Mist Lake Placid Small Soldiers Prophecy Pitch Black RoboCop Æon Flux Daybreakers Mortal Kombat: Annihilation Meet Dave K-PAX Escape from New York The Island of Dr. Moreau Darkman 9 The Preacher's Wife \n",
      "Getting movie IDs from page 17\n",
      "------------------------------------------------------------------------\n",
      "Getting...\n",
      "The Shadow Her Looper The World's End RoboCop 2 Push Earth to Echo Red Dawn Recess: School's Out Astro Boy Timeline Time Bandits The Fourth Kind Blue Thunder Escape from L.A. Doctor Who Teenage Mutant Ninja Turtles III Aliens vs Predator: Requiem Dredd Quarantine \n",
      "Getting movie IDs from page 18\n",
      "------------------------------------------------------------------------\n",
      "Getting...\n",
      "Gamer Short Circuit Bill & Ted's Excellent Adventure 2010 The Faculty Joe Versus the Volcano The Spirit The Fly II Serenity Clockstoppers The Running Man Spaceballs Happily N'Ever After Howard the Duck The Covenant Ex Machina My Favorite Martian Highlander III: The Sorcerer Titan A.E. Baby Geniuses \n",
      "Getting movie IDs from page 19\n",
      "------------------------------------------------------------------------\n"
     ]
    },
    {
     "name": "stdout",
     "output_type": "stream",
     "text": [
      "Getting...\n",
      "Mad Max Beyond Thunderdome The Black Hole Victor Frankenstein Day of the Dead Red Planet Planet of the Apes The Box Blade Runner Tron FernGully: The Last Rainforest Project Almanac Lockout Alien Nation The Lawnmower Man Sunshine Ultraviolet Dune Self/less Godsend Solaris \n",
      "Getting movie IDs from page 20\n",
      "------------------------------------------------------------------------\n",
      "Getting...\n",
      "Rollerball Mystery Men Twilight Zone: The Movie Yu-Gi-Oh! The Movie Starman The Last Starfighter Thunderbirds 20,000 Leagues Under the Sea The Thing Dark City Flash Gordon Event Horizon A Clockwork Orange A Cure for Wellness Innerspace Superhero Movie Apollo 18 Dark Skies Cocoon: The Return Logan's Run \n",
      "Getting movie IDs from page 21\n",
      "------------------------------------------------------------------------\n",
      "Getting...\n",
      "Mad Max 2 Virtuosity Invasion of the Body Snatchers The Fury Santa Claus: The Movie Two of a Kind Toys The Iron Giant Doomsday Short Circuit 2 Battlefield Earth The Dead Zone Pandorum The Circle Hello Again Escape to Witch Mountain Altered States Blindness Left Behind The Thing \n",
      "--------------------------------------------------------------------\n",
      "Getting information for 420 movies... \n",
      "0123456789101112131415161718192021222324252627282930313233343536373839404142434445464748495051525354555657585960616263646566676869707172737475767778798081828384858687888990919293949596979899100101102103104105106107108109110111112113114115116117118119120121122123124125126127128129130131132133134135136137138139140141142143144145146147148149150151152153154155156157158159160161162163164165166167168169170171172173174175176177178179180181182183184185186187188189190191192193194195196197198199200201202203204205206207208209210211212213214215216217218219220221222223224225226227228229230231232233234235236237238239240241242243244245246247248249250251252253254255256257258259260261262263264265266267268269270271272273274275276277278279280281282283284285286287288289290291292293294295296297298299300301302303304305306307308309310311312313314315316317318319320321322323324325326327328329330331332333334335336337338339340341342343344345346347348349350351352353354355356357358359360361362363364365366367368369370371372373374375376377378379380381382383384385386387388389390391392393394395396397398399400401402403404405406407408409410411412413414415416417418419"
     ]
    }
   ],
   "source": [
    "#returns a list of 5 movies from the genre Action, staying only on the first page\n",
    "type_to_get=input('What genre you want?')\n",
    "numer=input('How many in this batch (multiples of 20)')\n",
    "\n",
    "m_list=get_movie_ids(Genre_dict[type_to_get],int(numer))\n",
    "\n",
    "movbase=pd.DataFrame()\n",
    "print('--------------------------------------------------------------------')\n",
    "print('Getting information for {} movies... '.format(len(m_list)))\n",
    "for i in range(0,len(m_list)):\n",
    "    movbase=movbase.append(pd.Series(get_movie_info(type_to_get,m_list[i]),index=['imdb_id','Title','Genre','Revenue','Budget','Runtime','Rating']), ignore_index=True)\n",
    "    time.sleep(0.2)\n",
    "    print(i, end='')\n",
    "    \n",
    "if not os.path.isfile('movbaseB.h5'):\n",
    "    movbase.to_hdf('movbaseB.h5', 'imdb_id',append=True, min_itemsize=130)\n",
    "else:\n",
    "    movbase.to_hdf('movbaseB.h5', 'imdb_id',append=True, min_itemsize=130)"
   ]
  },
  {
   "cell_type": "code",
   "execution_count": 3,
   "metadata": {},
   "outputs": [
    {
     "data": {
      "text/plain": [
       "1680"
      ]
     },
     "execution_count": 3,
     "metadata": {},
     "output_type": "execute_result"
    }
   ],
   "source": [
    "movbase_import=pd.read_hdf('movbaseB.h5', 'imdb_id')\n",
    "movdb=movbase_import.reset_index()\n",
    "movdb.drop_duplicates(subset='imdb_id',inplace=True)\n",
    "len(movdb)"
   ]
  },
  {
   "cell_type": "code",
   "execution_count": 3,
   "metadata": {},
   "outputs": [
    {
     "data": {
      "text/plain": [
       "{'Action': 28,\n",
       " 'Adventure': 12,\n",
       " 'Animation': 16,\n",
       " 'Comedy': 35,\n",
       " 'Crime': 80,\n",
       " 'Documentary': 99,\n",
       " 'Drama': 18,\n",
       " 'Family': 10751,\n",
       " 'Fantasy': 14,\n",
       " 'History': 36,\n",
       " 'Horror': 27,\n",
       " 'Music': 10402,\n",
       " 'Mystery': 9648,\n",
       " 'Romance': 10749,\n",
       " 'Science Fiction': 878,\n",
       " 'TV Movie': 10770,\n",
       " 'Thriller': 53,\n",
       " 'War': 10752,\n",
       " 'Western': 37}"
      ]
     },
     "execution_count": 3,
     "metadata": {},
     "output_type": "execute_result"
    }
   ],
   "source": [
    "Genre_dict"
   ]
  },
  {
   "cell_type": "code",
   "execution_count": null,
   "metadata": {
    "collapsed": true
   },
   "outputs": [],
   "source": []
  }
 ],
 "metadata": {
  "kernelspec": {
   "display_name": "Python 3",
   "language": "python",
   "name": "python3"
  },
  "language_info": {
   "codemirror_mode": {
    "name": "ipython",
    "version": 3
   },
   "file_extension": ".py",
   "mimetype": "text/x-python",
   "name": "python",
   "nbconvert_exporter": "python",
   "pygments_lexer": "ipython3",
   "version": "3.6.2"
  }
 },
 "nbformat": 4,
 "nbformat_minor": 2
}
