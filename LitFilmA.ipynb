{
 "cells": [
  {
   "cell_type": "code",
   "execution_count": 1,
   "metadata": {
    "collapsed": true
   },
   "outputs": [],
   "source": [
    "import omdb\n",
    "import pandas as pd\n",
    "import requests\n",
    "import json\n",
    "import csv\n",
    "import time\n",
    "import os\n",
    "import dill\n",
    "import numpy as np"
   ]
  },
  {
   "cell_type": "code",
   "execution_count": 2,
   "metadata": {
    "collapsed": true
   },
   "outputs": [],
   "source": [
    "data_path=os.getcwd()+'\\\\website\\\\flask_files\\\\model_db\\\\'\n",
    "subs_dir=os.getcwd()+'\\\\subs_storage\\\\'\n",
    "import pickle\n",
    "def save_obj(obj, name):\n",
    "    with open(data_path + name + '.pkl', 'wb') as f:\n",
    "        pickle.dump(obj, f, protocol=2)\n",
    "        \n",
    "def load_obj(name):\n",
    "    try:\n",
    "        with open(data_path + name + '.pkd', 'rb+') as fp:\n",
    "            return pickle.load(fp)\n",
    "    except:\n",
    "        with open(data_path + name + '.pkl', 'rb+') as fp:\n",
    "            return pickle.load(fp)"
   ]
  },
  {
   "cell_type": "code",
   "execution_count": 3,
   "metadata": {
    "collapsed": true
   },
   "outputs": [],
   "source": [
    "with open('credentials.pkd','rb') as fp:\n",
    "    credentials = dill.load(fp)\n",
    "api_key = credentials['api_key']"
   ]
  },
  {
   "cell_type": "code",
   "execution_count": 4,
   "metadata": {
    "collapsed": true
   },
   "outputs": [],
   "source": [
    "def get_page_args(i):\n",
    "    params=dict()\n",
    "    url=\"https://api.themoviedb.org/3/discover/movie\"\n",
    "    params['api_key'] = api_key\n",
    "    params['sort_by']='popularity.desc'\n",
    "    params['page']=i\n",
    "    params['with_original_language']='en'\n",
    "    return {\"url\": url, \"params\": params}\n",
    "\n",
    "def get_movdb_ids(response):\n",
    "    #returns a list of modvb ids from page i\n",
    "    id_list= [item['id'] for item in response.json()['results']]\n",
    "    return id_list\n",
    "\n",
    "def get_page(i):\n",
    "    #requests info form page i. if ids is empty, which it initially is and the code is OK ids gets filled and returned\n",
    "    #if ids is empty, which it is and the code is 429 (too many requets), program waits, and doesnt change ids so its still empty\n",
    "    #so it will run again until it fills it. once filled it wont run and function returns it. ids is a list of movdb ids\n",
    "    ids=[]\n",
    "    while ids==[]:\n",
    "        data=requests.get(**get_page_args(i))\n",
    "        if data.status_code == 200:\n",
    "            ids=get_movdb_ids(data)\n",
    "        elif data.status_code == 429:\n",
    "            print('Waiting for server for: {}sec. On page {}.'.format(int(data.headers['Retry-After']),i))    \n",
    "            time.sleep(int(data.headers['Retry-After'])+1)        \n",
    "    return ids"
   ]
  },
  {
   "cell_type": "markdown",
   "metadata": {},
   "source": [
    "# Get all the omdb_ids\n",
    "This part gets all the OMDB_ids from the allowed 1000 pages. Should take about 5 mins."
   ]
  },
  {
   "cell_type": "code",
   "execution_count": 300,
   "metadata": {},
   "outputs": [
    {
     "name": "stdout",
     "output_type": "stream",
     "text": [
      "Waiting for server for:4 s. On page41.\n",
      "Waiting for server for:4 s. On page81.\n",
      "Waiting for server for:4 s. On page121.\n",
      "Waiting for server for:4 s. On page161.\n",
      "Waiting for server for:4 s. On page201.\n",
      "Waiting for server for:4 s. On page241.\n",
      "Waiting for server for:4 s. On page281.\n",
      "Waiting for server for:4 s. On page321.\n",
      "Waiting for server for:4 s. On page361.\n",
      "Waiting for server for:4 s. On page401.\n",
      "Waiting for server for:4 s. On page441.\n",
      "Waiting for server for:4 s. On page481.\n",
      "Waiting for server for:4 s. On page521.\n",
      "Waiting for server for:4 s. On page561.\n",
      "Waiting for server for:4 s. On page601.\n",
      "Waiting for server for:4 s. On page641.\n",
      "Waiting for server for:4 s. On page681.\n",
      "Waiting for server for:4 s. On page721.\n",
      "Waiting for server for:4 s. On page761.\n",
      "Waiting for server for:4 s. On page801.\n",
      "Waiting for server for:4 s. On page841.\n",
      "Waiting for server for:3 s. On page881.\n",
      "Waiting for server for:3 s. On page921.\n",
      "Waiting for server for:3 s. On page961.\n"
     ]
    }
   ],
   "source": [
    "omdb_ids=[]\n",
    "for page_nr in range(1,1000):\n",
    "    omdb_ids=omdb_ids + get_page(page_nr)"
   ]
  },
  {
   "cell_type": "markdown",
   "metadata": {},
   "source": [
    "dill.dump(omdb_ids, open('omdb_ids.pkd','wb'))"
   ]
  },
  {
   "cell_type": "markdown",
   "metadata": {},
   "source": [
    "Next time you just run this line to open it."
   ]
  },
  {
   "cell_type": "markdown",
   "metadata": {},
   "source": [
    "# Download full list of OMDB_IDS"
   ]
  },
  {
   "cell_type": "code",
   "execution_count": 5,
   "metadata": {
    "collapsed": true
   },
   "outputs": [],
   "source": [
    "import gzip\n",
    "with gzip.open('movie_ids_02_04_2018.json.gz') as f:\n",
    "    data_test = [json.loads(line) for line in f]"
   ]
  },
  {
   "cell_type": "code",
   "execution_count": 6,
   "metadata": {},
   "outputs": [
    {
     "data": {
      "text/plain": [
       "{'adult': False,\n",
       " 'id': 164,\n",
       " 'original_title': \"Breakfast at Tiffany's\",\n",
       " 'popularity': 23.8627,\n",
       " 'video': False}"
      ]
     },
     "execution_count": 6,
     "metadata": {},
     "output_type": "execute_result"
    }
   ],
   "source": [
    "data_test[34]"
   ]
  },
  {
   "cell_type": "markdown",
   "metadata": {},
   "source": [
    "# Get all the movie_info from omdb_ids"
   ]
  },
  {
   "cell_type": "code",
   "execution_count": 7,
   "metadata": {
    "collapsed": true
   },
   "outputs": [],
   "source": [
    "def get_page_args_b(movie_id):\n",
    "    params=dict()\n",
    "    url=\"https://api.themoviedb.org/3/movie/\"+str(movie_id)\n",
    "    params['api_key'] = api_key\n",
    "    params['append_to_response']= 'keywords'\n",
    "    return {\"url\": url, \"params\": params}\n",
    "\n",
    "def get_movie_info(omdb_id):\n",
    "    #requests info form page i. if ids is empty, which it initially is and the code is OK ids gets filled and returned\n",
    "    #if ids is empty, which it is and the code is 429 (too many requets), program waits, and doesnt change ids so its still empty\n",
    "    #so it will run again until it fills it. once filled it wont run and function returns it. ids is a list of movdb ids\n",
    "    data_dict=[]\n",
    "    while data_dict==[]:\n",
    "        data=requests.get(**get_page_args_b(omdb_id))\n",
    "        if data.status_code == 200:\n",
    "            data_dict=data.json()\n",
    "        elif data.status_code == 429:\n",
    "            #print('|Limit reached. Retrying in: {}sec'.format(int(data.headers['Retry-After'])))    \n",
    "            time.sleep(int(data.headers['Retry-After'])+1)\n",
    "        else:\n",
    "            print('Something went wrong. Error code received: {}'.format(data.status_code))\n",
    "            data_dict=None\n",
    "    return data_dict"
   ]
  },
  {
   "cell_type": "code",
   "execution_count": 9,
   "metadata": {},
   "outputs": [
    {
     "name": "stdout",
     "output_type": "stream",
     "text": [
      "374496\n"
     ]
    }
   ],
   "source": [
    "N_total=len(data_test)\n",
    "print(N_total)"
   ]
  },
  {
   "cell_type": "code",
   "execution_count": null,
   "metadata": {},
   "outputs": [
    {
     "name": "stderr",
     "output_type": "stream",
     "text": [
      " 88%|███████████████████████████████████████████████████████████████████▍         | 8760/10000 [38:34<05:27,  3.78it/s]"
     ]
    }
   ],
   "source": [
    "from tqdm import tqdm\n",
    "import time\n",
    "import datetime as datetime\n",
    "\n",
    "N_total=len(data_test)\n",
    "t0=time.time()\n",
    "for start_pt in range(50000,70000,10000):\n",
    "    movie_DB=[]\n",
    "    for i in tqdm(range(start_pt,start_pt+10000)):\n",
    "        #print(i,end=' ')\n",
    "        try:\n",
    "            movie_DB.append(get_movie_info(data_test[i]['id']))\n",
    "        except:\n",
    "            pass\n",
    "\n",
    "        if i%200==0:\n",
    "            #print('\\nWriting data to file. {} movies so far. {:.3f} Percent Complete.'.format(i,(i/N_movies)*100))\n",
    "            save_obj(movie_DB, datetime.datetime.now().strftime('movie_DB_%Y_%b_temp'))\n",
    "    \n",
    "    \n",
    "    #final write\n",
    "    save_obj(movie_DB, datetime.datetime.now().strftime('movie_DB_%Y_%b_%d_%I_%M_%S_final'))\n",
    "    #tmp_file_remove\n",
    "    os.remove(data_path+datetime.datetime.now().strftime('movie_DB_%Y_%b_temp')+\".pkl\")\n",
    "    \n",
    "print('elapsed time:{}'.format(time.time()-t0))"
   ]
  },
  {
   "cell_type": "code",
   "execution_count": 142,
   "metadata": {
    "collapsed": true
   },
   "outputs": [],
   "source": [
    "movie_database=[]\n",
    "for item in [item.split(\".\")[0] for item in os.listdir(data_path) if \"movie_DB\" in item  and \"temp\" not in item]:\n",
    "    movie_database+=load_obj(item)"
   ]
  },
  {
   "cell_type": "code",
   "execution_count": 157,
   "metadata": {},
   "outputs": [
    {
     "data": {
      "text/plain": [
       "[{'iso_3166_1': 'US', 'name': 'United States of America'},\n",
       " {'iso_3166_1': 'US', 'name': 'United States of America'},\n",
       " {'iso_3166_1': 'US', 'name': 'United States of America'},\n",
       " {'iso_3166_1': 'US', 'name': 'United States of America'},\n",
       " {'iso_3166_1': 'US', 'name': 'United States of America'},\n",
       " {'iso_3166_1': 'US', 'name': 'United States of America'},\n",
       " {'iso_3166_1': 'JP', 'name': 'Japan'},\n",
       " {'iso_3166_1': 'US', 'name': 'United States of America'},\n",
       " {'iso_3166_1': 'JP', 'name': 'Japan'},\n",
       " {'iso_3166_1': 'US', 'name': 'United States of America'}]"
      ]
     },
     "execution_count": 157,
     "metadata": {},
     "output_type": "execute_result"
    }
   ],
   "source": [
    "[item['production_countries'][0] for item in movie_database[0:10]]"
   ]
  },
  {
   "cell_type": "code",
   "execution_count": 162,
   "metadata": {},
   "outputs": [
    {
     "data": {
      "text/plain": [
       "[{'iso_3166_1': 'JP', 'name': 'Japan'},\n",
       " {'iso_3166_1': 'US', 'name': 'United States of America'}]"
      ]
     },
     "execution_count": 162,
     "metadata": {},
     "output_type": "execute_result"
    }
   ],
   "source": [
    "movie_database[8]['production_countries']"
   ]
  },
  {
   "cell_type": "code",
   "execution_count": 163,
   "metadata": {},
   "outputs": [
    {
     "data": {
      "text/plain": [
       "{'adult': False,\n",
       " 'backdrop_path': '/paOiOP7w09bMCXsXnWKeWtYVWdz.jpg',\n",
       " 'belongs_to_collection': None,\n",
       " 'budget': 0,\n",
       " 'genres': [{'id': 18, 'name': 'Drama'}, {'id': 53, 'name': 'Thriller'}],\n",
       " 'homepage': '',\n",
       " 'id': 79123,\n",
       " 'imdb_id': 'tt1493815',\n",
       " 'keywords': {'keywords': [{'id': 1227, 'name': 'cemetery'},\n",
       "   {'id': 2411, 'name': 'new orleans'},\n",
       "   {'id': 3358, 'name': 'haunted house'},\n",
       "   {'id': 10323, 'name': 'psychiatric hospital'},\n",
       "   {'id': 14536, 'name': 'crime'},\n",
       "   {'id': 162846, 'name': 'ghost'},\n",
       "   {'id': 199072, 'name': 'suspended cop'}]},\n",
       " 'original_language': 'en',\n",
       " 'original_title': 'Little Murder',\n",
       " 'overview': 'In post-Katrina New Orleans, a disgraced detective encounters the ghost of a murdered woman who wants to help him identify her killer.',\n",
       " 'popularity': 1.509904,\n",
       " 'poster_path': '/vmEfXhOjkEeu17Tw8XNGUAEN4kn.jpg',\n",
       " 'production_companies': [{'id': 56427,\n",
       "   'name': 'Mind in Motion Entertainment'},\n",
       "  {'id': 56428, 'name': 'Little Murder Production Company'},\n",
       "  {'id': 56429, 'name': 'S3 Entertainment Group'}],\n",
       " 'production_countries': [{'iso_3166_1': 'US',\n",
       "   'name': 'United States of America'}],\n",
       " 'release_date': '2011-01-08',\n",
       " 'revenue': 0,\n",
       " 'runtime': 98,\n",
       " 'spoken_languages': [{'iso_639_1': 'en', 'name': 'English'}],\n",
       " 'status': 'Released',\n",
       " 'tagline': 'In the city of ghosts, one woman wants the police to find her killer.',\n",
       " 'title': 'Little Murder',\n",
       " 'video': False,\n",
       " 'vote_average': 5.0,\n",
       " 'vote_count': 10}"
      ]
     },
     "execution_count": 163,
     "metadata": {},
     "output_type": "execute_result"
    }
   ],
   "source": [
    "movie_database[45]"
   ]
  },
  {
   "cell_type": "code",
   "execution_count": null,
   "metadata": {
    "collapsed": true
   },
   "outputs": [],
   "source": []
  }
 ],
 "metadata": {
  "kernelspec": {
   "display_name": "Python 3",
   "language": "python",
   "name": "python3"
  },
  "language_info": {
   "codemirror_mode": {
    "name": "ipython",
    "version": 3
   },
   "file_extension": ".py",
   "mimetype": "text/x-python",
   "name": "python",
   "nbconvert_exporter": "python",
   "pygments_lexer": "ipython3",
   "version": "3.6.2"
  }
 },
 "nbformat": 4,
 "nbformat_minor": 2
}
